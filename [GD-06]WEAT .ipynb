{
 "cells": [
  {
   "cell_type": "markdown",
   "id": "4ed610a4",
   "metadata": {},
   "source": [
    "# 임베딩 내 편향성 알아보기\n",
    "## 프로젝트 : 모든 장르 간 편향성 측정해 보기\n",
    "### 학습 목표\n",
    "데이터의 편향성에 대한 문제의식을 갖는다.\n",
    "\n",
    "임베딩 모델의 편향성을 체크하는 방법 중 하나인 Word Embedding Association Test (WEAT)를 알아본다.\n",
    "\n",
    "WEAT 수식의 의미를 이해하고 이를 구현해본다.\n",
    "\n",
    "pre-train된 모델을 불러와서 WEAT score를 구해본다."
   ]
  },
  {
   "cell_type": "markdown",
   "id": "398dd1ed",
   "metadata": {},
   "source": [
    "### 영화 시놉시스 데이터에서 코퍼스 만들기\n",
    "\n",
    "형태소 분석기를 이용하여 품사가 명사인 경우 해당 단어를 추출하기"
   ]
  },
  {
   "cell_type": "code",
   "execution_count": 1,
   "id": "475f08eb",
   "metadata": {},
   "outputs": [
    {
     "name": "stdout",
     "output_type": "stream",
     "text": [
      "사운드 엔지니어 상우(유지태 분)는 치매에 걸린 할머니(백성희 분)와\n",
      " 젊은 시절 상처한 한 아버지(박인환 분), 고모(신신애 분)와 함께 살고 있다.\n",
      " 어느 겨울 그는 지방 방송국 라디오 PD 은수(이영애 분)를 만난다.\n",
      " 자연의 소리를 채집해 틀어주는 라디오 프로그램을 준비하는 은수는 상우와 녹음 여행을 떠난다.\n",
      " 자연스레 가까워지는 두 사람은 어느 날, 은수의 아파트에서 밤을 보낸다.\n",
      " 너무 쉽게 사랑에 빠진 두 사람... 상우는 주체할 수 없을 정도로 그녀에게 빨려든다.\n",
      " 그러나 겨울에 만난 두 사람의 관계는 봄을 지나 여름을 맞이하면서 삐걱거린다.\n",
      " 이혼 경험이 있는 은수는 상우에게 결혼할 생각이 없다며 부담스러운 표정을 내비친다.\n",
      " \"어떻게 사랑이 변하니?...\"라고 묻는 상우에게 은수는 그저 \"헤어져\" 라고 단호하게 말한다.\n",
      " 영원히 변할 것 같지 않던 사랑이 변하고, 그 사실을 받아들이지 못하는 상우는 어찌 할 바를 모른다.\n",
      " 은수를 잊지 못하는 상우는 미련과 집착의 감정을 이기지 못하고 서울과 강릉을 오간다.\n",
      "유사 이래 연령, 성별, 빈부의 차이와 정치적인 입장을 불문하고 일거에 국민을 통합해 온 '애국심'이라는 성역에 일침을 가하는 다큐멘터리. 재작년 전국 민족민주 유가족협의회의 장기농성을 다룬 인상적인 다큐멘터리 <민들레>를 만들었던 독립영화집단 '빨간 눈사람'이 우리 사회 구석구석을 발빠르게 돌아다니며 애국심과 민족주의가 강요되는 현장을 발굴하여 카메라에 담았다. 박홍 서강대 명예총장, 이도형 '한국논단' 발행인, 축구해설자 신문선, 홍세화, 박노해 등 사회 각계의 '스타'들이 등장해 저마다의 확고한 신념을 성토한다. 감독 이경순과 최하동하는 이 작품을 위해 3년간 백여 명을 인터뷰했다고 한다. 2001 올해의 독립영화상 수상.\n",
      " 민족과 국가란 공동체에서 부단히 권력과 부를 얻는 자, 나아가 민족과 국가란 공동체에서 얻은 신분과 부귀를 영원히 그의 자손에게 대물림하려는 자, 그래서 민족과 국가란 공동체를 부단히 유지해야만 하는 자, 따라서 민족과 국가란 공동체의 당위성과 개인의 가치를 초월하는 그 존엄성을 끝도 없이 창조하고 되뇌어야 하는 자, 종국에는 민족과 국가란 공동체에 속해 있다고 태내에서부터 세뇌된 모든 이들의 삶과 행동에서 영원히 자기복제되는 순환의 고리, 영생하는 애국의 원동력은 그 순환의 골에서 온다.\n",
      "엽기적인 살인사건이 발생한 장소를 관광하는 투어팀. 그 팀에서 관광객들은 살인사건과 관련하여 히스테리컬한 반응을 보이는데 과연 이들의 정체는? (Tourists see whrer a murder take place. They respond hysterically to the murder…what are they?)\n",
      " 제46회 발라돌리드 국제영화제 (2001, 스페인)\n",
      "착하지만 엉뚱한 태희(배두나 분), 예쁜 깍쟁이 혜주(이요원 분), 그림을 잘 그리는 지영(옥지영 분), 명랑한 쌍둥이 비류(이은실 분)와 온조(이은주 분)는 단짝친구들. 늘 함께였던 그들이지만 스무 살이 되면서 길이 달라진다. 증권회사에 입사한 혜주는 성공한 커리어우먼의 야심을 키우고 미술에 재능이 있는 지영은 유학을 꿈꾼다. 한편 태희는 봉사활동에서 알게 된 뇌성마비 시인을 좋아하는데...\n",
      "  어느 날 지영이 길 잃은 새끼 고양이 티티를 만남면서 스무 살 그녀들의 삶에 고양이 한 마리가 끼어들게 된다. 혼자 있길 좋아하고, 쉽게 마음을 열지 않는 신비로운 동물 고양이. 고양이를 닮은 스무 살 그녀들. 고양이 티티와 함께 한 시간동안 삶은 예상못한 방향으로 흘러가지만 마침내 그녀들만의 해결책을 찾게 되는데... 사랑스런 몽상가 태희, 아름다운 야심가 혜주, 신비로운 아웃사이더 지영. 마지막으로 고양이를 부탁받은 사람은 누구일까?\n",
      "인도 등 아시아 식민지에 처음 발을 디딘 뒤 여행하고 “경영”한 이들은 과연 누구였을까? 과거의 이미지들은, 이민과 인종 문제, ‘오리엔탈리즘’이 격렬히 충돌하고 있는 현재와 강력하게 공명한다.\n",
      " [제19회 인디다큐페스티발]\n",
      "홀로 살아가는 미국 할머니와 한국 할머니의 이야기. 공원에서 가끔 마주치게 되는 그들은 비록 언어 소통의 어려움을 겪지만 시간이 흘러감에 따라 서로 가까워져 그들의 외로움과 우정을 공유하게 된다. 겨울이 지나고 봄이 왔을 때 길가의 민들레 홀씨는 삶의 이치를 말해주듯 한 할머니의 주위를 맴돈다. (Two elderly widows, an American and a Korean, frequent the same park in Philadelphia and attempt a friendship, though the Korean widow speaks no English. Driven by loneliness and a spark of hope, they persevere within the limits of body language, and the outcome poses a question of life as fundamental as a flower.)\n"
     ]
    }
   ],
   "source": [
    "import os\n",
    "\n",
    "with open(os.getenv('HOME')+'/aiffel/weat/synopsis.txt', 'r') as file:\n",
    "    for i in range(20):\n",
    "        print(file.readline(), end='')"
   ]
  },
  {
   "cell_type": "code",
   "execution_count": 2,
   "id": "8a5fff8c",
   "metadata": {},
   "outputs": [],
   "source": [
    "# 약 15분정도 걸립니다.\n",
    "from konlpy.tag import Okt\n",
    "okt = Okt()\n",
    "tokenized = []    # corpus 저장\n",
    "with open(os.getenv('HOME')+'/aiffel/weat/synopsis.txt', 'r') as file:\n",
    "    while True:\n",
    "        line = file.readline()\n",
    "        if not line: break\n",
    "        words = okt.pos(line, stem=True, norm=True)\n",
    "        res = []\n",
    "        for w in words:\n",
    "            if w[1] in [\"Noun\"]:      # \"Adjective\", \"Verb\" 등을 포함할 수도 있습니다.\n",
    "                res.append(w[0])    # 명사일 때만 tokenized 에 저장하게 됩니다. \n",
    "        tokenized.append(res)"
   ]
  },
  {
   "cell_type": "code",
   "execution_count": 3,
   "id": "d7102703",
   "metadata": {},
   "outputs": [
    {
     "name": "stdout",
     "output_type": "stream",
     "text": [
      "71156\n"
     ]
    }
   ],
   "source": [
    "print(len(tokenized))"
   ]
  },
  {
   "cell_type": "markdown",
   "id": "6c0f52a8",
   "metadata": {},
   "source": [
    "### 추출한 corpus로 embbedding model 생성"
   ]
  },
  {
   "cell_type": "code",
   "execution_count": 4,
   "id": "8430bd9c",
   "metadata": {},
   "outputs": [
    {
     "data": {
      "text/plain": [
       "[('작품', 0.8801199197769165),\n",
       " ('다큐멘터리', 0.855617344379425),\n",
       " ('영화로', 0.8052853941917419),\n",
       " ('드라마', 0.8023089170455933),\n",
       " ('코미디', 0.782107949256897),\n",
       " ('주제', 0.7816253900527954),\n",
       " ('설정', 0.7763727903366089),\n",
       " ('형식', 0.7724802494049072),\n",
       " ('감동', 0.7702482342720032),\n",
       " ('소재', 0.7629136443138123)]"
      ]
     },
     "execution_count": 4,
     "metadata": {},
     "output_type": "execute_result"
    }
   ],
   "source": [
    "# 추출된 결과로 embedding model 만들기\n",
    "from gensim.models import Word2Vec\n",
    "\n",
    "# tokenized에 담긴 데이터를 가지고 나만의 Word2Vec을 생성합니다. (Gensim 4.0 기준)\n",
    "# most_similar()는 4.0.0버전 이상에서는 삭제되었기 때문에 wv.most_simialr()를 사용한다\n",
    "model = Word2Vec(tokenized, vector_size=100, window=5, min_count=3, sg=0)  \n",
    "model.wv.most_similar(positive=['영화'])\n",
    "\n",
    "# Gensim 3.X 에서는 아래와 같이 생성합니다. \n",
    "# model = Word2Vec(tokenized, size=100, window=5, min_count=3, sg=0)  \n",
    "# model.most_similar(positive=['영화'])"
   ]
  },
  {
   "cell_type": "code",
   "execution_count": 5,
   "id": "730cd78b",
   "metadata": {},
   "outputs": [
    {
     "data": {
      "text/plain": [
       "[('행복', 0.7298217415809631),\n",
       " ('애정', 0.7076059579849243),\n",
       " ('첫사랑', 0.6991340517997742),\n",
       " ('만남', 0.6893554925918579),\n",
       " ('연애', 0.6835383176803589),\n",
       " ('가슴', 0.6814649701118469),\n",
       " ('진심', 0.6748495101928711),\n",
       " ('우정', 0.6689818501472473),\n",
       " ('감정', 0.6650816202163696),\n",
       " ('이별', 0.6646251082420349)]"
      ]
     },
     "execution_count": 5,
     "metadata": {},
     "output_type": "execute_result"
    }
   ],
   "source": [
    "model.wv.most_similar(positive=['사랑'])"
   ]
  },
  {
   "cell_type": "code",
   "execution_count": 6,
   "id": "3a9f7bc3",
   "metadata": {},
   "outputs": [
    {
     "data": {
      "text/plain": [
       "[('영화감독', 0.8802328109741211),\n",
       " ('배우', 0.8788323402404785),\n",
       " ('시나리오', 0.8758450150489807),\n",
       " ('영감', 0.8628280758857727),\n",
       " ('공연', 0.8565790057182312),\n",
       " ('데뷔', 0.8510449528694153),\n",
       " ('연기', 0.8475769758224487),\n",
       " ('소설', 0.8460307121276855),\n",
       " ('뮤지션', 0.8448141813278198),\n",
       " ('대본', 0.8404430747032166)]"
      ]
     },
     "execution_count": 6,
     "metadata": {},
     "output_type": "execute_result"
    }
   ],
   "source": [
    "model.wv.most_similar(positive=['연극'])"
   ]
  },
  {
   "cell_type": "markdown",
   "id": "3bce02e7",
   "metadata": {},
   "source": [
    "### TF-IDF로 해당 데이터를 가장 잘 표현하는 단어 셋 만들기\n",
    "\n",
    "#### target, attribute 단어 셋 만들기\n",
    "target X, Y 와 attribute A, B에 대한 단어 셋 생성\n",
    "영화 장르와 영화 구분(예술, 일반)정보를 사용"
   ]
  },
  {
   "cell_type": "code",
   "execution_count": 7,
   "id": "a965930d",
   "metadata": {},
   "outputs": [],
   "source": [
    "import os\n",
    "from sklearn.feature_extraction.text import TfidfVectorizer\n",
    "import numpy as np\n",
    "from konlpy.tag import Okt\n",
    "\n",
    "art_txt = 'synopsis_art.txt'\n",
    "gen_txt = 'synopsis_gen.txt'\n",
    "\n",
    "def read_token(file_name):\n",
    "    okt = Okt()\n",
    "    result = []\n",
    "    with open(os.getenv('HOME')+'/aiffel/weat/'+file_name, 'r') as fread: \n",
    "        print(file_name, '파일을 읽고 있습니다.')\n",
    "        while True:\n",
    "            line = fread.readline() \n",
    "            if not line: break \n",
    "            tokenlist = okt.pos(line, stem=True, norm=True) \n",
    "            for word in tokenlist:\n",
    "                if word[1] in [\"Noun\"]:#, \"Adjective\", \"Verb\"]:\n",
    "                    result.append((word[0])) \n",
    "    return ' '.join(result)"
   ]
  },
  {
   "cell_type": "code",
   "execution_count": 8,
   "id": "918da01e",
   "metadata": {},
   "outputs": [
    {
     "name": "stdout",
     "output_type": "stream",
     "text": [
      "synopsis_art.txt 파일을 읽고 있습니다.\n",
      "synopsis_gen.txt 파일을 읽고 있습니다.\n"
     ]
    }
   ],
   "source": [
    "# 2개의 파일을 처리하는데 10분 가량 걸립니다. \n",
    "art = read_token(art_txt) # 예술영화\n",
    "gen = read_token(gen_txt) # 일반영화"
   ]
  },
  {
   "cell_type": "markdown",
   "id": "a81fd9f6",
   "metadata": {},
   "source": [
    "#### TF-IDF방식을 이용해 단어 셋을 구성합니다."
   ]
  },
  {
   "cell_type": "code",
   "execution_count": 9,
   "id": "03a156ea",
   "metadata": {},
   "outputs": [
    {
     "name": "stdout",
     "output_type": "stream",
     "text": [
      "(2, 41082)\n"
     ]
    }
   ],
   "source": [
    "vectorizer = TfidfVectorizer()\n",
    "X = vectorizer.fit_transform([art, gen])\n",
    "\n",
    "print(X.shape)"
   ]
  },
  {
   "cell_type": "code",
   "execution_count": 10,
   "id": "3a1a3716",
   "metadata": {},
   "outputs": [
    {
     "name": "stdout",
     "output_type": "stream",
     "text": [
      "23976\n",
      "영화\n"
     ]
    }
   ],
   "source": [
    "print(vectorizer.vocabulary_['영화'])\n",
    "print(vectorizer.get_feature_names_out()[23976])"
   ]
  },
  {
   "cell_type": "code",
   "execution_count": 11,
   "id": "98ec8e1d",
   "metadata": {},
   "outputs": [
    {
     "name": "stdout",
     "output_type": "stream",
     "text": [
      "예술영화를 대표하는 단어들:\n",
      "그녀, 자신, 시작, 위해, 사랑, "
     ]
    },
    {
     "name": "stderr",
     "output_type": "stream",
     "text": [
      "/opt/conda/lib/python3.9/site-packages/sklearn/utils/deprecation.py:87: FutureWarning: Function get_feature_names is deprecated; get_feature_names is deprecated in 1.0 and will be removed in 1.2. Please use get_feature_names_out instead.\n",
      "  warnings.warn(msg, category=FutureWarning)\n"
     ]
    },
    {
     "name": "stdout",
     "output_type": "stream",
     "text": [
      "사람, 영화, 친구, 남자, 가족, 이야기, 마을, 사건, 마음, 세상, 아버지, 아이, 엄마, 모든, 여자, 대한, 서로, 과연, 다시, 시간, 아들, 소녀, 아내, 다른, 사이, 영화제, 세계, 사실, 하나, 점점, 남편, 감독, 여행, 인생, 발견, 모두, 순간, 우리, 가장, 마지막, 생활, 아빠, 모습, 통해, 죽음, 기억, 비밀, 학교, 음악, 한편, 소년, 생각, 도시, 명의, 사고, 결혼, 전쟁, 때문, 위기, 이제, 최고, 이자, 과거, 일상, 경찰, 상황, 간다, 미국, 결심, 운명, 현실, 관계, 지금, 단편, 여인, 하루, 이름, 이후, 준비, 인간, 감정, 만난, 국제, 처음, 충격, 살인, 누구, 동안, 존재, 그린, 어머니, 연인, 계속, 동생, 작품, \n",
      "\n",
      "일반영화를 대표하는 단어들:\n",
      "자신, 그녀, 영화제, 위해, 사람, 시작, 국제, 영화, 친구, 사랑, 남자, 이야기, 대한, 서울, 여자, 사건, 남편, 아이, 가족, 아버지, 다른, 마을, 시간, 엄마, 아들, 모든, 단편, 마음, 사실, 다시, 세계, 모습, 작품, 통해, 생각, 서로, 세상, 발견, 감독, 아내, 관계, 소녀, 사이, 하나, 우리, 애니메이션, 때문, 여성, 죽음, 과연, 점점, 인간, 생활, 한편, 결혼, 상황, 모두, 기억, 명의, 소년, 여행, 가장, 간다, 순간, 이제, 도시, 비밀, 학교, 과거, 가지, 이자, 경찰, 마지막, 미국, 동안, 전쟁, 주인공, 대해, 존재, 현실, 연출, 사고, 살인, 일상, 어머니, 계속, 사회, 인생, 다큐멘터리, 부문, 섹스, 최고, 바로, 동생, 의도, 하루, 위기, 계획, 정체, 한국, "
     ]
    }
   ],
   "source": [
    "m1 = X[0].tocoo()   # art를 TF-IDF로 표현한 sparse matrix를 가져옵니다. \n",
    "m2 = X[1].tocoo()   # gen을 TF-IDF로 표현한 sparse matrix를 가져옵니다. \n",
    "\n",
    "w1 = [[i, j] for i, j in zip(m1.col, m1.data)]\n",
    "w2 = [[i, j] for i, j in zip(m2.col, m2.data)]\n",
    "\n",
    "w1.sort(key=lambda x: x[1], reverse=True)   #art를 구성하는 단어들을 TF-IDF가 높은 순으로 정렬합니다. \n",
    "w2.sort(key=lambda x: x[1], reverse=True)   #gen을 구성하는 단어들을 TF-IDF가 높은 순으로 정렬합니다. \n",
    "\n",
    "print('예술영화를 대표하는 단어들:')\n",
    "for i in range(100):\n",
    "    print(vectorizer.get_feature_names()[w1[i][0]], end=', ')\n",
    "\n",
    "print('\\n')\n",
    "    \n",
    "print('일반영화를 대표하는 단어들:')\n",
    "for i in range(100):\n",
    "    print(vectorizer.get_feature_names()[w2[i][0]], end=', ')"
   ]
  },
  {
   "cell_type": "markdown",
   "id": "91d2f226",
   "metadata": {},
   "source": [
    "두 개념축이 대조되도록 대표하는 단어 셋을 만들고 싶기 때문에 단어가 서로 중복되지 않게 단어셋을 추출해야 합니다. 우선 상위 100개의 단어들 중 중복되는 단어를 제외하고 상위 n(=15)개의 단어를 추출합니다."
   ]
  },
  {
   "cell_type": "code",
   "execution_count": 12,
   "id": "46d39ae9",
   "metadata": {},
   "outputs": [],
   "source": [
    "n = 15\n",
    "w1_, w2_ = [], []\n",
    "for i in range(100):\n",
    "    w1_.append(vectorizer.get_feature_names()[w1[i][0]])\n",
    "    w2_.append(vectorizer.get_feature_names()[w2[i][0]])\n",
    "\n",
    "# w1에만 있고 w2에는 없는, 예술영화를 잘 대표하는 단어를 15개 추출한다.\n",
    "target_art, target_gen = [], []\n",
    "for i in range(100):\n",
    "    if (w1_[i] not in w2_) and (w1_[i] in model.wv): target_art.append(w1_[i])\n",
    "    if len(target_art) == n: break \n",
    "\n",
    "# w2에만 있고 w1에는 없는, 일반영화를 잘 대표하는 단어를 15개 추출한다.\n",
    "for i in range(100):\n",
    "    if (w2_[i] not in w1_) and (w2_[i] in model.wv): target_gen.append(w2_[i])\n",
    "    if len(target_gen) == n: break"
   ]
  },
  {
   "cell_type": "markdown",
   "id": "8cdde1b0",
   "metadata": {},
   "source": [
    "#### 추출된 단어 살펴보기"
   ]
  },
  {
   "cell_type": "code",
   "execution_count": 13,
   "id": "5c5840b1",
   "metadata": {},
   "outputs": [
    {
     "name": "stdout",
     "output_type": "stream",
     "text": [
      "['아빠', '음악', '결심', '운명', '지금', '여인', '이름', '이후', '준비', '감정', '만난', '처음', '충격', '누구', '그린']\n"
     ]
    }
   ],
   "source": [
    "print(target_art)"
   ]
  },
  {
   "cell_type": "code",
   "execution_count": 14,
   "id": "a19db78e",
   "metadata": {},
   "outputs": [
    {
     "name": "stdout",
     "output_type": "stream",
     "text": [
      "['서울', '애니메이션', '여성', '가지', '주인공', '대해', '연출', '사회', '다큐멘터리', '부문', '섹스', '바로', '의도', '계획', '정체']\n"
     ]
    }
   ],
   "source": [
    "print(target_gen)"
   ]
  },
  {
   "cell_type": "markdown",
   "id": "87d6d398",
   "metadata": {},
   "source": [
    "### 모든 장르 간 편향성 측정해 보기"
   ]
  },
  {
   "cell_type": "code",
   "execution_count": 15,
   "id": "9f2ea107",
   "metadata": {},
   "outputs": [],
   "source": [
    "genre_txt = ['synopsis_SF.txt', 'synopsis_family.txt', 'synopsis_show.txt', 'synopsis_horror.txt', 'synopsis_etc.txt', \n",
    "             'synopsis_documentary.txt', 'synopsis_drama.txt', 'synopsis_romance.txt', 'synopsis_musical.txt', \n",
    "             'synopsis_mystery.txt', 'synopsis_crime.txt', 'synopsis_historical.txt', 'synopsis_western.txt', \n",
    "             'synopsis_adult.txt', 'synopsis_thriller.txt', 'synopsis_animation.txt', 'synopsis_action.txt', \n",
    "             'synopsis_adventure.txt', 'synopsis_war.txt', 'synopsis_comedy.txt', 'synopsis_fantasy.txt']\n",
    "genre_name = ['SF', '가족', '공연', '공포(호러)', '기타', '다큐멘터리', '드라마', '멜로로맨스', '뮤지컬', '미스터리', '범죄', '사극', '서부극(웨스턴)',\n",
    "         '성인물(에로)', '스릴러', '애니메이션', '액션', '어드벤처', '전쟁', '코미디', '판타지']"
   ]
  },
  {
   "cell_type": "code",
   "execution_count": 16,
   "id": "6c90b46c",
   "metadata": {},
   "outputs": [
    {
     "name": "stdout",
     "output_type": "stream",
     "text": [
      "synopsis_SF.txt 파일을 읽고 있습니다.\n",
      "synopsis_family.txt 파일을 읽고 있습니다.\n",
      "synopsis_show.txt 파일을 읽고 있습니다.\n",
      "synopsis_horror.txt 파일을 읽고 있습니다.\n",
      "synopsis_etc.txt 파일을 읽고 있습니다.\n",
      "synopsis_documentary.txt 파일을 읽고 있습니다.\n",
      "synopsis_drama.txt 파일을 읽고 있습니다.\n",
      "synopsis_romance.txt 파일을 읽고 있습니다.\n",
      "synopsis_musical.txt 파일을 읽고 있습니다.\n",
      "synopsis_mystery.txt 파일을 읽고 있습니다.\n",
      "synopsis_crime.txt 파일을 읽고 있습니다.\n",
      "synopsis_historical.txt 파일을 읽고 있습니다.\n",
      "synopsis_western.txt 파일을 읽고 있습니다.\n",
      "synopsis_adult.txt 파일을 읽고 있습니다.\n",
      "synopsis_thriller.txt 파일을 읽고 있습니다.\n",
      "synopsis_animation.txt 파일을 읽고 있습니다.\n",
      "synopsis_action.txt 파일을 읽고 있습니다.\n",
      "synopsis_adventure.txt 파일을 읽고 있습니다.\n",
      "synopsis_war.txt 파일을 읽고 있습니다.\n",
      "synopsis_comedy.txt 파일을 읽고 있습니다.\n",
      "synopsis_fantasy.txt 파일을 읽고 있습니다.\n"
     ]
    }
   ],
   "source": [
    "# 약 10분정도 걸립니다.\n",
    "genre = []\n",
    "for file_name in genre_txt:\n",
    "    genre.append(read_token(file_name))"
   ]
  },
  {
   "cell_type": "markdown",
   "id": "06ec92b9",
   "metadata": {},
   "source": [
    "#### TF-IDF방식을 이용해 단어 셋을 구성합니다."
   ]
  },
  {
   "cell_type": "code",
   "execution_count": 17,
   "id": "250294ba",
   "metadata": {},
   "outputs": [
    {
     "name": "stdout",
     "output_type": "stream",
     "text": [
      "(21, 42191)\n"
     ]
    }
   ],
   "source": [
    "vectorizer = TfidfVectorizer()\n",
    "X = vectorizer.fit_transform(genre)\n",
    "\n",
    "print(X.shape)"
   ]
  },
  {
   "cell_type": "code",
   "execution_count": 18,
   "id": "09354678",
   "metadata": {},
   "outputs": [
    {
     "name": "stdout",
     "output_type": "stream",
     "text": [
      "SF: 위해, 자신, 지구, 시작, 사람, 인류, 인간, 미래, 우주, 그녀, 로봇, 세계, 모든, 박사, 우주선, \n",
      "가족: 엄마, 아빠, 가족, 영화제, 자신, 위해, 친구, 아주르, 아버지, 시작, 그녀, 아들, 마을, 국제, 낙타, \n",
      "공연: 오페라, 사랑, 토스카, 실황, 올레, 자신, 카바, 그녀, 공연, 오텔로, 리골레토, 백작, 프레, 베르디, 위해, \n",
      "공포(호러): 시작, 위해, 사람, 자신, 친구, 그녀, 사건, 공포, 발견, 죽음, 마을, 가족, 악령, 남자, 좀비, \n",
      "기타: 영화제, 국제, 서울, 단편, 영화, 자신, 사람, 이야기, 그녀, 남자, 위해, 시작, 사랑, 뉴미디어, 페스티벌, \n",
      "다큐멘터리: 영화제, 영화, 다큐, 국제, 다큐멘터리, 사람, 이야기, 대한, 자신, 감독, 위해, 서울, 우리, 시작, 세계, \n",
      "드라마: 자신, 영화제, 그녀, 사람, 사랑, 영화, 위해, 시작, 국제, 남자, 친구, 이야기, 엄마, 여자, 아버지, \n",
      "멜로로맨스: 그녀, 사랑, 자신, 시작, 남편, 남자, 여자, 사람, 친구, 섹스, 위해, 마음, 결혼, 서로, 아내, \n",
      "뮤지컬: 뮤지컬, 사랑, 에스메랄다, 그녀, 음악, 충무로, 모차르트, 영화, 토스카, 자신, 니웨, 카바, 영화제, 바흐, 페뷔스, \n",
      "미스터리: 사건, 그녀, 시작, 자신, 위해, 사람, 발견, 사고, 진실, 죽음, 기억, 살인, 친구, 아내, 남자, \n",
      "범죄: 사건, 위해, 자신, 경찰, 시작, 그녀, 범죄, 조직, 살인, 사람, 마약, 형사, 남자, 모든, 살해, \n",
      "사극: 조선, 위해, 시작, 신기전, 사랑, 자신, 아가멤논, 황제, 그녀, 루안, 최고, 운명, 사람, 하선, 전쟁, \n",
      "서부극(웨스턴): 서부, 보안관, 위해, 벌린, 카우보이, 그레이프바인, 헨리, 마을, 자신, 개릿, 아이, 시작, 무법자, 프린트, 마적, \n",
      "성인물(에로): 그녀, 남편, 마사지, 자신, 섹스, 관계, 영화, 정사, 남자, 위해, 시작, 여자, 유부녀, 마음, 사랑, \n",
      "스릴러: 자신, 그녀, 사건, 시작, 위해, 사람, 살인, 남자, 발견, 아내, 경찰, 친구, 모든, 사실, 살해, \n",
      "애니메이션: 애니메이션, 국제, 영화제, 친구, 인디애니페스트, 위해, 자신, 시작, 사람, 페스티벌, 서울, 이야기, 아이, 마을, 소녀, \n",
      "액션: 위해, 자신, 시작, 조직, 사건, 사람, 그녀, 경찰, 전쟁, 모든, 목숨, 사실, 친구, 가족, 요원, \n",
      "어드벤처: 위해, 자신, 시작, 친구, 마을, 아버지, 영화, 아이, 사람, 여행, 세계, 앤트, 세상, 가족, 모험, \n",
      "전쟁: 전쟁, 독일군, 전투, 위해, 작전, 시작, 부대, 윈터스, 독일, 연합군, 미군, 임무, 자신, 사람, 나치, \n",
      "코미디: 그녀, 자신, 시작, 위해, 사랑, 사람, 친구, 영화, 남자, 여자, 영화제, 가족, 과연, 마을, 사건, \n",
      "판타지: 자신, 그녀, 시작, 위해, 사람, 사랑, 요괴, 영화제, 이야기, 영화, 소녀, 남자, 인간, 세상, 마을, \n"
     ]
    }
   ],
   "source": [
    "m = [X[i].tocoo() for i in range(X.shape[0])]\n",
    "\n",
    "w = [[[i, j] for i, j in zip(mm.col, mm.data)] for mm in m]\n",
    "\n",
    "for i in range(len(w)):\n",
    "    w[i].sort(key=lambda x: x[1], reverse=True)\n",
    "attributes = []\n",
    "for i in range(len(w)):\n",
    "    print(genre_name[i], end=': ')\n",
    "    attr = []\n",
    "    j = 0\n",
    "    while (len(attr) < 15):\n",
    "        if vectorizer.get_feature_names_out()[w[i][j][0]] in model.wv:\n",
    "            attr.append(vectorizer.get_feature_names_out()[w[i][j][0]])\n",
    "            print(vectorizer.get_feature_names_out()[w[i][j][0]], end=', ')\n",
    "        j += 1\n",
    "    attributes.append(attr)\n",
    "    print()"
   ]
  },
  {
   "cell_type": "markdown",
   "id": "043209b2",
   "metadata": {},
   "source": [
    "### WEAT score를 코드로 구현해보자"
   ]
  },
  {
   "cell_type": "code",
   "execution_count": 19,
   "id": "e7c909f3",
   "metadata": {},
   "outputs": [],
   "source": [
    "import numpy as np\n",
    "from numpy import dot\n",
    "from numpy.linalg import norm"
   ]
  },
  {
   "cell_type": "markdown",
   "id": "25b4bacd",
   "metadata": {},
   "source": [
    "우선 두 개의 target 단어 셋 X, Y와 두 개의 attribute 단어 셋 A, B를 정의합니다.\n",
    "단어 셋을 정할 때는 두 개의 target 셋의 크기가 같아야 하고, 두 개의 attribute 셋의 크기가 같아야 합니다.\n",
    "\n",
    "##### targets\n",
    "\n",
    "X set(꽃) : 장미, 튤립, 백합, 데이지\n",
    "\n",
    "Y set(곤충) : 거미, 모기, 파리, 메뚜기\n",
    "\n",
    "\n",
    "##### attributes\n",
    "\n",
    "A set(유쾌) : 사랑, 행복, 웃음\n",
    "\n",
    "B set(불쾌) : 재난, 고통, 증오\n"
   ]
  },
  {
   "cell_type": "code",
   "execution_count": 20,
   "id": "b81836f1",
   "metadata": {},
   "outputs": [
    {
     "name": "stdout",
     "output_type": "stream",
     "text": [
      "슝~\n"
     ]
    }
   ],
   "source": [
    "target_X = {\n",
    "    '장미': [4.1, 1.2, -2.4, 0.5, 4.1],\n",
    "    '튤립': [3.1, 0.5, 3.6, 1.7, 5.8],\n",
    "    '백합': [2.9, -1.3, 0.4, 1.1, 3.7],\n",
    "    '데이지': [5.4, 2.5, 4.6, -1.0, 3.6]\n",
    "}\n",
    "target_Y = {\n",
    "    '거미': [-1.5, 0.2, -0.6, -4.6, -5.3],\n",
    "    '모기': [0.4, 0.7, -1.9, -4.5, -2.9],\n",
    "    '파리': [0.9, 1.4, -2.3, -3.9, -4.7],\n",
    "    '메뚜기': [0.7, 0.9, -0.4, -4.1, -3.9]\n",
    "}\n",
    "attribute_A = {\n",
    "    '사랑':[2.8,  4.2, 4.3,  0.3, 5.0],\n",
    "    '행복':[3.8,  3. , -1.2,  4.4, 4.9],\n",
    "    '웃음':[3.7, -0.3,  1.2, -2.5, 3.9]\n",
    "}\n",
    "attribute_B = {\n",
    "    '재난': [-0.2, -2.8, -4.7, -4.3, -4.7],\n",
    "    '고통': [-4.5, -2.1,  -3.8, -3.6, -3.1],\n",
    "    '증오': [-3.6, -3.3, -3.5,  -3.7, -4.4]\n",
    "}\n",
    "\n",
    "print(\"슝~\")"
   ]
  },
  {
   "cell_type": "code",
   "execution_count": 21,
   "id": "20acc60d",
   "metadata": {},
   "outputs": [
    {
     "name": "stdout",
     "output_type": "stream",
     "text": [
      "[[ 4.1  1.2 -2.4  0.5  4.1]\n",
      " [ 3.1  0.5  3.6  1.7  5.8]\n",
      " [ 2.9 -1.3  0.4  1.1  3.7]\n",
      " [ 5.4  2.5  4.6 -1.   3.6]]\n",
      "[[-1.5  0.2 -0.6 -4.6 -5.3]\n",
      " [ 0.4  0.7 -1.9 -4.5 -2.9]\n",
      " [ 0.9  1.4 -2.3 -3.9 -4.7]\n",
      " [ 0.7  0.9 -0.4 -4.1 -3.9]]\n"
     ]
    }
   ],
   "source": [
    "X = np.array([v for v in target_X.values()])\n",
    "Y = np.array([v for v in target_Y.values()])\n",
    "print(X)\n",
    "print(Y)"
   ]
  },
  {
   "cell_type": "code",
   "execution_count": 22,
   "id": "816aeb55",
   "metadata": {},
   "outputs": [
    {
     "name": "stdout",
     "output_type": "stream",
     "text": [
      "[[ 2.8  4.2  4.3  0.3  5. ]\n",
      " [ 3.8  3.  -1.2  4.4  4.9]\n",
      " [ 3.7 -0.3  1.2 -2.5  3.9]]\n",
      "[[-0.2 -2.8 -4.7 -4.3 -4.7]\n",
      " [-4.5 -2.1 -3.8 -3.6 -3.1]\n",
      " [-3.6 -3.3 -3.5 -3.7 -4.4]]\n"
     ]
    }
   ],
   "source": [
    "A = np.array([v for v in attribute_A.values()])\n",
    "B = np.array([v for v in attribute_B.values()])\n",
    "print(A)\n",
    "print(B)"
   ]
  },
  {
   "cell_type": "code",
   "execution_count": 23,
   "id": "eb3b90d6",
   "metadata": {},
   "outputs": [
    {
     "name": "stdout",
     "output_type": "stream",
     "text": [
      "0.6457646122337399\n"
     ]
    }
   ],
   "source": [
    "def cos_sim(i, j):\n",
    "    return dot(i, j.T)/(norm(i)*norm(j))\n",
    "\n",
    "def s(w, A, B):\n",
    "    c_a = cos_sim(w, A)\n",
    "    c_b = cos_sim(w, B)\n",
    "    mean_A = np.mean(c_a, axis=-1)\n",
    "    mean_B = np.mean(c_b, axis=-1)\n",
    "    return mean_A - mean_B #, c_a, c_b\n",
    "\n",
    "print(s(target_X['장미'], A, B))"
   ]
  },
  {
   "cell_type": "markdown",
   "id": "eb40a37e",
   "metadata": {},
   "source": [
    "WEAT score값이 양수이므로, target_X에 있는 '장미'라는 단어는 attribute_B(불쾌)보다 attribute_A(유쾌)와 더 가깝다는 것을 알 수 있습니다. target_Y에 있는 '거미'와 attribute_A, attribute_B와의 관계도 계산해봅시다."
   ]
  },
  {
   "cell_type": "code",
   "execution_count": 24,
   "id": "9273af4a",
   "metadata": {},
   "outputs": [
    {
     "name": "stdout",
     "output_type": "stream",
     "text": [
      "-0.794002342033094\n"
     ]
    }
   ],
   "source": [
    "print(s(target_Y['거미'], A, B))"
   ]
  },
  {
   "cell_type": "markdown",
   "id": "c31cbdb4",
   "metadata": {},
   "source": [
    "위와 반대로 WEAT score가 음수가 나왔으므로, '거미'는 attribute_B와 더 가깝다는 것을 알 수 있습니다."
   ]
  },
  {
   "cell_type": "code",
   "execution_count": 25,
   "id": "4576cb19",
   "metadata": {},
   "outputs": [
    {
     "name": "stdout",
     "output_type": "stream",
     "text": [
      "[0.29551989 0.51723181 0.26499096 0.50924109]\n",
      "0.397\n"
     ]
    }
   ],
   "source": [
    "# target_X와 attribute_A, attribute_B 사의의 평균값\n",
    "print(s(X, A, B))\n",
    "print(round(np.mean(s(X, A, B)), 3))"
   ]
  },
  {
   "cell_type": "code",
   "execution_count": 26,
   "id": "2bbec122",
   "metadata": {},
   "outputs": [
    {
     "name": "stdout",
     "output_type": "stream",
     "text": [
      "[-0.44713039 -0.28310853 -0.33144878 -0.26030641]\n",
      "-0.33\n"
     ]
    }
   ],
   "source": [
    "# target_Y와 attribute_A, attribute_B 사의의 평균값\n",
    "print(s(Y, A, B))\n",
    "print(round(np.mean(s(Y, A, B)), 3))"
   ]
  },
  {
   "cell_type": "markdown",
   "id": "2a95cd55",
   "metadata": {},
   "source": [
    "#### WEAT score의 수식 전체를 코드로 나타내 봅시다"
   ]
  },
  {
   "cell_type": "code",
   "execution_count": 27,
   "id": "cea10c68",
   "metadata": {},
   "outputs": [
    {
     "name": "stdout",
     "output_type": "stream",
     "text": [
      "1.932\n"
     ]
    }
   ],
   "source": [
    "def weat_score(X, Y, A, B):\n",
    "    \n",
    "    s_X = s(X, A, B)\n",
    "    s_Y = s(Y, A, B)\n",
    "\n",
    "    mean_X = np.mean(s_X)\n",
    "    mean_Y = np.mean(s_Y)\n",
    "    \n",
    "    std_dev = np.std(np.concatenate([s_X, s_Y], axis=0))\n",
    "    \n",
    "    return  (mean_X-mean_Y)/std_dev\n",
    "\n",
    "print(round(weat_score(X, Y, A, B), 3))"
   ]
  },
  {
   "cell_type": "markdown",
   "id": "0c2bcdd0",
   "metadata": {},
   "source": [
    "WEAT score가 매우 높게 나온 것을 알 수 있습니다. 즉, 꽃은 유쾌한 단어와 상대적으로 가깝고, 곤충은 불쾌한 단어와 가깝다는 것을 수치적으로 확인할 수 있었습니다."
   ]
  },
  {
   "cell_type": "markdown",
   "id": "cba9f737",
   "metadata": {},
   "source": [
    "### PCA를 통해 5차원이었던 벡터를 2차원으로 줄여 시각화 해보자"
   ]
  },
  {
   "cell_type": "code",
   "execution_count": 28,
   "id": "c9b5d5c6",
   "metadata": {},
   "outputs": [
    {
     "data": {
      "text/plain": [
       "<matplotlib.collections.PathCollection at 0x7fba9709c2e0>"
      ]
     },
     "execution_count": 28,
     "metadata": {},
     "output_type": "execute_result"
    },
    {
     "data": {
      "image/png": "[encoded data removed]",
      "text/plain": [
       "<Figure size 432x288 with 1 Axes>"
      ]
     },
     "metadata": {
      "needs_background": "light"
     },
     "output_type": "display_data"
    }
   ],
   "source": [
    "from sklearn.decomposition import PCA\n",
    "pca = PCA(n_components=2)\n",
    "pc_A = pca.fit_transform(A)\n",
    "pc_B = pca.fit_transform(B)\n",
    "pc_X = pca.fit_transform(X)\n",
    "pc_Y = pca.fit_transform(Y)\n",
    "\n",
    "import matplotlib.pyplot as plt\n",
    "fig, ax = plt.subplots()\n",
    "ax.scatter(pc_A[:,0],pc_A[:,1], c='blue', label='A')\n",
    "ax.scatter(pc_B[:,0],pc_B[:,1], c='red', label='B')\n",
    "ax.scatter(pc_X[:,0],pc_X[:,1], c='skyblue', label='X')\n",
    "ax.scatter(pc_Y[:,0],pc_Y[:,1], c='pink', label='Y')"
   ]
  },
  {
   "cell_type": "markdown",
   "id": "9ce1dc80",
   "metadata": {},
   "source": [
    "A(파랑점)와 X(하늘색점)가 가깝고, B(빨강점)와 Y(분홍점)가 가깝게 표현된 것을 확인할 수 있습니다"
   ]
  },
  {
   "cell_type": "markdown",
   "id": "c128cf89",
   "metadata": {},
   "source": [
    "### embedding model과 단어 셋으로 WEAT score 구해보기\n",
    "\n",
    "이제 WEAT_score를 구해봅시다.\n",
    "\n",
    "traget_X는 art, target_Y는 gen, attribute_A는 '드라마', attribute_B는 '액션' 과 같이 정해줄 수 있습니다.\n",
    "\n",
    "target_X 는 art, target_Y 는 gen으로 고정하고 attribute_A, attribute_B를 바꿔가면서 구해봅시다. 구한 결과를 21x21 매트릭스 형태로 표현해서 matrix 라는 변수에 담아봅시다."
   ]
  },
  {
   "cell_type": "code",
   "execution_count": 29,
   "id": "8985bdc2",
   "metadata": {},
   "outputs": [],
   "source": [
    "matrix = [[0 for _ in range(len(genre_name))] for _ in range(len(genre_name))]"
   ]
  },
  {
   "cell_type": "code",
   "execution_count": 30,
   "id": "d9060d7c",
   "metadata": {},
   "outputs": [],
   "source": [
    "X = np.array([model.wv[word] for word in target_art])\n",
    "Y = np.array([model.wv[word] for word in target_gen])\n",
    "\n",
    "for i in range(len(genre_name)-1):\n",
    "    for j in range(i+1, len(genre_name)):\n",
    "        A = np.array([model.wv[word] for word in attributes[i]])\n",
    "        B = np.array([model.wv[word] for word in attributes[j]])\n",
    "        matrix[i][j] = weat_score(X, Y, A, B)"
   ]
  },
  {
   "cell_type": "code",
   "execution_count": 31,
   "id": "ea1fb4e3",
   "metadata": {},
   "outputs": [
    {
     "name": "stdout",
     "output_type": "stream",
     "text": [
      "SF 가족 -0.5709421\n",
      "SF 공연 -0.4122246\n",
      "SF 공포(호러) -0.6606263\n",
      "SF 기타 0.34297428\n",
      "SF 다큐멘터리 0.58683294\n",
      "SF 드라마 -0.39935604\n",
      "SF 멜로로맨스 -0.78111804\n",
      "SF 뮤지컬 0.29029846\n",
      "SF 미스터리 -0.684144\n",
      "SF 범죄 -0.22124721\n",
      "SF 사극 -0.8798796\n",
      "SF 서부극(웨스턴) -0.43604812\n",
      "SF 성인물(에로) -0.55865985\n",
      "SF 스릴러 -0.5192122\n",
      "SF 애니메이션 0.34911034\n",
      "SF 액션 -0.45705912\n",
      "SF 어드벤처 -0.79947084\n",
      "SF 전쟁 0.2748198\n",
      "SF 코미디 -0.44793925\n",
      "SF 판타지 -0.2222573\n",
      "가족 공연 0.21775775\n",
      "가족 공포(호러) -0.085983485\n",
      "가족 기타 0.7857272\n",
      "가족 다큐멘터리 0.8563525\n",
      "가족 드라마 0.26838285\n",
      "가족 멜로로맨스 -0.5649442\n",
      "가족 뮤지컬 0.6992574\n",
      "가족 미스터리 -0.25716785\n",
      "가족 범죄 0.2736158\n",
      "가족 사극 -0.028781325\n",
      "가족 서부극(웨스턴) 0.5101212\n",
      "가족 성인물(에로) -0.2591072\n",
      "가족 스릴러 -0.08219032\n",
      "가족 애니메이션 0.8961508\n",
      "가족 액션 0.17676903\n",
      "가족 어드벤처 0.058226768\n",
      "가족 전쟁 0.705344\n",
      "가족 코미디 0.28069565\n",
      "가족 판타지 0.46367323\n",
      "공연 공포(호러) -0.20323546\n",
      "공연 기타 0.9652213\n",
      "공연 다큐멘터리 0.9383805\n",
      "공연 드라마 0.04413516\n",
      "공연 멜로로맨스 -0.663386\n",
      "공연 뮤지컬 0.8711238\n",
      "공연 미스터리 -0.32697937\n",
      "공연 범죄 0.119428255\n",
      "공연 사극 -0.31635192\n",
      "공연 서부극(웨스턴) 0.08905374\n",
      "공연 성인물(에로) -0.42975917\n",
      "공연 스릴러 -0.18388592\n",
      "공연 애니메이션 0.93555206\n",
      "공연 액션 0.00636285\n",
      "공연 어드벤처 -0.16839011\n",
      "공연 전쟁 0.644562\n",
      "공연 코미디 0.059091628\n",
      "공연 판타지 0.34527734\n",
      "공포(호러) 기타 0.63683563\n",
      "공포(호러) 다큐멘터리 0.73970145\n",
      "공포(호러) 드라마 0.27856833\n",
      "공포(호러) 멜로로맨스 -0.6296877\n",
      "공포(호러) 뮤지컬 0.57803124\n",
      "공포(호러) 미스터리 -0.6074932\n",
      "공포(호러) 범죄 0.66442144\n",
      "공포(호러) 사극 0.074917406\n",
      "공포(호러) 서부극(웨스턴) 0.39088824\n",
      "공포(호러) 성인물(에로) -0.22632477\n",
      "공포(호러) 스릴러 -0.02977042\n",
      "공포(호러) 애니메이션 0.6494424\n",
      "공포(호러) 액션 0.52934617\n",
      "공포(호러) 어드벤처 0.14874806\n",
      "공포(호러) 전쟁 0.66304106\n",
      "공포(호러) 코미디 0.42588937\n",
      "공포(호러) 판타지 0.49204737\n",
      "기타 다큐멘터리 0.57824534\n",
      "기타 드라마 -0.89929706\n",
      "기타 멜로로맨스 -0.8847876\n",
      "기타 뮤지컬 -0.19670565\n",
      "기타 미스터리 -0.6620424\n",
      "기타 범죄 -0.37057048\n",
      "기타 사극 -0.83177\n",
      "기타 서부극(웨스턴) -0.6166765\n",
      "기타 성인물(에로) -0.80486333\n",
      "기타 스릴러 -0.55962694\n",
      "기타 애니메이션 -0.09348421\n",
      "기타 액션 -0.47636425\n",
      "기타 어드벤처 -0.81235147\n",
      "기타 전쟁 -0.18785381\n",
      "기타 코미디 -0.73020023\n",
      "기타 판타지 -0.71893275\n",
      "다큐멘터리 드라마 -0.9208794\n",
      "다큐멘터리 멜로로맨스 -0.8898055\n",
      "다큐멘터리 뮤지컬 -0.79255223\n",
      "다큐멘터리 미스터리 -0.7495979\n",
      "다큐멘터리 범죄 -0.4923307\n",
      "다큐멘터리 사극 -0.91046923\n",
      "다큐멘터리 서부극(웨스턴) -0.722803\n",
      "다큐멘터리 성인물(에로) -0.82051396\n",
      "다큐멘터리 스릴러 -0.6480556\n",
      "다큐멘터리 애니메이션 -0.5532693\n",
      "다큐멘터리 액션 -0.6033709\n",
      "다큐멘터리 어드벤처 -0.95636624\n",
      "다큐멘터리 전쟁 -0.40614495\n",
      "다큐멘터리 코미디 -0.81819123\n",
      "다큐멘터리 판타지 -0.91087323\n",
      "드라마 멜로로맨스 -0.814854\n",
      "드라마 뮤지컬 0.78555685\n",
      "드라마 미스터리 -0.40969822\n",
      "드라마 범죄 0.10887619\n",
      "드라마 사극 -0.3351414\n",
      "드라마 서부극(웨스턴) 0.05368978\n",
      "드라마 성인물(에로) -0.550716\n",
      "드라마 스릴러 -0.23007615\n",
      "드라마 애니메이션 0.8747367\n",
      "드라마 액션 -0.013743608\n",
      "드라마 어드벤처 -0.26716295\n",
      "드라마 전쟁 0.5008575\n",
      "드라마 코미디 0.047370754\n",
      "드라마 판타지 0.5384164\n",
      "멜로로맨스 뮤지컬 0.8303519\n",
      "멜로로맨스 미스터리 0.45314226\n",
      "멜로로맨스 범죄 0.85172623\n",
      "멜로로맨스 사극 0.6120968\n",
      "멜로로맨스 서부극(웨스턴) 0.7216363\n",
      "멜로로맨스 성인물(에로) 0.8152837\n",
      "멜로로맨스 스릴러 0.6516763\n",
      "멜로로맨스 애니메이션 0.85905033\n",
      "멜로로맨스 액션 0.73202884\n",
      "멜로로맨스 어드벤처 0.578702\n",
      "멜로로맨스 전쟁 0.7973465\n",
      "멜로로맨스 코미디 0.8890829\n",
      "멜로로맨스 판타지 0.8080514\n",
      "뮤지컬 미스터리 -0.6140605\n",
      "뮤지컬 범죄 -0.32298172\n",
      "뮤지컬 사극 -0.76408863\n",
      "뮤지컬 서부극(웨스턴) -0.53307235\n",
      "뮤지컬 성인물(에로) -0.7479884\n",
      "뮤지컬 스릴러 -0.50963175\n",
      "뮤지컬 애니메이션 0.047676302\n",
      "뮤지컬 액션 -0.4266374\n",
      "뮤지컬 어드벤처 -0.7467459\n",
      "뮤지컬 전쟁 -0.12992927\n",
      "뮤지컬 코미디 -0.6371353\n",
      "뮤지컬 판타지 -0.6255986\n",
      "미스터리 범죄 1.0138378\n",
      "미스터리 사극 0.27090546\n",
      "미스터리 서부극(웨스턴) 0.5026408\n",
      "미스터리 성인물(에로) -0.03658181\n",
      "미스터리 스릴러 0.735504\n",
      "미스터리 애니메이션 0.665562\n",
      "미스터리 액션 0.7829733\n",
      "미스터리 어드벤처 0.31330457\n",
      "미스터리 전쟁 0.6912797\n",
      "미스터리 코미디 0.54669714\n",
      "미스터리 판타지 0.5564838\n",
      "범죄 사극 -0.34906667\n",
      "범죄 서부극(웨스턴) -0.10680524\n",
      "범죄 성인물(에로) -0.49731004\n",
      "범죄 스릴러 -0.99354094\n",
      "범죄 애니메이션 0.36421743\n",
      "범죄 액션 -0.39498442\n",
      "범죄 어드벤처 -0.24631824\n",
      "범죄 전쟁 0.38530707\n",
      "범죄 코미디 -0.123621516\n",
      "범죄 판타지 0.0643416\n",
      "사극 서부극(웨스턴) 0.43044826\n",
      "사극 성인물(에로) -0.28511593\n",
      "사극 스릴러 -0.0699814\n",
      "사극 애니메이션 0.8301607\n",
      "사극 액션 0.24603905\n",
      "사극 어드벤처 0.10839016\n",
      "사극 전쟁 0.91521657\n",
      "사극 코미디 0.47447297\n",
      "사극 판타지 0.64412034\n",
      "서부극(웨스턴) 성인물(에로) -0.42158288\n",
      "서부극(웨스턴) 스릴러 -0.32285127\n",
      "서부극(웨스턴) 애니메이션 0.6781145\n",
      "서부극(웨스턴) 액션 -0.075687215\n",
      "서부극(웨스턴) 어드벤처 -0.3471978\n",
      "서부극(웨스턴) 전쟁 0.7032093\n",
      "서부극(웨스턴) 코미디 -0.03878554\n",
      "서부극(웨스턴) 판타지 0.22113171\n",
      "성인물(에로) 스릴러 0.21362573\n",
      "성인물(에로) 애니메이션 0.7431594\n",
      "성인물(에로) 액션 0.37688294\n",
      "성인물(에로) 어드벤처 0.2866019\n",
      "성인물(에로) 전쟁 0.6127022\n",
      "성인물(에로) 코미디 0.57187265\n",
      "성인물(에로) 판타지 0.60165507\n",
      "스릴러 애니메이션 0.56184596\n",
      "스릴러 액션 0.51524246\n",
      "스릴러 어드벤처 0.11432765\n",
      "스릴러 전쟁 0.594447\n",
      "스릴러 코미디 0.31231147\n",
      "스릴러 판타지 0.37630206\n",
      "애니메이션 액션 -0.48546383\n",
      "애니메이션 어드벤처 -0.88940936\n",
      "애니메이션 전쟁 -0.17580786\n",
      "애니메이션 코미디 -0.7196919\n",
      "애니메이션 판타지 -0.6996003\n",
      "액션 어드벤처 -0.15110345\n",
      "액션 전쟁 0.5732357\n",
      "액션 코미디 0.03671492\n",
      "액션 판타지 0.20600773\n",
      "어드벤처 전쟁 0.7137005\n",
      "어드벤처 코미디 0.3498562\n",
      "어드벤처 판타지 0.7398894\n",
      "전쟁 코미디 -0.5350331\n",
      "전쟁 판타지 -0.33584973\n",
      "코미디 판타지 0.463999\n"
     ]
    }
   ],
   "source": [
    "# WEAT score 값을 보고, 과연 우리의 직관과 비슷한지 살펴보자\n",
    "for i in range(len(genre_name)-1):\n",
    "    for j in range(i+1, len(genre_name)):\n",
    "        print(genre_name[i], genre_name[j],matrix[i][j])"
   ]
  },
  {
   "cell_type": "markdown",
   "id": "77387aa0",
   "metadata": {},
   "source": [
    "WEAT score가 0.8 이상, -0.8 이하의 경우만 해석해 보면 아래와 같습니다.\n",
    "\n",
    "예술영화와 일반영화, 그리고 드라마와 멜로로맨스의 WEAT score의 의미를 해석해보면 예술영화는 멜로로맨스, 일반영화는 드라마와 가깝다고 볼 수 있습니다. 부호가 마이너스이므로 사람의 편향과 반대라는 것을 알 수 있습니다.\n",
    "예술영화와 일반영화, 그리고 멜로로맨스와 코미디의 WEAT score의 의미를 해석해보면 예술 영화는 멜로로맨스와 가깝고, 코디미는 일반 영화와 가깝다고 볼 수 있습니다.\n",
    "예술영화와 일반영화, 그리고 멜로로맨스와 전쟁의 WEAT score의 의미를 해석해보면 예술 영화는 멜로로맨스와 가깝고, 전쟁은 일반 영화와 가깝다고 볼 수 있습니다."
   ]
  },
  {
   "cell_type": "code",
   "execution_count": 34,
   "id": "cd5027fd",
   "metadata": {},
   "outputs": [
    {
     "data": {
      "text/plain": [
       "<AxesSubplot:>"
      ]
     },
     "execution_count": 34,
     "metadata": {},
     "output_type": "execute_result"
    },
    {
     "data": {
      "image/png": "[encoded data removed]",
      "text/plain": [
       "<Figure size 1080x576 with 2 Axes>"
      ]
     },
     "metadata": {},
     "output_type": "display_data"
    }
   ],
   "source": [
    "import numpy as np; \n",
    "import seaborn as sns; \n",
    "\n",
    "np.random.seed(0)\n",
    "\n",
    "import numpy as np; \n",
    "import seaborn as sns; \n",
    "\n",
    "np.random.seed(0)\n",
    "\n",
    "# 한글 지원 폰트\n",
    "sns.set(rc = {'figure.figsize':(15,8)})\n",
    "sns.set(font=\"NanumMyeongjo\")\n",
    "\n",
    "# 마이너스 부호 \n",
    "plt.rcParams['axes.unicode_minus'] = False\n",
    "\n",
    "\n",
    "ax = sns.heatmap(matrix, xticklabels=genre_name, yticklabels=genre_name, annot=True,  cmap='RdYlGn_r')\n",
    "ax"
   ]
  },
  {
   "cell_type": "markdown",
   "id": "413cedee",
   "metadata": {},
   "source": [
    "word embedding model에 있는 편향성을 확인해보기 위해 WEAT score를 시도해보았습니다. 이 학습을 통해 여러분이 가진 데이터로 word embedding model을 만들 수 있고, 이 모델이 특정 분야에 대해 편향이 되어있는지 확인해볼수 있다"
   ]
  },
  {
   "cell_type": "markdown",
   "id": "13459beb",
   "metadata": {},
   "source": [
    "# 회고\n",
    "\n",
    "데이터의 편향이 있을 수 있다라는 점을 알고 있었는데 이를 평가할 수 있는 지표가 있다는 점을 배울 수 있었다.\n",
    "이런 편향에 대해 어떠한 처리가 필요한 것인지 궁금하지만 이는 임베딩을 만드는 모델에서 처리해야할 것 같다.\n",
    "또한 편향이 데이터의 특성이 될 수 있는데, 편향을 없애는 것외에 편향이 있다는 사실을 모델에 적용할 수 있는 방법에 대해 고민이 된다.\n",
    "행렬 계산을 통해 여러 attribute에 대한 WEAT score를 한 번에 계산할 수 있었다."
   ]
  },
  {
   "cell_type": "code",
   "execution_count": null,
   "id": "f3bb6e1a",
   "metadata": {},
   "outputs": [],
   "source": []
  }
 ],
 "metadata": {
  "kernelspec": {
   "display_name": "Python 3 (ipykernel)",
   "language": "python",
   "name": "python3"
  },
  "language_info": {
   "codemirror_mode": {
    "name": "ipython",
    "version": 3
   },
   "file_extension": ".py",
   "mimetype": "text/x-python",
   "name": "python",
   "nbconvert_exporter": "python",
   "pygments_lexer": "ipython3",
   "version": "3.9.7"
  }
 },
 "nbformat": 4,
 "nbformat_minor": 5
}
