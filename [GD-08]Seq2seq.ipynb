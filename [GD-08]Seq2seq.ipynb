{
 "cells": [
  {
   "cell_type": "markdown",
   "id": "020f9d6f",
   "metadata": {},
   "source": [
    "# Seq2seq으로 번역기 만들기\n",
    "## 프로젝트: 한영 번역기 만들기"
   ]
  },
  {
   "cell_type": "markdown",
   "id": "a0212f49",
   "metadata": {},
   "source": [
    "### 필요한 라이브러리 임포트"
   ]
  },
  {
   "cell_type": "code",
   "execution_count": 1,
   "id": "6d0dce51",
   "metadata": {
    "scrolled": true
   },
   "outputs": [
    {
     "name": "stdout",
     "output_type": "stream",
     "text": [
      "2.6.0\n"
     ]
    }
   ],
   "source": [
    "# 라이브러리 임포트\n",
    "import tensorflow as tf\n",
    "import numpy as np\n",
    "\n",
    "from sklearn.model_selection import train_test_split\n",
    "\n",
    "import matplotlib.ticker as ticker\n",
    "import matplotlib.pyplot as plt\n",
    "\n",
    "import time\n",
    "import re\n",
    "import os\n",
    "import io\n",
    "import random\n",
    "\n",
    "print(tf.__version__)"
   ]
  },
  {
   "cell_type": "markdown",
   "id": "5b99507a",
   "metadata": {},
   "source": [
    "#### 데이터 준비하기"
   ]
  },
  {
   "cell_type": "code",
   "execution_count": 2,
   "id": "f2d20fdf",
   "metadata": {
    "scrolled": true
   },
   "outputs": [
    {
     "name": "stdout",
     "output_type": "stream",
     "text": [
      "/aiffel/aiffel/s2s_translation\n"
     ]
    }
   ],
   "source": [
    "file_path = os.getenv('HOME')+'/aiffel/s2s_translation'\n",
    "print(file_path)"
   ]
  },
  {
   "cell_type": "code",
   "execution_count": 3,
   "id": "3ec0d6cd",
   "metadata": {},
   "outputs": [],
   "source": [
    "def load_file(file_name):\n",
    "    with open(file_path+'/{}'.format(file_name), \"r\") as f:\n",
    "        raw = f.read().splitlines()\n",
    "\n",
    "    print(\"Data Size:\", len(raw))\n",
    "    print(\"Example:\")\n",
    "\n",
    "    for sen in raw[0:100][::20]: \n",
    "        print(\">>\", sen)\n",
    "    \n",
    "    return raw"
   ]
  },
  {
   "cell_type": "code",
   "execution_count": 4,
   "id": "ae7601e5",
   "metadata": {
    "scrolled": false
   },
   "outputs": [
    {
     "name": "stdout",
     "output_type": "stream",
     "text": [
      "Data Size: 94123\n",
      "Example:\n",
      ">> 개인용 컴퓨터 사용의 상당 부분은 \"이것보다 뛰어날 수 있느냐?\"\n",
      ">> 북한의 핵무기 계획을 포기하도록 하려는 압력이 거세지고 있는 가운데, 일본과 북한의 외교관들이 외교 관계를 정상화하려는 회담을 재개했다.\n",
      ">> \"경호 로보트가 침입자나 화재를 탐지하기 위해서 개인적으로, 그리고 전문적으로 사용되고 있습니다.\"\n",
      ">> 수자원부 당국은 논란이 되고 있고, 막대한 비용이 드는 이 사업에 대해 내년에 건설을 시작할 계획이다.\n",
      ">> 또한 근력 운동은 활발하게 걷는 것이나 최소한 20분 동안 뛰는 것과 같은 유산소 활동에서 얻는 운동 효과를 심장과 폐에 주지 않기 때문에, 연구학자들은 근력 운동이 심장에 큰 영향을 미치는지 여부에 대해 논쟁을 해왔다.\n",
      "Data Size: 1000\n",
      "Example:\n",
      ">> 세계 에서 가장 강력한 수퍼컴퓨터를 1년 동안이나 독점해 오던 정부의 연구학자들이 이 1억1천만 달러 짜리 경이로운 설비를 공개하며, 이것이 핵전쟁으로부터 세계를 구하는데 도움이 될지도 모른다고 말했다.\n",
      ">> 무기 사찰관들의 복귀에 대하여 이라크 측의 한 관리가 \"유익하고 효과적인\" 논의였다고 말한 회합에서 유엔 무기 사찰단장이 이라크 대표단을 만났다.\n",
      ">> 하드웨어를 구입하는 비용의 문제가 커다란 장애입니다.\n",
      ">> 토의에 참가한 대부분의 사람들은 정부가 통신 내용을 도청할 수 있는 권리를 보유해야 할 필요성이 있는 합법적인 부분도 있다는 데에 동의를 한다.\n",
      ">> 그는 눈에 띄지 않게 행동하는 것으로 알려져있다. 그는 영국 시사잡지 타임즈에서 “파티에 잘 참석하지 않는다”며 자신의 생활에 대한 날조된 이야기를 즐기고 있다.\n",
      "Data Size: 2000\n",
      "Example:\n",
      ">> 토론에 참여한 사람들은 법 집행과 국가 안전보장에 대한 우려를 표명해야 할 필요성을 진지하게 받아 들이고 있습니다.\n",
      ">> 비록 그 위협(의 가능성)은 적지만, 그 잠재적인 영향력은 가히 파괴적인 것이다.\n",
      ">> 한국은 세계 에서 네번째로 원유를 많이 수입하는 나라이며, 전적으로 원유 수입에 의존하고 있다.\n",
      ">> 불과 1,379년 전이다.\n",
      ">> 대신, 그들은 \"안정\"이라는 면에서 서방 세계와 똑같은 이해 관계를 갖고 있는 각 지역의 소수 엘리트를 대표하고 있다.\n",
      "total data size: 97123\n"
     ]
    }
   ],
   "source": [
    "raw_kor = load_file('korean-english-park.train.ko')\n",
    "raw_kor += load_file('korean-english-park.dev.ko')\n",
    "raw_kor += load_file('korean-english-park.test.ko')\n",
    "print('total data size:', len(raw_kor))"
   ]
  },
  {
   "cell_type": "code",
   "execution_count": 5,
   "id": "5a87d7f5",
   "metadata": {
    "scrolled": true
   },
   "outputs": [
    {
     "name": "stdout",
     "output_type": "stream",
     "text": [
      "Data Size: 94123\n",
      "Example:\n",
      ">> Much of personal computing is about \"can you top this?\"\n",
      ">> Amid mounting pressure on North Korea to abandon its nuclear weapons program Japanese and North Korean diplomats have resumed talks on normalizing diplomatic relations.\n",
      ">> “Guard robots are used privately and professionally to detect intruders or fire,” Karlsson said.\n",
      ">> Authorities from the Water Resources Ministry plan to begin construction next year on the controversial and hugely expensive project.\n",
      ">> Researchers also have debated whether weight-training has a big impact on the heart, since it does not give the heart and lungs the kind of workout they get from aerobic activities such as brisk walking or running for at least 20 minutes.\n",
      "Data Size: 1000\n",
      "Example:\n",
      ">> After keeping the world's most powerful supercomputer to themselves for a year, government researchers showed off the $110 million wonder and said it might help save the world from nuclear war.\n",
      ">> The head of the U.N. weapons inspection team met with an Iraqi delegation in what a Baghdad official called \"useful and fruitful\" discussions on the return of weapons inspectors.\n",
      ">> \"The issue of it just being a hardware expense is a serious impediment.\n",
      ">> Most of the people involved in the discussion agree that there is a legitimate area in which the government needs to retain the right to intercept communications.\n",
      ">> He's been known to keep a low profile \"You will never see me at a party,\" he told the Times of London and delights in concocting stories about his life.\n",
      "Data Size: 2000\n",
      "Example:\n",
      ">> Those involved in the discussions do take seriously the need to address concerns of law enforcement and national security.\n",
      ">> Even though the threat is small, the potential effects are devastating.\n",
      ">> South Korea is the world's fourth largest oil importer and wholly depends on imports of crude.\n",
      ">> That is only 1,379 years ago.\n",
      ">> Instead, they represent a small elite in each place that has a common interest with the West in “stability.”\n",
      "total data size: 97123\n"
     ]
    }
   ],
   "source": [
    "raw_en = load_file('korean-english-park.train.en')\n",
    "raw_en += load_file('korean-english-park.dev.en')\n",
    "raw_en += load_file('korean-english-park.test.en')\n",
    "print('total data size:', len(raw_en))"
   ]
  },
  {
   "cell_type": "code",
   "execution_count": 6,
   "id": "82143c2a",
   "metadata": {
    "scrolled": true
   },
   "outputs": [
    {
     "name": "stdout",
     "output_type": "stream",
     "text": [
      "korean data size: 97123\n",
      "english data size: 97123\n"
     ]
    }
   ],
   "source": [
    "print('korean data size:', len(raw_kor))\n",
    "print('english data size:', len(raw_en))"
   ]
  },
  {
   "cell_type": "markdown",
   "id": "e907fb8c",
   "metadata": {},
   "source": [
    "### 데이터 전처리\n",
    "\n",
    "1. set 데이터형이 중복을 허용하지 않는다는 것을 활용해 중복된 데이터를 제거하도록 합니다. 데이터의 병렬 쌍이 흐트러지지 않게 주의하세요! 중복을 제거한 데이터를 cleaned_corpus 에 저장합니다.\n",
    "\n",
    "2. 앞서 정의한 preprocessing() 함수는 한글에서는 동작하지 않는다. 한글에 적용할 수 있는 정규식을 추가하여 함수를 재정의하세요!\n",
    "\n",
    "3. 타겟 언어인 영문엔 <start> 토큰과 <end> 토큰을 추가하고 split() 함수를 이용하여 토큰화합니다. 한글 토큰화는 KoNLPy의 mecab 클래스를 사용합니다.\n",
    "\n",
    "모든 데이터를 사용할 경우 학습에 굉장히 오랜 시간이 걸립니다. cleaned_corpus로부터 토큰의 길이가 40 이하인 데이터를 선별하여 eng_corpus와 kor_corpus를 각각 구축하세요."
   ]
  },
  {
   "cell_type": "markdown",
   "id": "ff335dd1",
   "metadata": {},
   "source": [
    "#### 중복 데이터 제거"
   ]
  },
  {
   "cell_type": "code",
   "execution_count": 7,
   "id": "c43deca0",
   "metadata": {},
   "outputs": [
    {
     "data": {
      "text/plain": [
       "<zip at 0x7faeacf27900>"
      ]
     },
     "execution_count": 7,
     "metadata": {},
     "output_type": "execute_result"
    }
   ],
   "source": [
    "raw = zip(raw_kor, raw_en)\n",
    "raw"
   ]
  },
  {
   "cell_type": "code",
   "execution_count": 8,
   "id": "6c1eecca",
   "metadata": {},
   "outputs": [],
   "source": [
    "# set 데이터형으로 중복 데이터 제거\n",
    "set_raw = set(raw)"
   ]
  },
  {
   "cell_type": "code",
   "execution_count": 9,
   "id": "a7b5c503",
   "metadata": {},
   "outputs": [
    {
     "data": {
      "text/plain": [
       "81959"
      ]
     },
     "execution_count": 9,
     "metadata": {},
     "output_type": "execute_result"
    }
   ],
   "source": [
    "len(set_raw)"
   ]
  },
  {
   "cell_type": "code",
   "execution_count": 10,
   "id": "27521785",
   "metadata": {},
   "outputs": [],
   "source": [
    "# 중복을 제거한 데이터를 cleaned_corpus에 저장\n",
    "cleaned_corpus_kor, cleaned_corpus_eng = zip(*set_raw)"
   ]
  },
  {
   "cell_type": "code",
   "execution_count": 11,
   "id": "966d693d",
   "metadata": {
    "scrolled": false
   },
   "outputs": [
    {
     "name": "stdout",
     "output_type": "stream",
     "text": [
      "korean data size: 81959\n",
      "english data size: 81959\n"
     ]
    }
   ],
   "source": [
    "print('korean data size:', len(cleaned_corpus_kor))\n",
    "print('english data size:', len(cleaned_corpus_eng))"
   ]
  },
  {
   "cell_type": "markdown",
   "id": "3a3fad86",
   "metadata": {},
   "source": [
    "#### 데이터 전처리: 정제하기"
   ]
  },
  {
   "cell_type": "code",
   "execution_count": 12,
   "id": "57448d79",
   "metadata": {},
   "outputs": [],
   "source": [
    "# 한글에 적용할 수 있ㄴ느 정규식 추가하여 함수 재정의\n",
    "def preprocess_sentence(sentence, s_token=False, e_token=False):\n",
    "    sentence = sentence.lower().strip()\n",
    "\n",
    "    sentence = re.sub(r\"([?.!,])\", r\" \\1 \", sentence)\n",
    "    sentence = re.sub(r'[\" \"]+', \" \", sentence)\n",
    "    sentence = re.sub(r\"[^a-zA-Z?.!가-힣ㄱ-ㅎㅏ-ㅣ]+\", \" \", sentence)\n",
    "\n",
    "    sentence = sentence.strip()\n",
    "\n",
    "    if s_token:\n",
    "        sentence = '<start> ' + sentence\n",
    "\n",
    "    if e_token:\n",
    "        sentence += ' <end>'\n",
    "    \n",
    "    return sentence"
   ]
  },
  {
   "cell_type": "code",
   "execution_count": 13,
   "id": "16183d55",
   "metadata": {},
   "outputs": [
    {
     "name": "stdout",
     "output_type": "stream",
     "text": [
      "그는 마지막으로 \"내가 관심있는 것은 주님 뿐\"이라고 전했다. \"I don't go because I have a political agenda,\" he said, adding that his friends don't, either.\n"
     ]
    }
   ],
   "source": [
    "for kor, eng in zip(cleaned_corpus_kor, cleaned_corpus_eng):\n",
    "    print(kor, eng)\n",
    "    break"
   ]
  },
  {
   "cell_type": "code",
   "execution_count": 14,
   "id": "a606f116",
   "metadata": {},
   "outputs": [
    {
     "name": "stdout",
     "output_type": "stream",
     "text": [
      "korean data size: 17055\n",
      "english data size: 17055\n",
      "Korean: 그리고 항상 개월이나 아마 년 안에 원래 모습을 되찾았습니다 .\n",
      "English: <start> and it always comes back in months maybe two years so it s not like a lifetime . <end>\n"
     ]
    }
   ],
   "source": [
    "enc_corpus = []\n",
    "dec_corpus = []\n",
    "\n",
    "#num_examples = 30000\n",
    "\n",
    "cnt=0\n",
    "for kor, eng in zip(cleaned_corpus_kor, cleaned_corpus_eng):\n",
    "    temp_kor = preprocess_sentence(kor)\n",
    "    temp_eng = preprocess_sentence(eng, s_token=True, e_token=True)\n",
    "\n",
    "    if len(temp_kor) <= 40:\n",
    "        enc_corpus.append(temp_kor)\n",
    "        dec_corpus.append(temp_eng)\n",
    "              \n",
    "print('korean data size:', len(enc_corpus))\n",
    "print('english data size:', len(dec_corpus))    \n",
    "print(\"Korean:\", enc_corpus[500])   # go away !\n",
    "print(\"English:\", dec_corpus[500])   # <start> salga de aqu ! <end>"
   ]
  },
  {
   "cell_type": "code",
   "execution_count": 15,
   "id": "d13238a1",
   "metadata": {},
   "outputs": [
    {
     "name": "stdout",
     "output_type": "stream",
     "text": [
      "Korean: 항공사가 날씨를 탓할 때 항상 의문을 가져라 .\n",
      "English: <start> when your airline blames the weather question it . <end>\n"
     ]
    }
   ],
   "source": [
    "print(\"Korean:\", enc_corpus[100])\n",
    "print(\"English:\", dec_corpus[100])"
   ]
  },
  {
   "cell_type": "code",
   "execution_count": 16,
   "id": "14bc24e1",
   "metadata": {},
   "outputs": [
    {
     "name": "stdout",
     "output_type": "stream",
     "text": [
      "Korean: 그는 공군 기지 방문 동안 미군 철수에 대한 언급은 하지 않았다.\n",
      "English: During a rally for troops at the base, Bush said any pullout would be made from a position of \"strength and success.\n"
     ]
    }
   ],
   "source": [
    "print(\"Korean:\", cleaned_corpus_kor[10])   \n",
    "print(\"English:\", cleaned_corpus_eng[10])"
   ]
  },
  {
   "cell_type": "markdown",
   "id": "b63ac0b5",
   "metadata": {},
   "source": [
    "#### 데이터 전처리: 토큰화"
   ]
  },
  {
   "cell_type": "code",
   "execution_count": 17,
   "id": "0746d660",
   "metadata": {},
   "outputs": [],
   "source": [
    "# 한글 토큰화는 KoNLPy의 mecab 클래스를 사용\n",
    "from konlpy.tag import Mecab\n",
    "\n",
    "vocab_size = 50000\n",
    "def tokenize(corpus, kor=False, eng=True):\n",
    "    if kor:\n",
    "        mecab = Mecab()\n",
    "        morph = [\" \".join(mecab.morphs(sen)) for sen in corpus]\n",
    "        tokenizer = tf.keras.preprocessing.text.Tokenizer(filters='',\n",
    "                                                         num_words=vocab_size)\n",
    "        tokenizer.fit_on_texts(morph)\n",
    "\n",
    "        tensor = tokenizer.texts_to_sequences(morph)\n",
    "        tensor = tf.keras.preprocessing.sequence.pad_sequences(tensor, padding='post')\n",
    "\n",
    "        \n",
    "    if eng:\n",
    "        tokenizer = tf.keras.preprocessing.text.Tokenizer(filters='',\n",
    "                                                         num_words=vocab_size)\n",
    "        tokenizer.fit_on_texts(corpus)\n",
    "\n",
    "        tensor = tokenizer.texts_to_sequences(corpus)\n",
    "        tensor = tf.keras.preprocessing.sequence.pad_sequences(tensor, padding='post')\n",
    "\n",
    "    return tensor, tokenizer"
   ]
  },
  {
   "cell_type": "code",
   "execution_count": 18,
   "id": "ce2d2e44",
   "metadata": {},
   "outputs": [
    {
     "name": "stdout",
     "output_type": "stream",
     "text": [
      "Korean Vocab Size: 41796\n",
      "English Vocab Size: 17325\n"
     ]
    }
   ],
   "source": [
    "enc_tensor, enc_tokenizer = tokenize(enc_corpus, kor=True)\n",
    "dec_tensor, dec_tokenizer = tokenize(dec_corpus, eng=True)\n",
    "\n",
    "enc_train, enc_val, dec_train, dec_val = \\\n",
    "train_test_split(enc_tensor, dec_tensor, test_size=0.2)\n",
    "\n",
    "print(\"Korean Vocab Size:\", len(enc_tokenizer.index_word))\n",
    "print(\"English Vocab Size:\", len(dec_tokenizer.index_word))"
   ]
  },
  {
   "cell_type": "markdown",
   "id": "d2f913a5",
   "metadata": {},
   "source": [
    "### 모델 설계"
   ]
  },
  {
   "cell_type": "code",
   "execution_count": 19,
   "id": "fa6d63cd",
   "metadata": {},
   "outputs": [],
   "source": [
    "# Attention은 Bahdanau을 사용\n",
    "class BahdanauAttention(tf.keras.layers.Layer):\n",
    "    def __init__(self, units):\n",
    "        super(BahdanauAttention, self).__init__()\n",
    "        self.w_dec = tf.keras.layers.Dense(units)\n",
    "        self.w_enc = tf.keras.layers.Dense(units)\n",
    "        self.w_com = tf.keras.layers.Dense(1)\n",
    "    \n",
    "    def call(self, h_enc, h_dec):\n",
    "        # h_enc shape: [batch x length x units]\n",
    "        # h_dec shape: [batch x units]\n",
    "\n",
    "        h_enc = self.w_enc(h_enc)\n",
    "        h_dec = tf.expand_dims(h_dec, 1)\n",
    "        h_dec = self.w_dec(h_dec)\n",
    "\n",
    "        score = self.w_com(tf.nn.tanh(h_dec + h_enc))\n",
    "        \n",
    "        attn = tf.nn.softmax(score, axis=1)\n",
    "\n",
    "        context_vec = attn * h_enc\n",
    "        context_vec = tf.reduce_sum(context_vec, axis=1)\n",
    "\n",
    "        return context_vec, attn"
   ]
  },
  {
   "cell_type": "code",
   "execution_count": 20,
   "id": "6492c7d2",
   "metadata": {},
   "outputs": [],
   "source": [
    "# Encoder 클래스를 설계\n",
    "class Encoder(tf.keras.Model):\n",
    "    def __init__(self, vocab_size, embedding_dim, enc_units):\n",
    "        super(Encoder, self).__init__()\n",
    "        \n",
    "        self.enc_units = enc_units\n",
    "        self.embedding = tf.keras.layers.Embedding(vocab_size, embedding_dim)\n",
    "        self.gru = tf.keras.layers.GRU(enc_units,\n",
    "                                       return_sequences=True)\n",
    "        \n",
    "    def call(self, x):\n",
    "        out = self.embedding(x)\n",
    "        out = self.gru(out)\n",
    "        \n",
    "        return out"
   ]
  },
  {
   "cell_type": "code",
   "execution_count": 21,
   "id": "d98fa8ae",
   "metadata": {},
   "outputs": [],
   "source": [
    "# Decoder 클래스를 설계\n",
    "class Decoder(tf.keras.Model):\n",
    "    def __init__(self, vocab_size, embedding_dim, dec_units):\n",
    "        super(Decoder, self).__init__()\n",
    "        self.dec_units = dec_units\n",
    "        self.embedding = tf.keras.layers.Embedding(vocab_size, embedding_dim)\n",
    "        self.gru = tf.keras.layers.GRU(dec_units,\n",
    "                                       return_sequences=True,\n",
    "                                       return_state=True)\n",
    "        self.fc = tf.keras.layers.Dense(vocab_size)\n",
    "\n",
    "        self.attention = BahdanauAttention(self.dec_units)\n",
    "\n",
    "    def call(self, x, h_dec, enc_out):\n",
    "        context_vec, attn = self.attention(enc_out, h_dec)\n",
    "\n",
    "        out = self.embedding(x)\n",
    "        out = tf.concat([tf.expand_dims(context_vec, 1), out], axis=-1)\n",
    "\n",
    "        out, h_dec = self.gru(out)\n",
    "        out = tf.reshape(out, (-1, out.shape[2]))\n",
    "        out = self.fc(out)\n",
    "\n",
    "        return out, h_dec, attn"
   ]
  },
  {
   "cell_type": "code",
   "execution_count": 22,
   "id": "ef2388bd",
   "metadata": {},
   "outputs": [
    {
     "name": "stdout",
     "output_type": "stream",
     "text": [
      "Encoder Output: (64, 40, 1024)\n",
      "Decoder Output: (64, 17326)\n",
      "Decoder Hidden State: (64, 1024)\n",
      "Attention: (64, 40, 1)\n"
     ]
    }
   ],
   "source": [
    "# 코드를 실행하세요.\n",
    "\n",
    "BATCH_SIZE     = 64\n",
    "SRC_VOCAB_SIZE = len(enc_tokenizer.index_word) + 1\n",
    "TGT_VOCAB_SIZE = len(dec_tokenizer.index_word) + 1\n",
    "\n",
    "units         = 1024\n",
    "embedding_dim = 512\n",
    "\n",
    "encoder = Encoder(SRC_VOCAB_SIZE, embedding_dim, units)\n",
    "decoder = Decoder(TGT_VOCAB_SIZE, embedding_dim, units)\n",
    "\n",
    "# sample input\n",
    "sequence_len = 40 \n",
    "\n",
    "sample_enc = tf.random.uniform((BATCH_SIZE, sequence_len))\n",
    "sample_output = encoder(sample_enc)\n",
    "\n",
    "print ('Encoder Output:', sample_output.shape)\n",
    "\n",
    "sample_state = tf.random.uniform((BATCH_SIZE, units))\n",
    "\n",
    "sample_logits, h_dec, attn = decoder(tf.random.uniform((BATCH_SIZE, 1)),\n",
    "                                     sample_state, sample_output)\n",
    "\n",
    "print ('Decoder Output:', sample_logits.shape)\n",
    "print ('Decoder Hidden State:', h_dec.shape)\n",
    "print ('Attention:', attn.shape)"
   ]
  },
  {
   "cell_type": "markdown",
   "id": "acaf56ce",
   "metadata": {},
   "source": [
    "### 훈련하기"
   ]
  },
  {
   "cell_type": "markdown",
   "id": "4bf3f55f",
   "metadata": {},
   "source": [
    "#### Optimizer & Loss"
   ]
  },
  {
   "cell_type": "code",
   "execution_count": 23,
   "id": "6e5a610c",
   "metadata": {},
   "outputs": [],
   "source": [
    "optimizer = tf.keras.optimizers.Adam()\n",
    "loss_object = tf.keras.losses.SparseCategoricalCrossentropy(\n",
    "    from_logits=True, reduction='none')\n",
    "\n",
    "def loss_function(real, pred):\n",
    "    mask = tf.math.logical_not(tf.math.equal(real, 0))\n",
    "    loss = loss_object(real, pred)\n",
    "    \n",
    "    mask = tf.cast(mask, dtype=loss.dtype)\n",
    "    loss *= mask\n",
    "    \n",
    "    return tf.reduce_mean(loss)"
   ]
  },
  {
   "cell_type": "markdown",
   "id": "cf1db6ce",
   "metadata": {},
   "source": [
    "#### train_step 구현하기\n",
    "\n",
    "train_step()은 학습에 필요한 것을 모두 가져가 Loss를 계산한 후 반환하는 함수"
   ]
  },
  {
   "cell_type": "code",
   "execution_count": 24,
   "id": "0909d566",
   "metadata": {},
   "outputs": [],
   "source": [
    "@tf.function\n",
    "def train_step(src, tgt, encoder, decoder, optimizer, dec_tok):\n",
    "    bsz = src.shape[0]\n",
    "    loss = 0\n",
    "\n",
    "    with tf.GradientTape() as tape:\n",
    "        enc_out = encoder(src)\n",
    "        h_dec = enc_out[:, -1]\n",
    "        \n",
    "        dec_src = tf.expand_dims([dec_tok.word_index['<start>']] * bsz, 1)\n",
    "\n",
    "        for t in range(1, tgt.shape[1]):\n",
    "            pred, h_dec, _ = decoder(dec_src, h_dec, enc_out)\n",
    "\n",
    "            loss += loss_function(tgt[:, t], pred)\n",
    "            dec_src = tf.expand_dims(tgt[:, t], 1)\n",
    "        \n",
    "    batch_loss = (loss / int(tgt.shape[1]))\n",
    "\n",
    "    variables = encoder.trainable_variables + decoder.trainable_variables\n",
    "    gradients = tape.gradient(loss, variables)\n",
    "    optimizer.apply_gradients(zip(gradients, variables))\n",
    "    \n",
    "    return batch_loss"
   ]
  },
  {
   "cell_type": "markdown",
   "id": "38747773",
   "metadata": {},
   "source": [
    "#### 실습하기\n",
    "\n",
    "Validation Set을 사용하는 eval_step() 함수를 정의하세요! 그리고 train_step() 을 마친 후, 곧이어 eval_step() 을 진행하도록 소스를 수정하세요! 결과는 아래와 같은 형태가 되어야 합니다."
   ]
  },
  {
   "cell_type": "code",
   "execution_count": 25,
   "id": "a125f048",
   "metadata": {
    "scrolled": false
   },
   "outputs": [
    {
     "name": "stderr",
     "output_type": "stream",
     "text": [
      "Epoch  1: 100%|██████████| 214/214 [03:41<00:00,  1.03s/it, Loss 1.5698]\n",
      "Test Epoch  1: 100%|██████████| 54/54 [00:50<00:00,  1.06it/s, Test Loss 1.5183]\n",
      "Epoch  2: 100%|██████████| 214/214 [01:55<00:00,  1.85it/s, Loss 1.5261]\n",
      "Test Epoch  2: 100%|██████████| 54/54 [00:10<00:00,  5.02it/s, Test Loss 1.5391]\n",
      "Epoch  3: 100%|██████████| 214/214 [01:55<00:00,  1.85it/s, Loss 1.5199]\n",
      "Test Epoch  3: 100%|██████████| 54/54 [00:10<00:00,  5.02it/s, Test Loss 1.4911]\n",
      "Epoch  4: 100%|██████████| 214/214 [01:56<00:00,  1.83it/s, Loss 1.3685]\n",
      "Test Epoch  4: 100%|██████████| 54/54 [00:10<00:00,  4.96it/s, Test Loss 1.3283]\n",
      "Epoch  5: 100%|██████████| 214/214 [01:56<00:00,  1.84it/s, Loss 1.3325]\n",
      "Test Epoch  5: 100%|██████████| 54/54 [00:10<00:00,  5.00it/s, Test Loss 1.3458]\n",
      "Epoch  6: 100%|██████████| 214/214 [01:55<00:00,  1.85it/s, Loss 1.2987]\n",
      "Test Epoch  6: 100%|██████████| 54/54 [00:10<00:00,  4.98it/s, Test Loss 1.3369]\n",
      "Epoch  7: 100%|██████████| 214/214 [01:55<00:00,  1.85it/s, Loss 1.2697]\n",
      "Test Epoch  7: 100%|██████████| 54/54 [00:10<00:00,  4.99it/s, Test Loss 1.3299]\n",
      "Epoch  8: 100%|██████████| 214/214 [01:55<00:00,  1.85it/s, Loss 1.2470]\n",
      "Test Epoch  8: 100%|██████████| 54/54 [00:10<00:00,  5.01it/s, Test Loss 1.3260]\n",
      "Epoch  9: 100%|██████████| 214/214 [01:55<00:00,  1.85it/s, Loss 1.2271]\n",
      "Test Epoch  9: 100%|██████████| 54/54 [00:10<00:00,  4.98it/s, Test Loss 1.3301]\n",
      "Epoch 10: 100%|██████████| 214/214 [01:55<00:00,  1.84it/s, Loss 1.2095]\n",
      "Test Epoch 10: 100%|██████████| 54/54 [00:10<00:00,  4.98it/s, Test Loss 1.3301]\n",
      "Epoch 11: 100%|██████████| 214/214 [01:55<00:00,  1.84it/s, Loss 1.1914]\n",
      "Test Epoch 11: 100%|██████████| 54/54 [00:10<00:00,  4.98it/s, Test Loss 1.3311]\n",
      "Epoch 12: 100%|██████████| 214/214 [01:55<00:00,  1.84it/s, Loss 1.1757]\n",
      "Test Epoch 12: 100%|██████████| 54/54 [00:10<00:00,  4.99it/s, Test Loss 1.3309]\n",
      "Epoch 13: 100%|██████████| 214/214 [01:56<00:00,  1.84it/s, Loss 1.1599]\n",
      "Test Epoch 13: 100%|██████████| 54/54 [00:10<00:00,  4.99it/s, Test Loss 1.3336]\n",
      "Epoch 14: 100%|██████████| 214/214 [01:56<00:00,  1.84it/s, Loss 1.1459]\n",
      "Test Epoch 14: 100%|██████████| 54/54 [00:10<00:00,  4.97it/s, Test Loss 1.3345]\n",
      "Epoch 15: 100%|██████████| 214/214 [01:56<00:00,  1.84it/s, Loss 1.1311]\n",
      "Test Epoch 15: 100%|██████████| 54/54 [00:10<00:00,  4.97it/s, Test Loss 1.3374]\n",
      "Epoch 16: 100%|██████████| 214/214 [01:56<00:00,  1.84it/s, Loss 1.1176]\n",
      "Test Epoch 16: 100%|██████████| 54/54 [00:10<00:00,  4.98it/s, Test Loss 1.3390]\n",
      "Epoch 17: 100%|██████████| 214/214 [01:56<00:00,  1.84it/s, Loss 1.1032]\n",
      "Test Epoch 17: 100%|██████████| 54/54 [00:10<00:00,  4.97it/s, Test Loss 1.3402]\n",
      "Epoch 18: 100%|██████████| 214/214 [01:56<00:00,  1.84it/s, Loss 1.0902]\n",
      "Test Epoch 18: 100%|██████████| 54/54 [00:10<00:00,  4.98it/s, Test Loss 1.3458]\n",
      "Epoch 19: 100%|██████████| 214/214 [01:56<00:00,  1.84it/s, Loss 1.0770]\n",
      "Test Epoch 19: 100%|██████████| 54/54 [00:10<00:00,  4.97it/s, Test Loss 1.3467]\n",
      "Epoch 20: 100%|██████████| 214/214 [01:56<00:00,  1.84it/s, Loss 1.0642]\n",
      "Test Epoch 20: 100%|██████████| 54/54 [00:10<00:00,  4.98it/s, Test Loss 1.3489]\n",
      "Epoch 21: 100%|██████████| 214/214 [01:56<00:00,  1.84it/s, Loss 1.0511]\n",
      "Test Epoch 21: 100%|██████████| 54/54 [00:10<00:00,  4.97it/s, Test Loss 1.3573]\n",
      "Epoch 22: 100%|██████████| 214/214 [01:56<00:00,  1.84it/s, Loss 1.0388]\n",
      "Test Epoch 22: 100%|██████████| 54/54 [00:10<00:00,  4.97it/s, Test Loss 1.3580]\n",
      "Epoch 23: 100%|██████████| 214/214 [01:56<00:00,  1.84it/s, Loss 1.0258]\n",
      "Test Epoch 23: 100%|██████████| 54/54 [00:10<00:00,  4.97it/s, Test Loss 1.3646]\n",
      "Epoch 24: 100%|██████████| 214/214 [01:56<00:00,  1.84it/s, Loss 1.0132]\n",
      "Test Epoch 24: 100%|██████████| 54/54 [00:10<00:00,  4.97it/s, Test Loss 1.3657]\n",
      "Epoch 25: 100%|██████████| 214/214 [01:56<00:00,  1.84it/s, Loss 1.0011]\n",
      "Test Epoch 25: 100%|██████████| 54/54 [00:10<00:00,  4.96it/s, Test Loss 1.3694]\n",
      "Epoch 26: 100%|██████████| 214/214 [01:56<00:00,  1.84it/s, Loss 0.9887]\n",
      "Test Epoch 26: 100%|██████████| 54/54 [00:10<00:00,  4.96it/s, Test Loss 1.3748]\n",
      "Epoch 27: 100%|██████████| 214/214 [01:56<00:00,  1.84it/s, Loss 0.9761]\n",
      "Test Epoch 27: 100%|██████████| 54/54 [00:10<00:00,  4.98it/s, Test Loss 1.3825]\n",
      "Epoch 28: 100%|██████████| 214/214 [01:56<00:00,  1.84it/s, Loss 0.9641]\n",
      "Test Epoch 28: 100%|██████████| 54/54 [00:10<00:00,  4.97it/s, Test Loss 1.3854]\n",
      "Epoch 29: 100%|██████████| 214/214 [01:56<00:00,  1.84it/s, Loss 0.9524]\n",
      "Test Epoch 29: 100%|██████████| 54/54 [00:10<00:00,  4.97it/s, Test Loss 1.3919]\n",
      "Epoch 30: 100%|██████████| 214/214 [01:56<00:00,  1.84it/s, Loss 0.9405]\n",
      "Test Epoch 30: 100%|██████████| 54/54 [00:10<00:00,  4.96it/s, Test Loss 1.3974]\n"
     ]
    }
   ],
   "source": [
    "# Define eval_step\n",
    "\n",
    "@tf.function\n",
    "def eval_step(src, tgt, encoder, decoder, dec_tok):\n",
    "    bsz = src.shape[0]\n",
    "    loss = 0\n",
    "\n",
    "    enc_out = encoder(src)\n",
    "\n",
    "    h_dec = enc_out[:, -1]\n",
    "    \n",
    "    dec_src = tf.expand_dims([dec_tok.word_index['<start>']] * bsz, 1)\n",
    "\n",
    "    for t in range(1, tgt.shape[1]):\n",
    "        pred, h_dec, _ = decoder(dec_src, h_dec, enc_out)\n",
    "\n",
    "        loss += loss_function(tgt[:, t], pred)\n",
    "        dec_src = tf.expand_dims(tgt[:, t], 1)\n",
    "        \n",
    "    batch_loss = (loss / int(tgt.shape[1]))\n",
    "    \n",
    "    return batch_loss\n",
    "\n",
    "\n",
    "# Training Process\n",
    "\n",
    "from tqdm import tqdm\n",
    "\n",
    "EPOCHS = 30\n",
    "\n",
    "for epoch in range(EPOCHS):\n",
    "    total_loss = 0\n",
    "    \n",
    "    idx_list = list(range(0, enc_train.shape[0], BATCH_SIZE))\n",
    "    random.shuffle(idx_list)\n",
    "    t = tqdm(idx_list)\n",
    "\n",
    "    for (batch, idx) in enumerate(t):\n",
    "        batch_loss = train_step(enc_train[idx:idx+BATCH_SIZE],\n",
    "                                dec_train[idx:idx+BATCH_SIZE],\n",
    "                                encoder,\n",
    "                                decoder,\n",
    "                                optimizer,\n",
    "                                dec_tokenizer)\n",
    "    \n",
    "        total_loss += batch_loss\n",
    "        \n",
    "        t.set_description_str('Epoch %2d' % (epoch + 1))\n",
    "        t.set_postfix_str('Loss %.4f' % (total_loss.numpy() / (batch + 1)))\n",
    "    \n",
    "    test_loss = 0\n",
    "    \n",
    "    idx_list = list(range(0, enc_val.shape[0], BATCH_SIZE))\n",
    "    random.shuffle(idx_list)\n",
    "    t = tqdm(idx_list)\n",
    "\n",
    "    for (test_batch, idx) in enumerate(t):\n",
    "        test_batch_loss = eval_step(enc_val[idx:idx+BATCH_SIZE],\n",
    "                                    dec_val[idx:idx+BATCH_SIZE],\n",
    "                                    encoder,\n",
    "                                    decoder,\n",
    "                                    dec_tokenizer)\n",
    "    \n",
    "        test_loss += test_batch_loss\n",
    "\n",
    "        t.set_description_str('Test Epoch %2d' % (epoch + 1))\n",
    "        t.set_postfix_str('Test Loss %.4f' % (test_loss.numpy() / (test_batch + 1)))"
   ]
  },
  {
   "cell_type": "markdown",
   "id": "3c9b9c42",
   "metadata": {},
   "source": [
    "#### 번역 성능을 평가"
   ]
  },
  {
   "cell_type": "code",
   "execution_count": 26,
   "id": "629b06f6",
   "metadata": {
    "scrolled": false
   },
   "outputs": [],
   "source": [
    "def evaluate(sentence, encoder, decoder):\n",
    "    attention = np.zeros((dec_train.shape[-1], enc_train.shape[-1]))\n",
    "    \n",
    "    sentence = preprocess_sentence(sentence)\n",
    "    inputs = enc_tokenizer.texts_to_sequences([sentence.split()])\n",
    "    inputs = tf.keras.preprocessing.sequence.pad_sequences(inputs,\n",
    "                                                           maxlen=enc_train.shape[-1],\n",
    "                                                           padding='post')\n",
    "\n",
    "    result = ''\n",
    "\n",
    "    enc_out = encoder(inputs)\n",
    "\n",
    "    dec_hidden = enc_out[:, -1]\n",
    "    dec_input = tf.expand_dims([dec_tokenizer.word_index['<start>']], 0)\n",
    "\n",
    "    for t in range(dec_train.shape[-1]):\n",
    "        predictions, dec_hidden, attention_weights = decoder(dec_input,\n",
    "                                                             dec_hidden,\n",
    "                                                             enc_out)\n",
    "\n",
    "        attention_weights = tf.reshape(attention_weights, (-1, ))\n",
    "        attention[t] = attention_weights.numpy()\n",
    "\n",
    "        predicted_id = \\\n",
    "        tf.argmax(tf.math.softmax(predictions, axis=-1)[0]).numpy()\n",
    "\n",
    "        result += dec_tokenizer.index_word[predicted_id] + ' '\n",
    "\n",
    "        if dec_tokenizer.index_word[predicted_id] == '<end>':\n",
    "            return result, sentence, attention\n",
    "\n",
    "        dec_input = tf.expand_dims([predicted_id], 0)\n",
    "\n",
    "    return result, sentence, attention\n",
    "\n",
    "\n",
    "def plot_attention(attention, sentence, predicted_sentence):\n",
    "    fig = plt.figure(figsize=(10,10))\n",
    "    ax = fig.add_subplot(1, 1, 1)\n",
    "    ax.matshow(attention, cmap='viridis')\n",
    "\n",
    "    fontdict = {'fontsize': 14}\n",
    "\n",
    "    ax.set_xticklabels([''] + sentence, fontdict=fontdict, rotation=90)\n",
    "    ax.set_yticklabels([''] + predicted_sentence, fontdict=fontdict)\n",
    "\n",
    "    ax.xaxis.set_major_locator(ticker.MultipleLocator(1))\n",
    "    ax.yaxis.set_major_locator(ticker.MultipleLocator(1))\n",
    "\n",
    "    plt.show()\n",
    "\n",
    "\n",
    "def translate(sentence, encoder, decoder):\n",
    "    result, sentence, attention = evaluate(sentence, encoder, decoder)\n",
    "\n",
    "    print('Input: %s' % (sentence))\n",
    "    print('Predicted translation: {}'.format(result))\n",
    "    \n",
    "    attention = attention[:len(result.split()), :len(sentence.split())]\n",
    "    plot_attention(attention, sentence.split(), result.split(' '))"
   ]
  },
  {
   "cell_type": "code",
   "execution_count": 27,
   "id": "0e9d5cbd",
   "metadata": {},
   "outputs": [
    {
     "data": {
      "text/plain": [
       "'/usr/share/fonts/truetype/nanum/NanumBarunGothic.ttf'"
      ]
     },
     "execution_count": 27,
     "metadata": {},
     "output_type": "execute_result"
    }
   ],
   "source": [
    "import matplotlib as mpl\n",
    "import matplotlib.pyplot as plt\n",
    " \n",
    "%config InlineBackend.figure_format = 'retina'\n",
    " \n",
    "import matplotlib.font_manager as fm\n",
    "fontpath = '/usr/share/fonts/truetype/nanum/NanumBarunGothic.ttf'\n",
    "font = fm.FontProperties(fname=fontpath, size=9)\n",
    "plt.rc('font', family='NanumBarunGothic') \n",
    "mpl.font_manager.findfont(font)"
   ]
  },
  {
   "cell_type": "code",
   "execution_count": 28,
   "id": "02154708",
   "metadata": {
    "scrolled": false
   },
   "outputs": [
    {
     "name": "stderr",
     "output_type": "stream",
     "text": [
      "/tmp/ipykernel_154/2860932276.py:45: UserWarning: FixedFormatter should only be used together with FixedLocator\n",
      "  ax.set_xticklabels([''] + sentence, fontdict=fontdict, rotation=90)\n",
      "/tmp/ipykernel_154/2860932276.py:46: UserWarning: FixedFormatter should only be used together with FixedLocator\n",
      "  ax.set_yticklabels([''] + predicted_sentence, fontdict=fontdict)\n"
     ]
    },
    {
     "name": "stdout",
     "output_type": "stream",
     "text": [
      "Input: 오바마는 대통령이다 .\n",
      "Predicted translation: the countryside . <end> \n"
     ]
    },
    {
     "data": {
      "image/png": "[encoded data removed]",
      "text/plain": [
       "<Figure size 720x720 with 1 Axes>"
      ]
     },
     "metadata": {
      "image/png": {
       "height": 631,
       "width": 504
      },
      "needs_background": "light"
     },
     "output_type": "display_data"
    }
   ],
   "source": [
    "translate(\"오바마는 대통령이다.\", encoder, decoder)"
   ]
  },
  {
   "cell_type": "code",
   "execution_count": 29,
   "id": "bd29b360",
   "metadata": {},
   "outputs": [
    {
     "name": "stdout",
     "output_type": "stream",
     "text": [
      "Input: 시민들은 도시 속에 산다 .\n",
      "Predicted translation: the new york . <end> \n"
     ]
    },
    {
     "name": "stderr",
     "output_type": "stream",
     "text": [
      "/tmp/ipykernel_154/2860932276.py:45: UserWarning: FixedFormatter should only be used together with FixedLocator\n",
      "  ax.set_xticklabels([''] + sentence, fontdict=fontdict, rotation=90)\n",
      "/tmp/ipykernel_154/2860932276.py:46: UserWarning: FixedFormatter should only be used together with FixedLocator\n",
      "  ax.set_yticklabels([''] + predicted_sentence, fontdict=fontdict)\n"
     ]
    },
    {
     "data": {
      "image/png": "[encoded data removed]",
      "text/plain": [
       "<Figure size 720x720 with 1 Axes>"
      ]
     },
     "metadata": {
      "image/png": {
       "height": 618,
       "width": 601
      },
      "needs_background": "light"
     },
     "output_type": "display_data"
    }
   ],
   "source": [
    "translate(\"시민들은 도시 속에 산다.\", encoder, decoder)"
   ]
  },
  {
   "cell_type": "code",
   "execution_count": 30,
   "id": "32a712ea",
   "metadata": {
    "scrolled": false
   },
   "outputs": [
    {
     "name": "stdout",
     "output_type": "stream",
     "text": [
      "Input: 커피는 필요 없다 .\n",
      "Predicted translation: the dow is down . <end> \n"
     ]
    },
    {
     "name": "stderr",
     "output_type": "stream",
     "text": [
      "/tmp/ipykernel_154/2860932276.py:45: UserWarning: FixedFormatter should only be used together with FixedLocator\n",
      "  ax.set_xticklabels([''] + sentence, fontdict=fontdict, rotation=90)\n",
      "/tmp/ipykernel_154/2860932276.py:46: UserWarning: FixedFormatter should only be used together with FixedLocator\n",
      "  ax.set_yticklabels([''] + predicted_sentence, fontdict=fontdict)\n"
     ]
    },
    {
     "data": {
      "image/png": "[encoded data removed]",
      "text/plain": [
       "<Figure size 720x720 with 1 Axes>"
      ]
     },
     "metadata": {
      "image/png": {
       "height": 606,
       "width": 420
      },
      "needs_background": "light"
     },
     "output_type": "display_data"
    }
   ],
   "source": [
    "translate(\"커피는 필요 없다.\", encoder, decoder)"
   ]
  },
  {
   "cell_type": "code",
   "execution_count": 31,
   "id": "5455db2f",
   "metadata": {
    "scrolled": false
   },
   "outputs": [
    {
     "name": "stdout",
     "output_type": "stream",
     "text": [
      "Input: 일곱 명의 사망자가 발생했다 .\n",
      "Predicted translation: the country s . <end> \n"
     ]
    },
    {
     "name": "stderr",
     "output_type": "stream",
     "text": [
      "/tmp/ipykernel_154/2860932276.py:45: UserWarning: FixedFormatter should only be used together with FixedLocator\n",
      "  ax.set_xticklabels([''] + sentence, fontdict=fontdict, rotation=90)\n",
      "/tmp/ipykernel_154/2860932276.py:46: UserWarning: FixedFormatter should only be used together with FixedLocator\n",
      "  ax.set_yticklabels([''] + predicted_sentence, fontdict=fontdict)\n"
     ]
    },
    {
     "data": {
      "image/png": "[encoded data removed]",
      "text/plain": [
       "<Figure size 720x720 with 1 Axes>"
      ]
     },
     "metadata": {
      "image/png": {
       "height": 618,
       "width": 614
      },
      "needs_background": "light"
     },
     "output_type": "display_data"
    }
   ],
   "source": [
    "translate(\"일곱 명의 사망자가 발생했다.\", encoder, decoder)"
   ]
  },
  {
   "cell_type": "code",
   "execution_count": 32,
   "id": "10ccb658",
   "metadata": {},
   "outputs": [
    {
     "name": "stdout",
     "output_type": "stream",
     "text": [
      "Input: 그는 공군 기지 방문 동안 미군 철수에 대한 언급은 하지 않았다 .\n",
      "Predicted translation: he said . <end> \n"
     ]
    },
    {
     "name": "stderr",
     "output_type": "stream",
     "text": [
      "/tmp/ipykernel_154/2860932276.py:45: UserWarning: FixedFormatter should only be used together with FixedLocator\n",
      "  ax.set_xticklabels([''] + sentence, fontdict=fontdict, rotation=90)\n",
      "/tmp/ipykernel_154/2860932276.py:46: UserWarning: FixedFormatter should only be used together with FixedLocator\n",
      "  ax.set_yticklabels([''] + predicted_sentence, fontdict=fontdict)\n"
     ]
    },
    {
     "data": {
      "image/png": "[encoded data removed]",
      "text/plain": [
       "<Figure size 720x720 with 1 Axes>"
      ]
     },
     "metadata": {
      "image/png": {
       "height": 248,
       "width": 616
      },
      "needs_background": "light"
     },
     "output_type": "display_data"
    }
   ],
   "source": [
    "translate(\"그는 공군 기지 방문 동안 미군 철수에 대한 언급은 하지 않았다.\", encoder, decoder)"
   ]
  },
  {
   "cell_type": "markdown",
   "id": "ab9c93c6",
   "metadata": {},
   "source": [
    "# 회고"
   ]
  },
  {
   "cell_type": "markdown",
   "id": "8b5980aa",
   "metadata": {},
   "source": [
    "오류없이 진행은 잘 되었는데 번역을 이상하게함 잘 안맞음. 분명히 노드랑 구글링으로 참고한것과 동일하게 진행하였는데 안된다. 단어를 많이 바꿔서도 써봤는데도 안됨. 처음에 했을때가 그나마 젤나았는데 점점 이상해짐. 긍정적인점은 전처리 하는 단계는 점점 익숙해 지고 있다는점임."
   ]
  }
 ],
 "metadata": {
  "kernelspec": {
   "display_name": "Python 3 (ipykernel)",
   "language": "python",
   "name": "python3"
  },
  "language_info": {
   "codemirror_mode": {
    "name": "ipython",
    "version": 3
   },
   "file_extension": ".py",
   "mimetype": "text/x-python",
   "name": "python",
   "nbconvert_exporter": "python",
   "pygments_lexer": "ipython3",
   "version": "3.9.7"
  }
 },
 "nbformat": 4,
 "nbformat_minor": 5
}
