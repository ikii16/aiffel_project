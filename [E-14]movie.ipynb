{
 "cells": [
  {
   "cell_type": "markdown",
   "id": "108da8b3",
   "metadata": {},
   "source": [
    "# 프로젝트 - Movielens 영화 추천 실습\n",
    "\n",
    "이전 스텝에서 배운 MF 모델 학습 방법을 토대로, 내가 좋아할 만한 영화 추천 시스템을 제작해 보겠습니다.\n",
    "\n",
    "이번에 활용할 데이터셋은 추천 시스템의 MNIST라고 부를만한 Movielens 데이터입니다.\n",
    "\n",
    "유저가 영화에 대해 평점을 매긴 데이터가 데이터 크기 별로 있습니다. \n",
    "\n",
    "MovieLens 1M Dataset 사용을 권장합니다.\n",
    "\n",
    "별점 데이터는 대표적인 explicit 데이터입니다. \n",
    "\n",
    "하지만 implicit 데이터로 간주하고 테스트해 볼 수 있습니다.\n",
    "\n",
    "별점을 시청횟수로 해석해서 생각하겠습니다.\n",
    "\n",
    "또한 유저가 3점 미만으로 준 데이터는 선호하지 않는다고 가정하고 제외하겠습니다."
   ]
  },
  {
   "cell_type": "markdown",
   "id": "d1ab8827",
   "metadata": {},
   "source": [
    "Cloud Storage에 미리 업로드된 ml-1m폴더 내 파일을 심볼릭 링크로 개인 storage에 연결해 줍니다.\n",
    "\n",
    "Cloud shell에서 아래 명령어를 입력해 주세요.\n",
    "\n",
    "$ mkdir -p ~/aiffel/recommendata_iu/data/ml-1m\n",
    "\n",
    "$ ln -s ~/data/ml-1m/* ~/aiffel/recommendata_iu/data/ml-1m"
   ]
  },
  {
   "cell_type": "markdown",
   "id": "bad52afc",
   "metadata": {},
   "source": [
    "## 1) 데이터 준비와 전처리"
   ]
  },
  {
   "cell_type": "code",
   "execution_count": 26,
   "id": "0486bb36",
   "metadata": {},
   "outputs": [
    {
     "data": {
      "text/html": [
       "<div>\n",
       "<style scoped>\n",
       "    .dataframe tbody tr th:only-of-type {\n",
       "        vertical-align: middle;\n",
       "    }\n",
       "\n",
       "    .dataframe tbody tr th {\n",
       "        vertical-align: top;\n",
       "    }\n",
       "\n",
       "    .dataframe thead th {\n",
       "        text-align: right;\n",
       "    }\n",
       "</style>\n",
       "<table border=\"1\" class=\"dataframe\">\n",
       "  <thead>\n",
       "    <tr style=\"text-align: right;\">\n",
       "      <th></th>\n",
       "      <th>user_id</th>\n",
       "      <th>movie_id</th>\n",
       "      <th>ratings</th>\n",
       "      <th>timestamp</th>\n",
       "    </tr>\n",
       "  </thead>\n",
       "  <tbody>\n",
       "    <tr>\n",
       "      <th>0</th>\n",
       "      <td>1</td>\n",
       "      <td>1193</td>\n",
       "      <td>5</td>\n",
       "      <td>978300760</td>\n",
       "    </tr>\n",
       "    <tr>\n",
       "      <th>1</th>\n",
       "      <td>1</td>\n",
       "      <td>661</td>\n",
       "      <td>3</td>\n",
       "      <td>978302109</td>\n",
       "    </tr>\n",
       "    <tr>\n",
       "      <th>2</th>\n",
       "      <td>1</td>\n",
       "      <td>914</td>\n",
       "      <td>3</td>\n",
       "      <td>978301968</td>\n",
       "    </tr>\n",
       "    <tr>\n",
       "      <th>3</th>\n",
       "      <td>1</td>\n",
       "      <td>3408</td>\n",
       "      <td>4</td>\n",
       "      <td>978300275</td>\n",
       "    </tr>\n",
       "    <tr>\n",
       "      <th>4</th>\n",
       "      <td>1</td>\n",
       "      <td>2355</td>\n",
       "      <td>5</td>\n",
       "      <td>978824291</td>\n",
       "    </tr>\n",
       "  </tbody>\n",
       "</table>\n",
       "</div>"
      ],
      "text/plain": [
       "   user_id  movie_id  ratings  timestamp\n",
       "0        1      1193        5  978300760\n",
       "1        1       661        3  978302109\n",
       "2        1       914        3  978301968\n",
       "3        1      3408        4  978300275\n",
       "4        1      2355        5  978824291"
      ]
     },
     "execution_count": 26,
     "metadata": {},
     "output_type": "execute_result"
    }
   ],
   "source": [
    "import pandas as pd\n",
    "import os\n",
    "rating_file_path=os.getenv('HOME') + '/aiffel/recommendata_iu/data/ml-1m/ratings.dat'\n",
    "ratings_cols = ['user_id', 'movie_id', 'ratings', 'timestamp']\n",
    "ratings = pd.read_csv(rating_file_path, sep='::', names=ratings_cols, engine='python', encoding = \"ISO-8859-1\")\n",
    "orginal_data_size = len(ratings)\n",
    "ratings.head()"
   ]
  },
  {
   "cell_type": "code",
   "execution_count": 27,
   "id": "0d26d7ed",
   "metadata": {},
   "outputs": [
    {
     "name": "stdout",
     "output_type": "stream",
     "text": [
      "orginal_data_size: 1000209, filtered_data_size: 836478\n",
      "Ratio of Remaining Data is 83.63%\n"
     ]
    }
   ],
   "source": [
    "# 3점 이상만 남깁니다.\n",
    "ratings = ratings[ratings['ratings']>=3]\n",
    "filtered_data_size = len(ratings)\n",
    "\n",
    "print(f'orginal_data_size: {orginal_data_size}, filtered_data_size: {filtered_data_size}')\n",
    "print(f'Ratio of Remaining Data is {filtered_data_size / orginal_data_size:.2%}')"
   ]
  },
  {
   "cell_type": "code",
   "execution_count": 28,
   "id": "02b62301",
   "metadata": {},
   "outputs": [],
   "source": [
    "# ratings 컬럼의 이름을 counts로 바꿉니다.\n",
    "ratings.rename(columns={'ratings':'counts'}, inplace=True)"
   ]
  },
  {
   "cell_type": "code",
   "execution_count": 29,
   "id": "f30f571a",
   "metadata": {},
   "outputs": [
    {
     "data": {
      "text/plain": [
       "0          5\n",
       "1          3\n",
       "2          3\n",
       "3          4\n",
       "4          5\n",
       "          ..\n",
       "1000203    3\n",
       "1000205    5\n",
       "1000206    5\n",
       "1000207    4\n",
       "1000208    4\n",
       "Name: counts, Length: 836478, dtype: int64"
      ]
     },
     "execution_count": 29,
     "metadata": {},
     "output_type": "execute_result"
    }
   ],
   "source": [
    "ratings['counts']"
   ]
  },
  {
   "cell_type": "code",
   "execution_count": 30,
   "id": "cffd5302",
   "metadata": {
    "scrolled": true
   },
   "outputs": [
    {
     "data": {
      "text/html": [
       "<div>\n",
       "<style scoped>\n",
       "    .dataframe tbody tr th:only-of-type {\n",
       "        vertical-align: middle;\n",
       "    }\n",
       "\n",
       "    .dataframe tbody tr th {\n",
       "        vertical-align: top;\n",
       "    }\n",
       "\n",
       "    .dataframe thead th {\n",
       "        text-align: right;\n",
       "    }\n",
       "</style>\n",
       "<table border=\"1\" class=\"dataframe\">\n",
       "  <thead>\n",
       "    <tr style=\"text-align: right;\">\n",
       "      <th></th>\n",
       "      <th>movie_id</th>\n",
       "      <th>title</th>\n",
       "      <th>genre</th>\n",
       "    </tr>\n",
       "  </thead>\n",
       "  <tbody>\n",
       "    <tr>\n",
       "      <th>0</th>\n",
       "      <td>1</td>\n",
       "      <td>Toy Story (1995)</td>\n",
       "      <td>Animation|Children's|Comedy</td>\n",
       "    </tr>\n",
       "    <tr>\n",
       "      <th>1</th>\n",
       "      <td>2</td>\n",
       "      <td>Jumanji (1995)</td>\n",
       "      <td>Adventure|Children's|Fantasy</td>\n",
       "    </tr>\n",
       "    <tr>\n",
       "      <th>2</th>\n",
       "      <td>3</td>\n",
       "      <td>Grumpier Old Men (1995)</td>\n",
       "      <td>Comedy|Romance</td>\n",
       "    </tr>\n",
       "    <tr>\n",
       "      <th>3</th>\n",
       "      <td>4</td>\n",
       "      <td>Waiting to Exhale (1995)</td>\n",
       "      <td>Comedy|Drama</td>\n",
       "    </tr>\n",
       "    <tr>\n",
       "      <th>4</th>\n",
       "      <td>5</td>\n",
       "      <td>Father of the Bride Part II (1995)</td>\n",
       "      <td>Comedy</td>\n",
       "    </tr>\n",
       "    <tr>\n",
       "      <th>5</th>\n",
       "      <td>6</td>\n",
       "      <td>Heat (1995)</td>\n",
       "      <td>Action|Crime|Thriller</td>\n",
       "    </tr>\n",
       "    <tr>\n",
       "      <th>6</th>\n",
       "      <td>7</td>\n",
       "      <td>Sabrina (1995)</td>\n",
       "      <td>Comedy|Romance</td>\n",
       "    </tr>\n",
       "    <tr>\n",
       "      <th>7</th>\n",
       "      <td>8</td>\n",
       "      <td>Tom and Huck (1995)</td>\n",
       "      <td>Adventure|Children's</td>\n",
       "    </tr>\n",
       "    <tr>\n",
       "      <th>8</th>\n",
       "      <td>9</td>\n",
       "      <td>Sudden Death (1995)</td>\n",
       "      <td>Action</td>\n",
       "    </tr>\n",
       "    <tr>\n",
       "      <th>9</th>\n",
       "      <td>10</td>\n",
       "      <td>GoldenEye (1995)</td>\n",
       "      <td>Action|Adventure|Thriller</td>\n",
       "    </tr>\n",
       "  </tbody>\n",
       "</table>\n",
       "</div>"
      ],
      "text/plain": [
       "   movie_id                               title                         genre\n",
       "0         1                    Toy Story (1995)   Animation|Children's|Comedy\n",
       "1         2                      Jumanji (1995)  Adventure|Children's|Fantasy\n",
       "2         3             Grumpier Old Men (1995)                Comedy|Romance\n",
       "3         4            Waiting to Exhale (1995)                  Comedy|Drama\n",
       "4         5  Father of the Bride Part II (1995)                        Comedy\n",
       "5         6                         Heat (1995)         Action|Crime|Thriller\n",
       "6         7                      Sabrina (1995)                Comedy|Romance\n",
       "7         8                 Tom and Huck (1995)          Adventure|Children's\n",
       "8         9                 Sudden Death (1995)                        Action\n",
       "9        10                    GoldenEye (1995)     Action|Adventure|Thriller"
      ]
     },
     "execution_count": 30,
     "metadata": {},
     "output_type": "execute_result"
    }
   ],
   "source": [
    "# 영화 제목을 보기 위해 메타 데이터를 읽어옵니다.\n",
    "movie_file_path=os.getenv('HOME') + '/aiffel/recommendata_iu/data/ml-1m/movies.dat'\n",
    "cols = ['movie_id', 'title', 'genre'] \n",
    "movies = pd.read_csv(movie_file_path, sep='::', names=cols, engine='python', encoding='ISO-8859-1')\n",
    "movies.head(10)"
   ]
  },
  {
   "cell_type": "code",
   "execution_count": 31,
   "id": "c1803a57",
   "metadata": {},
   "outputs": [
    {
     "data": {
      "text/html": [
       "<div>\n",
       "<style scoped>\n",
       "    .dataframe tbody tr th:only-of-type {\n",
       "        vertical-align: middle;\n",
       "    }\n",
       "\n",
       "    .dataframe tbody tr th {\n",
       "        vertical-align: top;\n",
       "    }\n",
       "\n",
       "    .dataframe thead th {\n",
       "        text-align: right;\n",
       "    }\n",
       "</style>\n",
       "<table border=\"1\" class=\"dataframe\">\n",
       "  <thead>\n",
       "    <tr style=\"text-align: right;\">\n",
       "      <th></th>\n",
       "      <th>movie_id</th>\n",
       "      <th>movie_id_new</th>\n",
       "      <th>title</th>\n",
       "      <th>genre</th>\n",
       "    </tr>\n",
       "  </thead>\n",
       "  <tbody>\n",
       "    <tr>\n",
       "      <th>0</th>\n",
       "      <td>1</td>\n",
       "      <td>1</td>\n",
       "      <td>Toy Story (1995)</td>\n",
       "      <td>Animation|Children's|Comedy</td>\n",
       "    </tr>\n",
       "    <tr>\n",
       "      <th>1</th>\n",
       "      <td>2</td>\n",
       "      <td>2</td>\n",
       "      <td>Jumanji (1995)</td>\n",
       "      <td>Adventure|Children's|Fantasy</td>\n",
       "    </tr>\n",
       "    <tr>\n",
       "      <th>2</th>\n",
       "      <td>3</td>\n",
       "      <td>3</td>\n",
       "      <td>Grumpier Old Men (1995)</td>\n",
       "      <td>Comedy|Romance</td>\n",
       "    </tr>\n",
       "    <tr>\n",
       "      <th>3</th>\n",
       "      <td>4</td>\n",
       "      <td>4</td>\n",
       "      <td>Waiting to Exhale (1995)</td>\n",
       "      <td>Comedy|Drama</td>\n",
       "    </tr>\n",
       "    <tr>\n",
       "      <th>4</th>\n",
       "      <td>5</td>\n",
       "      <td>5</td>\n",
       "      <td>Father of the Bride Part II (1995)</td>\n",
       "      <td>Comedy</td>\n",
       "    </tr>\n",
       "    <tr>\n",
       "      <th>...</th>\n",
       "      <td>...</td>\n",
       "      <td>...</td>\n",
       "      <td>...</td>\n",
       "      <td>...</td>\n",
       "    </tr>\n",
       "    <tr>\n",
       "      <th>3878</th>\n",
       "      <td>3948</td>\n",
       "      <td>3879</td>\n",
       "      <td>Meet the Parents (2000)</td>\n",
       "      <td>Comedy</td>\n",
       "    </tr>\n",
       "    <tr>\n",
       "      <th>3879</th>\n",
       "      <td>3949</td>\n",
       "      <td>3880</td>\n",
       "      <td>Requiem for a Dream (2000)</td>\n",
       "      <td>Drama</td>\n",
       "    </tr>\n",
       "    <tr>\n",
       "      <th>3880</th>\n",
       "      <td>3950</td>\n",
       "      <td>3881</td>\n",
       "      <td>Tigerland (2000)</td>\n",
       "      <td>Drama</td>\n",
       "    </tr>\n",
       "    <tr>\n",
       "      <th>3881</th>\n",
       "      <td>3951</td>\n",
       "      <td>3882</td>\n",
       "      <td>Two Family House (2000)</td>\n",
       "      <td>Drama</td>\n",
       "    </tr>\n",
       "    <tr>\n",
       "      <th>3882</th>\n",
       "      <td>3952</td>\n",
       "      <td>3883</td>\n",
       "      <td>Contender, The (2000)</td>\n",
       "      <td>Drama|Thriller</td>\n",
       "    </tr>\n",
       "  </tbody>\n",
       "</table>\n",
       "<p>3883 rows × 4 columns</p>\n",
       "</div>"
      ],
      "text/plain": [
       "      movie_id  movie_id_new                               title  \\\n",
       "0            1             1                    Toy Story (1995)   \n",
       "1            2             2                      Jumanji (1995)   \n",
       "2            3             3             Grumpier Old Men (1995)   \n",
       "3            4             4            Waiting to Exhale (1995)   \n",
       "4            5             5  Father of the Bride Part II (1995)   \n",
       "...        ...           ...                                 ...   \n",
       "3878      3948          3879             Meet the Parents (2000)   \n",
       "3879      3949          3880          Requiem for a Dream (2000)   \n",
       "3880      3950          3881                    Tigerland (2000)   \n",
       "3881      3951          3882             Two Family House (2000)   \n",
       "3882      3952          3883               Contender, The (2000)   \n",
       "\n",
       "                             genre  \n",
       "0      Animation|Children's|Comedy  \n",
       "1     Adventure|Children's|Fantasy  \n",
       "2                   Comedy|Romance  \n",
       "3                     Comedy|Drama  \n",
       "4                           Comedy  \n",
       "...                            ...  \n",
       "3878                        Comedy  \n",
       "3879                         Drama  \n",
       "3880                         Drama  \n",
       "3881                         Drama  \n",
       "3882                Drama|Thriller  \n",
       "\n",
       "[3883 rows x 4 columns]"
      ]
     },
     "execution_count": 31,
     "metadata": {},
     "output_type": "execute_result"
    }
   ],
   "source": [
    "movies['movie_id_new'] = range(1,3884)\n",
    "movies = movies[['movie_id', 'movie_id_new', 'title', 'genre']]\n",
    "movies"
   ]
  },
  {
   "cell_type": "markdown",
   "id": "9836f9bd",
   "metadata": {},
   "source": [
    "## 2) 분석해 봅시다.\n",
    "ratings에 있는 유니크한 영화 개수\n",
    "\n",
    "ratings에 있는 유니크한 사용자 수\n",
    "\n",
    "가장 인기 있는 영화 30개(인기순)"
   ]
  },
  {
   "cell_type": "code",
   "execution_count": 32,
   "id": "45040572",
   "metadata": {},
   "outputs": [
    {
     "data": {
      "text/plain": [
       "3628"
      ]
     },
     "execution_count": 32,
     "metadata": {},
     "output_type": "execute_result"
    }
   ],
   "source": [
    "# ratings에 있는 유니크한 영화 개수\n",
    "ratings['movie_id'].nunique()"
   ]
  },
  {
   "cell_type": "code",
   "execution_count": 33,
   "id": "e7ccdcde",
   "metadata": {},
   "outputs": [
    {
     "data": {
      "text/plain": [
       "6039"
      ]
     },
     "execution_count": 33,
     "metadata": {},
     "output_type": "execute_result"
    }
   ],
   "source": [
    "# ratings에 있는 유니크한 사용자 수\n",
    "ratings['user_id'].nunique()"
   ]
  },
  {
   "cell_type": "code",
   "execution_count": 34,
   "id": "55014cc0",
   "metadata": {},
   "outputs": [
    {
     "data": {
      "text/plain": [
       "movie_id\n",
       "2858    3211\n",
       "260     2910\n",
       "1196    2885\n",
       "1210    2716\n",
       "2028    2561\n",
       "589     2509\n",
       "593     2498\n",
       "1198    2473\n",
       "1270    2460\n",
       "2571    2434\n",
       "480     2413\n",
       "2762    2385\n",
       "608     2371\n",
       "110     2314\n",
       "1580    2297\n",
       "527     2257\n",
       "1197    2252\n",
       "2396    2213\n",
       "1617    2210\n",
       "318     2194\n",
       "858     2167\n",
       "1265    2121\n",
       "1097    2102\n",
       "2997    2066\n",
       "2716    2051\n",
       "296     2030\n",
       "356     2022\n",
       "1240    2019\n",
       "1       2000\n",
       "457     1941\n",
       "Name: user_id, dtype: int64"
      ]
     },
     "execution_count": 34,
     "metadata": {},
     "output_type": "execute_result"
    }
   ],
   "source": [
    "# 가장 인기 있는 영화 30개(인기순)\n",
    "movie_count = ratings.groupby('movie_id')['user_id'].count()\n",
    "movie_count.sort_values(ascending=False).head(30)"
   ]
  },
  {
   "cell_type": "code",
   "execution_count": 35,
   "id": "36b1c013",
   "metadata": {
    "scrolled": true
   },
   "outputs": [
    {
     "data": {
      "text/html": [
       "<div>\n",
       "<style scoped>\n",
       "    .dataframe tbody tr th:only-of-type {\n",
       "        vertical-align: middle;\n",
       "    }\n",
       "\n",
       "    .dataframe tbody tr th {\n",
       "        vertical-align: top;\n",
       "    }\n",
       "\n",
       "    .dataframe thead th {\n",
       "        text-align: right;\n",
       "    }\n",
       "</style>\n",
       "<table border=\"1\" class=\"dataframe\">\n",
       "  <thead>\n",
       "    <tr style=\"text-align: right;\">\n",
       "      <th></th>\n",
       "      <th>movie_id</th>\n",
       "      <th>movie_id_new</th>\n",
       "      <th>title</th>\n",
       "      <th>genre</th>\n",
       "    </tr>\n",
       "  </thead>\n",
       "  <tbody>\n",
       "    <tr>\n",
       "      <th>453</th>\n",
       "      <td>457</td>\n",
       "      <td>454</td>\n",
       "      <td>Fugitive, The (1993)</td>\n",
       "      <td>Action|Thriller</td>\n",
       "    </tr>\n",
       "  </tbody>\n",
       "</table>\n",
       "</div>"
      ],
      "text/plain": [
       "     movie_id  movie_id_new                 title            genre\n",
       "453       457           454  Fugitive, The (1993)  Action|Thriller"
      ]
     },
     "execution_count": 35,
     "metadata": {},
     "output_type": "execute_result"
    }
   ],
   "source": [
    "movies[movies['movie_id'] == 457]"
   ]
  },
  {
   "cell_type": "code",
   "execution_count": 36,
   "id": "a03702e0",
   "metadata": {},
   "outputs": [
    {
     "data": {
      "text/plain": [
       "count    6039.000000\n",
       "mean      138.512668\n",
       "std       156.241599\n",
       "min         1.000000\n",
       "25%        38.000000\n",
       "50%        81.000000\n",
       "75%       177.000000\n",
       "max      1968.000000\n",
       "Name: movie_id, dtype: float64"
      ]
     },
     "execution_count": 36,
     "metadata": {},
     "output_type": "execute_result"
    }
   ],
   "source": [
    "user_count = ratings.groupby('user_id')['movie_id'].count()\n",
    "user_count.describe()"
   ]
  },
  {
   "cell_type": "code",
   "execution_count": 37,
   "id": "40fa64dc",
   "metadata": {},
   "outputs": [
    {
     "data": {
      "text/html": [
       "<div>\n",
       "<style scoped>\n",
       "    .dataframe tbody tr th:only-of-type {\n",
       "        vertical-align: middle;\n",
       "    }\n",
       "\n",
       "    .dataframe tbody tr th {\n",
       "        vertical-align: top;\n",
       "    }\n",
       "\n",
       "    .dataframe thead th {\n",
       "        text-align: right;\n",
       "    }\n",
       "</style>\n",
       "<table border=\"1\" class=\"dataframe\">\n",
       "  <thead>\n",
       "    <tr style=\"text-align: right;\">\n",
       "      <th></th>\n",
       "      <th>user_id</th>\n",
       "      <th>movie_id</th>\n",
       "      <th>counts</th>\n",
       "      <th>title</th>\n",
       "      <th>genre</th>\n",
       "    </tr>\n",
       "  </thead>\n",
       "  <tbody>\n",
       "    <tr>\n",
       "      <th>0</th>\n",
       "      <td>1</td>\n",
       "      <td>1193</td>\n",
       "      <td>5</td>\n",
       "      <td>One Flew Over the Cuckoo's Nest (1975)</td>\n",
       "      <td>Drama</td>\n",
       "    </tr>\n",
       "    <tr>\n",
       "      <th>1</th>\n",
       "      <td>1</td>\n",
       "      <td>661</td>\n",
       "      <td>3</td>\n",
       "      <td>James and the Giant Peach (1996)</td>\n",
       "      <td>Animation|Children's|Musical</td>\n",
       "    </tr>\n",
       "    <tr>\n",
       "      <th>2</th>\n",
       "      <td>1</td>\n",
       "      <td>914</td>\n",
       "      <td>3</td>\n",
       "      <td>My Fair Lady (1964)</td>\n",
       "      <td>Musical|Romance</td>\n",
       "    </tr>\n",
       "    <tr>\n",
       "      <th>3</th>\n",
       "      <td>1</td>\n",
       "      <td>3408</td>\n",
       "      <td>4</td>\n",
       "      <td>Erin Brockovich (2000)</td>\n",
       "      <td>Drama</td>\n",
       "    </tr>\n",
       "    <tr>\n",
       "      <th>4</th>\n",
       "      <td>1</td>\n",
       "      <td>2355</td>\n",
       "      <td>5</td>\n",
       "      <td>Bug's Life, A (1998)</td>\n",
       "      <td>Animation|Children's|Comedy</td>\n",
       "    </tr>\n",
       "    <tr>\n",
       "      <th>5</th>\n",
       "      <td>1</td>\n",
       "      <td>1197</td>\n",
       "      <td>3</td>\n",
       "      <td>Princess Bride, The (1987)</td>\n",
       "      <td>Action|Adventure|Comedy|Romance</td>\n",
       "    </tr>\n",
       "    <tr>\n",
       "      <th>6</th>\n",
       "      <td>1</td>\n",
       "      <td>1287</td>\n",
       "      <td>5</td>\n",
       "      <td>Ben-Hur (1959)</td>\n",
       "      <td>Action|Adventure|Drama</td>\n",
       "    </tr>\n",
       "    <tr>\n",
       "      <th>7</th>\n",
       "      <td>1</td>\n",
       "      <td>2804</td>\n",
       "      <td>5</td>\n",
       "      <td>Christmas Story, A (1983)</td>\n",
       "      <td>Comedy|Drama</td>\n",
       "    </tr>\n",
       "    <tr>\n",
       "      <th>8</th>\n",
       "      <td>1</td>\n",
       "      <td>594</td>\n",
       "      <td>4</td>\n",
       "      <td>Snow White and the Seven Dwarfs (1937)</td>\n",
       "      <td>Animation|Children's|Musical</td>\n",
       "    </tr>\n",
       "    <tr>\n",
       "      <th>9</th>\n",
       "      <td>1</td>\n",
       "      <td>919</td>\n",
       "      <td>4</td>\n",
       "      <td>Wizard of Oz, The (1939)</td>\n",
       "      <td>Adventure|Children's|Drama|Musical</td>\n",
       "    </tr>\n",
       "  </tbody>\n",
       "</table>\n",
       "</div>"
      ],
      "text/plain": [
       "   user_id  movie_id  counts                                   title  \\\n",
       "0        1      1193       5  One Flew Over the Cuckoo's Nest (1975)   \n",
       "1        1       661       3        James and the Giant Peach (1996)   \n",
       "2        1       914       3                     My Fair Lady (1964)   \n",
       "3        1      3408       4                  Erin Brockovich (2000)   \n",
       "4        1      2355       5                    Bug's Life, A (1998)   \n",
       "5        1      1197       3              Princess Bride, The (1987)   \n",
       "6        1      1287       5                          Ben-Hur (1959)   \n",
       "7        1      2804       5               Christmas Story, A (1983)   \n",
       "8        1       594       4  Snow White and the Seven Dwarfs (1937)   \n",
       "9        1       919       4                Wizard of Oz, The (1939)   \n",
       "\n",
       "                                genre  \n",
       "0                               Drama  \n",
       "1        Animation|Children's|Musical  \n",
       "2                     Musical|Romance  \n",
       "3                               Drama  \n",
       "4         Animation|Children's|Comedy  \n",
       "5     Action|Adventure|Comedy|Romance  \n",
       "6              Action|Adventure|Drama  \n",
       "7                        Comedy|Drama  \n",
       "8        Animation|Children's|Musical  \n",
       "9  Adventure|Children's|Drama|Musical  "
      ]
     },
     "execution_count": 37,
     "metadata": {},
     "output_type": "execute_result"
    }
   ],
   "source": [
    "data = pd.merge(ratings, movies, on='movie_id', how='left')\n",
    "# data = data[['user_id', 'movie_id', 'movie_id_new', 'counts', 'title', 'genre']] # 이렇게 맞춰야 데이터가 나온다 아니면 Nan으로 나옴\n",
    "data = data[['user_id', 'movie_id', 'counts', 'title', 'genre']]\n",
    "\n",
    "data.head(10)"
   ]
  },
  {
   "cell_type": "code",
   "execution_count": 38,
   "id": "ee9f0dcd",
   "metadata": {},
   "outputs": [
    {
     "data": {
      "text/html": [
       "<div>\n",
       "<style scoped>\n",
       "    .dataframe tbody tr th:only-of-type {\n",
       "        vertical-align: middle;\n",
       "    }\n",
       "\n",
       "    .dataframe tbody tr th {\n",
       "        vertical-align: top;\n",
       "    }\n",
       "\n",
       "    .dataframe thead th {\n",
       "        text-align: right;\n",
       "    }\n",
       "</style>\n",
       "<table border=\"1\" class=\"dataframe\">\n",
       "  <thead>\n",
       "    <tr style=\"text-align: right;\">\n",
       "      <th></th>\n",
       "      <th>user_id</th>\n",
       "      <th>movie_id</th>\n",
       "      <th>counts</th>\n",
       "      <th>title</th>\n",
       "      <th>genre</th>\n",
       "    </tr>\n",
       "  </thead>\n",
       "  <tbody>\n",
       "    <tr>\n",
       "      <th>40</th>\n",
       "      <td>1</td>\n",
       "      <td>1</td>\n",
       "      <td>5</td>\n",
       "      <td>Toy Story (1995)</td>\n",
       "      <td>Animation|Children's|Comedy</td>\n",
       "    </tr>\n",
       "    <tr>\n",
       "      <th>393</th>\n",
       "      <td>6</td>\n",
       "      <td>1</td>\n",
       "      <td>4</td>\n",
       "      <td>Toy Story (1995)</td>\n",
       "      <td>Animation|Children's|Comedy</td>\n",
       "    </tr>\n",
       "    <tr>\n",
       "      <th>503</th>\n",
       "      <td>8</td>\n",
       "      <td>1</td>\n",
       "      <td>4</td>\n",
       "      <td>Toy Story (1995)</td>\n",
       "      <td>Animation|Children's|Comedy</td>\n",
       "    </tr>\n",
       "    <tr>\n",
       "      <th>626</th>\n",
       "      <td>9</td>\n",
       "      <td>1</td>\n",
       "      <td>5</td>\n",
       "      <td>Toy Story (1995)</td>\n",
       "      <td>Animation|Children's|Comedy</td>\n",
       "    </tr>\n",
       "    <tr>\n",
       "      <th>743</th>\n",
       "      <td>10</td>\n",
       "      <td>1</td>\n",
       "      <td>5</td>\n",
       "      <td>Toy Story (1995)</td>\n",
       "      <td>Animation|Children's|Comedy</td>\n",
       "    </tr>\n",
       "    <tr>\n",
       "      <th>...</th>\n",
       "      <td>...</td>\n",
       "      <td>...</td>\n",
       "      <td>...</td>\n",
       "      <td>...</td>\n",
       "      <td>...</td>\n",
       "    </tr>\n",
       "    <tr>\n",
       "      <th>834064</th>\n",
       "      <td>6022</td>\n",
       "      <td>1</td>\n",
       "      <td>5</td>\n",
       "      <td>Toy Story (1995)</td>\n",
       "      <td>Animation|Children's|Comedy</td>\n",
       "    </tr>\n",
       "    <tr>\n",
       "      <th>834336</th>\n",
       "      <td>6025</td>\n",
       "      <td>1</td>\n",
       "      <td>5</td>\n",
       "      <td>Toy Story (1995)</td>\n",
       "      <td>Animation|Children's|Comedy</td>\n",
       "    </tr>\n",
       "    <tr>\n",
       "      <th>834859</th>\n",
       "      <td>6032</td>\n",
       "      <td>1</td>\n",
       "      <td>4</td>\n",
       "      <td>Toy Story (1995)</td>\n",
       "      <td>Animation|Children's|Comedy</td>\n",
       "    </tr>\n",
       "    <tr>\n",
       "      <th>835030</th>\n",
       "      <td>6035</td>\n",
       "      <td>1</td>\n",
       "      <td>4</td>\n",
       "      <td>Toy Story (1995)</td>\n",
       "      <td>Animation|Children's|Comedy</td>\n",
       "    </tr>\n",
       "    <tr>\n",
       "      <th>836204</th>\n",
       "      <td>6040</td>\n",
       "      <td>1</td>\n",
       "      <td>3</td>\n",
       "      <td>Toy Story (1995)</td>\n",
       "      <td>Animation|Children's|Comedy</td>\n",
       "    </tr>\n",
       "  </tbody>\n",
       "</table>\n",
       "<p>2000 rows × 5 columns</p>\n",
       "</div>"
      ],
      "text/plain": [
       "        user_id  movie_id  counts             title  \\\n",
       "40            1         1       5  Toy Story (1995)   \n",
       "393           6         1       4  Toy Story (1995)   \n",
       "503           8         1       4  Toy Story (1995)   \n",
       "626           9         1       5  Toy Story (1995)   \n",
       "743          10         1       5  Toy Story (1995)   \n",
       "...         ...       ...     ...               ...   \n",
       "834064     6022         1       5  Toy Story (1995)   \n",
       "834336     6025         1       5  Toy Story (1995)   \n",
       "834859     6032         1       4  Toy Story (1995)   \n",
       "835030     6035         1       4  Toy Story (1995)   \n",
       "836204     6040         1       3  Toy Story (1995)   \n",
       "\n",
       "                              genre  \n",
       "40      Animation|Children's|Comedy  \n",
       "393     Animation|Children's|Comedy  \n",
       "503     Animation|Children's|Comedy  \n",
       "626     Animation|Children's|Comedy  \n",
       "743     Animation|Children's|Comedy  \n",
       "...                             ...  \n",
       "834064  Animation|Children's|Comedy  \n",
       "834336  Animation|Children's|Comedy  \n",
       "834859  Animation|Children's|Comedy  \n",
       "835030  Animation|Children's|Comedy  \n",
       "836204  Animation|Children's|Comedy  \n",
       "\n",
       "[2000 rows x 5 columns]"
      ]
     },
     "execution_count": 38,
     "metadata": {},
     "output_type": "execute_result"
    }
   ],
   "source": [
    "data[data['movie_id'] == 1]"
   ]
  },
  {
   "cell_type": "markdown",
   "id": "d73f6b72",
   "metadata": {},
   "source": [
    "## 3) 내가 선호하는 영화를 5가지 골라서 ratings에 추가해 줍시다."
   ]
  },
  {
   "cell_type": "code",
   "execution_count": 39,
   "id": "2002c334",
   "metadata": {},
   "outputs": [
    {
     "data": {
      "text/html": [
       "<div>\n",
       "<style scoped>\n",
       "    .dataframe tbody tr th:only-of-type {\n",
       "        vertical-align: middle;\n",
       "    }\n",
       "\n",
       "    .dataframe tbody tr th {\n",
       "        vertical-align: top;\n",
       "    }\n",
       "\n",
       "    .dataframe thead th {\n",
       "        text-align: right;\n",
       "    }\n",
       "</style>\n",
       "<table border=\"1\" class=\"dataframe\">\n",
       "  <thead>\n",
       "    <tr style=\"text-align: right;\">\n",
       "      <th></th>\n",
       "      <th>movie_id</th>\n",
       "      <th>movie_id_new</th>\n",
       "      <th>title</th>\n",
       "      <th>genre</th>\n",
       "    </tr>\n",
       "  </thead>\n",
       "  <tbody>\n",
       "    <tr>\n",
       "      <th>0</th>\n",
       "      <td>1</td>\n",
       "      <td>1</td>\n",
       "      <td>Toy Story (1995)</td>\n",
       "      <td>Animation|Children's|Comedy</td>\n",
       "    </tr>\n",
       "  </tbody>\n",
       "</table>\n",
       "</div>"
      ],
      "text/plain": [
       "   movie_id  movie_id_new             title                        genre\n",
       "0         1             1  Toy Story (1995)  Animation|Children's|Comedy"
      ]
     },
     "execution_count": 39,
     "metadata": {},
     "output_type": "execute_result"
    }
   ],
   "source": [
    "movies[movies['movie_id'] == 1]"
   ]
  },
  {
   "cell_type": "code",
   "execution_count": 40,
   "id": "20e1a519",
   "metadata": {},
   "outputs": [
    {
     "data": {
      "text/html": [
       "<div>\n",
       "<style scoped>\n",
       "    .dataframe tbody tr th:only-of-type {\n",
       "        vertical-align: middle;\n",
       "    }\n",
       "\n",
       "    .dataframe tbody tr th {\n",
       "        vertical-align: top;\n",
       "    }\n",
       "\n",
       "    .dataframe thead th {\n",
       "        text-align: right;\n",
       "    }\n",
       "</style>\n",
       "<table border=\"1\" class=\"dataframe\">\n",
       "  <thead>\n",
       "    <tr style=\"text-align: right;\">\n",
       "      <th></th>\n",
       "      <th>movie_id</th>\n",
       "      <th>movie_id_new</th>\n",
       "      <th>title</th>\n",
       "      <th>genre</th>\n",
       "    </tr>\n",
       "  </thead>\n",
       "  <tbody>\n",
       "    <tr>\n",
       "      <th>1</th>\n",
       "      <td>2</td>\n",
       "      <td>2</td>\n",
       "      <td>Jumanji (1995)</td>\n",
       "      <td>Adventure|Children's|Fantasy</td>\n",
       "    </tr>\n",
       "  </tbody>\n",
       "</table>\n",
       "</div>"
      ],
      "text/plain": [
       "   movie_id  movie_id_new           title                         genre\n",
       "1         2             2  Jumanji (1995)  Adventure|Children's|Fantasy"
      ]
     },
     "execution_count": 40,
     "metadata": {},
     "output_type": "execute_result"
    }
   ],
   "source": [
    "movies[movies['movie_id'] == 2]"
   ]
  },
  {
   "cell_type": "code",
   "execution_count": 41,
   "id": "3947c00e",
   "metadata": {},
   "outputs": [
    {
     "data": {
      "text/html": [
       "<div>\n",
       "<style scoped>\n",
       "    .dataframe tbody tr th:only-of-type {\n",
       "        vertical-align: middle;\n",
       "    }\n",
       "\n",
       "    .dataframe tbody tr th {\n",
       "        vertical-align: top;\n",
       "    }\n",
       "\n",
       "    .dataframe thead th {\n",
       "        text-align: right;\n",
       "    }\n",
       "</style>\n",
       "<table border=\"1\" class=\"dataframe\">\n",
       "  <thead>\n",
       "    <tr style=\"text-align: right;\">\n",
       "      <th></th>\n",
       "      <th>movie_id</th>\n",
       "      <th>movie_id_new</th>\n",
       "      <th>title</th>\n",
       "      <th>genre</th>\n",
       "    </tr>\n",
       "  </thead>\n",
       "  <tbody>\n",
       "    <tr>\n",
       "      <th>352</th>\n",
       "      <td>356</td>\n",
       "      <td>353</td>\n",
       "      <td>Forrest Gump (1994)</td>\n",
       "      <td>Comedy|Romance|War</td>\n",
       "    </tr>\n",
       "  </tbody>\n",
       "</table>\n",
       "</div>"
      ],
      "text/plain": [
       "     movie_id  movie_id_new                title               genre\n",
       "352       356           353  Forrest Gump (1994)  Comedy|Romance|War"
      ]
     },
     "execution_count": 41,
     "metadata": {},
     "output_type": "execute_result"
    }
   ],
   "source": [
    "movies[movies['movie_id'] == 356]"
   ]
  },
  {
   "cell_type": "code",
   "execution_count": 42,
   "id": "8020c580",
   "metadata": {},
   "outputs": [
    {
     "data": {
      "text/html": [
       "<div>\n",
       "<style scoped>\n",
       "    .dataframe tbody tr th:only-of-type {\n",
       "        vertical-align: middle;\n",
       "    }\n",
       "\n",
       "    .dataframe tbody tr th {\n",
       "        vertical-align: top;\n",
       "    }\n",
       "\n",
       "    .dataframe thead th {\n",
       "        text-align: right;\n",
       "    }\n",
       "</style>\n",
       "<table border=\"1\" class=\"dataframe\">\n",
       "  <thead>\n",
       "    <tr style=\"text-align: right;\">\n",
       "      <th></th>\n",
       "      <th>movie_id</th>\n",
       "      <th>movie_id_new</th>\n",
       "      <th>title</th>\n",
       "      <th>genre</th>\n",
       "    </tr>\n",
       "  </thead>\n",
       "  <tbody>\n",
       "    <tr>\n",
       "      <th>476</th>\n",
       "      <td>480</td>\n",
       "      <td>477</td>\n",
       "      <td>Jurassic Park (1993)</td>\n",
       "      <td>Action|Adventure|Sci-Fi</td>\n",
       "    </tr>\n",
       "  </tbody>\n",
       "</table>\n",
       "</div>"
      ],
      "text/plain": [
       "     movie_id  movie_id_new                 title                    genre\n",
       "476       480           477  Jurassic Park (1993)  Action|Adventure|Sci-Fi"
      ]
     },
     "execution_count": 42,
     "metadata": {},
     "output_type": "execute_result"
    }
   ],
   "source": [
    "movies[movies['movie_id'] == 480]"
   ]
  },
  {
   "cell_type": "code",
   "execution_count": 43,
   "id": "6240a959",
   "metadata": {},
   "outputs": [
    {
     "data": {
      "text/html": [
       "<div>\n",
       "<style scoped>\n",
       "    .dataframe tbody tr th:only-of-type {\n",
       "        vertical-align: middle;\n",
       "    }\n",
       "\n",
       "    .dataframe tbody tr th {\n",
       "        vertical-align: top;\n",
       "    }\n",
       "\n",
       "    .dataframe thead th {\n",
       "        text-align: right;\n",
       "    }\n",
       "</style>\n",
       "<table border=\"1\" class=\"dataframe\">\n",
       "  <thead>\n",
       "    <tr style=\"text-align: right;\">\n",
       "      <th></th>\n",
       "      <th>movie_id</th>\n",
       "      <th>movie_id_new</th>\n",
       "      <th>title</th>\n",
       "      <th>genre</th>\n",
       "    </tr>\n",
       "  </thead>\n",
       "  <tbody>\n",
       "    <tr>\n",
       "      <th>2693</th>\n",
       "      <td>2762</td>\n",
       "      <td>2694</td>\n",
       "      <td>Sixth Sense, The (1999)</td>\n",
       "      <td>Thriller</td>\n",
       "    </tr>\n",
       "  </tbody>\n",
       "</table>\n",
       "</div>"
      ],
      "text/plain": [
       "      movie_id  movie_id_new                    title     genre\n",
       "2693      2762          2694  Sixth Sense, The (1999)  Thriller"
      ]
     },
     "execution_count": 43,
     "metadata": {},
     "output_type": "execute_result"
    }
   ],
   "source": [
    "movies[movies['movie_id'] == 2762]"
   ]
  },
  {
   "cell_type": "code",
   "execution_count": 44,
   "id": "60993159",
   "metadata": {
    "scrolled": true
   },
   "outputs": [
    {
     "data": {
      "text/html": [
       "<div>\n",
       "<style scoped>\n",
       "    .dataframe tbody tr th:only-of-type {\n",
       "        vertical-align: middle;\n",
       "    }\n",
       "\n",
       "    .dataframe tbody tr th {\n",
       "        vertical-align: top;\n",
       "    }\n",
       "\n",
       "    .dataframe thead th {\n",
       "        text-align: right;\n",
       "    }\n",
       "</style>\n",
       "<table border=\"1\" class=\"dataframe\">\n",
       "  <thead>\n",
       "    <tr style=\"text-align: right;\">\n",
       "      <th></th>\n",
       "      <th>user_id</th>\n",
       "      <th>movie_id</th>\n",
       "      <th>counts</th>\n",
       "      <th>title</th>\n",
       "      <th>genre</th>\n",
       "    </tr>\n",
       "  </thead>\n",
       "  <tbody>\n",
       "    <tr>\n",
       "      <th>836473</th>\n",
       "      <td>6040</td>\n",
       "      <td>1090</td>\n",
       "      <td>3</td>\n",
       "      <td>Platoon (1986)</td>\n",
       "      <td>Drama|War</td>\n",
       "    </tr>\n",
       "    <tr>\n",
       "      <th>836474</th>\n",
       "      <td>6040</td>\n",
       "      <td>1094</td>\n",
       "      <td>5</td>\n",
       "      <td>Crying Game, The (1992)</td>\n",
       "      <td>Drama|Romance|War</td>\n",
       "    </tr>\n",
       "    <tr>\n",
       "      <th>836475</th>\n",
       "      <td>6040</td>\n",
       "      <td>562</td>\n",
       "      <td>5</td>\n",
       "      <td>Welcome to the Dollhouse (1995)</td>\n",
       "      <td>Comedy|Drama</td>\n",
       "    </tr>\n",
       "    <tr>\n",
       "      <th>836476</th>\n",
       "      <td>6040</td>\n",
       "      <td>1096</td>\n",
       "      <td>4</td>\n",
       "      <td>Sophie's Choice (1982)</td>\n",
       "      <td>Drama</td>\n",
       "    </tr>\n",
       "    <tr>\n",
       "      <th>836477</th>\n",
       "      <td>6040</td>\n",
       "      <td>1097</td>\n",
       "      <td>4</td>\n",
       "      <td>E.T. the Extra-Terrestrial (1982)</td>\n",
       "      <td>Children's|Drama|Fantasy|Sci-Fi</td>\n",
       "    </tr>\n",
       "    <tr>\n",
       "      <th>0</th>\n",
       "      <td>ikhan</td>\n",
       "      <td>1</td>\n",
       "      <td>5</td>\n",
       "      <td>Toy Story (1995)</td>\n",
       "      <td>Animation|Children's|Comedy</td>\n",
       "    </tr>\n",
       "    <tr>\n",
       "      <th>1</th>\n",
       "      <td>ikhan</td>\n",
       "      <td>2</td>\n",
       "      <td>5</td>\n",
       "      <td>Jumanji (1995)</td>\n",
       "      <td>Adventure|Children's|Fantasy</td>\n",
       "    </tr>\n",
       "    <tr>\n",
       "      <th>2</th>\n",
       "      <td>ikhan</td>\n",
       "      <td>356</td>\n",
       "      <td>5</td>\n",
       "      <td>Forrest Gump (1994)</td>\n",
       "      <td>Comedy|Romance|War</td>\n",
       "    </tr>\n",
       "    <tr>\n",
       "      <th>3</th>\n",
       "      <td>ikhan</td>\n",
       "      <td>480</td>\n",
       "      <td>5</td>\n",
       "      <td>Jurassic Park (1993)</td>\n",
       "      <td>Action|Adventure|Sci-Fi</td>\n",
       "    </tr>\n",
       "    <tr>\n",
       "      <th>4</th>\n",
       "      <td>ikhan</td>\n",
       "      <td>2762</td>\n",
       "      <td>5</td>\n",
       "      <td>Sixth Sense, The (1999)</td>\n",
       "      <td>Thriller</td>\n",
       "    </tr>\n",
       "  </tbody>\n",
       "</table>\n",
       "</div>"
      ],
      "text/plain": [
       "       user_id movie_id  counts                              title  \\\n",
       "836473    6040     1090       3                     Platoon (1986)   \n",
       "836474    6040     1094       5            Crying Game, The (1992)   \n",
       "836475    6040      562       5    Welcome to the Dollhouse (1995)   \n",
       "836476    6040     1096       4             Sophie's Choice (1982)   \n",
       "836477    6040     1097       4  E.T. the Extra-Terrestrial (1982)   \n",
       "0        ikhan        1       5                   Toy Story (1995)   \n",
       "1        ikhan        2       5                     Jumanji (1995)   \n",
       "2        ikhan      356       5                Forrest Gump (1994)   \n",
       "3        ikhan      480       5               Jurassic Park (1993)   \n",
       "4        ikhan     2762       5            Sixth Sense, The (1999)   \n",
       "\n",
       "                                  genre  \n",
       "836473                        Drama|War  \n",
       "836474                Drama|Romance|War  \n",
       "836475                     Comedy|Drama  \n",
       "836476                            Drama  \n",
       "836477  Children's|Drama|Fantasy|Sci-Fi  \n",
       "0           Animation|Children's|Comedy  \n",
       "1          Adventure|Children's|Fantasy  \n",
       "2                    Comedy|Romance|War  \n",
       "3               Action|Adventure|Sci-Fi  \n",
       "4                              Thriller  "
      ]
     },
     "execution_count": 44,
     "metadata": {},
     "output_type": "execute_result"
    }
   ],
   "source": [
    "# 본인이 좋아하시는 아티스트 데이터로 바꿔서 추가하셔도 됩니다! 단, 이름은 꼭 데이터셋에 있는 것과 동일하게 맞춰주세요. \n",
    "my_favorite = [\"1\" , \"2\" ,\"356\" ,\"480\" ,\"2762\"]\n",
    "my_title = [\"Toy Story (1995)\", \"Jumanji (1995)\", \"Forrest Gump (1994)\", \"Jurassic Park (1993)\", \"Sixth Sense, The (1999)\" ]\n",
    "my_genre = [\"Animation|Children's|Comedy\", \"Adventure|Children's|Fantasy\", \"Comedy|Romance|War\", \"Action|Adventure|Sci-Fi\", \"Thriller\"]\n",
    "\n",
    "# 'ikhan'이라는 user_id가 위 영화의 폄점을 5점씩 줬다고 가정하겠습니다.\n",
    "my_playlist = pd.DataFrame({'user_id': ['ikhan']*5, 'movie_id': my_favorite, 'counts':[5]*5, 'title': my_title, 'genre': my_genre})\n",
    "\n",
    "if not data.isin({'user_id':['ikhan']})['user_id'].any():  # user_id에 'ikhan'이라는 데이터가 없다면\n",
    "    data = data.append(my_playlist)                           # 위에 임의로 만든 my_favorite 데이터를 추가해 줍니다. \n",
    "\n",
    "data.tail(10)       # 잘 추가되었는지 확인해 봅시다."
   ]
  },
  {
   "cell_type": "code",
   "execution_count": 45,
   "id": "90495ae2",
   "metadata": {},
   "outputs": [],
   "source": [
    "# 고유한 유저, 아티스트를 찾아내는 코드\n",
    "user_unique = data['user_id'].unique()\n",
    "title_unique = data['title'].unique()\n",
    "\n",
    "# 유저, 아티스트 indexing 하는 코드 idx는 index의 약자입니다.\n",
    "user_to_idx = {v:k for k,v in enumerate(user_unique)}\n",
    "title_to_idx = {v:k for k,v in enumerate(title_unique)}"
   ]
  },
  {
   "cell_type": "code",
   "execution_count": 46,
   "id": "ba443b15",
   "metadata": {},
   "outputs": [
    {
     "name": "stdout",
     "output_type": "stream",
     "text": [
      "6039\n",
      "513\n"
     ]
    }
   ],
   "source": [
    "# 인덱싱이 잘 되었는지 확인해 봅니다. \n",
    "print(user_to_idx['ikhan'])\n",
    "print(title_to_idx['Jumanji (1995)'])"
   ]
  },
  {
   "cell_type": "code",
   "execution_count": 47,
   "id": "294a96f1",
   "metadata": {},
   "outputs": [
    {
     "name": "stdout",
     "output_type": "stream",
     "text": [
      "user_id column indexing OK!!\n",
      "titlet column indexing OK!!\n"
     ]
    },
    {
     "data": {
      "text/html": [
       "<div>\n",
       "<style scoped>\n",
       "    .dataframe tbody tr th:only-of-type {\n",
       "        vertical-align: middle;\n",
       "    }\n",
       "\n",
       "    .dataframe tbody tr th {\n",
       "        vertical-align: top;\n",
       "    }\n",
       "\n",
       "    .dataframe thead th {\n",
       "        text-align: right;\n",
       "    }\n",
       "</style>\n",
       "<table border=\"1\" class=\"dataframe\">\n",
       "  <thead>\n",
       "    <tr style=\"text-align: right;\">\n",
       "      <th></th>\n",
       "      <th>user_id</th>\n",
       "      <th>movie_id</th>\n",
       "      <th>counts</th>\n",
       "      <th>title</th>\n",
       "      <th>genre</th>\n",
       "    </tr>\n",
       "  </thead>\n",
       "  <tbody>\n",
       "    <tr>\n",
       "      <th>0</th>\n",
       "      <td>0</td>\n",
       "      <td>1193</td>\n",
       "      <td>5</td>\n",
       "      <td>0</td>\n",
       "      <td>Drama</td>\n",
       "    </tr>\n",
       "    <tr>\n",
       "      <th>1</th>\n",
       "      <td>0</td>\n",
       "      <td>661</td>\n",
       "      <td>3</td>\n",
       "      <td>1</td>\n",
       "      <td>Animation|Children's|Musical</td>\n",
       "    </tr>\n",
       "    <tr>\n",
       "      <th>2</th>\n",
       "      <td>0</td>\n",
       "      <td>914</td>\n",
       "      <td>3</td>\n",
       "      <td>2</td>\n",
       "      <td>Musical|Romance</td>\n",
       "    </tr>\n",
       "    <tr>\n",
       "      <th>3</th>\n",
       "      <td>0</td>\n",
       "      <td>3408</td>\n",
       "      <td>4</td>\n",
       "      <td>3</td>\n",
       "      <td>Drama</td>\n",
       "    </tr>\n",
       "    <tr>\n",
       "      <th>4</th>\n",
       "      <td>0</td>\n",
       "      <td>2355</td>\n",
       "      <td>5</td>\n",
       "      <td>4</td>\n",
       "      <td>Animation|Children's|Comedy</td>\n",
       "    </tr>\n",
       "    <tr>\n",
       "      <th>...</th>\n",
       "      <td>...</td>\n",
       "      <td>...</td>\n",
       "      <td>...</td>\n",
       "      <td>...</td>\n",
       "      <td>...</td>\n",
       "    </tr>\n",
       "    <tr>\n",
       "      <th>0</th>\n",
       "      <td>6039</td>\n",
       "      <td>1</td>\n",
       "      <td>5</td>\n",
       "      <td>40</td>\n",
       "      <td>Animation|Children's|Comedy</td>\n",
       "    </tr>\n",
       "    <tr>\n",
       "      <th>1</th>\n",
       "      <td>6039</td>\n",
       "      <td>2</td>\n",
       "      <td>5</td>\n",
       "      <td>513</td>\n",
       "      <td>Adventure|Children's|Fantasy</td>\n",
       "    </tr>\n",
       "    <tr>\n",
       "      <th>2</th>\n",
       "      <td>6039</td>\n",
       "      <td>356</td>\n",
       "      <td>5</td>\n",
       "      <td>160</td>\n",
       "      <td>Comedy|Romance|War</td>\n",
       "    </tr>\n",
       "    <tr>\n",
       "      <th>3</th>\n",
       "      <td>6039</td>\n",
       "      <td>480</td>\n",
       "      <td>5</td>\n",
       "      <td>107</td>\n",
       "      <td>Action|Adventure|Sci-Fi</td>\n",
       "    </tr>\n",
       "    <tr>\n",
       "      <th>4</th>\n",
       "      <td>6039</td>\n",
       "      <td>2762</td>\n",
       "      <td>5</td>\n",
       "      <td>38</td>\n",
       "      <td>Thriller</td>\n",
       "    </tr>\n",
       "  </tbody>\n",
       "</table>\n",
       "<p>836483 rows × 5 columns</p>\n",
       "</div>"
      ],
      "text/plain": [
       "    user_id movie_id  counts  title                         genre\n",
       "0         0     1193       5      0                         Drama\n",
       "1         0      661       3      1  Animation|Children's|Musical\n",
       "2         0      914       3      2               Musical|Romance\n",
       "3         0     3408       4      3                         Drama\n",
       "4         0     2355       5      4   Animation|Children's|Comedy\n",
       "..      ...      ...     ...    ...                           ...\n",
       "0      6039        1       5     40   Animation|Children's|Comedy\n",
       "1      6039        2       5    513  Adventure|Children's|Fantasy\n",
       "2      6039      356       5    160            Comedy|Romance|War\n",
       "3      6039      480       5    107       Action|Adventure|Sci-Fi\n",
       "4      6039     2762       5     38                      Thriller\n",
       "\n",
       "[836483 rows x 5 columns]"
      ]
     },
     "execution_count": 47,
     "metadata": {},
     "output_type": "execute_result"
    }
   ],
   "source": [
    "# indexing을 통해 데이터 컬럼 내 값을 바꾸는 코드\n",
    "# dictionary 자료형의 get 함수는 https://wikidocs.net/16 을 참고하세요.\n",
    "\n",
    "# user_to_idx.get을 통해 user_id 컬럼의 모든 값을 인덱싱한 Series를 구해 봅시다. \n",
    "# 혹시 정상적으로 인덱싱되지 않은 row가 있다면 인덱스가 NaN이 될 테니 dropna()로 제거합니다. \n",
    "temp_user_data = data['user_id'].map(user_to_idx.get).dropna()\n",
    "if len(temp_user_data) == len(data):   # 모든 row가 정상적으로 인덱싱되었다면\n",
    "    print('user_id column indexing OK!!')\n",
    "    data['user_id'] = temp_user_data   # data['user_id']을 인덱싱된 Series로 교체해 줍니다. \n",
    "else:\n",
    "    print('user_id column indexing Fail!!')\n",
    "\n",
    "# title_to_idx을 통해 title 컬럼도 동일한 방식으로 인덱싱해 줍니다. \n",
    "temp_title_data = data['title'].map(title_to_idx.get).dropna()\n",
    "if len(temp_title_data) == len(data):\n",
    "    print('titlet column indexing OK!!')\n",
    "    data['title'] = temp_title_data\n",
    "else:\n",
    "    print('title column indexing Fail!!')\n",
    "\n",
    "data"
   ]
  },
  {
   "cell_type": "markdown",
   "id": "8e6f59b9",
   "metadata": {},
   "source": [
    "## 4) CSR matrix를 직접 만들어 봅시다."
   ]
  },
  {
   "cell_type": "code",
   "execution_count": 49,
   "id": "c82721b0",
   "metadata": {},
   "outputs": [
    {
     "data": {
      "text/plain": [
       "<6040x3628 sparse matrix of type '<class 'numpy.int64'>'\n",
       "\twith 836483 stored elements in Compressed Sparse Row format>"
      ]
     },
     "execution_count": 49,
     "metadata": {},
     "output_type": "execute_result"
    }
   ],
   "source": [
    "from scipy.sparse import csr_matrix\n",
    "\n",
    "num_user = data['user_id'].nunique()\n",
    "num_movie = data['title'].nunique()\n",
    "\n",
    "csr_data = csr_matrix((data['counts'], (data.user_id, data.title)), shape= (num_user, num_movie))\n",
    "csr_data"
   ]
  },
  {
   "cell_type": "markdown",
   "id": "4e013e3c",
   "metadata": {},
   "source": [
    "## 5) als_model = AlternatingLeastSquares 모델을 직접 구성하여 훈련시켜 봅시다."
   ]
  },
  {
   "cell_type": "code",
   "execution_count": 50,
   "id": "5e9bbe8b",
   "metadata": {},
   "outputs": [],
   "source": [
    "from implicit.als import AlternatingLeastSquares\n",
    "import os\n",
    "import numpy as np\n",
    "\n",
    "# implicit 라이브러리에서 권장하고 있는 부분입니다. 학습 내용과는 무관합니다.\n",
    "os.environ['OPENBLAS_NUM_THREADS']='1'\n",
    "os.environ['KMP_DUPLICATE_LIB_OK']='True'\n",
    "os.environ['MKL_NUM_THREADS']='1'"
   ]
  },
  {
   "cell_type": "code",
   "execution_count": 51,
   "id": "e09746e9",
   "metadata": {},
   "outputs": [],
   "source": [
    "# Implicit AlternatingLeastSquares 모델의 선언\n",
    "als_model = AlternatingLeastSquares(factors=100, regularization=0.01, use_gpu=False, \n",
    "                                    iterations=15, dtype = np.float32)"
   ]
  },
  {
   "cell_type": "code",
   "execution_count": 52,
   "id": "6532caad",
   "metadata": {},
   "outputs": [
    {
     "data": {
      "text/plain": [
       "<3628x6040 sparse matrix of type '<class 'numpy.int64'>'\n",
       "\twith 836483 stored elements in Compressed Sparse Column format>"
      ]
     },
     "execution_count": 52,
     "metadata": {},
     "output_type": "execute_result"
    }
   ],
   "source": [
    "# als 모델은 input으로 (item X user 꼴의 matrix를 받기 때문에 Transpose해줍니다.)\n",
    "csr_data_transpose = csr_data.T\n",
    "csr_data_transpose"
   ]
  },
  {
   "cell_type": "code",
   "execution_count": 53,
   "id": "908d47c1",
   "metadata": {},
   "outputs": [
    {
     "data": {
      "application/vnd.jupyter.widget-view+json": {
       "model_id": "39e26f8c829247d9802abb40902f4e7d",
       "version_major": 2,
       "version_minor": 0
      },
      "text/plain": [
       "  0%|          | 0/15 [00:00<?, ?it/s]"
      ]
     },
     "metadata": {},
     "output_type": "display_data"
    }
   ],
   "source": [
    "# 모델 훈련\n",
    "als_model.fit(csr_data_transpose)"
   ]
  },
  {
   "cell_type": "markdown",
   "id": "d39f4108",
   "metadata": {},
   "source": [
    "## 6) 내가 선호하는 5가지 영화 중 하나와 그 외의 영화 하나를 골라 훈련된 모델이 예측한 나의 선호도를 파악해 보세요."
   ]
  },
  {
   "cell_type": "markdown",
   "id": "e31fcf47",
   "metadata": {},
   "source": [
    "### 선호하는 5가지 영화 중 하나"
   ]
  },
  {
   "cell_type": "code",
   "execution_count": 59,
   "id": "529c454a",
   "metadata": {},
   "outputs": [],
   "source": [
    "ikhan, jumanji = user_to_idx['ikhan'], title_to_idx['Jumanji (1995)']\n",
    "ikhan_vector, jumanji_vector = als_model.user_factors[ikhan], als_model.item_factors[jumanji]"
   ]
  },
  {
   "cell_type": "code",
   "execution_count": 60,
   "id": "7ab9df1c",
   "metadata": {},
   "outputs": [
    {
     "data": {
      "text/plain": [
       "array([ 1.0537133 , -0.35998052, -0.8011585 ,  0.3951567 , -0.30624768,\n",
       "        1.169707  , -0.11644905, -0.25276878,  0.73340803,  0.08640683,\n",
       "       -0.28619584, -0.11455519,  0.30001935, -0.12252838, -0.42721295,\n",
       "        0.10871723,  0.15289101, -0.3182896 ,  0.64717835,  0.2512372 ,\n",
       "       -0.25177667, -0.6407526 ,  1.074436  ,  0.42192122,  0.1777401 ,\n",
       "        0.08900782,  0.22046478, -0.3784971 , -0.775128  , -0.4506531 ,\n",
       "       -0.8202472 ,  0.0695649 ,  0.7321117 ,  0.44583166, -0.4276113 ,\n",
       "       -0.07786975, -0.5585579 , -0.04429226,  1.1305456 ,  0.564292  ,\n",
       "        0.7526316 ,  0.15527482,  0.5601096 ,  0.07380766, -0.4951604 ,\n",
       "        0.25021964, -1.0251001 ,  0.7020633 ,  0.14638521, -0.12076724,\n",
       "        0.24854553, -0.7116092 , -0.00773837, -0.07331428, -0.28632307,\n",
       "        0.1863223 ,  0.37204713, -1.2247711 , -0.67852694, -0.3208242 ,\n",
       "       -0.62302905,  0.36237755, -0.6365195 , -0.36816475, -0.48620993,\n",
       "        0.49402636, -0.9316712 ,  0.23538637,  0.19601299,  0.86570334,\n",
       "       -0.1099303 ,  0.4926509 , -0.34799042, -0.40449956,  0.7792472 ,\n",
       "       -1.0449963 ,  0.50784737,  0.10950114,  0.32336786,  0.71529114,\n",
       "       -0.6250889 ,  0.39940917, -0.12082341, -0.26128465,  0.16957854,\n",
       "       -0.8729915 ,  0.72841567,  0.18462783,  0.83424705,  0.2760492 ,\n",
       "        0.5653482 ,  0.4411533 , -0.48982635,  0.3375052 , -0.39806536,\n",
       "        0.18148777, -0.7675079 , -0.11843109,  0.5212058 , -0.11318987],\n",
       "      dtype=float32)"
      ]
     },
     "execution_count": 60,
     "metadata": {},
     "output_type": "execute_result"
    }
   ],
   "source": [
    "ikhan_vector"
   ]
  },
  {
   "cell_type": "code",
   "execution_count": 62,
   "id": "e7b73973",
   "metadata": {},
   "outputs": [
    {
     "data": {
      "text/plain": [
       "array([ 2.08583623e-02,  4.21512313e-03, -5.46714012e-03,  2.22948398e-02,\n",
       "        1.81884297e-05,  4.05504443e-02,  3.03869601e-03,  2.33607609e-02,\n",
       "        2.03484148e-02,  6.45654509e-03,  7.22477818e-03,  2.60840580e-02,\n",
       "        3.15237269e-02, -1.76334772e-02, -3.36319068e-03, -8.76403181e-04,\n",
       "        5.97143022e-04,  4.80415160e-03,  6.60090055e-03, -2.12040660e-03,\n",
       "        2.24950798e-02,  5.42800175e-03,  3.39126177e-02,  3.03810071e-02,\n",
       "        3.37459594e-02,  3.23087838e-03, -8.66791047e-03, -2.15635332e-03,\n",
       "       -1.18161486e-02, -1.26261879e-02, -5.31062391e-03, -2.88250651e-02,\n",
       "        5.14358655e-03,  3.03121842e-03, -1.14755547e-02,  8.59544729e-04,\n",
       "        4.54313448e-03,  2.42721085e-02,  1.12007251e-02,  1.59843657e-02,\n",
       "       -9.64311417e-03,  2.33076848e-02,  1.86708458e-02, -9.33913235e-03,\n",
       "        2.05354975e-03,  1.28417760e-02, -1.45287458e-02,  4.95533273e-03,\n",
       "        2.95625231e-03,  9.03096888e-03,  1.80400442e-02,  1.38361705e-03,\n",
       "       -1.42633412e-02,  1.01787755e-02,  3.03455861e-03, -5.07971225e-03,\n",
       "        3.05304918e-02,  2.33969442e-03,  1.03142774e-02,  3.58036486e-03,\n",
       "        6.43474096e-03,  2.25705700e-03,  2.25748643e-02,  2.23590992e-02,\n",
       "        1.82622820e-02,  3.30386218e-03,  7.27749942e-03, -4.12620418e-03,\n",
       "       -6.12115068e-03,  3.39987986e-02, -3.81659903e-03,  1.88930184e-02,\n",
       "        9.84224491e-04,  9.03987046e-03,  7.15246703e-03,  1.34809148e-02,\n",
       "        1.16460230e-02, -1.03131495e-02, -2.65161478e-04,  1.83517374e-02,\n",
       "       -2.43583019e-03,  5.54073090e-03, -1.66273414e-04,  1.57882948e-03,\n",
       "        3.51899602e-02,  4.39238129e-03,  1.63944177e-02,  2.03583436e-03,\n",
       "        1.43856620e-02, -7.19326967e-03, -1.80342868e-02,  5.50862309e-03,\n",
       "       -9.92448907e-03,  5.49490284e-03,  4.58600046e-03, -2.81774963e-04,\n",
       "       -1.84989125e-02, -1.32239666e-02,  1.82274505e-02, -1.02237267e-02],\n",
       "      dtype=float32)"
      ]
     },
     "execution_count": 62,
     "metadata": {},
     "output_type": "execute_result"
    }
   ],
   "source": [
    "jumanji_vector"
   ]
  },
  {
   "cell_type": "code",
   "execution_count": 63,
   "id": "6b40ca61",
   "metadata": {},
   "outputs": [
    {
     "name": "stdout",
     "output_type": "stream",
     "text": [
      "0.27225986\n"
     ]
    }
   ],
   "source": [
    "# ikhan와 jumanji을 내적하는 코드\n",
    "np.set_printoptions(formatter={'float_kind': lambda x: \"{0:0.3f}\".format(x)})\n",
    "\n",
    "print(np.dot(ikhan_vector, jumanji_vector))"
   ]
  },
  {
   "cell_type": "markdown",
   "id": "b89b32b5",
   "metadata": {},
   "source": [
    "### 그 외의 영화"
   ]
  },
  {
   "cell_type": "code",
   "execution_count": 64,
   "id": "fe0c7be0",
   "metadata": {},
   "outputs": [
    {
     "name": "stdout",
     "output_type": "stream",
     "text": [
      "6\n"
     ]
    }
   ],
   "source": [
    "print(title_to_idx['Ben-Hur (1959)'])"
   ]
  },
  {
   "cell_type": "code",
   "execution_count": 66,
   "id": "5a15c0c9",
   "metadata": {},
   "outputs": [],
   "source": [
    "ikhan, benhur = user_to_idx['ikhan'], title_to_idx['Ben-Hur (1959)']\n",
    "ikhan_vector, benhur_vector = als_model.user_factors[ikhan], als_model.item_factors[benhur]"
   ]
  },
  {
   "cell_type": "code",
   "execution_count": 67,
   "id": "0c1be002",
   "metadata": {},
   "outputs": [
    {
     "data": {
      "text/plain": [
       "array([1.054, -0.360, -0.801, 0.395, -0.306, 1.170, -0.116, -0.253, 0.733,\n",
       "       0.086, -0.286, -0.115, 0.300, -0.123, -0.427, 0.109, 0.153, -0.318,\n",
       "       0.647, 0.251, -0.252, -0.641, 1.074, 0.422, 0.178, 0.089, 0.220,\n",
       "       -0.378, -0.775, -0.451, -0.820, 0.070, 0.732, 0.446, -0.428,\n",
       "       -0.078, -0.559, -0.044, 1.131, 0.564, 0.753, 0.155, 0.560, 0.074,\n",
       "       -0.495, 0.250, -1.025, 0.702, 0.146, -0.121, 0.249, -0.712, -0.008,\n",
       "       -0.073, -0.286, 0.186, 0.372, -1.225, -0.679, -0.321, -0.623,\n",
       "       0.362, -0.637, -0.368, -0.486, 0.494, -0.932, 0.235, 0.196, 0.866,\n",
       "       -0.110, 0.493, -0.348, -0.404, 0.779, -1.045, 0.508, 0.110, 0.323,\n",
       "       0.715, -0.625, 0.399, -0.121, -0.261, 0.170, -0.873, 0.728, 0.185,\n",
       "       0.834, 0.276, 0.565, 0.441, -0.490, 0.338, -0.398, 0.181, -0.768,\n",
       "       -0.118, 0.521, -0.113], dtype=float32)"
      ]
     },
     "execution_count": 67,
     "metadata": {},
     "output_type": "execute_result"
    }
   ],
   "source": [
    "ikhan_vector"
   ]
  },
  {
   "cell_type": "code",
   "execution_count": 68,
   "id": "8e6b3a74",
   "metadata": {},
   "outputs": [
    {
     "data": {
      "text/plain": [
       "array([-0.004, 0.041, -0.005, 0.002, -0.029, 0.019, 0.009, 0.007, 0.007,\n",
       "       -0.003, -0.019, 0.004, -0.007, 0.024, -0.012, 0.023, 0.009, -0.007,\n",
       "       0.009, -0.010, 0.015, -0.015, 0.022, 0.023, -0.019, -0.003, 0.010,\n",
       "       -0.012, 0.010, 0.032, -0.033, -0.011, 0.028, 0.001, 0.025, -0.002,\n",
       "       0.017, -0.001, 0.013, 0.003, -0.016, 0.021, -0.014, 0.019, 0.027,\n",
       "       -0.000, 0.013, 0.005, -0.004, 0.009, 0.006, 0.022, 0.019, -0.012,\n",
       "       0.011, 0.022, 0.007, 0.010, 0.015, 0.037, 0.000, 0.023, -0.012,\n",
       "       0.018, 0.003, 0.013, 0.028, 0.031, 0.006, -0.009, -0.022, 0.025,\n",
       "       -0.002, 0.010, 0.004, 0.015, -0.011, -0.004, 0.021, -0.009, -0.003,\n",
       "       0.026, 0.003, -0.001, 0.015, 0.028, 0.015, -0.005, 0.021, -0.010,\n",
       "       0.014, -0.023, 0.002, 0.015, 0.013, 0.002, 0.033, -0.003, 0.007,\n",
       "       0.002], dtype=float32)"
      ]
     },
     "execution_count": 68,
     "metadata": {},
     "output_type": "execute_result"
    }
   ],
   "source": [
    "benhur_vector"
   ]
  },
  {
   "cell_type": "code",
   "execution_count": 69,
   "id": "9cb152c3",
   "metadata": {},
   "outputs": [
    {
     "name": "stdout",
     "output_type": "stream",
     "text": [
      "-0.014070309\n"
     ]
    }
   ],
   "source": [
    "print(np.dot(ikhan_vector, benhur_vector))"
   ]
  },
  {
   "cell_type": "markdown",
   "id": "36d92f5f",
   "metadata": {},
   "source": [
    "## 7) 내가 좋아하는 영화와 비슷한 영화를 추천받아 봅시다."
   ]
  },
  {
   "cell_type": "code",
   "execution_count": 70,
   "id": "3e6c9513",
   "metadata": {},
   "outputs": [
    {
     "data": {
      "text/plain": [
       "[(513, 1.0000001),\n",
       " (1130, 0.79469424),\n",
       " (596, 0.7836685),\n",
       " (173, 0.76271784),\n",
       " (545, 0.6786715),\n",
       " (828, 0.6616487),\n",
       " (1733, 0.64524144),\n",
       " (1985, 0.6438804),\n",
       " (1982, 0.6226522),\n",
       " (1736, 0.60915893),\n",
       " (561, 0.5990693),\n",
       " (458, 0.5743479),\n",
       " (576, 0.5726645),\n",
       " (611, 0.5656132),\n",
       " (942, 0.5422552)]"
      ]
     },
     "execution_count": 70,
     "metadata": {},
     "output_type": "execute_result"
    }
   ],
   "source": [
    "favorite_movie = 'Jumanji (1995)'\n",
    "movie_id =  title_to_idx[favorite_movie]\n",
    "similar_movie = als_model.similar_items(movie_id, N=15)\n",
    "similar_movie"
   ]
  },
  {
   "cell_type": "code",
   "execution_count": 71,
   "id": "a2e22b31",
   "metadata": {},
   "outputs": [
    {
     "data": {
      "text/plain": [
       "['Jumanji (1995)',\n",
       " 'Indian in the Cupboard, The (1995)',\n",
       " 'Hook (1991)',\n",
       " 'Dragonheart (1996)',\n",
       " 'Santa Clause, The (1994)',\n",
       " 'Flubber (1997)',\n",
       " 'Borrowers, The (1997)',\n",
       " 'NeverEnding Story II: The Next Chapter, The (1990)',\n",
       " 'Space Jam (1996)',\n",
       " 'Small Soldiers (1998)',\n",
       " 'NeverEnding Story, The (1984)',\n",
       " 'Mask, The (1994)',\n",
       " 'Escape to Witch Mountain (1975)',\n",
       " 'Labyrinth (1986)',\n",
       " 'Legend (1985)']"
      ]
     },
     "execution_count": 71,
     "metadata": {},
     "output_type": "execute_result"
    }
   ],
   "source": [
    "#title_to_idx 를 뒤집어, index로부터 title 이름을 얻는 dict를 생성합니다. \n",
    "idx_to_title = {v:k for k,v in title_to_idx.items()}\n",
    "[idx_to_title[i[0]] for i in similar_movie]"
   ]
  },
  {
   "cell_type": "code",
   "execution_count": 72,
   "id": "cc18e7ab",
   "metadata": {},
   "outputs": [],
   "source": [
    "def get_similar_movie(movie_name: str):\n",
    "    movie_id = title_to_idx[movie_name]\n",
    "    similar_movie = als_model.similar_items(movie_id)\n",
    "    similar_movie = [idx_to_title[i[0]] for i in similar_movie]\n",
    "    return similar_movie"
   ]
  },
  {
   "cell_type": "code",
   "execution_count": 73,
   "id": "993f713b",
   "metadata": {},
   "outputs": [
    {
     "data": {
      "text/plain": [
       "['Forrest Gump (1994)',\n",
       " 'Groundhog Day (1993)',\n",
       " 'Pretty Woman (1990)',\n",
       " 'Sleepless in Seattle (1993)',\n",
       " 'Ghost (1990)',\n",
       " 'As Good As It Gets (1997)',\n",
       " 'Star Wars: Episode VI - Return of the Jedi (1983)',\n",
       " 'Pleasantville (1998)',\n",
       " 'Four Weddings and a Funeral (1994)',\n",
       " 'Clueless (1995)']"
      ]
     },
     "execution_count": 73,
     "metadata": {},
     "output_type": "execute_result"
    }
   ],
   "source": [
    "get_similar_movie('Forrest Gump (1994)')"
   ]
  },
  {
   "cell_type": "code",
   "execution_count": 74,
   "id": "4edebad8",
   "metadata": {},
   "outputs": [
    {
     "data": {
      "text/plain": [
       "['Sixth Sense, The (1999)',\n",
       " 'Usual Suspects, The (1995)',\n",
       " 'Silence of the Lambs, The (1991)',\n",
       " 'Fight Club (1999)',\n",
       " 'Ghostbusters (1984)',\n",
       " 'Seven (Se7en) (1995)',\n",
       " 'Matrix, The (1999)',\n",
       " 'Green Mile, The (1999)',\n",
       " 'Sleepy Hollow (1999)',\n",
       " 'Fugitive, The (1993)']"
      ]
     },
     "execution_count": 74,
     "metadata": {},
     "output_type": "execute_result"
    }
   ],
   "source": [
    "get_similar_movie('Sixth Sense, The (1999)')"
   ]
  },
  {
   "cell_type": "markdown",
   "id": "83f439f0",
   "metadata": {},
   "source": [
    "## 8) 내가 가장 좋아할 만한 영화들을 추천받아 봅시다."
   ]
  },
  {
   "cell_type": "code",
   "execution_count": 75,
   "id": "6e2215e8",
   "metadata": {},
   "outputs": [
    {
     "data": {
      "text/plain": [
       "[(50, 0.46562594),\n",
       " (124, 0.39316624),\n",
       " (175, 0.3724543),\n",
       " (92, 0.3720152),\n",
       " (110, 0.3568868),\n",
       " (64, 0.31433624),\n",
       " (60, 0.3075305),\n",
       " (141, 0.2893923),\n",
       " (458, 0.28584635),\n",
       " (62, 0.25389028),\n",
       " (670, 0.23601954),\n",
       " (58, 0.23300639),\n",
       " (330, 0.23186184),\n",
       " (99, 0.22744444),\n",
       " (121, 0.22625875),\n",
       " (4, 0.22113982),\n",
       " (33, 0.21544234),\n",
       " (322, 0.21502908),\n",
       " (48, 0.21256728),\n",
       " (255, 0.20526429)]"
      ]
     },
     "execution_count": 75,
     "metadata": {},
     "output_type": "execute_result"
    }
   ],
   "source": [
    "user = user_to_idx['ikhan']\n",
    "# recommend에서는 user*item CSR Matrix를 받습니다.\n",
    "movie_recommended = als_model.recommend(user, csr_data, N=20, filter_already_liked_items=True)\n",
    "movie_recommended"
   ]
  },
  {
   "cell_type": "code",
   "execution_count": 77,
   "id": "9e1b7d0a",
   "metadata": {},
   "outputs": [
    {
     "data": {
      "text/html": [
       "<div>\n",
       "<style scoped>\n",
       "    .dataframe tbody tr th:only-of-type {\n",
       "        vertical-align: middle;\n",
       "    }\n",
       "\n",
       "    .dataframe tbody tr th {\n",
       "        vertical-align: top;\n",
       "    }\n",
       "\n",
       "    .dataframe thead th {\n",
       "        text-align: right;\n",
       "    }\n",
       "</style>\n",
       "<table border=\"1\" class=\"dataframe\">\n",
       "  <thead>\n",
       "    <tr style=\"text-align: right;\">\n",
       "      <th></th>\n",
       "      <th>추천 영화 Top 20</th>\n",
       "    </tr>\n",
       "  </thead>\n",
       "  <tbody>\n",
       "    <tr>\n",
       "      <th>0</th>\n",
       "      <td>Toy Story 2 (1999)</td>\n",
       "    </tr>\n",
       "    <tr>\n",
       "      <th>1</th>\n",
       "      <td>Matrix, The (1999)</td>\n",
       "    </tr>\n",
       "    <tr>\n",
       "      <th>2</th>\n",
       "      <td>Men in Black (1997)</td>\n",
       "    </tr>\n",
       "    <tr>\n",
       "      <th>3</th>\n",
       "      <td>Terminator 2: Judgment Day (1991)</td>\n",
       "    </tr>\n",
       "    <tr>\n",
       "      <th>4</th>\n",
       "      <td>Groundhog Day (1993)</td>\n",
       "    </tr>\n",
       "    <tr>\n",
       "      <th>5</th>\n",
       "      <td>Star Wars: Episode VI - Return of the Jedi (1983)</td>\n",
       "    </tr>\n",
       "    <tr>\n",
       "      <th>6</th>\n",
       "      <td>Star Wars: Episode I - The Phantom Menace (1999)</td>\n",
       "    </tr>\n",
       "    <tr>\n",
       "      <th>7</th>\n",
       "      <td>Fugitive, The (1993)</td>\n",
       "    </tr>\n",
       "    <tr>\n",
       "      <th>8</th>\n",
       "      <td>Mask, The (1994)</td>\n",
       "    </tr>\n",
       "    <tr>\n",
       "      <th>9</th>\n",
       "      <td>Total Recall (1990)</td>\n",
       "    </tr>\n",
       "    <tr>\n",
       "      <th>10</th>\n",
       "      <td>Galaxy Quest (1999)</td>\n",
       "    </tr>\n",
       "    <tr>\n",
       "      <th>11</th>\n",
       "      <td>Mission: Impossible (1996)</td>\n",
       "    </tr>\n",
       "    <tr>\n",
       "      <th>12</th>\n",
       "      <td>Lion King, The (1994)</td>\n",
       "    </tr>\n",
       "    <tr>\n",
       "      <th>13</th>\n",
       "      <td>American Beauty (1999)</td>\n",
       "    </tr>\n",
       "    <tr>\n",
       "      <th>14</th>\n",
       "      <td>Silence of the Lambs, The (1991)</td>\n",
       "    </tr>\n",
       "    <tr>\n",
       "      <th>15</th>\n",
       "      <td>Bug's Life, A (1998)</td>\n",
       "    </tr>\n",
       "    <tr>\n",
       "      <th>16</th>\n",
       "      <td>Aladdin (1992)</td>\n",
       "    </tr>\n",
       "    <tr>\n",
       "      <th>17</th>\n",
       "      <td>Babe (1995)</td>\n",
       "    </tr>\n",
       "    <tr>\n",
       "      <th>18</th>\n",
       "      <td>Saving Private Ryan (1998)</td>\n",
       "    </tr>\n",
       "    <tr>\n",
       "      <th>19</th>\n",
       "      <td>There's Something About Mary (1998)</td>\n",
       "    </tr>\n",
       "  </tbody>\n",
       "</table>\n",
       "</div>"
      ],
      "text/plain": [
       "                                         추천 영화 Top 20\n",
       "0                                  Toy Story 2 (1999)\n",
       "1                                  Matrix, The (1999)\n",
       "2                                 Men in Black (1997)\n",
       "3                   Terminator 2: Judgment Day (1991)\n",
       "4                                Groundhog Day (1993)\n",
       "5   Star Wars: Episode VI - Return of the Jedi (1983)\n",
       "6    Star Wars: Episode I - The Phantom Menace (1999)\n",
       "7                                Fugitive, The (1993)\n",
       "8                                    Mask, The (1994)\n",
       "9                                 Total Recall (1990)\n",
       "10                                Galaxy Quest (1999)\n",
       "11                         Mission: Impossible (1996)\n",
       "12                              Lion King, The (1994)\n",
       "13                             American Beauty (1999)\n",
       "14                   Silence of the Lambs, The (1991)\n",
       "15                               Bug's Life, A (1998)\n",
       "16                                     Aladdin (1992)\n",
       "17                                        Babe (1995)\n",
       "18                         Saving Private Ryan (1998)\n",
       "19                There's Something About Mary (1998)"
      ]
     },
     "execution_count": 77,
     "metadata": {},
     "output_type": "execute_result"
    }
   ],
   "source": [
    "rec = [idx_to_title[i[0]] for i in movie_recommended]\n",
    "recommendation = pd.DataFrame(rec)\n",
    "recommendation.columns = ['추천 영화 Top 20']\n",
    "recommendation"
   ]
  },
  {
   "cell_type": "code",
   "execution_count": 78,
   "id": "4ac577ff",
   "metadata": {},
   "outputs": [],
   "source": [
    "mask = title_to_idx['Mask, The (1994)']\n",
    "explain = als_model.explain(user, csr_data, itemid=mask)"
   ]
  },
  {
   "cell_type": "code",
   "execution_count": 79,
   "id": "ab84d50b",
   "metadata": {},
   "outputs": [
    {
     "data": {
      "text/plain": [
       "[('Jumanji (1995)', 0.15382299567867663),\n",
       " ('Toy Story (1995)', 0.062188179614400374),\n",
       " ('Forrest Gump (1994)', 0.044734911695568196),\n",
       " ('Sixth Sense, The (1999)', 0.013483401480204068),\n",
       " ('Jurassic Park (1993)', 0.008583437837593836)]"
      ]
     },
     "execution_count": 79,
     "metadata": {},
     "output_type": "execute_result"
    }
   ],
   "source": [
    "[(idx_to_title[i[0]], i[1]) for i in explain[1]]"
   ]
  },
  {
   "cell_type": "markdown",
   "id": "80366a3c",
   "metadata": {},
   "source": [
    "# 회고\n",
    "\n",
    "노드에서 했던것들 위주로 따라서 했는데 잘 진행되었고 선호하는 작품 하나로 선호도 예측 하는 부분은 평가한게 몇작품 없어서 그런지 좀 낮게 나오긴 했지만 내가 좋아하는 영화와 비슷한 영화를 추천 하는부분에는 만족으러운 영화들이 추천되었고 내가 가장 좋아할 만한 영화들은 추천 받는 부분에서도 취향을 제대로 파악하여 추천 해주었음 5가지가 아니라 더 많은 영화에 평가를 한후 선호도 예측을 하면 더욱더 좋게 나올것으로 예상된다. 이번 프로젝트는 과정도 그렇고 프로젝트에서 다룬 영화라는 취향도 그렇고 결과에서 나온 부분을 봤을때 재밌는 주제와 프로젝트였다"
   ]
  }
 ],
 "metadata": {
  "kernelspec": {
   "display_name": "Python 3 (ipykernel)",
   "language": "python",
   "name": "python3"
  },
  "language_info": {
   "codemirror_mode": {
    "name": "ipython",
    "version": 3
   },
   "file_extension": ".py",
   "mimetype": "text/x-python",
   "name": "python",
   "nbconvert_exporter": "python",
   "pygments_lexer": "ipython3",
   "version": "3.9.7"
  }
 },
 "nbformat": 4,
 "nbformat_minor": 5
}
