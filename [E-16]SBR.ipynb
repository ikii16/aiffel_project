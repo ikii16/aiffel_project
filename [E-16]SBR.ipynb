{
 "cells": [
  {
   "cell_type": "markdown",
   "id": "cf0cd996",
   "metadata": {},
   "source": [
    "# 다음에 볼 영화 예측하기\n",
    "## 프로젝트 - Movielens 영화 SBR"
   ]
  },
  {
   "cell_type": "code",
   "execution_count": 1,
   "id": "cfdd11e6",
   "metadata": {},
   "outputs": [],
   "source": [
    "import os\n",
    "import datetime as dt\n",
    "from pathlib import Path\n",
    "\n",
    "import numpy as np\n",
    "import pandas as pd\n",
    "import warnings\n",
    "import matplotlib.pyplot as plt\n",
    "\n",
    "warnings.filterwarnings('ignore')"
   ]
  },
  {
   "cell_type": "code",
   "execution_count": 2,
   "id": "97cd4954",
   "metadata": {},
   "outputs": [
    {
     "data": {
      "text/html": [
       "<div>\n",
       "<style scoped>\n",
       "    .dataframe tbody tr th:only-of-type {\n",
       "        vertical-align: middle;\n",
       "    }\n",
       "\n",
       "    .dataframe tbody tr th {\n",
       "        vertical-align: top;\n",
       "    }\n",
       "\n",
       "    .dataframe thead th {\n",
       "        text-align: right;\n",
       "    }\n",
       "</style>\n",
       "<table border=\"1\" class=\"dataframe\">\n",
       "  <thead>\n",
       "    <tr style=\"text-align: right;\">\n",
       "      <th></th>\n",
       "      <th>UserId</th>\n",
       "      <th>ItemId</th>\n",
       "      <th>Rating</th>\n",
       "      <th>Time</th>\n",
       "    </tr>\n",
       "  </thead>\n",
       "  <tbody>\n",
       "    <tr>\n",
       "      <th>31</th>\n",
       "      <td>1</td>\n",
       "      <td>3186</td>\n",
       "      <td>4</td>\n",
       "      <td>978300019</td>\n",
       "    </tr>\n",
       "    <tr>\n",
       "      <th>22</th>\n",
       "      <td>1</td>\n",
       "      <td>1270</td>\n",
       "      <td>5</td>\n",
       "      <td>978300055</td>\n",
       "    </tr>\n",
       "    <tr>\n",
       "      <th>27</th>\n",
       "      <td>1</td>\n",
       "      <td>1721</td>\n",
       "      <td>4</td>\n",
       "      <td>978300055</td>\n",
       "    </tr>\n",
       "    <tr>\n",
       "      <th>37</th>\n",
       "      <td>1</td>\n",
       "      <td>1022</td>\n",
       "      <td>5</td>\n",
       "      <td>978300055</td>\n",
       "    </tr>\n",
       "    <tr>\n",
       "      <th>24</th>\n",
       "      <td>1</td>\n",
       "      <td>2340</td>\n",
       "      <td>3</td>\n",
       "      <td>978300103</td>\n",
       "    </tr>\n",
       "    <tr>\n",
       "      <th>...</th>\n",
       "      <td>...</td>\n",
       "      <td>...</td>\n",
       "      <td>...</td>\n",
       "      <td>...</td>\n",
       "    </tr>\n",
       "    <tr>\n",
       "      <th>1000019</th>\n",
       "      <td>6040</td>\n",
       "      <td>2917</td>\n",
       "      <td>4</td>\n",
       "      <td>997454429</td>\n",
       "    </tr>\n",
       "    <tr>\n",
       "      <th>999988</th>\n",
       "      <td>6040</td>\n",
       "      <td>1921</td>\n",
       "      <td>4</td>\n",
       "      <td>997454464</td>\n",
       "    </tr>\n",
       "    <tr>\n",
       "      <th>1000172</th>\n",
       "      <td>6040</td>\n",
       "      <td>1784</td>\n",
       "      <td>3</td>\n",
       "      <td>997454464</td>\n",
       "    </tr>\n",
       "    <tr>\n",
       "      <th>1000167</th>\n",
       "      <td>6040</td>\n",
       "      <td>161</td>\n",
       "      <td>3</td>\n",
       "      <td>997454486</td>\n",
       "    </tr>\n",
       "    <tr>\n",
       "      <th>1000042</th>\n",
       "      <td>6040</td>\n",
       "      <td>1221</td>\n",
       "      <td>4</td>\n",
       "      <td>998315055</td>\n",
       "    </tr>\n",
       "  </tbody>\n",
       "</table>\n",
       "<p>1000209 rows × 4 columns</p>\n",
       "</div>"
      ],
      "text/plain": [
       "         UserId  ItemId  Rating       Time\n",
       "31            1    3186       4  978300019\n",
       "22            1    1270       5  978300055\n",
       "27            1    1721       4  978300055\n",
       "37            1    1022       5  978300055\n",
       "24            1    2340       3  978300103\n",
       "...         ...     ...     ...        ...\n",
       "1000019    6040    2917       4  997454429\n",
       "999988     6040    1921       4  997454464\n",
       "1000172    6040    1784       3  997454464\n",
       "1000167    6040     161       3  997454486\n",
       "1000042    6040    1221       4  998315055\n",
       "\n",
       "[1000209 rows x 4 columns]"
      ]
     },
     "execution_count": 2,
     "metadata": {},
     "output_type": "execute_result"
    }
   ],
   "source": [
    "data_path = Path(os.getenv('HOME')+'/aiffel/yoochoose/data/') \n",
    "train_path = data_path / 'ratings.dat'\n",
    "\n",
    "def load_data(data_path: Path, nrows=None):\n",
    "    data = pd.read_csv(data_path, sep='::', header=None, usecols=[0, 1, 2, 3], dtype={0: np.int32, 1: np.int32, 2: np.int32}, nrows=nrows)\n",
    "    data.columns = ['UserId', 'ItemId', 'Rating', 'Time']\n",
    "    return data\n",
    "\n",
    "data = load_data(train_path, None)\n",
    "data.sort_values(['UserId', 'Time'], inplace=True)  # data를 id와 시간 순서로 정렬해줍니다.\n",
    "data"
   ]
  },
  {
   "cell_type": "code",
   "execution_count": 3,
   "id": "28277e39",
   "metadata": {},
   "outputs": [
    {
     "data": {
      "text/plain": [
       "(6040, 3706)"
      ]
     },
     "execution_count": 3,
     "metadata": {},
     "output_type": "execute_result"
    }
   ],
   "source": [
    "# 추천시스템을 구축할 때 가장 먼저 확인해 볼 것은 유저수(세션 수)와 아이템 수 입니다.\n",
    "data['UserId'].nunique(), data['ItemId'].nunique()"
   ]
  },
  {
   "cell_type": "markdown",
   "id": "cb1cd25d",
   "metadata": {},
   "source": [
    "### Session Length"
   ]
  },
  {
   "cell_type": "code",
   "execution_count": 4,
   "id": "c2af1a08",
   "metadata": {},
   "outputs": [
    {
     "data": {
      "text/plain": [
       "UserId\n",
       "1        53\n",
       "2       129\n",
       "3        51\n",
       "4        21\n",
       "5       198\n",
       "       ... \n",
       "6036    888\n",
       "6037    202\n",
       "6038     20\n",
       "6039    123\n",
       "6040    341\n",
       "Length: 6040, dtype: int64"
      ]
     },
     "execution_count": 4,
     "metadata": {},
     "output_type": "execute_result"
    }
   ],
   "source": [
    "# 각 세션이 대략 몇 개의 클릭 데이터를 갖는지도 살펴보겠습니다.\n",
    "user_length = data.groupby('UserId').size()\n",
    "user_length"
   ]
  },
  {
   "cell_type": "code",
   "execution_count": 5,
   "id": "8bca76d3",
   "metadata": {},
   "outputs": [
    {
     "data": {
      "text/plain": [
       "(96.0, 165.5975165562914)"
      ]
     },
     "execution_count": 5,
     "metadata": {},
     "output_type": "execute_result"
    }
   ],
   "source": [
    "user_length.median(), user_length.mean()"
   ]
  },
  {
   "cell_type": "code",
   "execution_count": 6,
   "id": "c825adc5",
   "metadata": {},
   "outputs": [
    {
     "data": {
      "text/plain": [
       "(20, 2314)"
      ]
     },
     "execution_count": 6,
     "metadata": {},
     "output_type": "execute_result"
    }
   ],
   "source": [
    "user_length.min(), user_length.max()"
   ]
  },
  {
   "cell_type": "code",
   "execution_count": 7,
   "id": "0d27d25e",
   "metadata": {},
   "outputs": [
    {
     "data": {
      "text/plain": [
       "1343.181000000005"
      ]
     },
     "execution_count": 7,
     "metadata": {},
     "output_type": "execute_result"
    }
   ],
   "source": [
    "user_length.quantile(0.999)"
   ]
  },
  {
   "cell_type": "code",
   "execution_count": 8,
   "id": "b4610857",
   "metadata": {},
   "outputs": [
    {
     "data": {
      "text/html": [
       "<div>\n",
       "<style scoped>\n",
       "    .dataframe tbody tr th:only-of-type {\n",
       "        vertical-align: middle;\n",
       "    }\n",
       "\n",
       "    .dataframe tbody tr th {\n",
       "        vertical-align: top;\n",
       "    }\n",
       "\n",
       "    .dataframe thead th {\n",
       "        text-align: right;\n",
       "    }\n",
       "</style>\n",
       "<table border=\"1\" class=\"dataframe\">\n",
       "  <thead>\n",
       "    <tr style=\"text-align: right;\">\n",
       "      <th></th>\n",
       "      <th>UserId</th>\n",
       "      <th>ItemId</th>\n",
       "      <th>Rating</th>\n",
       "      <th>Time</th>\n",
       "    </tr>\n",
       "  </thead>\n",
       "  <tbody>\n",
       "    <tr>\n",
       "      <th>406366</th>\n",
       "      <td>2438</td>\n",
       "      <td>908</td>\n",
       "      <td>3</td>\n",
       "      <td>974222921</td>\n",
       "    </tr>\n",
       "    <tr>\n",
       "      <th>406379</th>\n",
       "      <td>2438</td>\n",
       "      <td>2294</td>\n",
       "      <td>3</td>\n",
       "      <td>974222921</td>\n",
       "    </tr>\n",
       "    <tr>\n",
       "      <th>406412</th>\n",
       "      <td>2438</td>\n",
       "      <td>3812</td>\n",
       "      <td>5</td>\n",
       "      <td>974222921</td>\n",
       "    </tr>\n",
       "    <tr>\n",
       "      <th>406418</th>\n",
       "      <td>2438</td>\n",
       "      <td>3835</td>\n",
       "      <td>2</td>\n",
       "      <td>974222921</td>\n",
       "    </tr>\n",
       "    <tr>\n",
       "      <th>406427</th>\n",
       "      <td>2438</td>\n",
       "      <td>1186</td>\n",
       "      <td>4</td>\n",
       "      <td>974222921</td>\n",
       "    </tr>\n",
       "    <tr>\n",
       "      <th>...</th>\n",
       "      <td>...</td>\n",
       "      <td>...</td>\n",
       "      <td>...</td>\n",
       "      <td>...</td>\n",
       "    </tr>\n",
       "    <tr>\n",
       "      <th>406356</th>\n",
       "      <td>2438</td>\n",
       "      <td>3948</td>\n",
       "      <td>4</td>\n",
       "      <td>979792076</td>\n",
       "    </tr>\n",
       "    <tr>\n",
       "      <th>406461</th>\n",
       "      <td>2438</td>\n",
       "      <td>2502</td>\n",
       "      <td>4</td>\n",
       "      <td>981262001</td>\n",
       "    </tr>\n",
       "    <tr>\n",
       "      <th>406372</th>\n",
       "      <td>2438</td>\n",
       "      <td>1466</td>\n",
       "      <td>4</td>\n",
       "      <td>981322989</td>\n",
       "    </tr>\n",
       "    <tr>\n",
       "      <th>406413</th>\n",
       "      <td>2438</td>\n",
       "      <td>1131</td>\n",
       "      <td>5</td>\n",
       "      <td>987127691</td>\n",
       "    </tr>\n",
       "    <tr>\n",
       "      <th>406414</th>\n",
       "      <td>2438</td>\n",
       "      <td>1132</td>\n",
       "      <td>4</td>\n",
       "      <td>987127748</td>\n",
       "    </tr>\n",
       "  </tbody>\n",
       "</table>\n",
       "<p>200 rows × 4 columns</p>\n",
       "</div>"
      ],
      "text/plain": [
       "        UserId  ItemId  Rating       Time\n",
       "406366    2438     908       3  974222921\n",
       "406379    2438    2294       3  974222921\n",
       "406412    2438    3812       5  974222921\n",
       "406418    2438    3835       2  974222921\n",
       "406427    2438    1186       4  974222921\n",
       "...        ...     ...     ...        ...\n",
       "406356    2438    3948       4  979792076\n",
       "406461    2438    2502       4  981262001\n",
       "406372    2438    1466       4  981322989\n",
       "406413    2438    1131       5  987127691\n",
       "406414    2438    1132       4  987127748\n",
       "\n",
       "[200 rows x 4 columns]"
      ]
     },
     "execution_count": 8,
     "metadata": {},
     "output_type": "execute_result"
    }
   ],
   "source": [
    "long_user = user_length[user_length==200].index[0]\n",
    "data[data['UserId']==long_user]"
   ]
  },
  {
   "cell_type": "code",
   "execution_count": 9,
   "id": "5ee5d6d6",
   "metadata": {},
   "outputs": [
    {
     "data": {
      "text/plain": [
       "20      0.014238\n",
       "21      0.029305\n",
       "22      0.042053\n",
       "23      0.055464\n",
       "24      0.068874\n",
       "          ...   \n",
       "1271    0.998179\n",
       "1277    0.998344\n",
       "1286    0.998510\n",
       "1302    0.998675\n",
       "1323    0.998841\n",
       "Length: 736, dtype: float64"
      ]
     },
     "execution_count": 9,
     "metadata": {},
     "output_type": "execute_result"
    }
   ],
   "source": [
    "length_count = user_length.groupby(user_length).size()\n",
    "length_percent_cumsum = length_count.cumsum() / length_count.sum()\n",
    "length_percent_cumsum_999 = length_percent_cumsum[length_percent_cumsum < 0.999]\n",
    "\n",
    "length_percent_cumsum_999"
   ]
  },
  {
   "cell_type": "code",
   "execution_count": 10,
   "id": "86dcda72",
   "metadata": {},
   "outputs": [
    {
     "data": {
      "image/png": "[encoded data removed]",
      "text/plain": [
       "<Figure size 1440x720 with 1 Axes>"
      ]
     },
     "metadata": {
      "needs_background": "light"
     },
     "output_type": "display_data"
    }
   ],
   "source": [
    "import matplotlib.pyplot as plt\n",
    "\n",
    "plt.figure(figsize=(20, 10))\n",
    "plt.bar(x=length_percent_cumsum_999.index,\n",
    "        height=length_percent_cumsum_999, color='forestgreen')\n",
    "#plt.xticks(length_percent_cumsum_999.index)\n",
    "#plt.yticks(np.arange(0, 1.01, 0.05))\n",
    "plt.title('Cumsum Percentage Until 0.999', size=20)\n",
    "plt.show()"
   ]
  },
  {
   "cell_type": "code",
   "execution_count": 11,
   "id": "e4940e6c",
   "metadata": {
    "scrolled": false
   },
   "outputs": [
    {
     "data": {
      "text/html": [
       "<div>\n",
       "<style scoped>\n",
       "    .dataframe tbody tr th:only-of-type {\n",
       "        vertical-align: middle;\n",
       "    }\n",
       "\n",
       "    .dataframe tbody tr th {\n",
       "        vertical-align: top;\n",
       "    }\n",
       "\n",
       "    .dataframe thead th {\n",
       "        text-align: right;\n",
       "    }\n",
       "</style>\n",
       "<table border=\"1\" class=\"dataframe\">\n",
       "  <thead>\n",
       "    <tr style=\"text-align: right;\">\n",
       "      <th></th>\n",
       "      <th>UserId</th>\n",
       "      <th>ItemId</th>\n",
       "      <th>Rating</th>\n",
       "      <th>Time</th>\n",
       "    </tr>\n",
       "  </thead>\n",
       "  <tbody>\n",
       "    <tr>\n",
       "      <th>696969</th>\n",
       "      <td>4169</td>\n",
       "      <td>1268</td>\n",
       "      <td>5</td>\n",
       "      <td>965333392</td>\n",
       "    </tr>\n",
       "    <tr>\n",
       "      <th>697168</th>\n",
       "      <td>4169</td>\n",
       "      <td>2617</td>\n",
       "      <td>4</td>\n",
       "      <td>965333392</td>\n",
       "    </tr>\n",
       "    <tr>\n",
       "      <th>697185</th>\n",
       "      <td>4169</td>\n",
       "      <td>2628</td>\n",
       "      <td>4</td>\n",
       "      <td>965333392</td>\n",
       "    </tr>\n",
       "    <tr>\n",
       "      <th>697219</th>\n",
       "      <td>4169</td>\n",
       "      <td>2653</td>\n",
       "      <td>4</td>\n",
       "      <td>965333392</td>\n",
       "    </tr>\n",
       "    <tr>\n",
       "      <th>697275</th>\n",
       "      <td>4169</td>\n",
       "      <td>423</td>\n",
       "      <td>3</td>\n",
       "      <td>965333392</td>\n",
       "    </tr>\n",
       "    <tr>\n",
       "      <th>...</th>\n",
       "      <td>...</td>\n",
       "      <td>...</td>\n",
       "      <td>...</td>\n",
       "      <td>...</td>\n",
       "    </tr>\n",
       "    <tr>\n",
       "      <th>697882</th>\n",
       "      <td>4169</td>\n",
       "      <td>3754</td>\n",
       "      <td>2</td>\n",
       "      <td>1024174347</td>\n",
       "    </tr>\n",
       "    <tr>\n",
       "      <th>695702</th>\n",
       "      <td>4169</td>\n",
       "      <td>1413</td>\n",
       "      <td>3</td>\n",
       "      <td>1024175031</td>\n",
       "    </tr>\n",
       "    <tr>\n",
       "      <th>697358</th>\n",
       "      <td>4169</td>\n",
       "      <td>494</td>\n",
       "      <td>4</td>\n",
       "      <td>1024175760</td>\n",
       "    </tr>\n",
       "    <tr>\n",
       "      <th>695945</th>\n",
       "      <td>4169</td>\n",
       "      <td>1804</td>\n",
       "      <td>2</td>\n",
       "      <td>1024175783</td>\n",
       "    </tr>\n",
       "    <tr>\n",
       "      <th>696446</th>\n",
       "      <td>4169</td>\n",
       "      <td>1548</td>\n",
       "      <td>3</td>\n",
       "      <td>1024176337</td>\n",
       "    </tr>\n",
       "  </tbody>\n",
       "</table>\n",
       "<p>2314 rows × 4 columns</p>\n",
       "</div>"
      ],
      "text/plain": [
       "        UserId  ItemId  Rating        Time\n",
       "696969    4169    1268       5   965333392\n",
       "697168    4169    2617       4   965333392\n",
       "697185    4169    2628       4   965333392\n",
       "697219    4169    2653       4   965333392\n",
       "697275    4169     423       3   965333392\n",
       "...        ...     ...     ...         ...\n",
       "697882    4169    3754       2  1024174347\n",
       "695702    4169    1413       3  1024175031\n",
       "697358    4169     494       4  1024175760\n",
       "695945    4169    1804       2  1024175783\n",
       "696446    4169    1548       3  1024176337\n",
       "\n",
       "[2314 rows x 4 columns]"
      ]
     },
     "execution_count": 11,
     "metadata": {},
     "output_type": "execute_result"
    }
   ],
   "source": [
    "long_rating = user_length[user_length==2314].index[0]\n",
    "data[data['UserId']==long_rating]"
   ]
  },
  {
   "cell_type": "markdown",
   "id": "6f00dfb0",
   "metadata": {},
   "source": [
    "### Session Time"
   ]
  },
  {
   "cell_type": "code",
   "execution_count": 12,
   "id": "55e9b81a",
   "metadata": {},
   "outputs": [],
   "source": [
    "import datetime"
   ]
  },
  {
   "cell_type": "code",
   "execution_count": 13,
   "id": "9db2c6fe",
   "metadata": {},
   "outputs": [],
   "source": [
    "# 우선 Time 컬럼이 보기가 힘드니 Date 로 바꿔서 보겠습니다\n",
    "\n",
    "dt = datetime.datetime.strptime('1970-01-01', '%Y-%m-%d')\n",
    "tmp = data['Time']\n",
    "datatime = []\n",
    "for i in tmp:\n",
    "    date = dt + datetime.timedelta(seconds= i)\n",
    "    tmp = date.strftime('%Y-%m-%d')\n",
    "    datatime.append(tmp)\n",
    "\n",
    "data['Date'] = datatime"
   ]
  },
  {
   "cell_type": "code",
   "execution_count": 14,
   "id": "7fca43bd",
   "metadata": {},
   "outputs": [
    {
     "data": {
      "text/html": [
       "<div>\n",
       "<style scoped>\n",
       "    .dataframe tbody tr th:only-of-type {\n",
       "        vertical-align: middle;\n",
       "    }\n",
       "\n",
       "    .dataframe tbody tr th {\n",
       "        vertical-align: top;\n",
       "    }\n",
       "\n",
       "    .dataframe thead th {\n",
       "        text-align: right;\n",
       "    }\n",
       "</style>\n",
       "<table border=\"1\" class=\"dataframe\">\n",
       "  <thead>\n",
       "    <tr style=\"text-align: right;\">\n",
       "      <th></th>\n",
       "      <th>UserId</th>\n",
       "      <th>ItemId</th>\n",
       "      <th>Rating</th>\n",
       "      <th>Time</th>\n",
       "      <th>Date</th>\n",
       "    </tr>\n",
       "  </thead>\n",
       "  <tbody>\n",
       "    <tr>\n",
       "      <th>31</th>\n",
       "      <td>1</td>\n",
       "      <td>3186</td>\n",
       "      <td>4</td>\n",
       "      <td>978300019</td>\n",
       "      <td>2000-12-31</td>\n",
       "    </tr>\n",
       "    <tr>\n",
       "      <th>22</th>\n",
       "      <td>1</td>\n",
       "      <td>1270</td>\n",
       "      <td>5</td>\n",
       "      <td>978300055</td>\n",
       "      <td>2000-12-31</td>\n",
       "    </tr>\n",
       "    <tr>\n",
       "      <th>27</th>\n",
       "      <td>1</td>\n",
       "      <td>1721</td>\n",
       "      <td>4</td>\n",
       "      <td>978300055</td>\n",
       "      <td>2000-12-31</td>\n",
       "    </tr>\n",
       "    <tr>\n",
       "      <th>37</th>\n",
       "      <td>1</td>\n",
       "      <td>1022</td>\n",
       "      <td>5</td>\n",
       "      <td>978300055</td>\n",
       "      <td>2000-12-31</td>\n",
       "    </tr>\n",
       "    <tr>\n",
       "      <th>24</th>\n",
       "      <td>1</td>\n",
       "      <td>2340</td>\n",
       "      <td>3</td>\n",
       "      <td>978300103</td>\n",
       "      <td>2000-12-31</td>\n",
       "    </tr>\n",
       "    <tr>\n",
       "      <th>...</th>\n",
       "      <td>...</td>\n",
       "      <td>...</td>\n",
       "      <td>...</td>\n",
       "      <td>...</td>\n",
       "      <td>...</td>\n",
       "    </tr>\n",
       "    <tr>\n",
       "      <th>1000019</th>\n",
       "      <td>6040</td>\n",
       "      <td>2917</td>\n",
       "      <td>4</td>\n",
       "      <td>997454429</td>\n",
       "      <td>2001-08-10</td>\n",
       "    </tr>\n",
       "    <tr>\n",
       "      <th>999988</th>\n",
       "      <td>6040</td>\n",
       "      <td>1921</td>\n",
       "      <td>4</td>\n",
       "      <td>997454464</td>\n",
       "      <td>2001-08-10</td>\n",
       "    </tr>\n",
       "    <tr>\n",
       "      <th>1000172</th>\n",
       "      <td>6040</td>\n",
       "      <td>1784</td>\n",
       "      <td>3</td>\n",
       "      <td>997454464</td>\n",
       "      <td>2001-08-10</td>\n",
       "    </tr>\n",
       "    <tr>\n",
       "      <th>1000167</th>\n",
       "      <td>6040</td>\n",
       "      <td>161</td>\n",
       "      <td>3</td>\n",
       "      <td>997454486</td>\n",
       "      <td>2001-08-10</td>\n",
       "    </tr>\n",
       "    <tr>\n",
       "      <th>1000042</th>\n",
       "      <td>6040</td>\n",
       "      <td>1221</td>\n",
       "      <td>4</td>\n",
       "      <td>998315055</td>\n",
       "      <td>2001-08-20</td>\n",
       "    </tr>\n",
       "  </tbody>\n",
       "</table>\n",
       "<p>1000209 rows × 5 columns</p>\n",
       "</div>"
      ],
      "text/plain": [
       "         UserId  ItemId  Rating       Time        Date\n",
       "31            1    3186       4  978300019  2000-12-31\n",
       "22            1    1270       5  978300055  2000-12-31\n",
       "27            1    1721       4  978300055  2000-12-31\n",
       "37            1    1022       5  978300055  2000-12-31\n",
       "24            1    2340       3  978300103  2000-12-31\n",
       "...         ...     ...     ...        ...         ...\n",
       "1000019    6040    2917       4  997454429  2001-08-10\n",
       "999988     6040    1921       4  997454464  2001-08-10\n",
       "1000172    6040    1784       3  997454464  2001-08-10\n",
       "1000167    6040     161       3  997454486  2001-08-10\n",
       "1000042    6040    1221       4  998315055  2001-08-20\n",
       "\n",
       "[1000209 rows x 5 columns]"
      ]
     },
     "execution_count": 14,
     "metadata": {},
     "output_type": "execute_result"
    }
   ],
   "source": [
    "data"
   ]
  },
  {
   "cell_type": "code",
   "execution_count": 15,
   "id": "fca858b5",
   "metadata": {
    "scrolled": true
   },
   "outputs": [
    {
     "name": "stdout",
     "output_type": "stream",
     "text": [
      "2000-04-25\n",
      "2003-02-28\n"
     ]
    }
   ],
   "source": [
    "oldest, latest = data['Date'].min(), data['Date'].max()\n",
    "print(oldest) \n",
    "print(latest)"
   ]
  },
  {
   "cell_type": "code",
   "execution_count": 16,
   "id": "1914e856",
   "metadata": {},
   "outputs": [
    {
     "data": {
      "text/plain": [
       "str"
      ]
     },
     "execution_count": 16,
     "metadata": {},
     "output_type": "execute_result"
    }
   ],
   "source": [
    "type(latest)"
   ]
  },
  {
   "cell_type": "code",
   "execution_count": 17,
   "id": "84d4cfcd",
   "metadata": {},
   "outputs": [
    {
     "data": {
      "text/plain": [
       "Rating\n",
       "1     56174\n",
       "2    107557\n",
       "3    261197\n",
       "4    348971\n",
       "5    226310\n",
       "Name: ItemId, dtype: int64"
      ]
     },
     "execution_count": 17,
     "metadata": {},
     "output_type": "execute_result"
    }
   ],
   "source": [
    "#영화 평점 분포 확인\n",
    "\n",
    "mv_rate = data.groupby('Rating')['ItemId'].count()\n",
    "mv_rate"
   ]
  },
  {
   "cell_type": "markdown",
   "id": "8f138f33",
   "metadata": {},
   "source": [
    "### Data Cleansing"
   ]
  },
  {
   "cell_type": "code",
   "execution_count": 25,
   "id": "db66e6b2",
   "metadata": {},
   "outputs": [],
   "source": [
    "# 앞서 말했듯이 너무 긴 세션을 가지고 있는 UserID를 제거해주겠습니다.\n",
    "# 남긴 평점이 적다고 해서 선호하는 영화가 아니라는 건 아니기도 하고 적은 평점을 가진 영화가 대부분이기도 하기때문에 \n",
    "# 다른 cleansing 처리는 하지 않습니다.\n",
    "\n",
    "def cleanse_long_session(data: pd.DataFrame, longest):\n",
    "    session_len = data.groupby('UserId').size()\n",
    "    session_use = session_len[session_len < longest].index\n",
    "    data = data[data['UserId'].isin(session_use)]\n",
    "    return data\n",
    "\n",
    "def cleanse_recursive(data: pd.DataFrame, longest) -> pd.DataFrame:\n",
    "    while True:\n",
    "        before_len = len(data)\n",
    "        data = cleanse_long_session(data, longest)\n",
    "        after_len = len(data)\n",
    "        if before_len == after_len:\n",
    "            break\n",
    "    return data"
   ]
  },
  {
   "cell_type": "code",
   "execution_count": 24,
   "id": "d27f3d49",
   "metadata": {},
   "outputs": [
    {
     "data": {
      "text/html": [
       "<div>\n",
       "<style scoped>\n",
       "    .dataframe tbody tr th:only-of-type {\n",
       "        vertical-align: middle;\n",
       "    }\n",
       "\n",
       "    .dataframe tbody tr th {\n",
       "        vertical-align: top;\n",
       "    }\n",
       "\n",
       "    .dataframe thead th {\n",
       "        text-align: right;\n",
       "    }\n",
       "</style>\n",
       "<table border=\"1\" class=\"dataframe\">\n",
       "  <thead>\n",
       "    <tr style=\"text-align: right;\">\n",
       "      <th></th>\n",
       "      <th>UserId</th>\n",
       "      <th>ItemId</th>\n",
       "      <th>Rating</th>\n",
       "      <th>Time</th>\n",
       "      <th>Date</th>\n",
       "    </tr>\n",
       "  </thead>\n",
       "  <tbody>\n",
       "    <tr>\n",
       "      <th>31</th>\n",
       "      <td>1</td>\n",
       "      <td>3186</td>\n",
       "      <td>4</td>\n",
       "      <td>978300019</td>\n",
       "      <td>2000-12-31</td>\n",
       "    </tr>\n",
       "    <tr>\n",
       "      <th>22</th>\n",
       "      <td>1</td>\n",
       "      <td>1270</td>\n",
       "      <td>5</td>\n",
       "      <td>978300055</td>\n",
       "      <td>2000-12-31</td>\n",
       "    </tr>\n",
       "    <tr>\n",
       "      <th>27</th>\n",
       "      <td>1</td>\n",
       "      <td>1721</td>\n",
       "      <td>4</td>\n",
       "      <td>978300055</td>\n",
       "      <td>2000-12-31</td>\n",
       "    </tr>\n",
       "    <tr>\n",
       "      <th>37</th>\n",
       "      <td>1</td>\n",
       "      <td>1022</td>\n",
       "      <td>5</td>\n",
       "      <td>978300055</td>\n",
       "      <td>2000-12-31</td>\n",
       "    </tr>\n",
       "    <tr>\n",
       "      <th>24</th>\n",
       "      <td>1</td>\n",
       "      <td>2340</td>\n",
       "      <td>3</td>\n",
       "      <td>978300103</td>\n",
       "      <td>2000-12-31</td>\n",
       "    </tr>\n",
       "    <tr>\n",
       "      <th>...</th>\n",
       "      <td>...</td>\n",
       "      <td>...</td>\n",
       "      <td>...</td>\n",
       "      <td>...</td>\n",
       "      <td>...</td>\n",
       "    </tr>\n",
       "    <tr>\n",
       "      <th>1000019</th>\n",
       "      <td>6040</td>\n",
       "      <td>2917</td>\n",
       "      <td>4</td>\n",
       "      <td>997454429</td>\n",
       "      <td>2001-08-10</td>\n",
       "    </tr>\n",
       "    <tr>\n",
       "      <th>999988</th>\n",
       "      <td>6040</td>\n",
       "      <td>1921</td>\n",
       "      <td>4</td>\n",
       "      <td>997454464</td>\n",
       "      <td>2001-08-10</td>\n",
       "    </tr>\n",
       "    <tr>\n",
       "      <th>1000172</th>\n",
       "      <td>6040</td>\n",
       "      <td>1784</td>\n",
       "      <td>3</td>\n",
       "      <td>997454464</td>\n",
       "      <td>2001-08-10</td>\n",
       "    </tr>\n",
       "    <tr>\n",
       "      <th>1000167</th>\n",
       "      <td>6040</td>\n",
       "      <td>161</td>\n",
       "      <td>3</td>\n",
       "      <td>997454486</td>\n",
       "      <td>2001-08-10</td>\n",
       "    </tr>\n",
       "    <tr>\n",
       "      <th>1000042</th>\n",
       "      <td>6040</td>\n",
       "      <td>1221</td>\n",
       "      <td>4</td>\n",
       "      <td>998315055</td>\n",
       "      <td>2001-08-20</td>\n",
       "    </tr>\n",
       "  </tbody>\n",
       "</table>\n",
       "<p>999611 rows × 5 columns</p>\n",
       "</div>"
      ],
      "text/plain": [
       "         UserId  ItemId  Rating       Time        Date\n",
       "31            1    3186       4  978300019  2000-12-31\n",
       "22            1    1270       5  978300055  2000-12-31\n",
       "27            1    1721       4  978300055  2000-12-31\n",
       "37            1    1022       5  978300055  2000-12-31\n",
       "24            1    2340       3  978300103  2000-12-31\n",
       "...         ...     ...     ...        ...         ...\n",
       "1000019    6040    2917       4  997454429  2001-08-10\n",
       "999988     6040    1921       4  997454464  2001-08-10\n",
       "1000172    6040    1784       3  997454464  2001-08-10\n",
       "1000167    6040     161       3  997454486  2001-08-10\n",
       "1000042    6040    1221       4  998315055  2001-08-20\n",
       "\n",
       "[999611 rows x 5 columns]"
      ]
     },
     "execution_count": 24,
     "metadata": {},
     "output_type": "execute_result"
    }
   ],
   "source": [
    "data = cleanse_recursive(data, shortest=2, least_click=5)\n",
    "data"
   ]
  },
  {
   "cell_type": "markdown",
   "id": "36b41506",
   "metadata": {},
   "source": [
    "### Train/ Valid/ Test split"
   ]
  },
  {
   "cell_type": "code",
   "execution_count": 26,
   "id": "1e73513e",
   "metadata": {},
   "outputs": [
    {
     "data": {
      "text/plain": [
       "'2003-02-28'"
      ]
     },
     "execution_count": 26,
     "metadata": {},
     "output_type": "execute_result"
    }
   ],
   "source": [
    "data['Date'].max()"
   ]
  },
  {
   "cell_type": "code",
   "execution_count": 27,
   "id": "1ab79085",
   "metadata": {},
   "outputs": [
    {
     "data": {
      "text/plain": [
       "UserId\n",
       "1       2001-01-06\n",
       "2       2000-12-31\n",
       "3       2000-12-31\n",
       "4       2000-12-31\n",
       "5       2000-12-31\n",
       "           ...    \n",
       "6036    2000-04-26\n",
       "6037    2000-04-27\n",
       "6038    2000-04-26\n",
       "6039    2000-04-26\n",
       "6040    2001-08-20\n",
       "Name: Date, Length: 6040, dtype: object"
      ]
     },
     "execution_count": 27,
     "metadata": {},
     "output_type": "execute_result"
    }
   ],
   "source": [
    "data.groupby('UserId')['Date'].max()"
   ]
  },
  {
   "cell_type": "code",
   "execution_count": 28,
   "id": "cae680d1",
   "metadata": {},
   "outputs": [],
   "source": [
    "from dateutil.relativedelta import relativedelta\n",
    "from datetime import datetime\n",
    "\n",
    "def split_by_month(data: pd.DataFrame, n_months: int):\n",
    "    final_time = pd.to_datetime(data['Date'].max())\n",
    "    #print(final_time)\n",
    "    session_last_time = data.groupby('UserId')['Date'].max()\n",
    "    tmp = final_time - relativedelta(months = n_months)   # 맨 끝 날짜에서 n개월을 뺍니다\n",
    "    tmpdate = tmp.strftime('%Y-%m-%d') # string 타입으로 변환\n",
    "    #print(tmp)\n",
    "    session_in_train = session_last_time[session_last_time < tmpdate].index\n",
    "    session_in_test = session_last_time[session_last_time >= tmpdate].index\n",
    "    \n",
    "    before_date = data[data['UserId'].isin(session_in_train)]\n",
    "    after_date = data[data['UserId'].isin(session_in_test)]\n",
    "    after_date = after_date[after_date['ItemId'].isin(before_date['ItemId'])]\n",
    "    return before_date, after_date"
   ]
  },
  {
   "cell_type": "code",
   "execution_count": 29,
   "id": "a7a6aca1",
   "metadata": {},
   "outputs": [],
   "source": [
    "train, test = split_by_month(data, n_months=14)\n",
    "train, valid = split_by_month(train, n_months=8)"
   ]
  },
  {
   "cell_type": "code",
   "execution_count": 30,
   "id": "dc947fb2",
   "metadata": {},
   "outputs": [
    {
     "data": {
      "text/html": [
       "<div>\n",
       "<style scoped>\n",
       "    .dataframe tbody tr th:only-of-type {\n",
       "        vertical-align: middle;\n",
       "    }\n",
       "\n",
       "    .dataframe tbody tr th {\n",
       "        vertical-align: top;\n",
       "    }\n",
       "\n",
       "    .dataframe thead th {\n",
       "        text-align: right;\n",
       "    }\n",
       "</style>\n",
       "<table border=\"1\" class=\"dataframe\">\n",
       "  <thead>\n",
       "    <tr style=\"text-align: right;\">\n",
       "      <th></th>\n",
       "      <th>UserId</th>\n",
       "      <th>ItemId</th>\n",
       "      <th>Rating</th>\n",
       "      <th>Time</th>\n",
       "      <th>Date</th>\n",
       "    </tr>\n",
       "  </thead>\n",
       "  <tbody>\n",
       "    <tr>\n",
       "      <th>31</th>\n",
       "      <td>1</td>\n",
       "      <td>3186</td>\n",
       "      <td>4</td>\n",
       "      <td>978300019</td>\n",
       "      <td>2000-12-31</td>\n",
       "    </tr>\n",
       "    <tr>\n",
       "      <th>22</th>\n",
       "      <td>1</td>\n",
       "      <td>1270</td>\n",
       "      <td>5</td>\n",
       "      <td>978300055</td>\n",
       "      <td>2000-12-31</td>\n",
       "    </tr>\n",
       "    <tr>\n",
       "      <th>27</th>\n",
       "      <td>1</td>\n",
       "      <td>1721</td>\n",
       "      <td>4</td>\n",
       "      <td>978300055</td>\n",
       "      <td>2000-12-31</td>\n",
       "    </tr>\n",
       "    <tr>\n",
       "      <th>37</th>\n",
       "      <td>1</td>\n",
       "      <td>1022</td>\n",
       "      <td>5</td>\n",
       "      <td>978300055</td>\n",
       "      <td>2000-12-31</td>\n",
       "    </tr>\n",
       "    <tr>\n",
       "      <th>24</th>\n",
       "      <td>1</td>\n",
       "      <td>2340</td>\n",
       "      <td>3</td>\n",
       "      <td>978300103</td>\n",
       "      <td>2000-12-31</td>\n",
       "    </tr>\n",
       "    <tr>\n",
       "      <th>...</th>\n",
       "      <td>...</td>\n",
       "      <td>...</td>\n",
       "      <td>...</td>\n",
       "      <td>...</td>\n",
       "      <td>...</td>\n",
       "    </tr>\n",
       "    <tr>\n",
       "      <th>999798</th>\n",
       "      <td>6039</td>\n",
       "      <td>1148</td>\n",
       "      <td>4</td>\n",
       "      <td>956758002</td>\n",
       "      <td>2000-04-26</td>\n",
       "    </tr>\n",
       "    <tr>\n",
       "      <th>999764</th>\n",
       "      <td>6039</td>\n",
       "      <td>912</td>\n",
       "      <td>4</td>\n",
       "      <td>956758029</td>\n",
       "      <td>2000-04-26</td>\n",
       "    </tr>\n",
       "    <tr>\n",
       "      <th>999771</th>\n",
       "      <td>6039</td>\n",
       "      <td>922</td>\n",
       "      <td>5</td>\n",
       "      <td>956758029</td>\n",
       "      <td>2000-04-26</td>\n",
       "    </tr>\n",
       "    <tr>\n",
       "      <th>999815</th>\n",
       "      <td>6039</td>\n",
       "      <td>1204</td>\n",
       "      <td>5</td>\n",
       "      <td>956758029</td>\n",
       "      <td>2000-04-26</td>\n",
       "    </tr>\n",
       "    <tr>\n",
       "      <th>999826</th>\n",
       "      <td>6039</td>\n",
       "      <td>1254</td>\n",
       "      <td>4</td>\n",
       "      <td>956758029</td>\n",
       "      <td>2000-04-26</td>\n",
       "    </tr>\n",
       "  </tbody>\n",
       "</table>\n",
       "<p>702680 rows × 5 columns</p>\n",
       "</div>"
      ],
      "text/plain": [
       "        UserId  ItemId  Rating       Time        Date\n",
       "31           1    3186       4  978300019  2000-12-31\n",
       "22           1    1270       5  978300055  2000-12-31\n",
       "27           1    1721       4  978300055  2000-12-31\n",
       "37           1    1022       5  978300055  2000-12-31\n",
       "24           1    2340       3  978300103  2000-12-31\n",
       "...        ...     ...     ...        ...         ...\n",
       "999798    6039    1148       4  956758002  2000-04-26\n",
       "999764    6039     912       4  956758029  2000-04-26\n",
       "999771    6039     922       5  956758029  2000-04-26\n",
       "999815    6039    1204       5  956758029  2000-04-26\n",
       "999826    6039    1254       4  956758029  2000-04-26\n",
       "\n",
       "[702680 rows x 5 columns]"
      ]
     },
     "execution_count": 30,
     "metadata": {},
     "output_type": "execute_result"
    }
   ],
   "source": [
    "train"
   ]
  },
  {
   "cell_type": "code",
   "execution_count": 31,
   "id": "2cabd999",
   "metadata": {},
   "outputs": [
    {
     "data": {
      "text/plain": [
       "'2001-04-25'"
      ]
     },
     "execution_count": 31,
     "metadata": {},
     "output_type": "execute_result"
    }
   ],
   "source": [
    "train['Date'].max()"
   ]
  },
  {
   "cell_type": "code",
   "execution_count": 32,
   "id": "82078e47",
   "metadata": {},
   "outputs": [
    {
     "data": {
      "text/html": [
       "<div>\n",
       "<style scoped>\n",
       "    .dataframe tbody tr th:only-of-type {\n",
       "        vertical-align: middle;\n",
       "    }\n",
       "\n",
       "    .dataframe tbody tr th {\n",
       "        vertical-align: top;\n",
       "    }\n",
       "\n",
       "    .dataframe thead th {\n",
       "        text-align: right;\n",
       "    }\n",
       "</style>\n",
       "<table border=\"1\" class=\"dataframe\">\n",
       "  <thead>\n",
       "    <tr style=\"text-align: right;\">\n",
       "      <th></th>\n",
       "      <th>UserId</th>\n",
       "      <th>ItemId</th>\n",
       "      <th>Rating</th>\n",
       "      <th>Time</th>\n",
       "      <th>Date</th>\n",
       "    </tr>\n",
       "  </thead>\n",
       "  <tbody>\n",
       "    <tr>\n",
       "      <th>2469</th>\n",
       "      <td>19</td>\n",
       "      <td>2527</td>\n",
       "      <td>3</td>\n",
       "      <td>978146700</td>\n",
       "      <td>2000-12-30</td>\n",
       "    </tr>\n",
       "    <tr>\n",
       "      <th>2298</th>\n",
       "      <td>19</td>\n",
       "      <td>593</td>\n",
       "      <td>5</td>\n",
       "      <td>978146713</td>\n",
       "      <td>2000-12-30</td>\n",
       "    </tr>\n",
       "    <tr>\n",
       "      <th>2432</th>\n",
       "      <td>19</td>\n",
       "      <td>527</td>\n",
       "      <td>3</td>\n",
       "      <td>978146727</td>\n",
       "      <td>2000-12-30</td>\n",
       "    </tr>\n",
       "    <tr>\n",
       "      <th>2457</th>\n",
       "      <td>19</td>\n",
       "      <td>1210</td>\n",
       "      <td>4</td>\n",
       "      <td>978146747</td>\n",
       "      <td>2000-12-30</td>\n",
       "    </tr>\n",
       "    <tr>\n",
       "      <th>2497</th>\n",
       "      <td>19</td>\n",
       "      <td>2115</td>\n",
       "      <td>3</td>\n",
       "      <td>978146747</td>\n",
       "      <td>2000-12-30</td>\n",
       "    </tr>\n",
       "    <tr>\n",
       "      <th>...</th>\n",
       "      <td>...</td>\n",
       "      <td>...</td>\n",
       "      <td>...</td>\n",
       "      <td>...</td>\n",
       "      <td>...</td>\n",
       "    </tr>\n",
       "    <tr>\n",
       "      <th>1000019</th>\n",
       "      <td>6040</td>\n",
       "      <td>2917</td>\n",
       "      <td>4</td>\n",
       "      <td>997454429</td>\n",
       "      <td>2001-08-10</td>\n",
       "    </tr>\n",
       "    <tr>\n",
       "      <th>999988</th>\n",
       "      <td>6040</td>\n",
       "      <td>1921</td>\n",
       "      <td>4</td>\n",
       "      <td>997454464</td>\n",
       "      <td>2001-08-10</td>\n",
       "    </tr>\n",
       "    <tr>\n",
       "      <th>1000172</th>\n",
       "      <td>6040</td>\n",
       "      <td>1784</td>\n",
       "      <td>3</td>\n",
       "      <td>997454464</td>\n",
       "      <td>2001-08-10</td>\n",
       "    </tr>\n",
       "    <tr>\n",
       "      <th>1000167</th>\n",
       "      <td>6040</td>\n",
       "      <td>161</td>\n",
       "      <td>3</td>\n",
       "      <td>997454486</td>\n",
       "      <td>2001-08-10</td>\n",
       "    </tr>\n",
       "    <tr>\n",
       "      <th>1000042</th>\n",
       "      <td>6040</td>\n",
       "      <td>1221</td>\n",
       "      <td>4</td>\n",
       "      <td>998315055</td>\n",
       "      <td>2001-08-20</td>\n",
       "    </tr>\n",
       "  </tbody>\n",
       "</table>\n",
       "<p>77336 rows × 5 columns</p>\n",
       "</div>"
      ],
      "text/plain": [
       "         UserId  ItemId  Rating       Time        Date\n",
       "2469         19    2527       3  978146700  2000-12-30\n",
       "2298         19     593       5  978146713  2000-12-30\n",
       "2432         19     527       3  978146727  2000-12-30\n",
       "2457         19    1210       4  978146747  2000-12-30\n",
       "2497         19    2115       3  978146747  2000-12-30\n",
       "...         ...     ...     ...        ...         ...\n",
       "1000019    6040    2917       4  997454429  2001-08-10\n",
       "999988     6040    1921       4  997454464  2001-08-10\n",
       "1000172    6040    1784       3  997454464  2001-08-10\n",
       "1000167    6040     161       3  997454486  2001-08-10\n",
       "1000042    6040    1221       4  998315055  2001-08-20\n",
       "\n",
       "[77336 rows x 5 columns]"
      ]
     },
     "execution_count": 32,
     "metadata": {},
     "output_type": "execute_result"
    }
   ],
   "source": [
    "valid"
   ]
  },
  {
   "cell_type": "code",
   "execution_count": 33,
   "id": "60e23e1b",
   "metadata": {},
   "outputs": [],
   "source": [
    "# data에 대한 정보를 살펴봅니다.\n",
    "def stats_info(data: pd.DataFrame, status: str):\n",
    "    print(f'* {status} Set Stats Info\\n'\n",
    "          f'\\t Events: {len(data)}\\n'\n",
    "          f'\\t Users: {data[\"UserId\"].nunique()}\\n'\n",
    "          f'\\t Items: {data[\"ItemId\"].nunique()}\\n'\n",
    "          f'\\t First Time : {data[\"Date\"].min()}\\n'\n",
    "          f'\\t Last Time : {data[\"Date\"].max()}\\n')"
   ]
  },
  {
   "cell_type": "code",
   "execution_count": 34,
   "id": "4b61721c",
   "metadata": {},
   "outputs": [
    {
     "name": "stdout",
     "output_type": "stream",
     "text": [
      "* train Set Stats Info\n",
      "\t Events: 702680\n",
      "\t Users: 5146\n",
      "\t Items: 3410\n",
      "\t First Time : 2000-04-25\n",
      "\t Last Time : 2001-04-25\n",
      "\n",
      "* valid Set Stats Info\n",
      "\t Events: 77336\n",
      "\t Users: 301\n",
      "\t Items: 3205\n",
      "\t First Time : 2000-04-25\n",
      "\t Last Time : 2001-12-26\n",
      "\n",
      "* test Set Stats Info\n",
      "\t Events: 219577\n",
      "\t Users: 593\n",
      "\t Items: 3386\n",
      "\t First Time : 2000-04-27\n",
      "\t Last Time : 2003-02-28\n",
      "\n"
     ]
    }
   ],
   "source": [
    "stats_info(train, 'train')\n",
    "stats_info(valid, 'valid')\n",
    "stats_info(test, 'test')"
   ]
  },
  {
   "cell_type": "code",
   "execution_count": 35,
   "id": "fb9fc267",
   "metadata": {},
   "outputs": [],
   "source": [
    "# train set에 없는 아이템이 val, test기간에 생길 수 있으므로 train data를 기준으로 인덱싱합니다.\n",
    "id2idx = {item_id : index for index, item_id in enumerate(train['ItemId'].unique())}\n",
    "\n",
    "def indexing(df, id2idx):\n",
    "    df['item_idx'] = df['ItemId'].map(lambda x: id2idx.get(x, -1))  # id2idx에 없는 아이템은 모르는 값(-1) 처리 해줍니다.\n",
    "    return df\n",
    "\n",
    "train = indexing(train, id2idx)\n",
    "valid = indexing(valid, id2idx)\n",
    "test = indexing(test, id2idx)"
   ]
  },
  {
   "cell_type": "code",
   "execution_count": 36,
   "id": "71d459e8",
   "metadata": {},
   "outputs": [],
   "source": [
    "save_path = data_path / 'processed'\n",
    "save_path.mkdir(parents=True, exist_ok=True)\n",
    "\n",
    "train.to_pickle(save_path / 'train.pkl')\n",
    "valid.to_pickle(save_path / 'valid.pkl')\n",
    "test.to_pickle(save_path / 'test.pkl')"
   ]
  },
  {
   "cell_type": "markdown",
   "id": "006ec544",
   "metadata": {},
   "source": [
    "### 미니 배치의 구성"
   ]
  },
  {
   "cell_type": "code",
   "execution_count": 37,
   "id": "19d50bf2",
   "metadata": {},
   "outputs": [],
   "source": [
    "class SessionDataset:\n",
    "    \"\"\"Credit to yhs-968/pyGRU4REC.\"\"\"\n",
    "\n",
    "    def __init__(self, data):\n",
    "        self.df = data\n",
    "        self.click_offsets = self.get_click_offsets()\n",
    "        self.session_idx = np.arange(self.df['UserId'].nunique())  # indexing to SessionId\n",
    "\n",
    "    def get_click_offsets(self):\n",
    "        \"\"\"\n",
    "        Return the indexes of the first click of each session IDs,\n",
    "        \"\"\"\n",
    "        offsets = np.zeros(self.df['UserId'].nunique() + 1, dtype=np.int32)\n",
    "        offsets[1:] = self.df.groupby('UserId').size().cumsum()\n",
    "        return offsets"
   ]
  },
  {
   "cell_type": "code",
   "execution_count": 38,
   "id": "8ae99017",
   "metadata": {},
   "outputs": [
    {
     "data": {
      "text/html": [
       "<div>\n",
       "<style scoped>\n",
       "    .dataframe tbody tr th:only-of-type {\n",
       "        vertical-align: middle;\n",
       "    }\n",
       "\n",
       "    .dataframe tbody tr th {\n",
       "        vertical-align: top;\n",
       "    }\n",
       "\n",
       "    .dataframe thead th {\n",
       "        text-align: right;\n",
       "    }\n",
       "</style>\n",
       "<table border=\"1\" class=\"dataframe\">\n",
       "  <thead>\n",
       "    <tr style=\"text-align: right;\">\n",
       "      <th></th>\n",
       "      <th>UserId</th>\n",
       "      <th>ItemId</th>\n",
       "      <th>Rating</th>\n",
       "      <th>Time</th>\n",
       "      <th>Date</th>\n",
       "      <th>item_idx</th>\n",
       "    </tr>\n",
       "  </thead>\n",
       "  <tbody>\n",
       "    <tr>\n",
       "      <th>31</th>\n",
       "      <td>1</td>\n",
       "      <td>3186</td>\n",
       "      <td>4</td>\n",
       "      <td>978300019</td>\n",
       "      <td>2000-12-31</td>\n",
       "      <td>0</td>\n",
       "    </tr>\n",
       "    <tr>\n",
       "      <th>22</th>\n",
       "      <td>1</td>\n",
       "      <td>1270</td>\n",
       "      <td>5</td>\n",
       "      <td>978300055</td>\n",
       "      <td>2000-12-31</td>\n",
       "      <td>1</td>\n",
       "    </tr>\n",
       "    <tr>\n",
       "      <th>27</th>\n",
       "      <td>1</td>\n",
       "      <td>1721</td>\n",
       "      <td>4</td>\n",
       "      <td>978300055</td>\n",
       "      <td>2000-12-31</td>\n",
       "      <td>2</td>\n",
       "    </tr>\n",
       "    <tr>\n",
       "      <th>37</th>\n",
       "      <td>1</td>\n",
       "      <td>1022</td>\n",
       "      <td>5</td>\n",
       "      <td>978300055</td>\n",
       "      <td>2000-12-31</td>\n",
       "      <td>3</td>\n",
       "    </tr>\n",
       "    <tr>\n",
       "      <th>24</th>\n",
       "      <td>1</td>\n",
       "      <td>2340</td>\n",
       "      <td>3</td>\n",
       "      <td>978300103</td>\n",
       "      <td>2000-12-31</td>\n",
       "      <td>4</td>\n",
       "    </tr>\n",
       "    <tr>\n",
       "      <th>36</th>\n",
       "      <td>1</td>\n",
       "      <td>1836</td>\n",
       "      <td>5</td>\n",
       "      <td>978300172</td>\n",
       "      <td>2000-12-31</td>\n",
       "      <td>5</td>\n",
       "    </tr>\n",
       "    <tr>\n",
       "      <th>3</th>\n",
       "      <td>1</td>\n",
       "      <td>3408</td>\n",
       "      <td>4</td>\n",
       "      <td>978300275</td>\n",
       "      <td>2000-12-31</td>\n",
       "      <td>6</td>\n",
       "    </tr>\n",
       "    <tr>\n",
       "      <th>7</th>\n",
       "      <td>1</td>\n",
       "      <td>2804</td>\n",
       "      <td>5</td>\n",
       "      <td>978300719</td>\n",
       "      <td>2000-12-31</td>\n",
       "      <td>7</td>\n",
       "    </tr>\n",
       "    <tr>\n",
       "      <th>47</th>\n",
       "      <td>1</td>\n",
       "      <td>1207</td>\n",
       "      <td>4</td>\n",
       "      <td>978300719</td>\n",
       "      <td>2000-12-31</td>\n",
       "      <td>8</td>\n",
       "    </tr>\n",
       "    <tr>\n",
       "      <th>0</th>\n",
       "      <td>1</td>\n",
       "      <td>1193</td>\n",
       "      <td>5</td>\n",
       "      <td>978300760</td>\n",
       "      <td>2000-12-31</td>\n",
       "      <td>9</td>\n",
       "    </tr>\n",
       "  </tbody>\n",
       "</table>\n",
       "</div>"
      ],
      "text/plain": [
       "    UserId  ItemId  Rating       Time        Date  item_idx\n",
       "31       1    3186       4  978300019  2000-12-31         0\n",
       "22       1    1270       5  978300055  2000-12-31         1\n",
       "27       1    1721       4  978300055  2000-12-31         2\n",
       "37       1    1022       5  978300055  2000-12-31         3\n",
       "24       1    2340       3  978300103  2000-12-31         4\n",
       "36       1    1836       5  978300172  2000-12-31         5\n",
       "3        1    3408       4  978300275  2000-12-31         6\n",
       "7        1    2804       5  978300719  2000-12-31         7\n",
       "47       1    1207       4  978300719  2000-12-31         8\n",
       "0        1    1193       5  978300760  2000-12-31         9"
      ]
     },
     "execution_count": 38,
     "metadata": {},
     "output_type": "execute_result"
    }
   ],
   "source": [
    "train_dataset = SessionDataset(train)\n",
    "train_dataset.df.head(10)"
   ]
  },
  {
   "cell_type": "markdown",
   "id": "21b9e101",
   "metadata": {},
   "source": [
    "### Session DataLoader"
   ]
  },
  {
   "cell_type": "code",
   "execution_count": 39,
   "id": "e96e0b96",
   "metadata": {},
   "outputs": [],
   "source": [
    "class SessionDataLoader:\n",
    "    \"\"\"Credit to yhs-968/pyGRU4REC.\"\"\"\n",
    "\n",
    "    def __init__(self, dataset: SessionDataset, batch_size=50):\n",
    "        self.dataset = dataset\n",
    "        self.batch_size = batch_size\n",
    "\n",
    "    def __iter__(self):\n",
    "        \"\"\" Returns the iterator for producing session-parallel training mini-batches.\n",
    "        Yields:\n",
    "            input (B,):  Item indices that will be encoded as one-hot vectors later.\n",
    "            target (B,): a Variable that stores the target item indices\n",
    "            masks: Numpy array indicating the positions of the sessions to be terminated\n",
    "        \"\"\"\n",
    "\n",
    "        start, end, mask, last_session, finished = self.initialize()  # initialize 메소드에서 확인해주세요.\n",
    "        \"\"\"\n",
    "        start : Index Where Session Start\n",
    "        end : Index Where Session End\n",
    "        mask : indicator for the sessions to be terminated\n",
    "        \"\"\"\n",
    "\n",
    "        while not finished:\n",
    "            min_len = (end - start).min() - 1  # Shortest Length Among Sessions\n",
    "            for i in range(min_len):\n",
    "                # Build inputs & targets\n",
    "                inp = self.dataset.df['item_idx'].values[start + i]\n",
    "                target = self.dataset.df['item_idx'].values[start + i + 1]\n",
    "                yield inp, target, mask\n",
    "\n",
    "            start, end, mask, last_session, finished = self.update_status(start, end, min_len, last_session, finished)\n",
    "\n",
    "    def initialize(self):\n",
    "        first_iters = np.arange(self.batch_size)    # 첫 배치에 사용할 세션 Index를 가져옵니다.\n",
    "        last_session = self.batch_size - 1    # 마지막으로 다루고 있는 세션 Index를 저장해둡니다.\n",
    "        start = self.dataset.click_offsets[self.dataset.session_idx[first_iters]]       # data 상에서 session이 시작된 위치를 가져옵니다.\n",
    "        end = self.dataset.click_offsets[self.dataset.session_idx[first_iters] + 1]  # session이 끝난 위치 바로 다음 위치를 가져옵니다.\n",
    "        mask = np.array([])   # session의 모든 아이템을 다 돌은 경우 mask에 추가해줄 것입니다.\n",
    "        finished = False         # data를 전부 돌았는지 기록하기 위한 변수입니다.\n",
    "        return start, end, mask, last_session, finished\n",
    "\n",
    "    def update_status(self, start: np.ndarray, end: np.ndarray, min_len: int, last_session: int, finished: bool):  \n",
    "        # 다음 배치 데이터를 생성하기 위해 상태를 update합니다.\n",
    "        \n",
    "        start += min_len   # __iter__에서 min_len 만큼 for문을 돌았으므로 start를 min_len 만큼 더해줍니다.\n",
    "        mask = np.arange(self.batch_size)[(end - start) == 1]  \n",
    "        # end는 다음 세션이 시작되는 위치인데 start와 한 칸 차이난다는 것은 session이 끝났다는 뜻입니다. mask에 기록해줍니다.\n",
    "\n",
    "        for i, idx in enumerate(mask, start=1):  # mask에 추가된 세션 개수만큼 새로운 세션을 돌것입니다.\n",
    "            new_session = last_session + i  \n",
    "            if new_session > self.dataset.session_idx[-1]:  # 만약 새로운 세션이 마지막 세션 index보다 크다면 모든 학습데이터를 돈 것입니다.\n",
    "                finished = True\n",
    "                break\n",
    "            # update the next starting/ending point\n",
    "            start[idx] = self.dataset.click_offsets[self.dataset.session_idx[new_session]]     # 종료된 세션 대신 새로운 세션의 시작점을 기록합니다.\n",
    "            end[idx] = self.dataset.click_offsets[self.dataset.session_idx[new_session] + 1]\n",
    "\n",
    "        last_session += len(mask)  # 마지막 세션의 위치를 기록해둡니다.\n",
    "        return start, end, mask, last_session, finished"
   ]
  },
  {
   "cell_type": "code",
   "execution_count": 40,
   "id": "24091f10",
   "metadata": {},
   "outputs": [
    {
     "data": {
      "text/html": [
       "<div>\n",
       "<style scoped>\n",
       "    .dataframe tbody tr th:only-of-type {\n",
       "        vertical-align: middle;\n",
       "    }\n",
       "\n",
       "    .dataframe tbody tr th {\n",
       "        vertical-align: top;\n",
       "    }\n",
       "\n",
       "    .dataframe thead th {\n",
       "        text-align: right;\n",
       "    }\n",
       "</style>\n",
       "<table border=\"1\" class=\"dataframe\">\n",
       "  <thead>\n",
       "    <tr style=\"text-align: right;\">\n",
       "      <th></th>\n",
       "      <th>UserId</th>\n",
       "      <th>ItemId</th>\n",
       "      <th>Rating</th>\n",
       "      <th>Time</th>\n",
       "      <th>Date</th>\n",
       "      <th>item_idx</th>\n",
       "    </tr>\n",
       "  </thead>\n",
       "  <tbody>\n",
       "    <tr>\n",
       "      <th>31</th>\n",
       "      <td>1</td>\n",
       "      <td>3186</td>\n",
       "      <td>4</td>\n",
       "      <td>978300019</td>\n",
       "      <td>2000-12-31</td>\n",
       "      <td>0</td>\n",
       "    </tr>\n",
       "    <tr>\n",
       "      <th>22</th>\n",
       "      <td>1</td>\n",
       "      <td>1270</td>\n",
       "      <td>5</td>\n",
       "      <td>978300055</td>\n",
       "      <td>2000-12-31</td>\n",
       "      <td>1</td>\n",
       "    </tr>\n",
       "    <tr>\n",
       "      <th>27</th>\n",
       "      <td>1</td>\n",
       "      <td>1721</td>\n",
       "      <td>4</td>\n",
       "      <td>978300055</td>\n",
       "      <td>2000-12-31</td>\n",
       "      <td>2</td>\n",
       "    </tr>\n",
       "    <tr>\n",
       "      <th>37</th>\n",
       "      <td>1</td>\n",
       "      <td>1022</td>\n",
       "      <td>5</td>\n",
       "      <td>978300055</td>\n",
       "      <td>2000-12-31</td>\n",
       "      <td>3</td>\n",
       "    </tr>\n",
       "    <tr>\n",
       "      <th>24</th>\n",
       "      <td>1</td>\n",
       "      <td>2340</td>\n",
       "      <td>3</td>\n",
       "      <td>978300103</td>\n",
       "      <td>2000-12-31</td>\n",
       "      <td>4</td>\n",
       "    </tr>\n",
       "    <tr>\n",
       "      <th>36</th>\n",
       "      <td>1</td>\n",
       "      <td>1836</td>\n",
       "      <td>5</td>\n",
       "      <td>978300172</td>\n",
       "      <td>2000-12-31</td>\n",
       "      <td>5</td>\n",
       "    </tr>\n",
       "    <tr>\n",
       "      <th>3</th>\n",
       "      <td>1</td>\n",
       "      <td>3408</td>\n",
       "      <td>4</td>\n",
       "      <td>978300275</td>\n",
       "      <td>2000-12-31</td>\n",
       "      <td>6</td>\n",
       "    </tr>\n",
       "    <tr>\n",
       "      <th>7</th>\n",
       "      <td>1</td>\n",
       "      <td>2804</td>\n",
       "      <td>5</td>\n",
       "      <td>978300719</td>\n",
       "      <td>2000-12-31</td>\n",
       "      <td>7</td>\n",
       "    </tr>\n",
       "    <tr>\n",
       "      <th>47</th>\n",
       "      <td>1</td>\n",
       "      <td>1207</td>\n",
       "      <td>4</td>\n",
       "      <td>978300719</td>\n",
       "      <td>2000-12-31</td>\n",
       "      <td>8</td>\n",
       "    </tr>\n",
       "    <tr>\n",
       "      <th>0</th>\n",
       "      <td>1</td>\n",
       "      <td>1193</td>\n",
       "      <td>5</td>\n",
       "      <td>978300760</td>\n",
       "      <td>2000-12-31</td>\n",
       "      <td>9</td>\n",
       "    </tr>\n",
       "    <tr>\n",
       "      <th>21</th>\n",
       "      <td>1</td>\n",
       "      <td>720</td>\n",
       "      <td>3</td>\n",
       "      <td>978300760</td>\n",
       "      <td>2000-12-31</td>\n",
       "      <td>10</td>\n",
       "    </tr>\n",
       "    <tr>\n",
       "      <th>44</th>\n",
       "      <td>1</td>\n",
       "      <td>260</td>\n",
       "      <td>4</td>\n",
       "      <td>978300760</td>\n",
       "      <td>2000-12-31</td>\n",
       "      <td>11</td>\n",
       "    </tr>\n",
       "    <tr>\n",
       "      <th>9</th>\n",
       "      <td>1</td>\n",
       "      <td>919</td>\n",
       "      <td>4</td>\n",
       "      <td>978301368</td>\n",
       "      <td>2000-12-31</td>\n",
       "      <td>12</td>\n",
       "    </tr>\n",
       "    <tr>\n",
       "      <th>51</th>\n",
       "      <td>1</td>\n",
       "      <td>608</td>\n",
       "      <td>4</td>\n",
       "      <td>978301398</td>\n",
       "      <td>2000-12-31</td>\n",
       "      <td>13</td>\n",
       "    </tr>\n",
       "    <tr>\n",
       "      <th>43</th>\n",
       "      <td>1</td>\n",
       "      <td>2692</td>\n",
       "      <td>4</td>\n",
       "      <td>978301570</td>\n",
       "      <td>2000-12-31</td>\n",
       "      <td>14</td>\n",
       "    </tr>\n",
       "  </tbody>\n",
       "</table>\n",
       "</div>"
      ],
      "text/plain": [
       "    UserId  ItemId  Rating       Time        Date  item_idx\n",
       "31       1    3186       4  978300019  2000-12-31         0\n",
       "22       1    1270       5  978300055  2000-12-31         1\n",
       "27       1    1721       4  978300055  2000-12-31         2\n",
       "37       1    1022       5  978300055  2000-12-31         3\n",
       "24       1    2340       3  978300103  2000-12-31         4\n",
       "36       1    1836       5  978300172  2000-12-31         5\n",
       "3        1    3408       4  978300275  2000-12-31         6\n",
       "7        1    2804       5  978300719  2000-12-31         7\n",
       "47       1    1207       4  978300719  2000-12-31         8\n",
       "0        1    1193       5  978300760  2000-12-31         9\n",
       "21       1     720       3  978300760  2000-12-31        10\n",
       "44       1     260       4  978300760  2000-12-31        11\n",
       "9        1     919       4  978301368  2000-12-31        12\n",
       "51       1     608       4  978301398  2000-12-31        13\n",
       "43       1    2692       4  978301570  2000-12-31        14"
      ]
     },
     "execution_count": 40,
     "metadata": {},
     "output_type": "execute_result"
    }
   ],
   "source": [
    "train_data_loader = SessionDataLoader(train_dataset, batch_size=4)\n",
    "train_dataset.df.head(15)"
   ]
  },
  {
   "cell_type": "code",
   "execution_count": 41,
   "id": "a6c09a33",
   "metadata": {},
   "outputs": [],
   "source": [
    "iter_ex = iter(train_data_loader)"
   ]
  },
  {
   "cell_type": "code",
   "execution_count": 42,
   "id": "4d02dc5d",
   "metadata": {},
   "outputs": [
    {
     "name": "stdout",
     "output_type": "stream",
     "text": [
      "Model Input Item Idx are : [ 0 53 65 54]\n",
      "Label Item Idx are :       [ 1 54 62 24]\n",
      "Previous Masked Input Idx are []\n"
     ]
    }
   ],
   "source": [
    "inputs, labels, mask =  next(iter_ex)\n",
    "print(f'Model Input Item Idx are : {inputs}')\n",
    "print(f'Label Item Idx are : {\"\":5} {labels}')\n",
    "print(f'Previous Masked Input Idx are {mask}')"
   ]
  },
  {
   "cell_type": "markdown",
   "id": "faa086a9",
   "metadata": {},
   "source": [
    "### 모델 구성"
   ]
  },
  {
   "cell_type": "code",
   "execution_count": 43,
   "id": "79cab88c",
   "metadata": {},
   "outputs": [],
   "source": [
    "# Evaluation Metric\n",
    "def mrr_k(pred, truth: int, k: int):\n",
    "    indexing = np.where(pred[:k] == truth)[0]\n",
    "    if len(indexing) > 0:\n",
    "        return 1 / (indexing[0] + 1)\n",
    "    else:\n",
    "        return 0\n",
    "\n",
    "\n",
    "def recall_k(pred, truth: int, k: int) -> int:\n",
    "    answer = truth in pred[:k]\n",
    "    return int(answer)"
   ]
  },
  {
   "cell_type": "code",
   "execution_count": 44,
   "id": "f2055dd8",
   "metadata": {},
   "outputs": [],
   "source": [
    "# Model Architecture\n",
    "import numpy as np\n",
    "import tensorflow as tf\n",
    "from tensorflow.keras.layers import Input, Dense, Dropout, GRU\n",
    "from tensorflow.keras.losses import categorical_crossentropy\n",
    "from tensorflow.keras.models import Model\n",
    "from tensorflow.keras.optimizers import Adam\n",
    "from tensorflow.keras.utils import to_categorical\n",
    "from tqdm import tqdm"
   ]
  },
  {
   "cell_type": "code",
   "execution_count": 45,
   "id": "ef389b26",
   "metadata": {},
   "outputs": [],
   "source": [
    "def create_model(args):\n",
    "    inputs = Input(batch_shape=(args.batch_size, 1, args.num_items))\n",
    "    gru, _ = GRU(args.hsz, stateful=True, return_state=True, name='GRU')(inputs)\n",
    "    dropout = Dropout(args.drop_rate)(gru)\n",
    "    predictions = Dense(args.num_items, activation='softmax')(dropout)\n",
    "    model = Model(inputs=inputs, outputs=[predictions])\n",
    "    model.compile(loss=categorical_crossentropy, optimizer=Adam(args.lr), metrics=['accuracy'])\n",
    "    model.summary()\n",
    "    return model"
   ]
  },
  {
   "cell_type": "code",
   "execution_count": 47,
   "id": "4b7f2eb7",
   "metadata": {},
   "outputs": [],
   "source": [
    "class Args:\n",
    "    def __init__(self, train, valid, test, batch_size, hsz, drop_rate, lr, epochs, k):\n",
    "        self.train = train\n",
    "        self.valid = valid\n",
    "        self.test = test\n",
    "        self.num_items = train['ItemId'].nunique()\n",
    "        self.num_sessions = train['UserId'].nunique()\n",
    "        self.batch_size = batch_size\n",
    "        self.hsz = hsz\n",
    "        self.drop_rate = drop_rate\n",
    "        self.lr = lr\n",
    "        self.epochs = epochs\n",
    "        self.k = k\n",
    "\n",
    "args = Args(train, valid, test, batch_size=256, hsz=50, drop_rate=0.1, lr=0.001, epochs=50, k=20)"
   ]
  },
  {
   "cell_type": "code",
   "execution_count": 48,
   "id": "d0e5682d",
   "metadata": {},
   "outputs": [
    {
     "name": "stdout",
     "output_type": "stream",
     "text": [
      "Model: \"model\"\n",
      "_________________________________________________________________\n",
      "Layer (type)                 Output Shape              Param #   \n",
      "=================================================================\n",
      "input_1 (InputLayer)         [(256, 1, 3410)]          0         \n",
      "_________________________________________________________________\n",
      "GRU (GRU)                    [(256, 50), (256, 50)]    519300    \n",
      "_________________________________________________________________\n",
      "dropout (Dropout)            (256, 50)                 0         \n",
      "_________________________________________________________________\n",
      "dense (Dense)                (256, 3410)               173910    \n",
      "=================================================================\n",
      "Total params: 693,210\n",
      "Trainable params: 693,210\n",
      "Non-trainable params: 0\n",
      "_________________________________________________________________\n"
     ]
    }
   ],
   "source": [
    "model = create_model(args)"
   ]
  },
  {
   "cell_type": "code",
   "execution_count": 50,
   "id": "5d11c821",
   "metadata": {},
   "outputs": [],
   "source": [
    "# Model Training\n",
    "# train 셋으로 학습하면서 valid 셋으로 검증합니다.\n",
    "# train 셋으로 학습하면서 valid 셋으로 검증합니다.\n",
    "def train_model(model, args):\n",
    "    train_dataset = SessionDataset(args.train)\n",
    "    train_loader = SessionDataLoader(train_dataset, batch_size=args.batch_size)\n",
    "\n",
    "    for epoch in range(1, args.epochs + 1):\n",
    "        total_step = len(args.train) - args.train['UserId'].nunique()\n",
    "        tr_loader = tqdm(train_loader, total=total_step // args.batch_size, desc='Train', mininterval=1)\n",
    "        for feat, target, mask in tr_loader:\n",
    "            reset_hidden_states(model, mask)  # 종료된 session은 hidden_state를 초기화합니다. 아래 메서드에서 확인해주세요.\n",
    "\n",
    "            input_ohe = to_categorical(feat, num_classes=args.num_items)\n",
    "            input_ohe = np.expand_dims(input_ohe, axis=1)\n",
    "            target_ohe = to_categorical(target, num_classes=args.num_items)\n",
    "\n",
    "            result = model.train_on_batch(input_ohe, target_ohe)\n",
    "            tr_loader.set_postfix(train_loss=result[0], accuracy = result[1])\n",
    "\n",
    "        val_recall, val_mrr = get_metrics(args.valid, model, args, args.k)  # valid set에 대해 검증합니다.\n",
    "\n",
    "        print(f\"\\t - Recall@{args.k} epoch {epoch}: {val_recall:3f}\")\n",
    "        print(f\"\\t - MRR@{args.k}    epoch {epoch}: {val_mrr:3f}\\n\")\n",
    "\n",
    "\n",
    "def reset_hidden_states(model, mask):\n",
    "    gru_layer = model.get_layer(name='GRU')  # model에서 gru layer를 가져옵니다.\n",
    "    hidden_states = gru_layer.states[0].numpy()  # gru_layer의 parameter를 가져옵니다.\n",
    "    for elt in mask:  # mask된 인덱스 즉, 종료된 세션의 인덱스를 돌면서\n",
    "        hidden_states[elt, :] = 0  # parameter를 초기화 합니다.\n",
    "    gru_layer.reset_states(states=hidden_states)\n",
    "\n",
    "\n",
    "def get_metrics(data, model, args, k: int):  # valid셋과 test셋을 평가하는 코드입니다. \n",
    "                                             # train과 거의 같지만 mrr, recall을 구하는 라인이 있습니다.\n",
    "    dataset = SessionDataset(data)\n",
    "    loader = SessionDataLoader(dataset, batch_size=args.batch_size)\n",
    "    recall_list, mrr_list = [], []\n",
    "\n",
    "    total_step = len(data) - data['UserId'].nunique()\n",
    "    for inputs, label, mask in tqdm(loader, total=total_step // args.batch_size, desc='Evaluation', mininterval=1):\n",
    "        reset_hidden_states(model, mask)\n",
    "        input_ohe = to_categorical(inputs, num_classes=args.num_items)\n",
    "        input_ohe = np.expand_dims(input_ohe, axis=1)\n",
    "\n",
    "        pred = model.predict(input_ohe, batch_size=args.batch_size)\n",
    "        pred_arg = tf.argsort(pred, direction='DESCENDING')  # softmax 값이 큰 순서대로 sorting 합니다.\n",
    "\n",
    "        length = len(inputs)\n",
    "        recall_list.extend([recall_k(pred_arg[i], label[i], k) for i in range(length)])\n",
    "        mrr_list.extend([mrr_k(pred_arg[i], label[i], k) for i in range(length)])\n",
    "\n",
    "    recall, mrr = np.mean(recall_list), np.mean(mrr_list)\n",
    "    return recall, mrr"
   ]
  },
  {
   "cell_type": "code",
   "execution_count": 51,
   "id": "1f2fca20",
   "metadata": {},
   "outputs": [
    {
     "name": "stderr",
     "output_type": "stream",
     "text": [
      "Train:  95%|█████████▍| 2575/2724 [01:14<00:04, 34.38it/s, accuracy=0.0117, train_loss=6.63] \n",
      "Evaluation:  21%|██        | 62/300 [01:04<04:06,  1.04s/it]\n"
     ]
    },
    {
     "name": "stdout",
     "output_type": "stream",
     "text": [
      "\t - Recall@20 epoch 1: 0.184035\n",
      "\t - MRR@20    epoch 1: 0.047052\n",
      "\n"
     ]
    },
    {
     "name": "stderr",
     "output_type": "stream",
     "text": [
      "Train:  95%|█████████▍| 2575/2724 [00:49<00:02, 51.69it/s, accuracy=0.0117, train_loss=6.15] \n",
      "Evaluation:  21%|██        | 62/300 [01:00<03:52,  1.02it/s]\n"
     ]
    },
    {
     "name": "stdout",
     "output_type": "stream",
     "text": [
      "\t - Recall@20 epoch 2: 0.282069\n",
      "\t - MRR@20    epoch 2: 0.078502\n",
      "\n"
     ]
    },
    {
     "name": "stderr",
     "output_type": "stream",
     "text": [
      "Train:  95%|█████████▍| 2575/2724 [00:49<00:02, 51.66it/s, accuracy=0.0195, train_loss=5.94] \n",
      "Evaluation:  21%|██        | 62/300 [00:58<03:45,  1.06it/s]\n"
     ]
    },
    {
     "name": "stdout",
     "output_type": "stream",
     "text": [
      "\t - Recall@20 epoch 3: 0.323778\n",
      "\t - MRR@20    epoch 3: 0.093085\n",
      "\n"
     ]
    },
    {
     "name": "stderr",
     "output_type": "stream",
     "text": [
      "Train:  95%|█████████▍| 2575/2724 [00:50<00:02, 51.44it/s, accuracy=0.043, train_loss=5.8]   \n",
      "Evaluation:  21%|██        | 62/300 [00:57<03:40,  1.08it/s]\n"
     ]
    },
    {
     "name": "stdout",
     "output_type": "stream",
     "text": [
      "\t - Recall@20 epoch 4: 0.347845\n",
      "\t - MRR@20    epoch 4: 0.105574\n",
      "\n"
     ]
    },
    {
     "name": "stderr",
     "output_type": "stream",
     "text": [
      "Train:  95%|█████████▍| 2575/2724 [00:49<00:02, 52.20it/s, accuracy=0.0234, train_loss=5.76] \n",
      "Evaluation:  21%|██        | 62/300 [00:56<03:38,  1.09it/s]\n"
     ]
    },
    {
     "name": "stdout",
     "output_type": "stream",
     "text": [
      "\t - Recall@20 epoch 5: 0.359753\n",
      "\t - MRR@20    epoch 5: 0.112207\n",
      "\n"
     ]
    },
    {
     "name": "stderr",
     "output_type": "stream",
     "text": [
      "Train:  95%|█████████▍| 2575/2724 [00:49<00:02, 52.03it/s, accuracy=0.0391, train_loss=5.72] \n",
      "Evaluation:  21%|██        | 62/300 [00:56<03:35,  1.10it/s]\n"
     ]
    },
    {
     "name": "stdout",
     "output_type": "stream",
     "text": [
      "\t - Recall@20 epoch 6: 0.366116\n",
      "\t - MRR@20    epoch 6: 0.117198\n",
      "\n"
     ]
    },
    {
     "name": "stderr",
     "output_type": "stream",
     "text": [
      "Train:  95%|█████████▍| 2575/2724 [00:49<00:02, 52.35it/s, accuracy=0.0469, train_loss=5.67] \n",
      "Evaluation:  21%|██        | 62/300 [00:56<03:34,  1.11it/s]\n"
     ]
    },
    {
     "name": "stdout",
     "output_type": "stream",
     "text": [
      "\t - Recall@20 epoch 7: 0.372354\n",
      "\t - MRR@20    epoch 7: 0.120815\n",
      "\n"
     ]
    },
    {
     "name": "stderr",
     "output_type": "stream",
     "text": [
      "Train:  95%|█████████▍| 2575/2724 [00:49<00:02, 52.16it/s, accuracy=0.0469, train_loss=5.68]\n",
      "Evaluation:  21%|██        | 62/300 [00:56<03:35,  1.10it/s]\n"
     ]
    },
    {
     "name": "stdout",
     "output_type": "stream",
     "text": [
      "\t - Recall@20 epoch 8: 0.374685\n",
      "\t - MRR@20    epoch 8: 0.122977\n",
      "\n"
     ]
    },
    {
     "name": "stderr",
     "output_type": "stream",
     "text": [
      "Train:  95%|█████████▍| 2575/2724 [00:49<00:02, 52.05it/s, accuracy=0.0547, train_loss=5.63]\n",
      "Evaluation:  21%|██        | 62/300 [00:55<03:33,  1.11it/s]\n"
     ]
    },
    {
     "name": "stdout",
     "output_type": "stream",
     "text": [
      "\t - Recall@20 epoch 9: 0.378087\n",
      "\t - MRR@20    epoch 9: 0.124886\n",
      "\n"
     ]
    },
    {
     "name": "stderr",
     "output_type": "stream",
     "text": [
      "Train:  95%|█████████▍| 2575/2724 [00:49<00:02, 52.00it/s, accuracy=0.0469, train_loss=5.61]\n",
      "Evaluation:  21%|██        | 62/300 [00:55<03:34,  1.11it/s]\n"
     ]
    },
    {
     "name": "stdout",
     "output_type": "stream",
     "text": [
      "\t - Recall@20 epoch 10: 0.377583\n",
      "\t - MRR@20    epoch 10: 0.125286\n",
      "\n"
     ]
    },
    {
     "name": "stderr",
     "output_type": "stream",
     "text": [
      "Train:  95%|█████████▍| 2575/2724 [00:49<00:02, 51.98it/s, accuracy=0.0508, train_loss=5.62]\n",
      "Evaluation:  21%|██        | 62/300 [00:55<03:33,  1.11it/s]\n"
     ]
    },
    {
     "name": "stdout",
     "output_type": "stream",
     "text": [
      "\t - Recall@20 epoch 11: 0.378843\n",
      "\t - MRR@20    epoch 11: 0.126170\n",
      "\n"
     ]
    },
    {
     "name": "stderr",
     "output_type": "stream",
     "text": [
      "Train:  95%|█████████▍| 2575/2724 [00:49<00:02, 52.32it/s, accuracy=0.0625, train_loss=5.58]\n",
      "Evaluation:  21%|██        | 62/300 [00:55<03:34,  1.11it/s]\n"
     ]
    },
    {
     "name": "stdout",
     "output_type": "stream",
     "text": [
      "\t - Recall@20 epoch 12: 0.380481\n",
      "\t - MRR@20    epoch 12: 0.126864\n",
      "\n"
     ]
    },
    {
     "name": "stderr",
     "output_type": "stream",
     "text": [
      "Train:  95%|█████████▍| 2575/2724 [00:49<00:02, 52.09it/s, accuracy=0.0664, train_loss=5.62]\n",
      "Evaluation:  21%|██        | 62/300 [00:56<03:35,  1.10it/s]\n"
     ]
    },
    {
     "name": "stdout",
     "output_type": "stream",
     "text": [
      "\t - Recall@20 epoch 13: 0.379725\n",
      "\t - MRR@20    epoch 13: 0.128017\n",
      "\n"
     ]
    },
    {
     "name": "stderr",
     "output_type": "stream",
     "text": [
      "Train:  95%|█████████▍| 2575/2724 [00:49<00:02, 51.56it/s, accuracy=0.0508, train_loss=5.62]\n",
      "Evaluation:  21%|██        | 62/300 [00:55<03:33,  1.11it/s]\n"
     ]
    },
    {
     "name": "stdout",
     "output_type": "stream",
     "text": [
      "\t - Recall@20 epoch 14: 0.379977\n",
      "\t - MRR@20    epoch 14: 0.127945\n",
      "\n"
     ]
    },
    {
     "name": "stderr",
     "output_type": "stream",
     "text": [
      "Train:  95%|█████████▍| 2575/2724 [00:48<00:02, 52.60it/s, accuracy=0.0508, train_loss=5.56]\n",
      "Evaluation:  21%|██        | 62/300 [00:55<03:33,  1.11it/s]\n"
     ]
    },
    {
     "name": "stdout",
     "output_type": "stream",
     "text": [
      "\t - Recall@20 epoch 15: 0.381174\n",
      "\t - MRR@20    epoch 15: 0.127699\n",
      "\n"
     ]
    },
    {
     "name": "stderr",
     "output_type": "stream",
     "text": [
      "Train:  95%|█████████▍| 2575/2724 [00:49<00:02, 51.52it/s, accuracy=0.043, train_loss=5.6]  \n",
      "Evaluation:  21%|██        | 62/300 [00:55<03:33,  1.11it/s]\n"
     ]
    },
    {
     "name": "stdout",
     "output_type": "stream",
     "text": [
      "\t - Recall@20 epoch 16: 0.380796\n",
      "\t - MRR@20    epoch 16: 0.128656\n",
      "\n"
     ]
    },
    {
     "name": "stderr",
     "output_type": "stream",
     "text": [
      "Train:  95%|█████████▍| 2575/2724 [00:49<00:02, 51.72it/s, accuracy=0.0664, train_loss=5.62]\n",
      "Evaluation:  21%|██        | 62/300 [00:56<03:35,  1.11it/s]\n"
     ]
    },
    {
     "name": "stdout",
     "output_type": "stream",
     "text": [
      "\t - Recall@20 epoch 17: 0.381174\n",
      "\t - MRR@20    epoch 17: 0.128376\n",
      "\n"
     ]
    },
    {
     "name": "stderr",
     "output_type": "stream",
     "text": [
      "Train:  95%|█████████▍| 2575/2724 [00:50<00:02, 51.28it/s, accuracy=0.0664, train_loss=5.56]\n",
      "Evaluation:  21%|██        | 62/300 [00:57<03:39,  1.09it/s]\n"
     ]
    },
    {
     "name": "stdout",
     "output_type": "stream",
     "text": [
      "\t - Recall@20 epoch 18: 0.379851\n",
      "\t - MRR@20    epoch 18: 0.128246\n",
      "\n"
     ]
    },
    {
     "name": "stderr",
     "output_type": "stream",
     "text": [
      "Train:  95%|█████████▍| 2575/2724 [00:49<00:02, 52.43it/s, accuracy=0.0586, train_loss=5.55]\n",
      "Evaluation:  21%|██        | 62/300 [00:55<03:33,  1.11it/s]\n"
     ]
    },
    {
     "name": "stdout",
     "output_type": "stream",
     "text": [
      "\t - Recall@20 epoch 19: 0.381111\n",
      "\t - MRR@20    epoch 19: 0.129009\n",
      "\n"
     ]
    },
    {
     "name": "stderr",
     "output_type": "stream",
     "text": [
      "Train:  95%|█████████▍| 2575/2724 [00:49<00:02, 52.34it/s, accuracy=0.0625, train_loss=5.56]\n",
      "Evaluation:  21%|██        | 62/300 [00:55<03:33,  1.11it/s]\n"
     ]
    },
    {
     "name": "stdout",
     "output_type": "stream",
     "text": [
      "\t - Recall@20 epoch 20: 0.381993\n",
      "\t - MRR@20    epoch 20: 0.128769\n",
      "\n"
     ]
    },
    {
     "name": "stderr",
     "output_type": "stream",
     "text": [
      "Train:  95%|█████████▍| 2575/2724 [00:49<00:02, 52.21it/s, accuracy=0.0664, train_loss=5.54]\n",
      "Evaluation:  21%|██        | 62/300 [00:55<03:32,  1.12it/s]\n"
     ]
    },
    {
     "name": "stdout",
     "output_type": "stream",
     "text": [
      "\t - Recall@20 epoch 21: 0.381111\n",
      "\t - MRR@20    epoch 21: 0.128492\n",
      "\n"
     ]
    },
    {
     "name": "stderr",
     "output_type": "stream",
     "text": [
      "Train:  95%|█████████▍| 2575/2724 [00:49<00:02, 52.23it/s, accuracy=0.0547, train_loss=5.53]\n",
      "Evaluation:  21%|██        | 62/300 [00:55<03:32,  1.12it/s]\n"
     ]
    },
    {
     "name": "stdout",
     "output_type": "stream",
     "text": [
      "\t - Recall@20 epoch 22: 0.380292\n",
      "\t - MRR@20    epoch 22: 0.128736\n",
      "\n"
     ]
    },
    {
     "name": "stderr",
     "output_type": "stream",
     "text": [
      "Train:  95%|█████████▍| 2575/2724 [00:49<00:02, 52.03it/s, accuracy=0.0625, train_loss=5.52]\n",
      "Evaluation:  21%|██        | 62/300 [00:55<03:34,  1.11it/s]\n"
     ]
    },
    {
     "name": "stdout",
     "output_type": "stream",
     "text": [
      "\t - Recall@20 epoch 23: 0.380355\n",
      "\t - MRR@20    epoch 23: 0.128905\n",
      "\n"
     ]
    },
    {
     "name": "stderr",
     "output_type": "stream",
     "text": [
      "Train:  95%|█████████▍| 2575/2724 [00:50<00:02, 51.45it/s, accuracy=0.0781, train_loss=5.52]\n",
      "Evaluation:  21%|██        | 62/300 [00:55<03:31,  1.12it/s]\n"
     ]
    },
    {
     "name": "stdout",
     "output_type": "stream",
     "text": [
      "\t - Recall@20 epoch 24: 0.379851\n",
      "\t - MRR@20    epoch 24: 0.128570\n",
      "\n"
     ]
    },
    {
     "name": "stderr",
     "output_type": "stream",
     "text": [
      "Train:  95%|█████████▍| 2575/2724 [00:49<00:02, 52.53it/s, accuracy=0.0664, train_loss=5.54]\n",
      "Evaluation:  21%|██        | 62/300 [00:55<03:31,  1.12it/s]\n"
     ]
    },
    {
     "name": "stdout",
     "output_type": "stream",
     "text": [
      "\t - Recall@20 epoch 25: 0.382245\n",
      "\t - MRR@20    epoch 25: 0.129159\n",
      "\n"
     ]
    },
    {
     "name": "stderr",
     "output_type": "stream",
     "text": [
      "Train:  95%|█████████▍| 2575/2724 [00:49<00:02, 52.20it/s, accuracy=0.0312, train_loss=5.55]\n",
      "Evaluation:  21%|██        | 62/300 [00:55<03:31,  1.13it/s]\n"
     ]
    },
    {
     "name": "stdout",
     "output_type": "stream",
     "text": [
      "\t - Recall@20 epoch 26: 0.380859\n",
      "\t - MRR@20    epoch 26: 0.128960\n",
      "\n"
     ]
    },
    {
     "name": "stderr",
     "output_type": "stream",
     "text": [
      "Train:  95%|█████████▍| 2575/2724 [00:48<00:02, 52.55it/s, accuracy=0.0625, train_loss=5.55]\n",
      "Evaluation:  21%|██        | 62/300 [00:55<03:32,  1.12it/s]\n"
     ]
    },
    {
     "name": "stdout",
     "output_type": "stream",
     "text": [
      "\t - Recall@20 epoch 27: 0.382560\n",
      "\t - MRR@20    epoch 27: 0.129355\n",
      "\n"
     ]
    },
    {
     "name": "stderr",
     "output_type": "stream",
     "text": [
      "Train:  95%|█████████▍| 2575/2724 [00:49<00:02, 52.01it/s, accuracy=0.043, train_loss=5.51] \n",
      "Evaluation:  21%|██        | 62/300 [00:56<03:35,  1.10it/s]\n"
     ]
    },
    {
     "name": "stdout",
     "output_type": "stream",
     "text": [
      "\t - Recall@20 epoch 28: 0.381867\n",
      "\t - MRR@20    epoch 28: 0.128984\n",
      "\n"
     ]
    },
    {
     "name": "stderr",
     "output_type": "stream",
     "text": [
      "Train:  95%|█████████▍| 2575/2724 [00:49<00:02, 52.14it/s, accuracy=0.0703, train_loss=5.49]\n",
      "Evaluation:  21%|██        | 62/300 [00:55<03:33,  1.12it/s]\n"
     ]
    },
    {
     "name": "stdout",
     "output_type": "stream",
     "text": [
      "\t - Recall@20 epoch 29: 0.382371\n",
      "\t - MRR@20    epoch 29: 0.129530\n",
      "\n"
     ]
    },
    {
     "name": "stderr",
     "output_type": "stream",
     "text": [
      "Train:  95%|█████████▍| 2575/2724 [00:49<00:02, 52.32it/s, accuracy=0.0664, train_loss=5.54]\n",
      "Evaluation:  21%|██        | 62/300 [00:55<03:32,  1.12it/s]\n"
     ]
    },
    {
     "name": "stdout",
     "output_type": "stream",
     "text": [
      "\t - Recall@20 epoch 30: 0.382119\n",
      "\t - MRR@20    epoch 30: 0.129636\n",
      "\n"
     ]
    },
    {
     "name": "stderr",
     "output_type": "stream",
     "text": [
      "Train:  95%|█████████▍| 2575/2724 [00:49<00:02, 52.32it/s, accuracy=0.0625, train_loss=5.5] \n",
      "Evaluation:  21%|██        | 62/300 [00:55<03:33,  1.12it/s]\n"
     ]
    },
    {
     "name": "stdout",
     "output_type": "stream",
     "text": [
      "\t - Recall@20 epoch 31: 0.381615\n",
      "\t - MRR@20    epoch 31: 0.129387\n",
      "\n"
     ]
    },
    {
     "name": "stderr",
     "output_type": "stream",
     "text": [
      "Train:  95%|█████████▍| 2575/2724 [00:49<00:02, 52.32it/s, accuracy=0.0781, train_loss=5.54]\n",
      "Evaluation:  21%|██        | 62/300 [00:55<03:32,  1.12it/s]\n"
     ]
    },
    {
     "name": "stdout",
     "output_type": "stream",
     "text": [
      "\t - Recall@20 epoch 32: 0.381426\n",
      "\t - MRR@20    epoch 32: 0.129435\n",
      "\n"
     ]
    },
    {
     "name": "stderr",
     "output_type": "stream",
     "text": [
      "Train:  95%|█████████▍| 2575/2724 [00:49<00:02, 52.23it/s, accuracy=0.0508, train_loss=5.48]\n",
      "Evaluation:  21%|██        | 62/300 [00:55<03:33,  1.12it/s]\n"
     ]
    },
    {
     "name": "stdout",
     "output_type": "stream",
     "text": [
      "\t - Recall@20 epoch 33: 0.381237\n",
      "\t - MRR@20    epoch 33: 0.129434\n",
      "\n"
     ]
    },
    {
     "name": "stderr",
     "output_type": "stream",
     "text": [
      "Train:  95%|█████████▍| 2575/2724 [00:49<00:02, 51.96it/s, accuracy=0.0391, train_loss=5.47]\n",
      "Evaluation:  21%|██        | 62/300 [00:55<03:33,  1.12it/s]\n"
     ]
    },
    {
     "name": "stdout",
     "output_type": "stream",
     "text": [
      "\t - Recall@20 epoch 34: 0.381993\n",
      "\t - MRR@20    epoch 34: 0.129469\n",
      "\n"
     ]
    },
    {
     "name": "stderr",
     "output_type": "stream",
     "text": [
      "Train:  95%|█████████▍| 2575/2724 [00:50<00:02, 51.49it/s, accuracy=0.0547, train_loss=5.54]\n",
      "Evaluation:  21%|██        | 62/300 [00:55<03:32,  1.12it/s]\n"
     ]
    },
    {
     "name": "stdout",
     "output_type": "stream",
     "text": [
      "\t - Recall@20 epoch 35: 0.382812\n",
      "\t - MRR@20    epoch 35: 0.129418\n",
      "\n"
     ]
    },
    {
     "name": "stderr",
     "output_type": "stream",
     "text": [
      "Train:  95%|█████████▍| 2575/2724 [00:49<00:02, 51.63it/s, accuracy=0.0625, train_loss=5.53]\n",
      "Evaluation:  21%|██        | 62/300 [00:55<03:32,  1.12it/s]\n"
     ]
    },
    {
     "name": "stdout",
     "output_type": "stream",
     "text": [
      "\t - Recall@20 epoch 36: 0.381804\n",
      "\t - MRR@20    epoch 36: 0.129822\n",
      "\n"
     ]
    },
    {
     "name": "stderr",
     "output_type": "stream",
     "text": [
      "Train:  95%|█████████▍| 2575/2724 [00:49<00:02, 52.02it/s, accuracy=0.0703, train_loss=5.51]\n",
      "Evaluation:  21%|██        | 62/300 [00:55<03:32,  1.12it/s]\n"
     ]
    },
    {
     "name": "stdout",
     "output_type": "stream",
     "text": [
      "\t - Recall@20 epoch 37: 0.382749\n",
      "\t - MRR@20    epoch 37: 0.129557\n",
      "\n"
     ]
    },
    {
     "name": "stderr",
     "output_type": "stream",
     "text": [
      "Train:  95%|█████████▍| 2575/2724 [00:49<00:02, 51.94it/s, accuracy=0.0703, train_loss=5.46]\n",
      "Evaluation:  21%|██        | 62/300 [00:55<03:32,  1.12it/s]\n"
     ]
    },
    {
     "name": "stdout",
     "output_type": "stream",
     "text": [
      "\t - Recall@20 epoch 38: 0.381363\n",
      "\t - MRR@20    epoch 38: 0.129430\n",
      "\n"
     ]
    },
    {
     "name": "stderr",
     "output_type": "stream",
     "text": [
      "Train:  95%|█████████▍| 2575/2724 [00:49<00:02, 52.26it/s, accuracy=0.0703, train_loss=5.5] \n",
      "Evaluation:  21%|██        | 62/300 [00:55<03:32,  1.12it/s]\n"
     ]
    },
    {
     "name": "stdout",
     "output_type": "stream",
     "text": [
      "\t - Recall@20 epoch 39: 0.380859\n",
      "\t - MRR@20    epoch 39: 0.128816\n",
      "\n"
     ]
    },
    {
     "name": "stderr",
     "output_type": "stream",
     "text": [
      "Train:  95%|█████████▍| 2575/2724 [00:49<00:02, 52.25it/s, accuracy=0.0742, train_loss=5.46]\n",
      "Evaluation:  21%|██        | 62/300 [00:55<03:31,  1.12it/s]\n"
     ]
    },
    {
     "name": "stdout",
     "output_type": "stream",
     "text": [
      "\t - Recall@20 epoch 40: 0.382497\n",
      "\t - MRR@20    epoch 40: 0.129562\n",
      "\n"
     ]
    },
    {
     "name": "stderr",
     "output_type": "stream",
     "text": [
      "Train:  95%|█████████▍| 2575/2724 [00:49<00:02, 52.16it/s, accuracy=0.0625, train_loss=5.52]\n",
      "Evaluation:  21%|██        | 62/300 [00:55<03:32,  1.12it/s]\n"
     ]
    },
    {
     "name": "stdout",
     "output_type": "stream",
     "text": [
      "\t - Recall@20 epoch 41: 0.380166\n",
      "\t - MRR@20    epoch 41: 0.128903\n",
      "\n"
     ]
    },
    {
     "name": "stderr",
     "output_type": "stream",
     "text": [
      "Train:  95%|█████████▍| 2575/2724 [00:49<00:02, 52.41it/s, accuracy=0.0664, train_loss=5.46]\n",
      "Evaluation:  21%|██        | 62/300 [00:55<03:32,  1.12it/s]\n"
     ]
    },
    {
     "name": "stdout",
     "output_type": "stream",
     "text": [
      "\t - Recall@20 epoch 42: 0.381300\n",
      "\t - MRR@20    epoch 42: 0.128571\n",
      "\n"
     ]
    },
    {
     "name": "stderr",
     "output_type": "stream",
     "text": [
      "Train:  95%|█████████▍| 2575/2724 [00:49<00:02, 51.85it/s, accuracy=0.0586, train_loss=5.43]\n",
      "Evaluation:  21%|██        | 62/300 [00:55<03:34,  1.11it/s]\n"
     ]
    },
    {
     "name": "stdout",
     "output_type": "stream",
     "text": [
      "\t - Recall@20 epoch 43: 0.382876\n",
      "\t - MRR@20    epoch 43: 0.128902\n",
      "\n"
     ]
    },
    {
     "name": "stderr",
     "output_type": "stream",
     "text": [
      "Train:  95%|█████████▍| 2575/2724 [00:49<00:02, 51.71it/s, accuracy=0.0703, train_loss=5.49]\n",
      "Evaluation:  21%|██        | 62/300 [00:55<03:34,  1.11it/s]\n"
     ]
    },
    {
     "name": "stdout",
     "output_type": "stream",
     "text": [
      "\t - Recall@20 epoch 44: 0.381174\n",
      "\t - MRR@20    epoch 44: 0.128714\n",
      "\n"
     ]
    },
    {
     "name": "stderr",
     "output_type": "stream",
     "text": [
      "Train:  95%|█████████▍| 2575/2724 [00:49<00:02, 52.43it/s, accuracy=0.0547, train_loss=5.52]\n",
      "Evaluation:  21%|██        | 62/300 [00:55<03:32,  1.12it/s]\n"
     ]
    },
    {
     "name": "stdout",
     "output_type": "stream",
     "text": [
      "\t - Recall@20 epoch 45: 0.381048\n",
      "\t - MRR@20    epoch 45: 0.128674\n",
      "\n"
     ]
    },
    {
     "name": "stderr",
     "output_type": "stream",
     "text": [
      "Train:  95%|█████████▍| 2575/2724 [00:49<00:02, 52.39it/s, accuracy=0.0625, train_loss=5.49]\n",
      "Evaluation:  21%|██        | 62/300 [00:55<03:32,  1.12it/s]\n"
     ]
    },
    {
     "name": "stdout",
     "output_type": "stream",
     "text": [
      "\t - Recall@20 epoch 46: 0.380859\n",
      "\t - MRR@20    epoch 46: 0.128159\n",
      "\n"
     ]
    },
    {
     "name": "stderr",
     "output_type": "stream",
     "text": [
      "Train:  95%|█████████▍| 2575/2724 [00:49<00:02, 52.01it/s, accuracy=0.0703, train_loss=5.47]\n",
      "Evaluation:  21%|██        | 62/300 [00:55<03:33,  1.11it/s]\n"
     ]
    },
    {
     "name": "stdout",
     "output_type": "stream",
     "text": [
      "\t - Recall@20 epoch 47: 0.381678\n",
      "\t - MRR@20    epoch 47: 0.129119\n",
      "\n"
     ]
    },
    {
     "name": "stderr",
     "output_type": "stream",
     "text": [
      "Train:  95%|█████████▍| 2575/2724 [00:49<00:02, 52.36it/s, accuracy=0.0742, train_loss=5.47]\n",
      "Evaluation:  21%|██        | 62/300 [00:55<03:32,  1.12it/s]\n"
     ]
    },
    {
     "name": "stdout",
     "output_type": "stream",
     "text": [
      "\t - Recall@20 epoch 48: 0.381300\n",
      "\t - MRR@20    epoch 48: 0.128193\n",
      "\n"
     ]
    },
    {
     "name": "stderr",
     "output_type": "stream",
     "text": [
      "Train:  95%|█████████▍| 2575/2724 [00:48<00:02, 52.55it/s, accuracy=0.0625, train_loss=5.47]\n",
      "Evaluation:  21%|██        | 62/300 [00:55<03:31,  1.12it/s]\n"
     ]
    },
    {
     "name": "stdout",
     "output_type": "stream",
     "text": [
      "\t - Recall@20 epoch 49: 0.380859\n",
      "\t - MRR@20    epoch 49: 0.128442\n",
      "\n"
     ]
    },
    {
     "name": "stderr",
     "output_type": "stream",
     "text": [
      "Train:  95%|█████████▍| 2575/2724 [00:49<00:02, 52.26it/s, accuracy=0.0742, train_loss=5.43]\n",
      "Evaluation:  21%|██        | 62/300 [00:55<03:31,  1.12it/s]"
     ]
    },
    {
     "name": "stdout",
     "output_type": "stream",
     "text": [
      "\t - Recall@20 epoch 50: 0.380607\n",
      "\t - MRR@20    epoch 50: 0.127864\n",
      "\n"
     ]
    },
    {
     "name": "stderr",
     "output_type": "stream",
     "text": [
      "\n"
     ]
    }
   ],
   "source": [
    "train_model(model, args)"
   ]
  },
  {
   "cell_type": "markdown",
   "id": "3fa8966a",
   "metadata": {},
   "source": [
    "### 하이퍼파라미터 변경"
   ]
  },
  {
   "cell_type": "code",
   "execution_count": 52,
   "id": "43efe223",
   "metadata": {},
   "outputs": [],
   "source": [
    "args = Args(train, valid, test, batch_size=128, hsz=50, drop_rate=0.4, lr=0.01, epochs=30, k=20)"
   ]
  },
  {
   "cell_type": "code",
   "execution_count": 53,
   "id": "788055a9",
   "metadata": {},
   "outputs": [
    {
     "name": "stdout",
     "output_type": "stream",
     "text": [
      "Model: \"model_1\"\n",
      "_________________________________________________________________\n",
      "Layer (type)                 Output Shape              Param #   \n",
      "=================================================================\n",
      "input_2 (InputLayer)         [(128, 1, 3410)]          0         \n",
      "_________________________________________________________________\n",
      "GRU (GRU)                    [(128, 50), (128, 50)]    519300    \n",
      "_________________________________________________________________\n",
      "dropout_1 (Dropout)          (128, 50)                 0         \n",
      "_________________________________________________________________\n",
      "dense_1 (Dense)              (128, 3410)               173910    \n",
      "=================================================================\n",
      "Total params: 693,210\n",
      "Trainable params: 693,210\n",
      "Non-trainable params: 0\n",
      "_________________________________________________________________\n"
     ]
    }
   ],
   "source": [
    "model = create_model(args)"
   ]
  },
  {
   "cell_type": "code",
   "execution_count": 54,
   "id": "8d5f5dca",
   "metadata": {},
   "outputs": [
    {
     "name": "stderr",
     "output_type": "stream",
     "text": [
      "Train:  98%|█████████▊| 5313/5449 [01:15<00:01, 70.79it/s, accuracy=0.00781, train_loss=6.25]\n",
      "Evaluation:  57%|█████▋    | 341/601 [02:54<02:13,  1.95it/s]\n"
     ]
    },
    {
     "name": "stdout",
     "output_type": "stream",
     "text": [
      "\t - Recall@20 epoch 1: 0.273712\n",
      "\t - MRR@20    epoch 1: 0.073867\n",
      "\n"
     ]
    },
    {
     "name": "stderr",
     "output_type": "stream",
     "text": [
      "Train:  98%|█████████▊| 5313/5449 [01:12<00:01, 73.17it/s, accuracy=0.0469, train_loss=6.11] \n",
      "Evaluation:  57%|█████▋    | 341/601 [02:50<02:10,  2.00it/s]\n"
     ]
    },
    {
     "name": "stdout",
     "output_type": "stream",
     "text": [
      "\t - Recall@20 epoch 2: 0.285122\n",
      "\t - MRR@20    epoch 2: 0.077665\n",
      "\n"
     ]
    },
    {
     "name": "stderr",
     "output_type": "stream",
     "text": [
      "Train:  98%|█████████▊| 5313/5449 [01:13<00:01, 72.76it/s, accuracy=0.0391, train_loss=5.99] \n",
      "Evaluation:  57%|█████▋    | 341/601 [02:52<02:11,  1.98it/s]\n"
     ]
    },
    {
     "name": "stdout",
     "output_type": "stream",
     "text": [
      "\t - Recall@20 epoch 3: 0.290300\n",
      "\t - MRR@20    epoch 3: 0.080524\n",
      "\n"
     ]
    },
    {
     "name": "stderr",
     "output_type": "stream",
     "text": [
      "Train:  98%|█████████▊| 5313/5449 [01:12<00:01, 73.12it/s, accuracy=0.00781, train_loss=6.05]\n",
      "Evaluation:  57%|█████▋    | 341/601 [02:50<02:10,  2.00it/s]\n"
     ]
    },
    {
     "name": "stdout",
     "output_type": "stream",
     "text": [
      "\t - Recall@20 epoch 4: 0.291766\n",
      "\t - MRR@20    epoch 4: 0.080695\n",
      "\n"
     ]
    },
    {
     "name": "stderr",
     "output_type": "stream",
     "text": [
      "Train:  98%|█████████▊| 5313/5449 [01:12<00:01, 73.21it/s, accuracy=0.0234, train_loss=6.06] \n",
      "Evaluation:  57%|█████▋    | 341/601 [02:50<02:10,  1.99it/s]\n"
     ]
    },
    {
     "name": "stdout",
     "output_type": "stream",
     "text": [
      "\t - Recall@20 epoch 5: 0.291537\n",
      "\t - MRR@20    epoch 5: 0.081010\n",
      "\n"
     ]
    },
    {
     "name": "stderr",
     "output_type": "stream",
     "text": [
      "Train:  98%|█████████▊| 5313/5449 [01:12<00:01, 73.01it/s, accuracy=0.0156, train_loss=5.94] \n",
      "Evaluation:  57%|█████▋    | 341/601 [02:49<02:09,  2.01it/s]\n"
     ]
    },
    {
     "name": "stdout",
     "output_type": "stream",
     "text": [
      "\t - Recall@20 epoch 6: 0.295546\n",
      "\t - MRR@20    epoch 6: 0.081058\n",
      "\n"
     ]
    },
    {
     "name": "stderr",
     "output_type": "stream",
     "text": [
      "Train:  98%|█████████▊| 5313/5449 [01:13<00:01, 72.09it/s, accuracy=0.0469, train_loss=5.96] \n",
      "Evaluation:  57%|█████▋    | 341/601 [02:49<02:09,  2.01it/s]\n"
     ]
    },
    {
     "name": "stdout",
     "output_type": "stream",
     "text": [
      "\t - Recall@20 epoch 7: 0.294469\n",
      "\t - MRR@20    epoch 7: 0.080691\n",
      "\n"
     ]
    },
    {
     "name": "stderr",
     "output_type": "stream",
     "text": [
      "Train:  98%|█████████▊| 5313/5449 [01:12<00:01, 73.13it/s, accuracy=0.00781, train_loss=6.01]\n",
      "Evaluation:  57%|█████▋    | 341/601 [02:49<02:08,  2.02it/s]\n"
     ]
    },
    {
     "name": "stdout",
     "output_type": "stream",
     "text": [
      "\t - Recall@20 epoch 8: 0.294034\n",
      "\t - MRR@20    epoch 8: 0.082526\n",
      "\n"
     ]
    },
    {
     "name": "stderr",
     "output_type": "stream",
     "text": [
      "Train:  98%|█████████▊| 5313/5449 [01:13<00:01, 72.56it/s, accuracy=0.0234, train_loss=6.03] \n",
      "Evaluation:  57%|█████▋    | 341/601 [02:49<02:08,  2.02it/s]\n"
     ]
    },
    {
     "name": "stdout",
     "output_type": "stream",
     "text": [
      "\t - Recall@20 epoch 9: 0.295180\n",
      "\t - MRR@20    epoch 9: 0.082129\n",
      "\n"
     ]
    },
    {
     "name": "stderr",
     "output_type": "stream",
     "text": [
      "Train:  98%|█████████▊| 5313/5449 [01:12<00:01, 73.32it/s, accuracy=0.0391, train_loss=5.99] \n",
      "Evaluation:  57%|█████▋    | 341/601 [02:49<02:09,  2.01it/s]\n"
     ]
    },
    {
     "name": "stdout",
     "output_type": "stream",
     "text": [
      "\t - Recall@20 epoch 10: 0.294309\n",
      "\t - MRR@20    epoch 10: 0.081759\n",
      "\n"
     ]
    },
    {
     "name": "stderr",
     "output_type": "stream",
     "text": [
      "Train:  98%|█████████▊| 5313/5449 [01:12<00:01, 73.61it/s, accuracy=0.0312, train_loss=5.89] \n",
      "Evaluation:  57%|█████▋    | 341/601 [02:49<02:09,  2.02it/s]\n"
     ]
    },
    {
     "name": "stdout",
     "output_type": "stream",
     "text": [
      "\t - Recall@20 epoch 11: 0.295661\n",
      "\t - MRR@20    epoch 11: 0.082348\n",
      "\n"
     ]
    },
    {
     "name": "stderr",
     "output_type": "stream",
     "text": [
      "Train:  98%|█████████▊| 5313/5449 [01:11<00:01, 74.07it/s, accuracy=0.0625, train_loss=5.96] \n",
      "Evaluation:  57%|█████▋    | 341/601 [02:49<02:08,  2.02it/s]\n"
     ]
    },
    {
     "name": "stdout",
     "output_type": "stream",
     "text": [
      "\t - Recall@20 epoch 12: 0.293736\n",
      "\t - MRR@20    epoch 12: 0.081971\n",
      "\n"
     ]
    },
    {
     "name": "stderr",
     "output_type": "stream",
     "text": [
      "Train:  98%|█████████▊| 5313/5449 [01:12<00:01, 73.07it/s, accuracy=0.0312, train_loss=5.97] \n",
      "Evaluation:  57%|█████▋    | 341/601 [02:49<02:09,  2.01it/s]\n"
     ]
    },
    {
     "name": "stdout",
     "output_type": "stream",
     "text": [
      "\t - Recall@20 epoch 13: 0.294630\n",
      "\t - MRR@20    epoch 13: 0.081424\n",
      "\n"
     ]
    },
    {
     "name": "stderr",
     "output_type": "stream",
     "text": [
      "Train:  98%|█████████▊| 5313/5449 [01:13<00:01, 72.58it/s, accuracy=0.0625, train_loss=5.89] \n",
      "Evaluation:  57%|█████▋    | 341/601 [02:49<02:08,  2.02it/s]\n"
     ]
    },
    {
     "name": "stdout",
     "output_type": "stream",
     "text": [
      "\t - Recall@20 epoch 14: 0.294607\n",
      "\t - MRR@20    epoch 14: 0.082093\n",
      "\n"
     ]
    },
    {
     "name": "stderr",
     "output_type": "stream",
     "text": [
      "Train:  98%|█████████▊| 5313/5449 [01:12<00:01, 72.97it/s, accuracy=0.0312, train_loss=5.96] \n",
      "Evaluation:  57%|█████▋    | 341/601 [02:48<02:08,  2.02it/s]\n"
     ]
    },
    {
     "name": "stdout",
     "output_type": "stream",
     "text": [
      "\t - Recall@20 epoch 15: 0.296990\n",
      "\t - MRR@20    epoch 15: 0.082382\n",
      "\n"
     ]
    },
    {
     "name": "stderr",
     "output_type": "stream",
     "text": [
      "Train:  98%|█████████▊| 5313/5449 [01:14<00:01, 71.49it/s, accuracy=0.0234, train_loss=6.07] \n",
      "Evaluation:  57%|█████▋    | 341/601 [02:50<02:09,  2.00it/s]\n"
     ]
    },
    {
     "name": "stdout",
     "output_type": "stream",
     "text": [
      "\t - Recall@20 epoch 16: 0.296508\n",
      "\t - MRR@20    epoch 16: 0.081096\n",
      "\n"
     ]
    },
    {
     "name": "stderr",
     "output_type": "stream",
     "text": [
      "Train:  98%|█████████▊| 5313/5449 [01:13<00:01, 72.56it/s, accuracy=0.0234, train_loss=6.13] \n",
      "Evaluation:  57%|█████▋    | 341/601 [02:49<02:09,  2.01it/s]\n"
     ]
    },
    {
     "name": "stdout",
     "output_type": "stream",
     "text": [
      "\t - Recall@20 epoch 17: 0.296692\n",
      "\t - MRR@20    epoch 17: 0.081631\n",
      "\n"
     ]
    },
    {
     "name": "stderr",
     "output_type": "stream",
     "text": [
      "Train:  98%|█████████▊| 5313/5449 [01:13<00:01, 72.27it/s, accuracy=0.0312, train_loss=6.15] \n",
      "Evaluation:  57%|█████▋    | 341/601 [02:50<02:09,  2.00it/s]\n"
     ]
    },
    {
     "name": "stdout",
     "output_type": "stream",
     "text": [
      "\t - Recall@20 epoch 18: 0.293530\n",
      "\t - MRR@20    epoch 18: 0.081376\n",
      "\n"
     ]
    },
    {
     "name": "stderr",
     "output_type": "stream",
     "text": [
      "Train:  98%|█████████▊| 5313/5449 [01:13<00:01, 72.14it/s, accuracy=0.0234, train_loss=6]    \n",
      "Evaluation:  57%|█████▋    | 341/601 [02:49<02:09,  2.01it/s]\n"
     ]
    },
    {
     "name": "stdout",
     "output_type": "stream",
     "text": [
      "\t - Recall@20 epoch 19: 0.297242\n",
      "\t - MRR@20    epoch 19: 0.081710\n",
      "\n"
     ]
    },
    {
     "name": "stderr",
     "output_type": "stream",
     "text": [
      "Train:  98%|█████████▊| 5313/5449 [01:12<00:01, 73.29it/s, accuracy=0.0391, train_loss=5.92] \n",
      "Evaluation:  57%|█████▋    | 341/601 [02:50<02:10,  2.00it/s]\n"
     ]
    },
    {
     "name": "stdout",
     "output_type": "stream",
     "text": [
      "\t - Recall@20 epoch 20: 0.296050\n",
      "\t - MRR@20    epoch 20: 0.081899\n",
      "\n"
     ]
    },
    {
     "name": "stderr",
     "output_type": "stream",
     "text": [
      "Train:  98%|█████████▊| 5313/5449 [01:12<00:01, 73.38it/s, accuracy=0.0391, train_loss=6.11] \n",
      "Evaluation:  57%|█████▋    | 341/601 [02:49<02:09,  2.01it/s]\n"
     ]
    },
    {
     "name": "stdout",
     "output_type": "stream",
     "text": [
      "\t - Recall@20 epoch 21: 0.293828\n",
      "\t - MRR@20    epoch 21: 0.081177\n",
      "\n"
     ]
    },
    {
     "name": "stderr",
     "output_type": "stream",
     "text": [
      "Train:  98%|█████████▊| 5313/5449 [01:12<00:01, 73.19it/s, accuracy=0.00781, train_loss=5.99]\n",
      "Evaluation:  57%|█████▋    | 341/601 [02:49<02:09,  2.01it/s]\n"
     ]
    },
    {
     "name": "stdout",
     "output_type": "stream",
     "text": [
      "\t - Recall@20 epoch 22: 0.295936\n",
      "\t - MRR@20    epoch 22: 0.082185\n",
      "\n"
     ]
    },
    {
     "name": "stderr",
     "output_type": "stream",
     "text": [
      "Train:  98%|█████████▊| 5313/5449 [01:12<00:01, 73.47it/s, accuracy=0.0156, train_loss=6.09] \n",
      "Evaluation:  57%|█████▋    | 341/601 [02:48<02:08,  2.02it/s]\n"
     ]
    },
    {
     "name": "stdout",
     "output_type": "stream",
     "text": [
      "\t - Recall@20 epoch 23: 0.296463\n",
      "\t - MRR@20    epoch 23: 0.081926\n",
      "\n"
     ]
    },
    {
     "name": "stderr",
     "output_type": "stream",
     "text": [
      "Train:  98%|█████████▊| 5313/5449 [01:11<00:01, 73.95it/s, accuracy=0.0391, train_loss=5.95] \n",
      "Evaluation:  57%|█████▋    | 341/601 [02:50<02:09,  2.00it/s]\n"
     ]
    },
    {
     "name": "stdout",
     "output_type": "stream",
     "text": [
      "\t - Recall@20 epoch 24: 0.293232\n",
      "\t - MRR@20    epoch 24: 0.081129\n",
      "\n"
     ]
    },
    {
     "name": "stderr",
     "output_type": "stream",
     "text": [
      "Train:  98%|█████████▊| 5313/5449 [01:12<00:01, 73.59it/s, accuracy=0.0469, train_loss=6.02] \n",
      "Evaluation:  57%|█████▋    | 341/601 [02:48<02:08,  2.03it/s]\n"
     ]
    },
    {
     "name": "stdout",
     "output_type": "stream",
     "text": [
      "\t - Recall@20 epoch 25: 0.294744\n",
      "\t - MRR@20    epoch 25: 0.081933\n",
      "\n"
     ]
    },
    {
     "name": "stderr",
     "output_type": "stream",
     "text": [
      "Train:  98%|█████████▊| 5313/5449 [01:11<00:01, 73.83it/s, accuracy=0.0312, train_loss=5.97] \n",
      "Evaluation:  57%|█████▋    | 341/601 [02:49<02:09,  2.01it/s]\n"
     ]
    },
    {
     "name": "stdout",
     "output_type": "stream",
     "text": [
      "\t - Recall@20 epoch 26: 0.294905\n",
      "\t - MRR@20    epoch 26: 0.081344\n",
      "\n"
     ]
    },
    {
     "name": "stderr",
     "output_type": "stream",
     "text": [
      "Train:  98%|█████████▊| 5313/5449 [01:11<00:01, 73.97it/s, accuracy=0.0391, train_loss=5.98] \n",
      "Evaluation:  57%|█████▋    | 341/601 [02:48<02:08,  2.02it/s]\n"
     ]
    },
    {
     "name": "stdout",
     "output_type": "stream",
     "text": [
      "\t - Recall@20 epoch 27: 0.292797\n",
      "\t - MRR@20    epoch 27: 0.081400\n",
      "\n"
     ]
    },
    {
     "name": "stderr",
     "output_type": "stream",
     "text": [
      "Train:  98%|█████████▊| 5313/5449 [01:12<00:01, 73.46it/s, accuracy=0.0391, train_loss=5.96] \n",
      "Evaluation:  57%|█████▋    | 341/601 [02:49<02:09,  2.01it/s]\n"
     ]
    },
    {
     "name": "stdout",
     "output_type": "stream",
     "text": [
      "\t - Recall@20 epoch 28: 0.296256\n",
      "\t - MRR@20    epoch 28: 0.081348\n",
      "\n"
     ]
    },
    {
     "name": "stderr",
     "output_type": "stream",
     "text": [
      "Train:  98%|█████████▊| 5313/5449 [01:11<00:01, 73.92it/s, accuracy=0.0234, train_loss=5.83] \n",
      "Evaluation:  57%|█████▋    | 341/601 [02:49<02:09,  2.01it/s]\n"
     ]
    },
    {
     "name": "stdout",
     "output_type": "stream",
     "text": [
      "\t - Recall@20 epoch 29: 0.292659\n",
      "\t - MRR@20    epoch 29: 0.080886\n",
      "\n"
     ]
    },
    {
     "name": "stderr",
     "output_type": "stream",
     "text": [
      "Train:  98%|█████████▊| 5313/5449 [01:11<00:01, 73.80it/s, accuracy=0.0156, train_loss=5.98] \n",
      "Evaluation:  57%|█████▋    | 341/601 [02:49<02:09,  2.01it/s]"
     ]
    },
    {
     "name": "stdout",
     "output_type": "stream",
     "text": [
      "\t - Recall@20 epoch 30: 0.292133\n",
      "\t - MRR@20    epoch 30: 0.079868\n",
      "\n"
     ]
    },
    {
     "name": "stderr",
     "output_type": "stream",
     "text": [
      "\n"
     ]
    }
   ],
   "source": [
    "train_model(model, args)"
   ]
  },
  {
   "cell_type": "code",
   "execution_count": 55,
   "id": "e810584f",
   "metadata": {},
   "outputs": [
    {
     "name": "stderr",
     "output_type": "stream",
     "text": [
      "Evaluation:  85%|████████▍ | 1447/1710 [12:23<02:15,  1.95it/s]"
     ]
    },
    {
     "name": "stdout",
     "output_type": "stream",
     "text": [
      "\t - Recall@20: 0.241151\n",
      "\t - MRR@20: 0.065199\n",
      "\n"
     ]
    },
    {
     "name": "stderr",
     "output_type": "stream",
     "text": [
      "\n"
     ]
    }
   ],
   "source": [
    "def test_model(model, args, test):\n",
    "    test_recall, test_mrr = get_metrics(test, model, args, 20)\n",
    "    print(f\"\\t - Recall@{args.k}: {test_recall:3f}\")\n",
    "    print(f\"\\t - MRR@{args.k}: {test_mrr:3f}\\n\")\n",
    "\n",
    "test_model(model, args, test)"
   ]
  },
  {
   "cell_type": "markdown",
   "id": "fc67df5a",
   "metadata": {},
   "source": [
    "### 모델 구조 변경"
   ]
  },
  {
   "cell_type": "code",
   "execution_count": 56,
   "id": "0c876284",
   "metadata": {},
   "outputs": [],
   "source": [
    "from tensorflow.keras.losses import mse\n",
    "\n",
    "def create_model(args):\n",
    "    inputs = Input(batch_shape=(args.batch_size, 1, args.num_items))\n",
    "    gru, _ = GRU(args.hsz, stateful=True, return_state=True, name='GRU')(inputs)\n",
    "    dropout = Dropout(args.drop_rate)(gru)\n",
    "    predictions = Dense(args.num_items, activation='softmax')(dropout)\n",
    "    model = Model(inputs=inputs, outputs=[predictions])\n",
    "    model.compile(loss=mse, optimizer=Adam(args.lr), metrics=['accuracy'])\n",
    "    model.summary()\n",
    "    return model"
   ]
  },
  {
   "cell_type": "code",
   "execution_count": 57,
   "id": "d1893110",
   "metadata": {},
   "outputs": [],
   "source": [
    "args = Args(train, valid, test, batch_size=128, hsz=50, drop_rate=0.1, lr=0.001, epochs=10, k=20)"
   ]
  },
  {
   "cell_type": "code",
   "execution_count": 58,
   "id": "82e6df8b",
   "metadata": {},
   "outputs": [
    {
     "name": "stdout",
     "output_type": "stream",
     "text": [
      "Model: \"model_2\"\n",
      "_________________________________________________________________\n",
      "Layer (type)                 Output Shape              Param #   \n",
      "=================================================================\n",
      "input_3 (InputLayer)         [(128, 1, 3410)]          0         \n",
      "_________________________________________________________________\n",
      "GRU (GRU)                    [(128, 50), (128, 50)]    519300    \n",
      "_________________________________________________________________\n",
      "dropout_2 (Dropout)          (128, 50)                 0         \n",
      "_________________________________________________________________\n",
      "dense_2 (Dense)              (128, 3410)               173910    \n",
      "=================================================================\n",
      "Total params: 693,210\n",
      "Trainable params: 693,210\n",
      "Non-trainable params: 0\n",
      "_________________________________________________________________\n"
     ]
    }
   ],
   "source": [
    "model = create_model(args)"
   ]
  },
  {
   "cell_type": "code",
   "execution_count": 59,
   "id": "4ae270e0",
   "metadata": {},
   "outputs": [
    {
     "name": "stderr",
     "output_type": "stream",
     "text": [
      "Train:  98%|█████████▊| 5313/5449 [01:10<00:01, 75.20it/s, accuracy=0.00781, train_loss=0.000293]\n",
      "Evaluation:  57%|█████▋    | 341/601 [03:12<02:26,  1.77it/s]\n"
     ]
    },
    {
     "name": "stdout",
     "output_type": "stream",
     "text": [
      "\t - Recall@20 epoch 1: 0.061332\n",
      "\t - MRR@20    epoch 1: 0.012433\n",
      "\n"
     ]
    },
    {
     "name": "stderr",
     "output_type": "stream",
     "text": [
      "Train:  98%|█████████▊| 5313/5449 [01:09<00:01, 76.63it/s, accuracy=0.00781, train_loss=0.000293]\n",
      "Evaluation:  57%|█████▋    | 341/601 [03:11<02:26,  1.78it/s]\n"
     ]
    },
    {
     "name": "stdout",
     "output_type": "stream",
     "text": [
      "\t - Recall@20 epoch 2: 0.062248\n",
      "\t - MRR@20    epoch 2: 0.012614\n",
      "\n"
     ]
    },
    {
     "name": "stderr",
     "output_type": "stream",
     "text": [
      "Train:  98%|█████████▊| 5313/5449 [01:09<00:01, 76.46it/s, accuracy=0.00781, train_loss=0.000293]\n",
      "Evaluation:  57%|█████▋    | 341/601 [03:12<02:26,  1.77it/s]\n"
     ]
    },
    {
     "name": "stdout",
     "output_type": "stream",
     "text": [
      "\t - Recall@20 epoch 3: 0.061859\n",
      "\t - MRR@20    epoch 3: 0.012646\n",
      "\n"
     ]
    },
    {
     "name": "stderr",
     "output_type": "stream",
     "text": [
      "Train:  98%|█████████▊| 5313/5449 [01:09<00:01, 76.75it/s, accuracy=0.00781, train_loss=0.000293]\n",
      "Evaluation:  57%|█████▋    | 341/601 [03:11<02:25,  1.78it/s]\n"
     ]
    },
    {
     "name": "stdout",
     "output_type": "stream",
     "text": [
      "\t - Recall@20 epoch 4: 0.061950\n",
      "\t - MRR@20    epoch 4: 0.012633\n",
      "\n"
     ]
    },
    {
     "name": "stderr",
     "output_type": "stream",
     "text": [
      "Train:  98%|█████████▊| 5313/5449 [01:08<00:01, 77.03it/s, accuracy=0.00781, train_loss=0.000293]\n",
      "Evaluation:  57%|█████▋    | 341/601 [03:12<02:26,  1.77it/s]\n"
     ]
    },
    {
     "name": "stdout",
     "output_type": "stream",
     "text": [
      "\t - Recall@20 epoch 5: 0.062019\n",
      "\t - MRR@20    epoch 5: 0.012624\n",
      "\n"
     ]
    },
    {
     "name": "stderr",
     "output_type": "stream",
     "text": [
      "Train:  98%|█████████▊| 5313/5449 [01:09<00:01, 76.97it/s, accuracy=0.00781, train_loss=0.000293]\n",
      "Evaluation:  57%|█████▋    | 341/601 [03:11<02:26,  1.78it/s]\n"
     ]
    },
    {
     "name": "stdout",
     "output_type": "stream",
     "text": [
      "\t - Recall@20 epoch 6: 0.062019\n",
      "\t - MRR@20    epoch 6: 0.012624\n",
      "\n"
     ]
    },
    {
     "name": "stderr",
     "output_type": "stream",
     "text": [
      "Train:  98%|█████████▊| 5313/5449 [01:10<00:01, 74.87it/s, accuracy=0.00781, train_loss=0.000293]\n",
      "Evaluation:  57%|█████▋    | 341/601 [03:13<02:27,  1.77it/s]\n"
     ]
    },
    {
     "name": "stdout",
     "output_type": "stream",
     "text": [
      "\t - Recall@20 epoch 7: 0.061859\n",
      "\t - MRR@20    epoch 7: 0.012633\n",
      "\n"
     ]
    },
    {
     "name": "stderr",
     "output_type": "stream",
     "text": [
      "Train:  98%|█████████▊| 5313/5449 [01:16<00:01, 69.91it/s, accuracy=0.00781, train_loss=0.000293]\n",
      "Evaluation:  57%|█████▋    | 341/601 [03:19<02:32,  1.71it/s]\n"
     ]
    },
    {
     "name": "stdout",
     "output_type": "stream",
     "text": [
      "\t - Recall@20 epoch 8: 0.061744\n",
      "\t - MRR@20    epoch 8: 0.012619\n",
      "\n"
     ]
    },
    {
     "name": "stderr",
     "output_type": "stream",
     "text": [
      "Train:  98%|█████████▊| 5313/5449 [01:09<00:01, 76.54it/s, accuracy=0.00781, train_loss=0.000293]\n",
      "Evaluation:  57%|█████▋    | 341/601 [03:13<02:27,  1.77it/s]\n"
     ]
    },
    {
     "name": "stdout",
     "output_type": "stream",
     "text": [
      "\t - Recall@20 epoch 9: 0.061492\n",
      "\t - MRR@20    epoch 9: 0.012576\n",
      "\n"
     ]
    },
    {
     "name": "stderr",
     "output_type": "stream",
     "text": [
      "Train:  98%|█████████▊| 5313/5449 [01:09<00:01, 76.51it/s, accuracy=0.00781, train_loss=0.000293]\n",
      "Evaluation:  57%|█████▋    | 341/601 [03:11<02:26,  1.78it/s]"
     ]
    },
    {
     "name": "stdout",
     "output_type": "stream",
     "text": [
      "\t - Recall@20 epoch 10: 0.061584\n",
      "\t - MRR@20    epoch 10: 0.012575\n",
      "\n"
     ]
    },
    {
     "name": "stderr",
     "output_type": "stream",
     "text": [
      "\n"
     ]
    }
   ],
   "source": [
    "train_model(model, args)"
   ]
  },
  {
   "cell_type": "code",
   "execution_count": 60,
   "id": "c3ece083",
   "metadata": {},
   "outputs": [
    {
     "name": "stderr",
     "output_type": "stream",
     "text": [
      "Evaluation:  85%|████████▍ | 1447/1710 [14:00<02:32,  1.72it/s]"
     ]
    },
    {
     "name": "stdout",
     "output_type": "stream",
     "text": [
      "\t - Recall@20: 0.041578\n",
      "\t - MRR@20: 0.008012\n",
      "\n"
     ]
    },
    {
     "name": "stderr",
     "output_type": "stream",
     "text": [
      "\n"
     ]
    }
   ],
   "source": [
    "def test_model(model, args, test):\n",
    "    test_recall, test_mrr = get_metrics(test, model, args, 20)\n",
    "    print(f\"\\t - Recall@{args.k}: {test_recall:3f}\")\n",
    "    print(f\"\\t - MRR@{args.k}: {test_mrr:3f}\\n\")\n",
    "\n",
    "test_model(model, args, test)"
   ]
  },
  {
   "cell_type": "markdown",
   "id": "66542fc0",
   "metadata": {},
   "source": [
    "### 회고\n",
    "\n",
    "데이터톤이랑 같이 하다보니 정신이 없는상황이다. 그리고 데이터톤에 며칠동안 매달리다 보니 제대로 해보지 못하였다. 3번의 변경으로 시도해보였다. 모델은 기존의 노드에 나와있는걸 참고하였다. 하지만 3번다 그리 좋지 않은 모델로 판단된다. 에퐄과 로스를 변경해 보았지만 좋은 효과를 보지 못하였고 마지막엔 결과가 거의 달라ㅈ지 않는 상황이 나와서 당황스러웠다."
   ]
  },
  {
   "cell_type": "code",
   "execution_count": null,
   "id": "096dab54",
   "metadata": {},
   "outputs": [],
   "source": []
  }
 ],
 "metadata": {
  "kernelspec": {
   "display_name": "Python 3 (ipykernel)",
   "language": "python",
   "name": "python3"
  },
  "language_info": {
   "codemirror_mode": {
    "name": "ipython",
    "version": 3
   },
   "file_extension": ".py",
   "mimetype": "text/x-python",
   "name": "python",
   "nbconvert_exporter": "python",
   "pygments_lexer": "ipython3",
   "version": "3.9.7"
  }
 },
 "nbformat": 4,
 "nbformat_minor": 5
}
