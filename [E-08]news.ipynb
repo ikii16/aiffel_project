{
 "cells": [
  {
   "cell_type": "markdown",
   "id": "363f0e58",
   "metadata": {},
   "source": [
    "# 프로젝트: 뉴스기사 요약해보기"
   ]
  },
  {
   "cell_type": "markdown",
   "id": "6cf030ef",
   "metadata": {},
   "source": [
    "새로운 데이터셋에 대해서 추상적 요약과 추출적 요약을 모두 해보는 시간을 가져보자"
   ]
  },
  {
   "cell_type": "markdown",
   "id": "8d10e0e7",
   "metadata": {},
   "source": [
    "### Step 1. 데이터 수집하기\n",
    "\n",
    "데이터는 아래 링크에 있는 뉴스 기사 데이터(news_summary_more.csv)를 사용하세요."
   ]
  },
  {
   "cell_type": "markdown",
   "id": "f02f5af8",
   "metadata": {},
   "source": [
    "필요한 라이브러리 임포트하기"
   ]
  },
  {
   "cell_type": "code",
   "execution_count": 59,
   "id": "05bee4bc",
   "metadata": {},
   "outputs": [
    {
     "name": "stderr",
     "output_type": "stream",
     "text": [
      "[nltk_data] Downloading package stopwords to /aiffel/nltk_data...\n",
      "[nltk_data]   Package stopwords is already up-to-date!\n"
     ]
    }
   ],
   "source": [
    "import nltk\n",
    "nltk.download('stopwords')\n",
    "\n",
    "import numpy as np\n",
    "import pandas as pd\n",
    "import os\n",
    "import re\n",
    "import matplotlib.pyplot as plt\n",
    "from nltk.corpus import stopwords\n",
    "from bs4 import BeautifulSoup \n",
    "from tensorflow.keras.preprocessing.text import Tokenizer \n",
    "from tensorflow.keras.preprocessing.sequence import pad_sequences\n",
    "import urllib.request\n",
    "import warnings\n",
    "warnings.filterwarnings(\"ignore\", category=UserWarning, module='bs4')"
   ]
  },
  {
   "cell_type": "code",
   "execution_count": 60,
   "id": "1c43e0e3",
   "metadata": {},
   "outputs": [
    {
     "data": {
      "text/html": [
       "<div>\n",
       "<style scoped>\n",
       "    .dataframe tbody tr th:only-of-type {\n",
       "        vertical-align: middle;\n",
       "    }\n",
       "\n",
       "    .dataframe tbody tr th {\n",
       "        vertical-align: top;\n",
       "    }\n",
       "\n",
       "    .dataframe thead th {\n",
       "        text-align: right;\n",
       "    }\n",
       "</style>\n",
       "<table border=\"1\" class=\"dataframe\">\n",
       "  <thead>\n",
       "    <tr style=\"text-align: right;\">\n",
       "      <th></th>\n",
       "      <th>headlines</th>\n",
       "      <th>text</th>\n",
       "    </tr>\n",
       "  </thead>\n",
       "  <tbody>\n",
       "    <tr>\n",
       "      <th>0</th>\n",
       "      <td>upGrad learner switches to career in ML &amp; Al w...</td>\n",
       "      <td>Saurav Kant, an alumnus of upGrad and IIIT-B's...</td>\n",
       "    </tr>\n",
       "    <tr>\n",
       "      <th>1</th>\n",
       "      <td>Delhi techie wins free food from Swiggy for on...</td>\n",
       "      <td>Kunal Shah's credit card bill payment platform...</td>\n",
       "    </tr>\n",
       "    <tr>\n",
       "      <th>2</th>\n",
       "      <td>New Zealand end Rohit Sharma-led India's 12-ma...</td>\n",
       "      <td>New Zealand defeated India by 8 wickets in the...</td>\n",
       "    </tr>\n",
       "    <tr>\n",
       "      <th>3</th>\n",
       "      <td>Aegon life iTerm insurance plan helps customer...</td>\n",
       "      <td>With Aegon Life iTerm Insurance plan, customer...</td>\n",
       "    </tr>\n",
       "    <tr>\n",
       "      <th>4</th>\n",
       "      <td>Have known Hirani for yrs, what if MeToo claim...</td>\n",
       "      <td>Speaking about the sexual harassment allegatio...</td>\n",
       "    </tr>\n",
       "    <tr>\n",
       "      <th>...</th>\n",
       "      <td>...</td>\n",
       "      <td>...</td>\n",
       "    </tr>\n",
       "    <tr>\n",
       "      <th>98396</th>\n",
       "      <td>CRPF jawan axed to death by Maoists in Chhatti...</td>\n",
       "      <td>A CRPF jawan was on Tuesday axed to death with...</td>\n",
       "    </tr>\n",
       "    <tr>\n",
       "      <th>98397</th>\n",
       "      <td>First song from Sonakshi Sinha's 'Noor' titled...</td>\n",
       "      <td>'Uff Yeh', the first song from the Sonakshi Si...</td>\n",
       "    </tr>\n",
       "    <tr>\n",
       "      <th>98398</th>\n",
       "      <td>'The Matrix' film to get a reboot: Reports</td>\n",
       "      <td>According to reports, a new version of the 199...</td>\n",
       "    </tr>\n",
       "    <tr>\n",
       "      <th>98399</th>\n",
       "      <td>Snoop Dogg aims gun at clown dressed as Trump ...</td>\n",
       "      <td>A new music video shows rapper Snoop Dogg aimi...</td>\n",
       "    </tr>\n",
       "    <tr>\n",
       "      <th>98400</th>\n",
       "      <td>Madhesi Morcha withdraws support to Nepalese g...</td>\n",
       "      <td>Madhesi Morcha, an alliance of seven political...</td>\n",
       "    </tr>\n",
       "  </tbody>\n",
       "</table>\n",
       "<p>98401 rows × 2 columns</p>\n",
       "</div>"
      ],
      "text/plain": [
       "                                               headlines  \\\n",
       "0      upGrad learner switches to career in ML & Al w...   \n",
       "1      Delhi techie wins free food from Swiggy for on...   \n",
       "2      New Zealand end Rohit Sharma-led India's 12-ma...   \n",
       "3      Aegon life iTerm insurance plan helps customer...   \n",
       "4      Have known Hirani for yrs, what if MeToo claim...   \n",
       "...                                                  ...   \n",
       "98396  CRPF jawan axed to death by Maoists in Chhatti...   \n",
       "98397  First song from Sonakshi Sinha's 'Noor' titled...   \n",
       "98398         'The Matrix' film to get a reboot: Reports   \n",
       "98399  Snoop Dogg aims gun at clown dressed as Trump ...   \n",
       "98400  Madhesi Morcha withdraws support to Nepalese g...   \n",
       "\n",
       "                                                    text  \n",
       "0      Saurav Kant, an alumnus of upGrad and IIIT-B's...  \n",
       "1      Kunal Shah's credit card bill payment platform...  \n",
       "2      New Zealand defeated India by 8 wickets in the...  \n",
       "3      With Aegon Life iTerm Insurance plan, customer...  \n",
       "4      Speaking about the sexual harassment allegatio...  \n",
       "...                                                  ...  \n",
       "98396  A CRPF jawan was on Tuesday axed to death with...  \n",
       "98397  'Uff Yeh', the first song from the Sonakshi Si...  \n",
       "98398  According to reports, a new version of the 199...  \n",
       "98399  A new music video shows rapper Snoop Dogg aimi...  \n",
       "98400  Madhesi Morcha, an alliance of seven political...  \n",
       "\n",
       "[98401 rows x 2 columns]"
      ]
     },
     "execution_count": 60,
     "metadata": {},
     "output_type": "execute_result"
    }
   ],
   "source": [
    "# news_summary_more.csv 데이터 다운받아서 사용하기\n",
    "import urllib.request\n",
    "urllib.request.urlretrieve(\"https://raw.githubusercontent.com/sunnysai12345/News_Summary/master/news_summary_more.csv\", filename=\"news_summary_more.csv\")\n",
    "data = pd.read_csv('news_summary_more.csv', encoding='iso-8859-1')\n",
    "data"
   ]
  },
  {
   "cell_type": "code",
   "execution_count": 61,
   "id": "2bb11a51",
   "metadata": {},
   "outputs": [
    {
     "data": {
      "text/html": [
       "<div>\n",
       "<style scoped>\n",
       "    .dataframe tbody tr th:only-of-type {\n",
       "        vertical-align: middle;\n",
       "    }\n",
       "\n",
       "    .dataframe tbody tr th {\n",
       "        vertical-align: top;\n",
       "    }\n",
       "\n",
       "    .dataframe thead th {\n",
       "        text-align: right;\n",
       "    }\n",
       "</style>\n",
       "<table border=\"1\" class=\"dataframe\">\n",
       "  <thead>\n",
       "    <tr style=\"text-align: right;\">\n",
       "      <th></th>\n",
       "      <th>headlines</th>\n",
       "      <th>text</th>\n",
       "    </tr>\n",
       "  </thead>\n",
       "  <tbody>\n",
       "    <tr>\n",
       "      <th>0</th>\n",
       "      <td>upGrad learner switches to career in ML &amp; Al w...</td>\n",
       "      <td>Saurav Kant, an alumnus of upGrad and IIIT-B's...</td>\n",
       "    </tr>\n",
       "    <tr>\n",
       "      <th>1</th>\n",
       "      <td>Delhi techie wins free food from Swiggy for on...</td>\n",
       "      <td>Kunal Shah's credit card bill payment platform...</td>\n",
       "    </tr>\n",
       "    <tr>\n",
       "      <th>2</th>\n",
       "      <td>New Zealand end Rohit Sharma-led India's 12-ma...</td>\n",
       "      <td>New Zealand defeated India by 8 wickets in the...</td>\n",
       "    </tr>\n",
       "    <tr>\n",
       "      <th>3</th>\n",
       "      <td>Aegon life iTerm insurance plan helps customer...</td>\n",
       "      <td>With Aegon Life iTerm Insurance plan, customer...</td>\n",
       "    </tr>\n",
       "    <tr>\n",
       "      <th>4</th>\n",
       "      <td>Have known Hirani for yrs, what if MeToo claim...</td>\n",
       "      <td>Speaking about the sexual harassment allegatio...</td>\n",
       "    </tr>\n",
       "    <tr>\n",
       "      <th>...</th>\n",
       "      <td>...</td>\n",
       "      <td>...</td>\n",
       "    </tr>\n",
       "    <tr>\n",
       "      <th>98396</th>\n",
       "      <td>CRPF jawan axed to death by Maoists in Chhatti...</td>\n",
       "      <td>A CRPF jawan was on Tuesday axed to death with...</td>\n",
       "    </tr>\n",
       "    <tr>\n",
       "      <th>98397</th>\n",
       "      <td>First song from Sonakshi Sinha's 'Noor' titled...</td>\n",
       "      <td>'Uff Yeh', the first song from the Sonakshi Si...</td>\n",
       "    </tr>\n",
       "    <tr>\n",
       "      <th>98398</th>\n",
       "      <td>'The Matrix' film to get a reboot: Reports</td>\n",
       "      <td>According to reports, a new version of the 199...</td>\n",
       "    </tr>\n",
       "    <tr>\n",
       "      <th>98399</th>\n",
       "      <td>Snoop Dogg aims gun at clown dressed as Trump ...</td>\n",
       "      <td>A new music video shows rapper Snoop Dogg aimi...</td>\n",
       "    </tr>\n",
       "    <tr>\n",
       "      <th>98400</th>\n",
       "      <td>Madhesi Morcha withdraws support to Nepalese g...</td>\n",
       "      <td>Madhesi Morcha, an alliance of seven political...</td>\n",
       "    </tr>\n",
       "  </tbody>\n",
       "</table>\n",
       "<p>98401 rows × 2 columns</p>\n",
       "</div>"
      ],
      "text/plain": [
       "                                               headlines  \\\n",
       "0      upGrad learner switches to career in ML & Al w...   \n",
       "1      Delhi techie wins free food from Swiggy for on...   \n",
       "2      New Zealand end Rohit Sharma-led India's 12-ma...   \n",
       "3      Aegon life iTerm insurance plan helps customer...   \n",
       "4      Have known Hirani for yrs, what if MeToo claim...   \n",
       "...                                                  ...   \n",
       "98396  CRPF jawan axed to death by Maoists in Chhatti...   \n",
       "98397  First song from Sonakshi Sinha's 'Noor' titled...   \n",
       "98398         'The Matrix' film to get a reboot: Reports   \n",
       "98399  Snoop Dogg aims gun at clown dressed as Trump ...   \n",
       "98400  Madhesi Morcha withdraws support to Nepalese g...   \n",
       "\n",
       "                                                    text  \n",
       "0      Saurav Kant, an alumnus of upGrad and IIIT-B's...  \n",
       "1      Kunal Shah's credit card bill payment platform...  \n",
       "2      New Zealand defeated India by 8 wickets in the...  \n",
       "3      With Aegon Life iTerm Insurance plan, customer...  \n",
       "4      Speaking about the sexual harassment allegatio...  \n",
       "...                                                  ...  \n",
       "98396  A CRPF jawan was on Tuesday axed to death with...  \n",
       "98397  'Uff Yeh', the first song from the Sonakshi Si...  \n",
       "98398  According to reports, a new version of the 199...  \n",
       "98399  A new music video shows rapper Snoop Dogg aimi...  \n",
       "98400  Madhesi Morcha, an alliance of seven political...  \n",
       "\n",
       "[98401 rows x 2 columns]"
      ]
     },
     "execution_count": 61,
     "metadata": {},
     "output_type": "execute_result"
    }
   ],
   "source": [
    "data = data[['headlines','text']]\n",
    "data"
   ]
  },
  {
   "cell_type": "code",
   "execution_count": 62,
   "id": "2d91ee55",
   "metadata": {},
   "outputs": [
    {
     "data": {
      "text/html": [
       "<div>\n",
       "<style scoped>\n",
       "    .dataframe tbody tr th:only-of-type {\n",
       "        vertical-align: middle;\n",
       "    }\n",
       "\n",
       "    .dataframe tbody tr th {\n",
       "        vertical-align: top;\n",
       "    }\n",
       "\n",
       "    .dataframe thead th {\n",
       "        text-align: right;\n",
       "    }\n",
       "</style>\n",
       "<table border=\"1\" class=\"dataframe\">\n",
       "  <thead>\n",
       "    <tr style=\"text-align: right;\">\n",
       "      <th></th>\n",
       "      <th>headlines</th>\n",
       "      <th>text</th>\n",
       "    </tr>\n",
       "  </thead>\n",
       "  <tbody>\n",
       "    <tr>\n",
       "      <th>80585</th>\n",
       "      <td>Australia plans law to force tech giants to de...</td>\n",
       "      <td>Australia has unveiled a new legislation which...</td>\n",
       "    </tr>\n",
       "    <tr>\n",
       "      <th>59786</th>\n",
       "      <td>Commercial cinema actresses taken for granted:...</td>\n",
       "      <td>Actress Jacqueline Fernandez has said that she...</td>\n",
       "    </tr>\n",
       "    <tr>\n",
       "      <th>68777</th>\n",
       "      <td>Indians like watches with big dials, many colo...</td>\n",
       "      <td>Tobias Reiss-Schmidt, President and CEO of wat...</td>\n",
       "    </tr>\n",
       "    <tr>\n",
       "      <th>9893</th>\n",
       "      <td>Hackers find iPhone X bug accessing deleted pi...</td>\n",
       "      <td>Two hackers have earned a bounty of Ã¢ÂÂ¹35 l...</td>\n",
       "    </tr>\n",
       "    <tr>\n",
       "      <th>79687</th>\n",
       "      <td>Bengaluru to be developed as hub for gaming, a...</td>\n",
       "      <td>To develop Bengaluru as the international hub ...</td>\n",
       "    </tr>\n",
       "    <tr>\n",
       "      <th>62205</th>\n",
       "      <td>Aditya summoned by ED in Ã¢ÂÂ¹1000 cr music r...</td>\n",
       "      <td>Filmmaker Aditya Chopra, Sony Music India Vice...</td>\n",
       "    </tr>\n",
       "    <tr>\n",
       "      <th>62600</th>\n",
       "      <td>Pakistan media blames India for cross-border p...</td>\n",
       "      <td>A report published in Pakistan's Dawn newspape...</td>\n",
       "    </tr>\n",
       "    <tr>\n",
       "      <th>93182</th>\n",
       "      <td>Turkey favours expanding Prez powers with 75% ...</td>\n",
       "      <td>Votes in favour of Turkish constitutional chan...</td>\n",
       "    </tr>\n",
       "    <tr>\n",
       "      <th>19247</th>\n",
       "      <td>T'gana cop caught on camera beating up wife, m...</td>\n",
       "      <td>A policeman in Telangana was caught on camera ...</td>\n",
       "    </tr>\n",
       "    <tr>\n",
       "      <th>5552</th>\n",
       "      <td>Best I could do: Lata on recording played at A...</td>\n",
       "      <td>Lata Mangeshkar, who recorded a rendition of t...</td>\n",
       "    </tr>\n",
       "  </tbody>\n",
       "</table>\n",
       "</div>"
      ],
      "text/plain": [
       "                                               headlines  \\\n",
       "80585  Australia plans law to force tech giants to de...   \n",
       "59786  Commercial cinema actresses taken for granted:...   \n",
       "68777  Indians like watches with big dials, many colo...   \n",
       "9893   Hackers find iPhone X bug accessing deleted pi...   \n",
       "79687  Bengaluru to be developed as hub for gaming, a...   \n",
       "62205  Aditya summoned by ED in Ã¢ÂÂ¹1000 cr music r...   \n",
       "62600  Pakistan media blames India for cross-border p...   \n",
       "93182  Turkey favours expanding Prez powers with 75% ...   \n",
       "19247  T'gana cop caught on camera beating up wife, m...   \n",
       "5552   Best I could do: Lata on recording played at A...   \n",
       "\n",
       "                                                    text  \n",
       "80585  Australia has unveiled a new legislation which...  \n",
       "59786  Actress Jacqueline Fernandez has said that she...  \n",
       "68777  Tobias Reiss-Schmidt, President and CEO of wat...  \n",
       "9893   Two hackers have earned a bounty of Ã¢ÂÂ¹35 l...  \n",
       "79687  To develop Bengaluru as the international hub ...  \n",
       "62205  Filmmaker Aditya Chopra, Sony Music India Vice...  \n",
       "62600  A report published in Pakistan's Dawn newspape...  \n",
       "93182  Votes in favour of Turkish constitutional chan...  \n",
       "19247  A policeman in Telangana was caught on camera ...  \n",
       "5552   Lata Mangeshkar, who recorded a rendition of t...  "
      ]
     },
     "execution_count": 62,
     "metadata": {},
     "output_type": "execute_result"
    }
   ],
   "source": [
    "# 무작위로 데이터샘플 10개 추출\n",
    "data.sample(10) "
   ]
  },
  {
   "cell_type": "markdown",
   "id": "69a4336c",
   "metadata": {},
   "source": [
    "데이터 확인해보니 헤드라인과 텍스트 두가지 열로 구성 되어있음"
   ]
  },
  {
   "cell_type": "markdown",
   "id": "fa9a1977",
   "metadata": {},
   "source": [
    "### Step 2. 데이터 전처리하기 (추상적 요약)\n",
    "\n",
    "추상적 요약을 하는 경우에는 text를 본문, headlines를 이미 요약된 데이터로 삼아서 모델을 학습 할 수 있다\n",
    "\n",
    "실습에서 사용된 전처리를 참고하여 각자 필요하다고 생각하는 전처리를 추가 사용하여 텍스트를 정규화 또는 정제해 보세요.\n",
    "\n",
    "만약, 불용어 제거를 선택한다면 상대적으로 길이가 짧은 요약 데이터에 대해서도 불용어를 제거하는 것이 좋을지 고민해 보세요."
   ]
  },
  {
   "cell_type": "markdown",
   "id": "134b2566",
   "metadata": {},
   "source": [
    "**(1) 데이터 정리하기**\n",
    "\n",
    "데이터를 불러왔으니 전처리를 진행해 볼게요. \n",
    "\n",
    "빈칸으로 존재하는 null 데이터, 의미는 같지만 다른 식으로 작성된 글 같은 중복 항목과 같은 학습할 때 방해가 되는 데이터를 먼저 솎아낼 거예요."
   ]
  },
  {
   "cell_type": "code",
   "execution_count": 63,
   "id": "20162eaf",
   "metadata": {},
   "outputs": [
    {
     "name": "stdout",
     "output_type": "stream",
     "text": [
      "headlines 열에서 중복을 배제한 유일한 샘플의 수 : 98280\n",
      "text 열에서 중복을 배제한 유일한 샘플의 수 : 98360\n"
     ]
    }
   ],
   "source": [
    "# 데이터의 중복 샘플 유무를 확인\n",
    "\n",
    "print('headlines 열에서 중복을 배제한 유일한 샘플의 수 :', data['headlines'].nunique())\n",
    "print('text 열에서 중복을 배제한 유일한 샘플의 수 :', data['text'].nunique())"
   ]
  },
  {
   "cell_type": "code",
   "execution_count": 64,
   "id": "0a13a19a",
   "metadata": {},
   "outputs": [
    {
     "name": "stdout",
     "output_type": "stream",
     "text": [
      "전체 샘플수 : 98280\n"
     ]
    }
   ],
   "source": [
    "# 데이터프레임의 drop_duplicates()를 사용하면, 손쉽게 중복 샘플을 제거\n",
    "data.drop_duplicates(subset = ['headlines'], inplace=True)\n",
    "# inplace=True 를 설정하면 DataFrame 타입 값을 return 하지 않고 data 내부를 직접적으로 바꿔준다\n",
    "\n",
    "print('전체 샘플수 :', (len(data))) "
   ]
  },
  {
   "cell_type": "code",
   "execution_count": 65,
   "id": "93e3be66",
   "metadata": {},
   "outputs": [
    {
     "name": "stdout",
     "output_type": "stream",
     "text": [
      "headlines    0\n",
      "text         0\n",
      "dtype: int64\n"
     ]
    }
   ],
   "source": [
    "# .isnull().sum()을 사용하여 데이터프레임에 Null 값이 있는지 확인\n",
    "print(data.isnull().sum()) # 기사 헤드라인에 null값이 있을수가 있나?"
   ]
  },
  {
   "cell_type": "code",
   "execution_count": 66,
   "id": "84d61996",
   "metadata": {},
   "outputs": [
    {
     "name": "stdout",
     "output_type": "stream",
     "text": [
      "전체 샘플수 : 98280\n"
     ]
    }
   ],
   "source": [
    "# 데이터프레임에서 Null을 제거할 때는 dropna() 함수를 사용하면 돼요.\n",
    "data.dropna(axis=0, inplace=True)\n",
    "print('전체 샘플수 :', (len(data)))"
   ]
  },
  {
   "cell_type": "markdown",
   "id": "da0b386a",
   "metadata": {},
   "source": [
    "아무래도 기사 헤드라인이다 보니까 null값이 있을수 없는거 같음 그러니 아마도 위에 두 코드는 사용하지 않아도 될거같다"
   ]
  },
  {
   "cell_type": "markdown",
   "id": "578bf2a0",
   "metadata": {},
   "source": [
    "텍스트 정규화와 불용어 제거"
   ]
  },
  {
   "cell_type": "code",
   "execution_count": 67,
   "id": "6a5b52df",
   "metadata": {},
   "outputs": [
    {
     "name": "stdout",
     "output_type": "stream",
     "text": [
      "정규화 사전의 수:  120\n"
     ]
    }
   ],
   "source": [
    "# 텍스트 정규화를 위한 사전(dictionary)을 아래와 같이 구성\n",
    "contractions = {\"ain't\": \"is not\", \"aren't\": \"are not\",\"can't\": \"cannot\", \"'cause\": \"because\", \"could've\": \"could have\", \"couldn't\": \"could not\",\n",
    "                           \"didn't\": \"did not\",  \"doesn't\": \"does not\", \"don't\": \"do not\", \"hadn't\": \"had not\", \"hasn't\": \"has not\", \"haven't\": \"have not\",\n",
    "                           \"he'd\": \"he would\",\"he'll\": \"he will\", \"he's\": \"he is\", \"how'd\": \"how did\", \"how'd'y\": \"how do you\", \"how'll\": \"how will\", \"how's\": \"how is\",\n",
    "                           \"I'd\": \"I would\", \"I'd've\": \"I would have\", \"I'll\": \"I will\", \"I'll've\": \"I will have\",\"I'm\": \"I am\", \"I've\": \"I have\", \"i'd\": \"i would\",\n",
    "                           \"i'd've\": \"i would have\", \"i'll\": \"i will\",  \"i'll've\": \"i will have\",\"i'm\": \"i am\", \"i've\": \"i have\", \"isn't\": \"is not\", \"it'd\": \"it would\",\n",
    "                           \"it'd've\": \"it would have\", \"it'll\": \"it will\", \"it'll've\": \"it will have\",\"it's\": \"it is\", \"let's\": \"let us\", \"ma'am\": \"madam\",\n",
    "                           \"mayn't\": \"may not\", \"might've\": \"might have\",\"mightn't\": \"might not\",\"mightn't've\": \"might not have\", \"must've\": \"must have\",\n",
    "                           \"mustn't\": \"must not\", \"mustn't've\": \"must not have\", \"needn't\": \"need not\", \"needn't've\": \"need not have\",\"o'clock\": \"of the clock\",\n",
    "                           \"oughtn't\": \"ought not\", \"oughtn't've\": \"ought not have\", \"shan't\": \"shall not\", \"sha'n't\": \"shall not\", \"shan't've\": \"shall not have\",\n",
    "                           \"she'd\": \"she would\", \"she'd've\": \"she would have\", \"she'll\": \"she will\", \"she'll've\": \"she will have\", \"she's\": \"she is\",\n",
    "                           \"should've\": \"should have\", \"shouldn't\": \"should not\", \"shouldn't've\": \"should not have\", \"so've\": \"so have\",\"so's\": \"so as\",\n",
    "                           \"this's\": \"this is\",\"that'd\": \"that would\", \"that'd've\": \"that would have\", \"that's\": \"that is\", \"there'd\": \"there would\",\n",
    "                           \"there'd've\": \"there would have\", \"there's\": \"there is\", \"here's\": \"here is\",\"they'd\": \"they would\", \"they'd've\": \"they would have\",\n",
    "                           \"they'll\": \"they will\", \"they'll've\": \"they will have\", \"they're\": \"they are\", \"they've\": \"they have\", \"to've\": \"to have\",\n",
    "                           \"wasn't\": \"was not\", \"we'd\": \"we would\", \"we'd've\": \"we would have\", \"we'll\": \"we will\", \"we'll've\": \"we will have\", \"we're\": \"we are\",\n",
    "                           \"we've\": \"we have\", \"weren't\": \"were not\", \"what'll\": \"what will\", \"what'll've\": \"what will have\", \"what're\": \"what are\",\n",
    "                           \"what's\": \"what is\", \"what've\": \"what have\", \"when's\": \"when is\", \"when've\": \"when have\", \"where'd\": \"where did\", \"where's\": \"where is\",\n",
    "                           \"where've\": \"where have\", \"who'll\": \"who will\", \"who'll've\": \"who will have\", \"who's\": \"who is\", \"who've\": \"who have\",\n",
    "                           \"why's\": \"why is\", \"why've\": \"why have\", \"will've\": \"will have\", \"won't\": \"will not\", \"won't've\": \"will not have\",\n",
    "                           \"would've\": \"would have\", \"wouldn't\": \"would not\", \"wouldn't've\": \"would not have\", \"y'all\": \"you all\",\n",
    "                           \"y'all'd\": \"you all would\",\"y'all'd've\": \"you all would have\",\"y'all're\": \"you all are\",\"y'all've\": \"you all have\",\n",
    "                           \"you'd\": \"you would\", \"you'd've\": \"you would have\", \"you'll\": \"you will\", \"you'll've\": \"you will have\",\n",
    "                           \"you're\": \"you are\", \"you've\": \"you have\"}\n",
    "\n",
    "print(\"정규화 사전의 수: \", len(contractions))"
   ]
  },
  {
   "cell_type": "code",
   "execution_count": 68,
   "id": "fe1d6f4a",
   "metadata": {},
   "outputs": [
    {
     "name": "stdout",
     "output_type": "stream",
     "text": [
      "불용어 개수 : 179\n",
      "['i', 'me', 'my', 'myself', 'we', 'our', 'ours', 'ourselves', 'you', \"you're\", \"you've\", \"you'll\", \"you'd\", 'your', 'yours', 'yourself', 'yourselves', 'he', 'him', 'his', 'himself', 'she', \"she's\", 'her', 'hers', 'herself', 'it', \"it's\", 'its', 'itself', 'they', 'them', 'their', 'theirs', 'themselves', 'what', 'which', 'who', 'whom', 'this', 'that', \"that'll\", 'these', 'those', 'am', 'is', 'are', 'was', 'were', 'be', 'been', 'being', 'have', 'has', 'had', 'having', 'do', 'does', 'did', 'doing', 'a', 'an', 'the', 'and', 'but', 'if', 'or', 'because', 'as', 'until', 'while', 'of', 'at', 'by', 'for', 'with', 'about', 'against', 'between', 'into', 'through', 'during', 'before', 'after', 'above', 'below', 'to', 'from', 'up', 'down', 'in', 'out', 'on', 'off', 'over', 'under', 'again', 'further', 'then', 'once', 'here', 'there', 'when', 'where', 'why', 'how', 'all', 'any', 'both', 'each', 'few', 'more', 'most', 'other', 'some', 'such', 'no', 'nor', 'not', 'only', 'own', 'same', 'so', 'than', 'too', 'very', 's', 't', 'can', 'will', 'just', 'don', \"don't\", 'should', \"should've\", 'now', 'd', 'll', 'm', 'o', 're', 've', 'y', 'ain', 'aren', \"aren't\", 'couldn', \"couldn't\", 'didn', \"didn't\", 'doesn', \"doesn't\", 'hadn', \"hadn't\", 'hasn', \"hasn't\", 'haven', \"haven't\", 'isn', \"isn't\", 'ma', 'mightn', \"mightn't\", 'mustn', \"mustn't\", 'needn', \"needn't\", 'shan', \"shan't\", 'shouldn', \"shouldn't\", 'wasn', \"wasn't\", 'weren', \"weren't\", 'won', \"won't\", 'wouldn', \"wouldn't\"]\n"
     ]
    }
   ],
   "source": [
    "# NLTK에서 제공하는 불용어 리스트를 참조해, 샘플에서 불용어를 제거\n",
    "print('불용어 개수 :', len(stopwords.words('english') ))\n",
    "print(stopwords.words('english'))"
   ]
  },
  {
   "cell_type": "code",
   "execution_count": 69,
   "id": "ef1f243c",
   "metadata": {},
   "outputs": [],
   "source": [
    "# 함수의 하단을 보면, NLTK를 이용해 불용어를 제거하는 파트가 있는데, \n",
    "# 이는 Text 전처리 시에서만 호출하고 이미 상대적으로 문장 길이가 \n",
    "# 짧은 Summary 전처리할 때는 호출하지 않을 예정\n",
    "# 데이터 전처리 함수\n",
    "def preprocess_sentence(sentence, remove_stopwords=True):\n",
    "    sentence = sentence.lower() # 텍스트 소문자화\n",
    "    sentence = BeautifulSoup(sentence, \"lxml\").text # <br />, <a href = ...> 등의 html 태그 제거\n",
    "    sentence = re.sub(r'\\([^)]*\\)', '', sentence) # 괄호로 닫힌 문자열 (...) 제거 Ex) my husband (and myself!) for => my husband for\n",
    "    sentence = re.sub('\"','', sentence) # 쌍따옴표 \" 제거\n",
    "    sentence = ' '.join([contractions[t] if t in contractions else t for t in sentence.split(\" \")]) # 약어 정규화\n",
    "    sentence = re.sub(r\"'s\\b\",\"\", sentence) # 소유격 제거. Ex) roland's -> roland\n",
    "    sentence = re.sub(\"[^a-zA-Z]\", \" \", sentence) # 영어 외 문자(숫자, 특수문자 등) 공백으로 변환\n",
    "    sentence = re.sub('[m]{2,}', 'mm', sentence) # m이 3개 이상이면 2개로 변경. Ex) ummmmmmm yeah -> umm yeah\n",
    "    \n",
    "    # 불용어 제거 (Text)\n",
    "    if remove_stopwords:\n",
    "        tokens = ' '.join(word for word in sentence.split() if not word in stopwords.words('english') if len(word) > 1)\n",
    "    # 불용어 미제거 (Summary)\n",
    "    else:\n",
    "        tokens = ' '.join(word for word in sentence.split() if len(word) > 1)\n",
    "    return tokens"
   ]
  },
  {
   "cell_type": "code",
   "execution_count": 70,
   "id": "8801b448",
   "metadata": {},
   "outputs": [],
   "source": [
    "# 전처리 전, 후의 결과를 확인하기 위해서 임의의 text와 summary를 만들어 함수를 호출\n",
    "temp_headlines = 'Everything I bought was great, infact I ordered twice and the third ordered was<br />for my mother and father.'\n",
    "temp_text = 'Great way to start (or finish) the day!!!'"
   ]
  },
  {
   "cell_type": "code",
   "execution_count": 71,
   "id": "2b99fc67",
   "metadata": {},
   "outputs": [
    {
     "name": "stdout",
     "output_type": "stream",
     "text": [
      "headlines:  everything bought great infact ordered twice third ordered wasfor mother father\n",
      "text: great way to start the day\n"
     ]
    }
   ],
   "source": [
    "print(\"headlines: \", preprocess_sentence(temp_headlines))\n",
    "print(\"text:\", preprocess_sentence(temp_text, False))  # 불용어를 제거하지 않습니다."
   ]
  },
  {
   "cell_type": "code",
   "execution_count": 72,
   "id": "041e17b0",
   "metadata": {},
   "outputs": [
    {
     "name": "stdout",
     "output_type": "stream",
     "text": [
      "headlines 전처리 후 결과:  ['upgrad learner switches career ml al salary hike', 'delhi techie wins free food swiggy one year cred', 'new zealand end rohit sharma led india match winning streak', 'aegon life iterm insurance plan helps customers save tax', 'known hirani yrs metoo claims true sonam']\n"
     ]
    }
   ],
   "source": [
    "# 훈련 데이터 전체에 대해서 전처리를 수행\n",
    "\n",
    "# headlines의 경우에는 불용어를 제거한다\n",
    "clean_headlines = []\n",
    "# 전체 Text 데이터에 대한 전처리 : 10분 이상 시간이 걸릴 수 있습니다. \n",
    "for s in data['headlines']:\n",
    "    clean_headlines.append(preprocess_sentence(s))\n",
    "\n",
    "# 전처리 후 출력\n",
    "print(\"headlines 전처리 후 결과: \", clean_headlines[:5])"
   ]
  },
  {
   "cell_type": "code",
   "execution_count": 73,
   "id": "7b263776",
   "metadata": {},
   "outputs": [
    {
     "name": "stdout",
     "output_type": "stream",
     "text": [
      "text 전처리 후 결과:  ['saurav kant an alumnus of upgrad and iiit pg program in machine learning and artificial intelligence was sr systems engineer at infosys with almost years of work experience the program and upgrad degree career support helped him transition to data scientist at tech mahindra with salary hike upgrad online power learning has powered lakh careers', 'kunal shah credit card bill payment platform cred gave users chance to win free food from swiggy for one year pranav kaushik delhi techie bagged this reward after spending cred coins users get one cred coin per rupee of bill paid which can be used to avail rewards from brands like ixigo bookmyshow ubereats cult fit and more', 'new zealand defeated india by wickets in the fourth odi at hamilton on thursday to win their first match of the five match odi series india lost an international match under rohit sharma captaincy after consecutive victories dating back to march the match witnessed india getting all out for their seventh lowest total in odi cricket history', 'with aegon life iterm insurance plan customers can enjoy tax benefits on your premiums paid and save up to on taxes the plan provides life cover up to the age of years also customers have options to insure against critical illnesses disability and accidental death benefit rider with life cover up to the age of years', 'speaking about the sexual harassment allegations against rajkumar hirani sonam kapoor said have known hirani for many years what if it is not true the metoo movement will get derailed in the metoo movement always believe woman but in this case we need to reserve our judgment she added hirani has been accused by an assistant who worked in sanju']\n"
     ]
    }
   ],
   "source": [
    "# text에 대해서 전처리 함수를 호출해 줄 때는, \n",
    "# 불용어 제거를 수행하지 않는다는 의미에서 두 번째 인자로 False를 넣어줄게요\n",
    "clean_text = []\n",
    "# 전체 text 데이터에 대한 전처리 : 5분 이상 시간이 걸릴 수 있습니다. \n",
    "for s in data['text']:\n",
    "    clean_text.append(preprocess_sentence(s, False))\n",
    "\n",
    "print(\"text 전처리 후 결과: \", clean_text[:5])"
   ]
  },
  {
   "cell_type": "code",
   "execution_count": 74,
   "id": "400d72e8",
   "metadata": {},
   "outputs": [],
   "source": [
    "# 보다 쉽게 확인하기 위해 데이터들을 데이터프레임에 재저장\n",
    "data['headlines'] = clean_headlines\n",
    "data['text'] = clean_text"
   ]
  },
  {
   "cell_type": "code",
   "execution_count": 75,
   "id": "a94c3e92",
   "metadata": {},
   "outputs": [],
   "source": [
    "# 빈 값을 Null 값으로 변환\n",
    "data.replace('', np.nan, inplace=True)"
   ]
  },
  {
   "cell_type": "code",
   "execution_count": 76,
   "id": "6fd7f8eb",
   "metadata": {},
   "outputs": [
    {
     "data": {
      "text/plain": [
       "headlines    0\n",
       "text         0\n",
       "dtype: int64"
      ]
     },
     "execution_count": 76,
     "metadata": {},
     "output_type": "execute_result"
    }
   ],
   "source": [
    "# .isnull().sum()을 사용해서 Null 값이 생겼는지 확인\n",
    "data.isnull().sum() # 역시나 null값은 없음 무의미 해보이나 일단 배운것이기 때문에 해보았음"
   ]
  },
  {
   "cell_type": "code",
   "execution_count": 77,
   "id": "afac46bb",
   "metadata": {},
   "outputs": [
    {
     "name": "stdout",
     "output_type": "stream",
     "text": [
      "전체 샘플수 : 98280\n"
     ]
    }
   ],
   "source": [
    "# 데이터프레임에서 null제거 하기\n",
    "data.dropna(axis=0, inplace=True)\n",
    "print('전체 샘플수 :', (len(data))) # 제거된 null값 존재하지 않음"
   ]
  },
  {
   "cell_type": "markdown",
   "id": "46c6a16e",
   "metadata": {},
   "source": [
    "**(2) 훈련데이터와 테스트데이터 나누기**\n",
    "\n",
    "학습을 진행하기 위해서는 학습에 사용할 데이터의 크기를 결정하고, 문장의 시작과 끝을 표시"
   ]
  },
  {
   "cell_type": "code",
   "execution_count": 78,
   "id": "ba8422fa",
   "metadata": {
    "scrolled": false
   },
   "outputs": [
    {
     "name": "stdout",
     "output_type": "stream",
     "text": [
      "헤드라인의 최소 길이 : 1\n",
      "헤드라인의 최대 길이 : 13\n",
      "헤드라인의 평균 길이 : 7.1367317867317865\n",
      "텍스트의 최소 길이 : 1\n",
      "텍스트의 최대 길이 : 69\n",
      "텍스트의 평균 길이 : 56.18174603174603\n"
     ]
    },
    {
     "data": {
      "image/png": "[encoded data removed]",
      "text/plain": [
       "<Figure size 432x288 with 2 Axes>"
      ]
     },
     "metadata": {
      "needs_background": "light"
     },
     "output_type": "display_data"
    },
    {
     "data": {
      "image/png": "[encoded data removed]",
      "text/plain": [
       "<Figure size 432x288 with 1 Axes>"
      ]
     },
     "metadata": {
      "needs_background": "light"
     },
     "output_type": "display_data"
    },
    {
     "data": {
      "image/png": "[encoded data removed]",
      "text/plain": [
       "<Figure size 432x288 with 1 Axes>"
      ]
     },
     "metadata": {
      "needs_background": "light"
     },
     "output_type": "display_data"
    }
   ],
   "source": [
    "# headlines와 text의 최소, 최대, 평균 길이를 구하고 또한 길이 분포를 시각화\n",
    "# 길이 분포 출력\n",
    "import matplotlib.pyplot as plt\n",
    "\n",
    "headlines_len = [len(s.split()) for s in data['headlines']]\n",
    "text_len = [len(s.split()) for s in data['text']]\n",
    "\n",
    "print('헤드라인의 최소 길이 : {}'.format(np.min(headlines_len)))\n",
    "print('헤드라인의 최대 길이 : {}'.format(np.max(headlines_len)))\n",
    "print('헤드라인의 평균 길이 : {}'.format(np.mean(headlines_len)))\n",
    "print('텍스트의 최소 길이 : {}'.format(np.min(text_len)))\n",
    "print('텍스트의 최대 길이 : {}'.format(np.max(text_len)))\n",
    "print('텍스트의 평균 길이 : {}'.format(np.mean(text_len)))\n",
    "\n",
    "plt.subplot(1,2,1)\n",
    "plt.boxplot(headlines_len)\n",
    "plt.title('headlines')\n",
    "plt.subplot(1,2,2)\n",
    "plt.boxplot(text_len)\n",
    "plt.title('text')\n",
    "plt.tight_layout()\n",
    "plt.show() # 실제 헤드라인과 텍스트의 길이 분포\n",
    "\n",
    "plt.title('headlines')\n",
    "plt.hist(headlines_len, bins = 40)\n",
    "plt.xlabel('length of samples')\n",
    "plt.ylabel('number of samples')\n",
    "plt.show() # 실제 헤드라인 샘플 길이별 개수\n",
    "\n",
    "plt.title('text')\n",
    "plt.hist(text_len, bins = 40)\n",
    "plt.xlabel('length of samples')\n",
    "plt.ylabel('number of samples')\n",
    "plt.show() # 텍스트본 샘플 길이별 개수"
   ]
  },
  {
   "cell_type": "markdown",
   "id": "506867c1",
   "metadata": {},
   "source": [
    "위에 표를 보고 적절한 길이를 정해보았음"
   ]
  },
  {
   "cell_type": "code",
   "execution_count": 82,
   "id": "7102476e",
   "metadata": {},
   "outputs": [],
   "source": [
    "# headlines의 최대 길이와 text의 적절한 최대 길이를 임의로 정해보자\n",
    "headlines_max_len = 7\n",
    "text_max_len = 57"
   ]
  },
  {
   "cell_type": "code",
   "execution_count": 83,
   "id": "04476dd0",
   "metadata": {},
   "outputs": [],
   "source": [
    "# 훈련 데이터와 샘플의 길이를 입력하면, 데이터의 몇 %가 해당하는지 계산하는 함수를 만들어서 좀 더 정확하게 판단해보기\n",
    "# 전체 샘플 중에서 길이가 max_len 이하인 샘플 비율이 몇 %인지 확인 함수 작성\n",
    "def below_threshold_len(max_len, nested_list):\n",
    "  cnt = 0\n",
    "  for s in nested_list:\n",
    "    if(len(s.split()) <= max_len):\n",
    "        cnt = cnt + 1\n",
    "  print('전체 샘플 중 길이가 %s 이하인 샘플의 비율: %s'%(max_len, (cnt / len(nested_list))))"
   ]
  },
  {
   "cell_type": "code",
   "execution_count": 84,
   "id": "ebf83707",
   "metadata": {},
   "outputs": [
    {
     "name": "stdout",
     "output_type": "stream",
     "text": [
      "전체 샘플 중 길이가 7 이하인 샘플의 비율: 0.6263634513634514\n",
      "전체 샘플 중 길이가 57 이하인 샘플의 비율: 0.6256206756206756\n"
     ]
    }
   ],
   "source": [
    "# headlines와 text에 적용해 우리가 결정한 임의의 길이가 몇%의 샘플까지 포함하는지 확인\n",
    "below_threshold_len(headlines_max_len, data['headlines'])\n",
    "below_threshold_len(text_max_len,  data['text'])"
   ]
  },
  {
   "cell_type": "code",
   "execution_count": 85,
   "id": "478623b3",
   "metadata": {},
   "outputs": [
    {
     "name": "stdout",
     "output_type": "stream",
     "text": [
      "전체 샘플수 : 39872\n"
     ]
    }
   ],
   "source": [
    "# 정해진 길이보다 길면 제외하는 방법으로 데이터를 정제\n",
    "data = data[data['headlines'].apply(lambda x: len(x.split()) <= headlines_max_len)]\n",
    "data = data[data['text'].apply(lambda x: len(x.split()) <= text_max_len)]\n",
    "print('전체 샘플수 :', (len(data)))"
   ]
  },
  {
   "cell_type": "code",
   "execution_count": 86,
   "id": "bb1a2ee3",
   "metadata": {},
   "outputs": [
    {
     "data": {
      "text/html": [
       "<div>\n",
       "<style scoped>\n",
       "    .dataframe tbody tr th:only-of-type {\n",
       "        vertical-align: middle;\n",
       "    }\n",
       "\n",
       "    .dataframe tbody tr th {\n",
       "        vertical-align: top;\n",
       "    }\n",
       "\n",
       "    .dataframe thead th {\n",
       "        text-align: right;\n",
       "    }\n",
       "</style>\n",
       "<table border=\"1\" class=\"dataframe\">\n",
       "  <thead>\n",
       "    <tr style=\"text-align: right;\">\n",
       "      <th></th>\n",
       "      <th>headlines</th>\n",
       "      <th>text</th>\n",
       "      <th>decoder_input</th>\n",
       "      <th>decoder_target</th>\n",
       "    </tr>\n",
       "  </thead>\n",
       "  <tbody>\n",
       "    <tr>\n",
       "      <th>6</th>\n",
       "      <td>india get lowest odi total new zealand</td>\n",
       "      <td>india recorded their lowest odi total in new z...</td>\n",
       "      <td>sostoken india get lowest odi total new zealand</td>\n",
       "      <td>india get lowest odi total new zealand eostoken</td>\n",
       "    </tr>\n",
       "    <tr>\n",
       "      <th>12</th>\n",
       "      <td>ram krishna smoke ramdev sadhus kumbh</td>\n",
       "      <td>urging saints and seers at the kumbh mela to q...</td>\n",
       "      <td>sostoken ram krishna smoke ramdev sadhus kumbh</td>\n",
       "      <td>ram krishna smoke ramdev sadhus kumbh eostoken</td>\n",
       "    </tr>\n",
       "    <tr>\n",
       "      <th>18</th>\n",
       "      <td>long tolerate congress leaders potshots taka cm</td>\n",
       "      <td>days after he threatened to step down from his...</td>\n",
       "      <td>sostoken long tolerate congress leaders potsho...</td>\n",
       "      <td>long tolerate congress leaders potshots taka c...</td>\n",
       "    </tr>\n",
       "    <tr>\n",
       "      <th>20</th>\n",
       "      <td>think opposition even dreams pm modi</td>\n",
       "      <td>claiming there is dearth of ideas among opposi...</td>\n",
       "      <td>sostoken think opposition even dreams pm modi</td>\n",
       "      <td>think opposition even dreams pm modi eostoken</td>\n",
       "    </tr>\n",
       "    <tr>\n",
       "      <th>22</th>\n",
       "      <td>killed injured saudi arabia floods</td>\n",
       "      <td>at least people have been killed and others ha...</td>\n",
       "      <td>sostoken killed injured saudi arabia floods</td>\n",
       "      <td>killed injured saudi arabia floods eostoken</td>\n",
       "    </tr>\n",
       "  </tbody>\n",
       "</table>\n",
       "</div>"
      ],
      "text/plain": [
       "                                          headlines  \\\n",
       "6            india get lowest odi total new zealand   \n",
       "12            ram krishna smoke ramdev sadhus kumbh   \n",
       "18  long tolerate congress leaders potshots taka cm   \n",
       "20             think opposition even dreams pm modi   \n",
       "22               killed injured saudi arabia floods   \n",
       "\n",
       "                                                 text  \\\n",
       "6   india recorded their lowest odi total in new z...   \n",
       "12  urging saints and seers at the kumbh mela to q...   \n",
       "18  days after he threatened to step down from his...   \n",
       "20  claiming there is dearth of ideas among opposi...   \n",
       "22  at least people have been killed and others ha...   \n",
       "\n",
       "                                        decoder_input  \\\n",
       "6     sostoken india get lowest odi total new zealand   \n",
       "12     sostoken ram krishna smoke ramdev sadhus kumbh   \n",
       "18  sostoken long tolerate congress leaders potsho...   \n",
       "20      sostoken think opposition even dreams pm modi   \n",
       "22        sostoken killed injured saudi arabia floods   \n",
       "\n",
       "                                       decoder_target  \n",
       "6     india get lowest odi total new zealand eostoken  \n",
       "12     ram krishna smoke ramdev sadhus kumbh eostoken  \n",
       "18  long tolerate congress leaders potshots taka c...  \n",
       "20      think opposition even dreams pm modi eostoken  \n",
       "22        killed injured saudi arabia floods eostoken  "
      ]
     },
     "execution_count": 86,
     "metadata": {},
     "output_type": "execute_result"
    }
   ],
   "source": [
    "# 요약 데이터에는 시작 토큰과 종료 토큰을 추가한다.\n",
    "# 시작 토큰은 sostoken, 종료 토큰은 eostoken이라 임의로 명명하고 앞뒤로 추가\n",
    "data['decoder_input'] = data['headlines'].apply(lambda x : 'sostoken '+ x)\n",
    "data['decoder_target'] = data['headlines'].apply(lambda x : x + ' eostoken')\n",
    "data.head()"
   ]
  },
  {
   "cell_type": "code",
   "execution_count": 87,
   "id": "51e271a3",
   "metadata": {},
   "outputs": [
    {
     "name": "stdout",
     "output_type": "stream",
     "text": [
      "=3\n"
     ]
    }
   ],
   "source": [
    "# 인코더의 입력, 디코더의 입력과 레이블을 각각 다시 Numpy 타입으로 저장\n",
    "encoder_input = np.array(data['text']) # 인코더의 입력\n",
    "decoder_input = np.array(data['decoder_input']) # 디코더의 입력\n",
    "decoder_target = np.array(data['decoder_target']) # 디코더의 레이블\n",
    "print('=3')"
   ]
  },
  {
   "cell_type": "markdown",
   "id": "e5ddfeab",
   "metadata": {},
   "source": [
    "훈련 데이터와 테스트 데이터를 분리"
   ]
  },
  {
   "cell_type": "code",
   "execution_count": 88,
   "id": "e080d0df",
   "metadata": {},
   "outputs": [
    {
     "name": "stdout",
     "output_type": "stream",
     "text": [
      "[14166 18457 28012 ... 20033 17168  6245]\n"
     ]
    }
   ],
   "source": [
    "# encoder_input과 크기와 형태가 같은 순서가 섞인 정수 시퀀스를 만들어줌\n",
    "indices = np.arange(encoder_input.shape[0])\n",
    "np.random.shuffle(indices)\n",
    "print(indices)"
   ]
  },
  {
   "cell_type": "code",
   "execution_count": 89,
   "id": "fa24c3de",
   "metadata": {},
   "outputs": [
    {
     "name": "stdout",
     "output_type": "stream",
     "text": [
      "=3\n"
     ]
    }
   ],
   "source": [
    "# 정수 시퀀스를 이용해 다시 데이터의 샘플 순서를 정의해 주면 잘 섞인 샘플이 됨\n",
    "encoder_input = encoder_input[indices]\n",
    "decoder_input = decoder_input[indices]\n",
    "decoder_target = decoder_target[indices]\n",
    "print('=3')"
   ]
  },
  {
   "cell_type": "code",
   "execution_count": 90,
   "id": "3115c03e",
   "metadata": {},
   "outputs": [
    {
     "name": "stdout",
     "output_type": "stream",
     "text": [
      "테스트 데이터의 수 : 7974\n"
     ]
    }
   ],
   "source": [
    "# 섞인 데이터를 8:2의 비율로 훈련 데이터와 테스트 데이터로 분리\n",
    "# 전체 데이터의 크기에서 0.2를 곱해서 테스트 데이터의 크기를 정의\n",
    "n_of_val = int(len(encoder_input)*0.2)\n",
    "print('테스트 데이터의 수 :', n_of_val)"
   ]
  },
  {
   "cell_type": "code",
   "execution_count": 91,
   "id": "02738bba",
   "metadata": {},
   "outputs": [
    {
     "name": "stdout",
     "output_type": "stream",
     "text": [
      "훈련 데이터의 개수 : 31898\n",
      "훈련 레이블의 개수 : 31898\n",
      "테스트 데이터의 개수 : 7974\n",
      "테스트 레이블의 개수 : 7974\n"
     ]
    }
   ],
   "source": [
    "# 정의한 테스트 데이터의 개수를 이용해 전체 데이터를 양분할게요. :표시의 위치에 주의\n",
    "encoder_input_train = encoder_input[:-n_of_val] # 뒤에서 n_of_val 번째 제외\n",
    "decoder_input_train = decoder_input[:-n_of_val]\n",
    "decoder_target_train = decoder_target[:-n_of_val]\n",
    "\n",
    "encoder_input_test = encoder_input[-n_of_val:]\n",
    "decoder_input_test = decoder_input[-n_of_val:]\n",
    "decoder_target_test = decoder_target[-n_of_val:]\n",
    "\n",
    "print('훈련 데이터의 개수 :', len(encoder_input_train))\n",
    "print('훈련 레이블의 개수 :', len(decoder_input_train))\n",
    "print('테스트 데이터의 개수 :', len(encoder_input_test))\n",
    "print('테스트 레이블의 개수 :', len(decoder_input_test))"
   ]
  },
  {
   "cell_type": "markdown",
   "id": "8446479a",
   "metadata": {},
   "source": [
    "**(3) 정수 인코딩**\n",
    "\n",
    "**단어 집합(vocabulary) 만들기 및 정수 인코딩**\n",
    "\n",
    "기계가 텍스트를 숫자로 처리할 수 있도록 훈련 데이터와 테스트 데이터의 단어들을 모두 정수로 바꾸어 주어야 해요. \n",
    "\n",
    "이를 위해서는 각 단어에 고유한 정수를 맵핑하는 작업이 필요해요. 이 과정을 단어 집합(vocabulary) 을 만든다고 표현"
   ]
  },
  {
   "cell_type": "code",
   "execution_count": 92,
   "id": "668ee378",
   "metadata": {},
   "outputs": [
    {
     "name": "stdout",
     "output_type": "stream",
     "text": [
      "=3\n"
     ]
    }
   ],
   "source": [
    "# Keras의 토크나이저를 사용하면, 입력된 훈련 데이터로부터 단어 집합 만들수 있음\n",
    "src_tokenizer = Tokenizer() # 토크나이저 정의\n",
    "src_tokenizer.fit_on_texts(encoder_input_train) # 입력된 데이터로부터 단어 집합 생성\n",
    "print('=3')"
   ]
  },
  {
   "cell_type": "code",
   "execution_count": 93,
   "id": "b0208489",
   "metadata": {},
   "outputs": [
    {
     "name": "stdout",
     "output_type": "stream",
     "text": [
      "단어 집합(vocabulary)의 크기 : 47869\n",
      "등장 빈도가 5번 이하인 희귀 단어의 수: 32455\n",
      "단어 집합에서 희귀 단어를 제외시킬 경우의 단어 집합의 크기 15414\n",
      "단어 집합에서 희귀 단어의 비율: 67.79961979569241\n",
      "전체 등장 빈도에서 희귀 단어 등장 빈도 비율: 3.526808239121552\n"
     ]
    }
   ],
   "source": [
    "# 등장 빈도수가 7회 미만인 단어들이 이 데이터에서 얼만큼의 비중을 차지하는지 확인해볼게요.\n",
    "# src_tokenizer.word_counts.items()에는 단어와 각 단어의 등장 빈도수가 저장돼 있는데, \n",
    "# 이를 통해서 통계적인 정보를 얻을 수 있어요.\n",
    "threshold = 6\n",
    "total_cnt = len(src_tokenizer.word_index) # 단어의 수\n",
    "rare_cnt = 0 # 등장 빈도수가 threshold보다 작은 단어의 개수를 카운트\n",
    "total_freq = 0 # 훈련 데이터의 전체 단어 빈도수 총 합\n",
    "rare_freq = 0 # 등장 빈도수가 threshold보다 작은 단어의 등장 빈도수의 총 합\n",
    "\n",
    "# 단어와 빈도수의 쌍(pair)을 key와 value로 받는다.\n",
    "for key, value in src_tokenizer.word_counts.items():\n",
    "    total_freq = total_freq + value\n",
    "\n",
    "    # 단어의 등장 빈도수가 threshold보다 작으면\n",
    "    if(value < threshold):\n",
    "        rare_cnt = rare_cnt + 1\n",
    "        rare_freq = rare_freq + value\n",
    "\n",
    "print('단어 집합(vocabulary)의 크기 :', total_cnt)\n",
    "print('등장 빈도가 %s번 이하인 희귀 단어의 수: %s'%(threshold - 1, rare_cnt))\n",
    "print('단어 집합에서 희귀 단어를 제외시킬 경우의 단어 집합의 크기 %s'%(total_cnt - rare_cnt))\n",
    "print(\"단어 집합에서 희귀 단어의 비율:\", (rare_cnt / total_cnt)*100)\n",
    "print(\"전체 등장 빈도에서 희귀 단어 등장 빈도 비율:\", (rare_freq / total_freq)*100)"
   ]
  },
  {
   "cell_type": "code",
   "execution_count": 94,
   "id": "42cc8ca0",
   "metadata": {},
   "outputs": [
    {
     "name": "stdout",
     "output_type": "stream",
     "text": [
      "=3\n"
     ]
    }
   ],
   "source": [
    "# 등장 빈도가 6회 이하인 단어들은 정수 인코딩 과정에서 빼고, \n",
    "# 훈련 데이터에서 제거하고자 합니다. \n",
    "# 위에서 이를 제외한 단어 집합의 크기를 2만여 개로 계산했는데, \n",
    "# 이와 비슷한 값으로 어림잡아 단어 집합의 크기를 20000으로 제한해볼게요. \n",
    "# 토크나이저를 정의할 때 num_words의 값을 정해주면, 단어 집합의 크기를 제한할 수 있어요.\n",
    "src_vocab = 15000\n",
    "src_tokenizer = Tokenizer(num_words=src_vocab) # 단어 집합의 크기를 15000으로 제한\n",
    "src_tokenizer.fit_on_texts(encoder_input_train) # 단어 집합 재생성\n",
    "print('=3')"
   ]
  },
  {
   "cell_type": "code",
   "execution_count": 95,
   "id": "c95a4922",
   "metadata": {},
   "outputs": [
    {
     "name": "stdout",
     "output_type": "stream",
     "text": [
      "[[238, 186, 438, 215, 7, 5293, 1, 499, 28, 688, 179, 2, 1017, 8, 102, 41, 13, 46, 560, 1480, 83, 2644, 5188, 1, 75, 39, 142, 3, 3645, 311, 10, 1, 519, 213, 2861, 191, 24, 2706, 76, 2170, 213, 215, 19, 39, 1323, 1, 10055, 213, 5, 925, 651, 1809, 16, 1358, 1347], [3027, 3646, 30, 11, 31, 172, 4, 32, 462, 1470, 1324, 822, 3, 318, 4, 221, 12971, 1584, 3, 1, 463, 970, 4, 1, 305, 170, 49, 267, 793, 6, 151, 1, 1337, 28, 314, 84, 1367, 3, 491, 72, 33, 990, 12051, 2, 1021, 822, 3646, 26, 31, 1324, 822, 8, 32, 3, 1126, 153, 372], [18, 228, 18, 976, 666, 4, 32, 289, 904, 726, 450, 3, 1059, 19, 4280, 1150, 5, 268, 18, 12972, 17, 757, 407, 58, 5189, 5920, 38, 33, 8, 38, 1359, 1, 60, 11259, 306, 7, 9555, 14, 1, 2707, 11260, 737, 10, 1733, 8, 1, 1965, 4, 976, 666, 3, 1, 60]]\n"
     ]
    }
   ],
   "source": [
    "# texts_to_sequences()는 생성된 단어 집합에 기반하여 입력으로 주어진 텍스트 데이터의 \n",
    "# 단어들을 모두 정수로 변환하는 정수 인코딩을 수행해요. \n",
    "# 현재 단어 집합의 크기를 20000으로 제한했으니까 \n",
    "# 이제 20000이 넘는 숫자들은 정수 인코딩 후에는 데이터에 존재하지 않아요.\n",
    "# 텍스트 시퀀스를 정수 시퀀스로 변환\n",
    "encoder_input_train = src_tokenizer.texts_to_sequences(encoder_input_train) \n",
    "encoder_input_test = src_tokenizer.texts_to_sequences(encoder_input_test)\n",
    "# 잘 진행되었는지 샘플 출력\n",
    "print(encoder_input_train[:3]) # 텍스트 데이터가 아니라 정수가 나옴"
   ]
  },
  {
   "cell_type": "code",
   "execution_count": 96,
   "id": "fe3f1981",
   "metadata": {},
   "outputs": [
    {
     "name": "stdout",
     "output_type": "stream",
     "text": [
      "=3\n"
     ]
    }
   ],
   "source": [
    "# decoder_input_train을 입력으로 전체 단어 집합과 각 단어에 대한 빈도수를 계산\n",
    "tar_tokenizer = Tokenizer()\n",
    "tar_tokenizer.fit_on_texts(decoder_input_train)\n",
    "print('=3')"
   ]
  },
  {
   "cell_type": "code",
   "execution_count": 97,
   "id": "e0e78862",
   "metadata": {},
   "outputs": [
    {
     "name": "stdout",
     "output_type": "stream",
     "text": [
      "단어 집합(vocabulary)의 크기 : 20920\n",
      "등장 빈도가 4번 이하인 희귀 단어의 수: 14207\n",
      "단어 집합에서 희귀 단어를 제외시킬 경우의 단어 집합의 크기 6713\n",
      "단어 집합에서 희귀 단어의 비율: 67.9110898661568\n",
      "전체 등장 빈도에서 희귀 단어 등장 빈도 비율: 10.265685630075698\n"
     ]
    }
   ],
   "source": [
    "threshold = 5\n",
    "total_cnt = len(tar_tokenizer.word_index) # 단어의 수\n",
    "rare_cnt = 0 # 등장 빈도수가 threshold보다 작은 단어의 개수를 카운트\n",
    "total_freq = 0 # 훈련 데이터의 전체 단어 빈도수 총 합\n",
    "rare_freq = 0 # 등장 빈도수가 threshold보다 작은 단어의 등장 빈도수의 총 합\n",
    "\n",
    "# 단어와 빈도수의 쌍(pair)을 key와 value로 받는다.\n",
    "for key, value in tar_tokenizer.word_counts.items():\n",
    "    total_freq = total_freq + value\n",
    "\n",
    "    # 단어의 등장 빈도수가 threshold보다 작으면\n",
    "    if(value < threshold):\n",
    "        rare_cnt = rare_cnt + 1\n",
    "        rare_freq = rare_freq + value\n",
    "\n",
    "print('단어 집합(vocabulary)의 크기 :', total_cnt)\n",
    "print('등장 빈도가 %s번 이하인 희귀 단어의 수: %s'%(threshold - 1, rare_cnt))\n",
    "print('단어 집합에서 희귀 단어를 제외시킬 경우의 단어 집합의 크기 %s'%(total_cnt - rare_cnt))\n",
    "print(\"단어 집합에서 희귀 단어의 비율:\", (rare_cnt / total_cnt)*100)\n",
    "print(\"전체 등장 빈도에서 희귀 단어 등장 빈도 비율:\", (rare_freq / total_freq)*100)"
   ]
  },
  {
   "cell_type": "code",
   "execution_count": 98,
   "id": "f6a3ebb3",
   "metadata": {},
   "outputs": [
    {
     "name": "stdout",
     "output_type": "stream",
     "text": [
      "input\n",
      "input  [[1, 61, 4357, 108, 328, 375], [1, 2433, 762, 1828, 2199, 654, 1906, 58], [1, 763, 247, 329, 159, 2434, 3031], [1, 792, 445, 622, 3], [1, 4757, 4758, 496, 1311, 602, 2087]]\n",
      "target\n",
      "decoder  [[61, 4357, 108, 328, 375, 2], [2433, 762, 1828, 2199, 654, 1906, 58, 2], [763, 247, 329, 159, 2434, 3031, 2], [792, 445, 622, 3, 2], [4757, 4758, 496, 1311, 602, 2087, 2]]\n"
     ]
    }
   ],
   "source": [
    "tar_vocab = 6000\n",
    "tar_tokenizer = Tokenizer(num_words=tar_vocab) \n",
    "tar_tokenizer.fit_on_texts(decoder_input_train)\n",
    "tar_tokenizer.fit_on_texts(decoder_target_train)\n",
    "\n",
    "# 텍스트 시퀀스를 정수 시퀀스로 변환\n",
    "decoder_input_train = tar_tokenizer.texts_to_sequences(decoder_input_train) \n",
    "decoder_target_train = tar_tokenizer.texts_to_sequences(decoder_target_train)\n",
    "decoder_input_test = tar_tokenizer.texts_to_sequences(decoder_input_test)\n",
    "decoder_target_test = tar_tokenizer.texts_to_sequences(decoder_target_test)\n",
    "\n",
    "# 잘 변환되었는지 확인\n",
    "print('input')\n",
    "print('input ',decoder_input_train[:5])\n",
    "print('target')\n",
    "print('decoder ',decoder_target_train[:5])\n",
    "# 정수 인코딩 작업이 끝났어요. 현재 decoder_input_train과 decoder_target_train에는 \n",
    "# 더 이상 숫자 6000이 넘는 숫자들은 존재하지 않아요"
   ]
  },
  {
   "cell_type": "code",
   "execution_count": 99,
   "id": "c5676a1b",
   "metadata": {},
   "outputs": [
    {
     "name": "stdout",
     "output_type": "stream",
     "text": [
      "삭제할 훈련 데이터의 개수 : 6\n",
      "삭제할 테스트 데이터의 개수 : 1\n",
      "훈련 데이터의 개수 : 31892\n",
      "훈련 레이블의 개수 : 31892\n",
      "테스트 데이터의 개수 : 7973\n",
      "테스트 레이블의 개수 : 7973\n"
     ]
    }
   ],
   "source": [
    "# 훈련 데이터와 테스트 데이터에 대해서 요약문의 길이가 1인 경우의 인덱스를 각각 drop_train과 drop_test에 라는 변수에 저장해볼게요. \n",
    "# 이 샘플들은 모두 삭제할 거예요.\n",
    "drop_train = [index for index, sentence in enumerate(decoder_input_train) if len(sentence) == 1]\n",
    "drop_test = [index for index, sentence in enumerate(decoder_input_test) if len(sentence) == 1]\n",
    "\n",
    "print('삭제할 훈련 데이터의 개수 :', len(drop_train))\n",
    "print('삭제할 테스트 데이터의 개수 :', len(drop_test))\n",
    "\n",
    "encoder_input_train = [sentence for index, sentence in enumerate(encoder_input_train) if index not in drop_train]\n",
    "decoder_input_train = [sentence for index, sentence in enumerate(decoder_input_train) if index not in drop_train]\n",
    "decoder_target_train = [sentence for index, sentence in enumerate(decoder_target_train) if index not in drop_train]\n",
    "\n",
    "encoder_input_test = [sentence for index, sentence in enumerate(encoder_input_test) if index not in drop_test]\n",
    "decoder_input_test = [sentence for index, sentence in enumerate(decoder_input_test) if index not in drop_test]\n",
    "decoder_target_test = [sentence for index, sentence in enumerate(decoder_target_test) if index not in drop_test]\n",
    "\n",
    "print('훈련 데이터의 개수 :', len(encoder_input_train))\n",
    "print('훈련 레이블의 개수 :', len(decoder_input_train))\n",
    "print('테스트 데이터의 개수 :', len(encoder_input_test))\n",
    "print('테스트 레이블의 개수 :', len(decoder_input_test))\n",
    "# 훈련 데이터와 테스트 데이터 모두 일정량의 샘플들이 제거된 것을 확인"
   ]
  },
  {
   "cell_type": "markdown",
   "id": "39612e01",
   "metadata": {},
   "source": [
    "패딩하기\n",
    "\n",
    "텍스트 시퀀스를 정수 시퀀스로 변환했다면, 이제 서로 다른 길이의 샘플들을 병렬 처리하기 위해 같은 길이로 맞춰주는 패딩 작업을 해주어야 해야 해요. 아까 정해두었던 최대 길이로 패딩 해 줄 거에요. 최대 길이보다 짧은 데이터들은 뒤의 공간에 숫자 0을 넣어 최대 길이로 길이를 맞춰줄게요."
   ]
  },
  {
   "cell_type": "code",
   "execution_count": 100,
   "id": "4bb0f2e7",
   "metadata": {},
   "outputs": [
    {
     "name": "stdout",
     "output_type": "stream",
     "text": [
      "=3\n"
     ]
    }
   ],
   "source": [
    "encoder_input_train = pad_sequences(encoder_input_train, maxlen=text_max_len, padding='post')\n",
    "encoder_input_test = pad_sequences(encoder_input_test, maxlen=text_max_len, padding='post')\n",
    "decoder_input_train = pad_sequences(decoder_input_train, maxlen=headlines_max_len, padding='post')\n",
    "decoder_target_train = pad_sequences(decoder_target_train, maxlen=headlines_max_len, padding='post')\n",
    "decoder_input_test = pad_sequences(decoder_input_test, maxlen=headlines_max_len, padding='post')\n",
    "decoder_target_test = pad_sequences(decoder_target_test, maxlen=headlines_max_len, padding='post')\n",
    "print('=3')"
   ]
  },
  {
   "cell_type": "markdown",
   "id": "3869cb4c",
   "metadata": {},
   "source": [
    "모델 설계하기"
   ]
  },
  {
   "cell_type": "code",
   "execution_count": 101,
   "id": "e7f2b226",
   "metadata": {},
   "outputs": [
    {
     "name": "stdout",
     "output_type": "stream",
     "text": [
      "WARNING:tensorflow:Layer lstm_4 will not use cuDNN kernels since it doesn't meet the criteria. It will use a generic GPU kernel as fallback when running on GPU.\n",
      "WARNING:tensorflow:Layer lstm_5 will not use cuDNN kernels since it doesn't meet the criteria. It will use a generic GPU kernel as fallback when running on GPU.\n",
      "WARNING:tensorflow:Layer lstm_6 will not use cuDNN kernels since it doesn't meet the criteria. It will use a generic GPU kernel as fallback when running on GPU.\n"
     ]
    }
   ],
   "source": [
    "# 함수형 API를 이용해서 인코더를 설계\n",
    "from tensorflow.keras.layers import Input, LSTM, Embedding, Dense, Concatenate, TimeDistributed\n",
    "from tensorflow.keras.models import Model\n",
    "from tensorflow.keras.callbacks import EarlyStopping, ModelCheckpoint\n",
    "\n",
    "# 인코더 설계 시작\n",
    "# hidden state는 LSTM에서 얼만큼의 수용력(capacity)를 가질지를 정하는 파라미터\n",
    "# LSTM의 용량의 크기나, LSTM에서의 뉴런의 개수라고 이해하면 된다. 크다고 성능 좋아지는거 아님\n",
    "# hidden state의 크기를 늘리는 것이 LSTM 층 1개의 용량을 늘리는 것\n",
    "embedding_dim = 128 # 임베딩 벡터 차원 128로 정의\n",
    "hidden_size = 256\n",
    "\n",
    "# 인코더\n",
    "encoder_inputs = Input(shape=(text_max_len,))\n",
    "\n",
    "# 인코더의 임베딩 층\n",
    "enc_emb = Embedding(src_vocab, embedding_dim)(encoder_inputs)\n",
    "\n",
    "# 인코더의 LSTM 1 # 3개의 층으로 복잡도 높힌다는 것은 모델의 용량을 늘린다\n",
    "# LSTM은 dropout 뿐 아니라 recurrent dropout까지 사용해요. \n",
    "# 일반적인 dropout은 레이어의 weight를 랜덤으로 생략하여 모델의 과적합(overfitting)을 해결\n",
    "# recurrent dropout은 dropout을 레이어가 아닌 time step마다 해주는 방식\n",
    "# time step의 입력을 랜덤으로 생략해 주는 거죠. \n",
    "#recurrent dropout은 regularization을 해주는 효과가 있고, 과적합을 방지\n",
    "encoder_lstm1 = LSTM(hidden_size, return_sequences=True, return_state=True ,dropout = 0.4, recurrent_dropout = 0.4)\n",
    "encoder_output1, state_h1, state_c1 = encoder_lstm1(enc_emb)\n",
    "\n",
    "# 인코더의 LSTM 2\n",
    "encoder_lstm2 = LSTM(hidden_size, return_sequences=True, return_state=True, dropout=0.4, recurrent_dropout=0.4)\n",
    "encoder_output2, state_h2, state_c2 = encoder_lstm2(encoder_output1)\n",
    "\n",
    "# 인코더의 LSTM 3\n",
    "encoder_lstm3 = LSTM(hidden_size, return_state=True, return_sequences=True, dropout=0.4, recurrent_dropout=0.4)\n",
    "encoder_outputs, state_h, state_c= encoder_lstm3(encoder_output2)"
   ]
  },
  {
   "cell_type": "code",
   "execution_count": 102,
   "id": "fd3f34f9",
   "metadata": {},
   "outputs": [
    {
     "name": "stdout",
     "output_type": "stream",
     "text": [
      "WARNING:tensorflow:Layer lstm_7 will not use cuDNN kernels since it doesn't meet the criteria. It will use a generic GPU kernel as fallback when running on GPU.\n"
     ]
    }
   ],
   "source": [
    "# 디코더를 설계\n",
    "# 디코더 설계\n",
    "decoder_inputs = Input(shape=(None,))\n",
    "\n",
    "# 디코더의 임베딩 층\n",
    "dec_emb_layer = Embedding(tar_vocab, embedding_dim)\n",
    "dec_emb = dec_emb_layer(decoder_inputs)\n",
    "\n",
    "# 디코더의 LSTM\n",
    "decoder_lstm = LSTM(hidden_size, return_sequences=True, return_state=True, dropout=0.4, recurrent_dropout=0.2)\n",
    "decoder_outputs, _, _ = decoder_lstm(dec_emb, initial_state=[state_h, state_c])\n",
    "# LSTM의 입력을 정의할 때, initial_state의 인자값으로 \n",
    "# 인코더의 hidden state와 cell state의 값을 넣어줘야 함"
   ]
  },
  {
   "cell_type": "code",
   "execution_count": 103,
   "id": "777c899d",
   "metadata": {
    "scrolled": false
   },
   "outputs": [
    {
     "name": "stdout",
     "output_type": "stream",
     "text": [
      "Model: \"model_2\"\n",
      "__________________________________________________________________________________________________\n",
      "Layer (type)                    Output Shape         Param #     Connected to                     \n",
      "==================================================================================================\n",
      "input_3 (InputLayer)            [(None, 57)]         0                                            \n",
      "__________________________________________________________________________________________________\n",
      "embedding_2 (Embedding)         (None, 57, 128)      1920000     input_3[0][0]                    \n",
      "__________________________________________________________________________________________________\n",
      "lstm_4 (LSTM)                   [(None, 57, 256), (N 394240      embedding_2[0][0]                \n",
      "__________________________________________________________________________________________________\n",
      "input_4 (InputLayer)            [(None, None)]       0                                            \n",
      "__________________________________________________________________________________________________\n",
      "lstm_5 (LSTM)                   [(None, 57, 256), (N 525312      lstm_4[0][0]                     \n",
      "__________________________________________________________________________________________________\n",
      "embedding_3 (Embedding)         (None, None, 128)    768000      input_4[0][0]                    \n",
      "__________________________________________________________________________________________________\n",
      "lstm_6 (LSTM)                   [(None, 57, 256), (N 525312      lstm_5[0][0]                     \n",
      "__________________________________________________________________________________________________\n",
      "lstm_7 (LSTM)                   [(None, None, 256),  394240      embedding_3[0][0]                \n",
      "                                                                 lstm_6[0][1]                     \n",
      "                                                                 lstm_6[0][2]                     \n",
      "__________________________________________________________________________________________________\n",
      "dense_2 (Dense)                 (None, None, 6000)   1542000     lstm_7[0][0]                     \n",
      "==================================================================================================\n",
      "Total params: 6,069,104\n",
      "Trainable params: 6,069,104\n",
      "Non-trainable params: 0\n",
      "__________________________________________________________________________________________________\n"
     ]
    }
   ],
   "source": [
    "# 디코더의 출력층을 설계\n",
    "# 디코더의 출력층\n",
    "# tar_vocab의 수많은 선택지 중 하나의 단어를 선택하는 다중 클래스 분류 문제를 풀어야 한다\n",
    "decoder_softmax_layer = Dense(tar_vocab, activation='softmax')\n",
    "# 그렇기 때문에 Dense의 인자로 tar_vocab을 주고, 활성화 함수로 소프트맥스 함수를 사용\n",
    "decoder_softmax_outputs = decoder_softmax_layer(decoder_outputs) \n",
    "\n",
    "# 모델 정의\n",
    "model = Model([encoder_inputs, decoder_inputs], decoder_softmax_outputs)\n",
    "model.summary()\n",
    "\n",
    "# 인코더의 hidden state와 cell state를 디코더의 초기 state로 사용하는 가장 기본적인 seq2seq"
   ]
  },
  {
   "cell_type": "markdown",
   "id": "1f1a485a",
   "metadata": {},
   "source": [
    "### Step 3. 어텐션 메커니즘 사용하기 (추상적 요약)"
   ]
  },
  {
   "cell_type": "markdown",
   "id": "1cb216c0",
   "metadata": {},
   "source": [
    "**어텐션 메커니즘**\n",
    "\n",
    "디코더의 출력층을 설계를 살짝 바꿔서 성능을 높일 수 있는 방법이 있어요! 바로 어텐션 메커니즘\n",
    "\n",
    "어텐션 메커니즘을 수행하는 어텐션 함수를 설계하는 것은 또 다른 새로운 신경망을 설계해야 한다는 뜻\n",
    "\n",
    "참고로 여기서 사용하는 어텐션 함수는 Bahdanau 스타일의 어텐션"
   ]
  },
  {
   "cell_type": "code",
   "execution_count": 104,
   "id": "617031ed",
   "metadata": {},
   "outputs": [
    {
     "name": "stdout",
     "output_type": "stream",
     "text": [
      "Model: \"model_3\"\n",
      "__________________________________________________________________________________________________\n",
      "Layer (type)                    Output Shape         Param #     Connected to                     \n",
      "==================================================================================================\n",
      "input_3 (InputLayer)            [(None, 57)]         0                                            \n",
      "__________________________________________________________________________________________________\n",
      "embedding_2 (Embedding)         (None, 57, 128)      1920000     input_3[0][0]                    \n",
      "__________________________________________________________________________________________________\n",
      "lstm_4 (LSTM)                   [(None, 57, 256), (N 394240      embedding_2[0][0]                \n",
      "__________________________________________________________________________________________________\n",
      "input_4 (InputLayer)            [(None, None)]       0                                            \n",
      "__________________________________________________________________________________________________\n",
      "lstm_5 (LSTM)                   [(None, 57, 256), (N 525312      lstm_4[0][0]                     \n",
      "__________________________________________________________________________________________________\n",
      "embedding_3 (Embedding)         (None, None, 128)    768000      input_4[0][0]                    \n",
      "__________________________________________________________________________________________________\n",
      "lstm_6 (LSTM)                   [(None, 57, 256), (N 525312      lstm_5[0][0]                     \n",
      "__________________________________________________________________________________________________\n",
      "lstm_7 (LSTM)                   [(None, None, 256),  394240      embedding_3[0][0]                \n",
      "                                                                 lstm_6[0][1]                     \n",
      "                                                                 lstm_6[0][2]                     \n",
      "__________________________________________________________________________________________________\n",
      "attention_layer (AdditiveAttent (None, None, 256)    256         lstm_7[0][0]                     \n",
      "                                                                 lstm_6[0][0]                     \n",
      "__________________________________________________________________________________________________\n",
      "concat_layer (Concatenate)      (None, None, 512)    0           lstm_7[0][0]                     \n",
      "                                                                 attention_layer[0][0]            \n",
      "__________________________________________________________________________________________________\n",
      "dense_3 (Dense)                 (None, None, 6000)   3078000     concat_layer[0][0]               \n",
      "==================================================================================================\n",
      "Total params: 7,605,360\n",
      "Trainable params: 7,605,360\n",
      "Non-trainable params: 0\n",
      "__________________________________________________________________________________________________\n"
     ]
    }
   ],
   "source": [
    "# 어텐션 층을 만들고, 위에서 설계한 디코더의 출력층을 수정\n",
    "from tensorflow.keras.layers import AdditiveAttention\n",
    "\n",
    "# 어텐션 층(어텐션 함수)\n",
    "attn_layer = AdditiveAttention(name='attention_layer')\n",
    "\n",
    "# 인코더와 디코더의 모든 time step의 hidden state를 어텐션 층에 전달하고 결과를 리턴\n",
    "attn_out = attn_layer([decoder_outputs, encoder_outputs])\n",
    "\n",
    "\n",
    "# 어텐션의 결과와 디코더의 hidden state들을 연결\n",
    "decoder_concat_input = Concatenate(axis=-1, name='concat_layer')([decoder_outputs, attn_out])\n",
    "\n",
    "# 디코더의 출력층\n",
    "decoder_softmax_layer = Dense(tar_vocab, activation='softmax')\n",
    "decoder_softmax_outputs = decoder_softmax_layer(decoder_concat_input)\n",
    "\n",
    "# 모델 정의\n",
    "model = Model([encoder_inputs, decoder_inputs], decoder_softmax_outputs)\n",
    "model.summary()\n",
    "\n",
    "# 위의 코드는 인코더의 hidden state와 디코더의 hidden state를 어텐션 함수의 입력으로 사용\n",
    "# 어텐션 함수가 리턴한 값을 예측 시에 디코더의 hidden state와 함께 활용하는 형태로 작동"
   ]
  },
  {
   "cell_type": "markdown",
   "id": "f0996d3f",
   "metadata": {},
   "source": [
    "모델 훈련하기"
   ]
  },
  {
   "attachments": {
    "%EB%8B%A4%EC%9A%B4%EB%A1%9C%EB%93%9C%20%2837%29.png": {
     "image/png": "[encoded data removed]"
    }
   },
   "cell_type": "markdown",
   "id": "a7ba7ac5",
   "metadata": {},
   "source": [
    "![%EB%8B%A4%EC%9A%B4%EB%A1%9C%EB%93%9C%20%2837%29.png](attachment:%EB%8B%A4%EC%9A%B4%EB%A1%9C%EB%93%9C%20%2837%29.png)"
   ]
  },
  {
   "cell_type": "code",
   "execution_count": 105,
   "id": "d3da4a24",
   "metadata": {},
   "outputs": [
    {
     "name": "stdout",
     "output_type": "stream",
     "text": [
      "Epoch 1/50\n",
      "125/125 [==============================] - 101s 751ms/step - loss: 6.4734 - val_loss: 6.0901\n",
      "Epoch 2/50\n",
      "125/125 [==============================] - 92s 739ms/step - loss: 6.1215 - val_loss: 5.9254\n",
      "Epoch 3/50\n",
      "125/125 [==============================] - 92s 739ms/step - loss: 5.9060 - val_loss: 5.7481\n",
      "Epoch 4/50\n",
      "125/125 [==============================] - 93s 747ms/step - loss: 5.7492 - val_loss: 5.6602\n",
      "Epoch 5/50\n",
      "125/125 [==============================] - 93s 745ms/step - loss: 5.5883 - val_loss: 5.5345\n",
      "Epoch 6/50\n",
      "125/125 [==============================] - 93s 745ms/step - loss: 5.4133 - val_loss: 5.3795\n",
      "Epoch 7/50\n",
      "125/125 [==============================] - 93s 740ms/step - loss: 5.2420 - val_loss: 5.2615\n",
      "Epoch 8/50\n",
      "125/125 [==============================] - 91s 730ms/step - loss: 5.0715 - val_loss: 5.1514\n",
      "Epoch 9/50\n",
      "125/125 [==============================] - 92s 733ms/step - loss: 4.9206 - val_loss: 5.0846\n",
      "Epoch 10/50\n",
      "125/125 [==============================] - 91s 732ms/step - loss: 4.7753 - val_loss: 5.0220\n",
      "Epoch 11/50\n",
      "125/125 [==============================] - 91s 730ms/step - loss: 4.6345 - val_loss: 4.9743\n",
      "Epoch 12/50\n",
      "125/125 [==============================] - 91s 732ms/step - loss: 4.4997 - val_loss: 4.9352\n",
      "Epoch 13/50\n",
      "125/125 [==============================] - 91s 732ms/step - loss: 4.3709 - val_loss: 4.8698\n",
      "Epoch 14/50\n",
      "125/125 [==============================] - 91s 732ms/step - loss: 4.2475 - val_loss: 4.8465\n",
      "Epoch 15/50\n",
      "125/125 [==============================] - 91s 732ms/step - loss: 4.1298 - val_loss: 4.8324\n",
      "Epoch 16/50\n",
      "125/125 [==============================] - 91s 731ms/step - loss: 4.0146 - val_loss: 4.7898\n",
      "Epoch 17/50\n",
      "125/125 [==============================] - 92s 736ms/step - loss: 3.9050 - val_loss: 4.7730\n",
      "Epoch 18/50\n",
      "125/125 [==============================] - 91s 732ms/step - loss: 3.8013 - val_loss: 4.7599\n",
      "Epoch 19/50\n",
      "125/125 [==============================] - 91s 731ms/step - loss: 3.6984 - val_loss: 4.7640\n",
      "Epoch 20/50\n",
      "125/125 [==============================] - 91s 731ms/step - loss: 3.6023 - val_loss: 4.7521\n",
      "Epoch 21/50\n",
      "125/125 [==============================] - 91s 732ms/step - loss: 3.5100 - val_loss: 4.7534\n",
      "Epoch 22/50\n",
      "125/125 [==============================] - 92s 736ms/step - loss: 3.4192 - val_loss: 4.7476\n",
      "Epoch 23/50\n",
      "125/125 [==============================] - 92s 736ms/step - loss: 3.3323 - val_loss: 4.7511\n",
      "Epoch 24/50\n",
      "125/125 [==============================] - 91s 732ms/step - loss: 3.2489 - val_loss: 4.7490\n",
      "Epoch 00024: early stopping\n"
     ]
    }
   ],
   "source": [
    "# 모델 훈련하기\n",
    "model.compile(optimizer='rmsprop', loss='sparse_categorical_crossentropy')\n",
    "es = EarlyStopping(monitor='val_loss', patience=2, verbose=1)\n",
    "history = model.fit(x=[encoder_input_train, decoder_input_train], y=decoder_target_train, \\\n",
    "          validation_data=([encoder_input_test, decoder_input_test], decoder_target_test), \\\n",
    "          batch_size=256, callbacks=[es], epochs=50)\n",
    "# EarlyStopping은 특정 조건이 충족되면 훈련을 멈추는 역할"
   ]
  },
  {
   "cell_type": "code",
   "execution_count": 106,
   "id": "f0e07958",
   "metadata": {},
   "outputs": [
    {
     "data": {
      "image/png": "[encoded data removed]",
      "text/plain": [
       "<Figure size 432x288 with 1 Axes>"
      ]
     },
     "metadata": {
      "needs_background": "light"
     },
     "output_type": "display_data"
    }
   ],
   "source": [
    "# 훈련 데이터의 손실과 검증 데이터의 손실이 줄어드는 과정을 시각화\n",
    "plt.plot(history.history['loss'], label='train')\n",
    "plt.plot(history.history['val_loss'], label='test')\n",
    "plt.legend()\n",
    "plt.show()"
   ]
  },
  {
   "cell_type": "markdown",
   "id": "5f0116dd",
   "metadata": {},
   "source": [
    "인퍼런스 모델 구현하기"
   ]
  },
  {
   "cell_type": "code",
   "execution_count": 107,
   "id": "3f78efda",
   "metadata": {},
   "outputs": [],
   "source": [
    "# 테스트 단계에서는 정수 인덱스 행렬로 존재하던 텍스트 데이터를 실제 데이터로 복원\n",
    "# 해야 하므로, 필요한 3개의 사전을 아래와 같이 미리 준비\n",
    "src_index_to_word = src_tokenizer.index_word # 원문 단어 집합에서 정수 -> 단어를 얻음\n",
    "tar_word_to_index = tar_tokenizer.word_index # 요약 단어 집합에서 단어 -> 정수를 얻음\n",
    "tar_index_to_word = tar_tokenizer.index_word # 요약 단어 집합에서 정수 -> 단어를 얻음"
   ]
  },
  {
   "cell_type": "code",
   "execution_count": 108,
   "id": "b75144a2",
   "metadata": {},
   "outputs": [],
   "source": [
    "# seq2seq는 훈련할 때와 실제 동작할 때(인퍼런스 단계)의 방식이 다르므로 \n",
    "# 그에 맞게 모델 설계를 별개로 진행해야 한다는 것\n",
    "\n",
    "# 훈련 단계에서는 디코더의 입력부에 정답이 되는 문장 전체를 한꺼번에 넣고 \n",
    "# 디코더의 출력과 한 번에 비교할 수 있으므로, 인코더와 디코더를 엮은 통짜 모델 하나만 준비\n",
    "\n",
    "# 정답 문장이 없는 인퍼런스 단계에서는 만들어야 할 문장의 길이만큼 \n",
    "# 디코더가 반복 구조로 동작해야 하기 때문에 부득이하게 인퍼런스를 위한 \n",
    "# 모델 설계를 별도로 해주어야 합니다. 이때는 인코더 모델과 디코더 모델을 분리해서 설계\n",
    "# 인코더 설계\n",
    "encoder_model = Model(inputs=encoder_inputs, outputs=[encoder_outputs, state_h, state_c])\n",
    "\n",
    "# 이전 시점의 상태들을 저장하는 텐서\n",
    "decoder_state_input_h = Input(shape=(hidden_size,))\n",
    "decoder_state_input_c = Input(shape=(hidden_size,))\n",
    "\n",
    "dec_emb2 = dec_emb_layer(decoder_inputs)\n",
    "\n",
    "# 문장의 다음 단어를 예측하기 위해서 초기 상태(initial_state)를 이전 시점의 상태로 사용. 이는 뒤의 함수 decode_sequence()에 구현\n",
    "# 훈련 과정에서와 달리 LSTM의 리턴하는 은닉 상태와 셀 상태인 state_h와 state_c를 버리지 않음.\n",
    "decoder_outputs2, state_h2, state_c2 = decoder_lstm(dec_emb2, initial_state=[decoder_state_input_h, decoder_state_input_c])"
   ]
  },
  {
   "cell_type": "code",
   "execution_count": 109,
   "id": "0f53adf0",
   "metadata": {},
   "outputs": [],
   "source": [
    "# 어텐션 함수\n",
    "decoder_hidden_state_input = Input(shape=(text_max_len, hidden_size))\n",
    "attn_out_inf = attn_layer([decoder_outputs2, decoder_hidden_state_input])\n",
    "decoder_inf_concat = Concatenate(axis=-1, name='concat')([decoder_outputs2, attn_out_inf])\n",
    "\n",
    "# 디코더의 출력층\n",
    "decoder_outputs2 = decoder_softmax_layer(decoder_inf_concat) \n",
    "\n",
    "# 최종 디코더 모델\n",
    "decoder_model = Model(\n",
    "    [decoder_inputs] + [decoder_hidden_state_input,decoder_state_input_h, decoder_state_input_c],\n",
    "    [decoder_outputs2] + [state_h2, state_c2])"
   ]
  },
  {
   "cell_type": "code",
   "execution_count": 110,
   "id": "a8d37ebc",
   "metadata": {},
   "outputs": [],
   "source": [
    "# 인퍼런스 단계에서 단어 시퀀스를 완성하는 함수를 만들어보자\n",
    "def decode_sequence(input_seq):\n",
    "    # 입력으로부터 인코더의 상태를 얻음\n",
    "    e_out, e_h, e_c = encoder_model.predict(input_seq)\n",
    "\n",
    "     # <SOS>에 해당하는 토큰 생성\n",
    "    target_seq = np.zeros((1,1))\n",
    "    target_seq[0, 0] = tar_word_to_index['sostoken']\n",
    "\n",
    "    stop_condition = False\n",
    "    decoded_sentence = ''\n",
    "    while not stop_condition: # stop_condition이 True가 될 때까지 루프 반복\n",
    "\n",
    "        output_tokens, h, c = decoder_model.predict([target_seq] + [e_out, e_h, e_c])\n",
    "        sampled_token_index = np.argmax(output_tokens[0, -1, :])\n",
    "        sampled_token = tar_index_to_word[sampled_token_index]\n",
    "\n",
    "        if (sampled_token!='eostoken'):\n",
    "            decoded_sentence += ' '+sampled_token\n",
    "\n",
    "        #  <eos>에 도달하거나 최대 길이를 넘으면 중단.\n",
    "        if (sampled_token == 'eostoken'  or len(decoded_sentence.split()) >= (headlines_max_len-1)):\n",
    "            stop_condition = True\n",
    "\n",
    "        # 길이가 1인 타겟 시퀀스를 업데이트\n",
    "        target_seq = np.zeros((1,1))\n",
    "        target_seq[0, 0] = sampled_token_index\n",
    "\n",
    "        # 상태를 업데이트 합니다.\n",
    "        e_h, e_c = h, c\n",
    "\n",
    "    return decoded_sentence"
   ]
  },
  {
   "cell_type": "markdown",
   "id": "832c5ad5",
   "metadata": {},
   "source": [
    "### Step 4. 실제 결과와 요약문 비교하기 (추상적 요약)"
   ]
  },
  {
   "cell_type": "markdown",
   "id": "5d4fed1d",
   "metadata": {},
   "source": [
    "모델 테스트하기\n",
    "\n",
    "함수를 만들 때, Text의 정수 시퀀스에서는 패딩을 위해 사용되는 숫자 0을 제외하고 Summary의 정수 시퀀스에서는 숫자 0, 시작 토큰의 인덱스, 종료 토큰의 인덱스를 출력에서 제외"
   ]
  },
  {
   "cell_type": "code",
   "execution_count": 111,
   "id": "f01736a0",
   "metadata": {},
   "outputs": [],
   "source": [
    "# 원문의 정수 시퀀스를 텍스트 시퀀스로 변환하여 결과를 확인하는것이 편하다\n",
    "def seq2text(input_seq): # Text의 정수 시퀸스에서는 패딩을 위해 사용되는 숫자 0을 제외\n",
    "    temp=''\n",
    "    for i in input_seq:\n",
    "        if (i!=0):\n",
    "            temp = temp + src_index_to_word[i]+' '\n",
    "    return temp\n",
    "\n",
    "# 요약문의 정수 시퀀스를 텍스트 시퀀스로 변환하는 함수 만들어 보기\n",
    "def seq2headlines(input_seq): \n",
    "# headlines의 정수 시퀸스에서는 숫자 0, 시작 토큰의 인덱스, 종료 토큰의 인덱스를 출력에서 제외\n",
    "    temp=''\n",
    "    for i in input_seq: \n",
    "        if ((i!=0 and i!=tar_word_to_index['sostoken']) and i!=tar_word_to_index['eostoken']):\n",
    "            temp = temp + tar_index_to_word[i] + ' '\n",
    "    return temp"
   ]
  },
  {
   "cell_type": "code",
   "execution_count": 113,
   "id": "389f6820",
   "metadata": {
    "scrolled": true
   },
   "outputs": [
    {
     "name": "stdout",
     "output_type": "stream",
     "text": [
      "원문 : virender sehwag was captaining india when he hit runs against windies on december becoming the second cricketer after sachin tendulkar to score double hundred in odis sehwag is the highest individual score by captain in odi cricket history sehwag knock helped india pile up their highest odi total of \n",
      "실제 요약 : sehwag highest score captain odis \n",
      "예측 요약 :  sehwag hit sachin sehwag\n",
      "\n",
      "\n",
      "원문 : reacting to england alastair cook announcing his retirement shahid afridi tweeted cook you are true great of the game all the very best in your life after cricket trust me so much less pressure wonderful player who was wonderful ambassador of the game afridi wrote about the former england test captain \n",
      "실제 요약 : trust much less pressure afridi retiring cook \n",
      "예측 요약 :  gavaskar tweets user\n",
      "\n",
      "\n",
      "원문 : the national investigation agency has registered case in connection with the killing of rss leader in ludhiana was murdered by two unidentified bike borne assailants last month while returning home from drill punjab chief minister captain amarinder singh had announced lakh compensation for the deceased family \n",
      "실제 요약 : nia registers case killing rss leader ludhiana \n",
      "예측 요약 :  activist accused murder\n",
      "\n",
      "\n",
      "원문 : punjab national bank has disclosed an additional exposure of about crore in the fraud probe involving nirav modi and mehul choksi taking the total to over billion in court filing police said choksi gitanjali gems allegedly defrauded pnb of crore the bank had previously pegged its exposure to the gitanjali companies at crore \n",
      "실제 요약 : pnb additional cr fraud case \n",
      "예측 요약 :  pnb nirav modi choksi pnb fraud\n",
      "\n",
      "\n",
      "원문 : actress sonam kapoor has apologised to actor amitabh bachchan on twitter for not replying to the sms he sent her on her birthday big while replying to tweet where sonam thanked shetty for his birthday wishes had written and what about me this is amitabh bachchan my dear sonam clarified that she missed seeing bachchan message \n",
      "실제 요약 : sonam apologises big birthday \n",
      "예측 요약 :  alia bhatt kapoor kapoor\n",
      "\n",
      "\n",
      "원문 : technology giant apple shares on wednesday fell following reviews which claimed of issues in apple watch series cellular connectivity apple also admitted to the glitch in the watch which joins wi fi networks without connectivity preventing it from using cellular the cellular version of the watch costs along with monthly fee for cell service \n",
      "실제 요약 : apple shares fall watch cellular glitch \n",
      "예측 요약 :  startup makes uber ceo\n",
      "\n",
      "\n",
      "원문 : one out of every four government colleges in karnataka is functioning on rented premises according to survey conducted across the government colleges in the state by the department of education the department has informed the government that crore would be required to provide academic and administrative infrastructure to the colleges \n",
      "실제 요약 : govt colleges taka run rented premises \n",
      "예측 요약 :  govt declares public public\n",
      "\n",
      "\n",
      "원문 : the england and wales cricket board has proposed ball format for cricket the proposed format for england eight team tournament starting in would see each team face six ball overs followed by an additional deliveries this is fresh and exciting idea which will attract new fans to the game said ceo tom \n",
      "실제 요약 : proposes ball cricket \n",
      "예측 요약 :  india beat cricket cricket\n",
      "\n",
      "\n",
      "원문 : slamming the centre announcement of unilateral ceasefire in jammu and kashmir for the month of ramadan kashmiri separatist leaders described it as cosmetic measure accusing the government of playing cruel joke on kashmiri people the joint resistance leadership said it is highly to offer in killings for one month and then restart it \n",
      "실제 요약 : govt one month ceasefire kashmiri separatists \n",
      "예측 요약 :  terror attacks govt\n",
      "\n",
      "\n",
      "원문 : as many as couples tied the knot in kashmir biggest mass wedding on sunday the brides and were aged between to and many were or from poor families the council of jammu and kashmir said the council which organised the wedding in srinagar added our motive is to promote simple marriages and reduce \n",
      "실제 요약 : couples tie knot kashmir biggest mass wedding \n",
      "예측 요약 :  weinstein jailed wedding wedding wedding\n",
      "\n",
      "\n",
      "원문 : travel company thomas cook has launched the zurich holiday package for nights starting at the package lets you explore the zurich experience to falls fifa football museum town of rose and more valid till th september it includes accommodation breakfast sightseeing and transfers as per \n",
      "실제 요약 : thomas cook brings holiday package \n",
      "예측 요약 :  presents presents design\n",
      "\n",
      "\n",
      "원문 : chinese man recently paid the first instalment of his new bmw using around yuan worth of coins the car in had to be closed for the afternoon so the employees could count the money notably the full price of the bmw bought by the customer was around yuan \n",
      "실제 요약 : man uses lakh worth coins pay bmw \n",
      "예측 요약 :  man steals lakh bitcoin worth\n",
      "\n",
      "\n",
      "원문 : united states president donald trump interrupted his call with irish prime minister to tell journalist she has nice smile during the call trump signalled journalist perry to come to his desk he said go ahead come here before telling she has nice smile on her face so bet she treats you well \n",
      "실제 요약 : trump call pm journo \n",
      "예측 요약 :  trump calls trump\n",
      "\n",
      "\n",
      "원문 : southampton ended arsenal match long unbeaten run after beating them in the premier league on sunday southampton playing their first home match under their new coach ralph scored three with the final one coming in the th minute meanwhile eden scored in chelsea win over \n",
      "실제 요약 : end arsenal match run \n",
      "예측 요약 :  finch takes runs balls\n",
      "\n",
      "\n",
      "원문 : actress bhumi pednekar has said that she will not do films to just wear expensive and clothes there has to be good story and good role she added bhumi further said am happy to be part of cinema today where we are celebrating and exploring stories that are both real and entertaining \n",
      "실제 요약 : films wear clothes bhumi \n",
      "예측 요약 :  want become people\n",
      "\n",
      "\n",
      "원문 : automotive accessory startup pearl automation which was founded by former apple employees has reportedly shut down year after it launched publicly the three ex apple engineers behind pearl automation had helped lead the design and development of several and iphone generations the startup only product was wireless backup camera that fit around car rear license plate \n",
      "실제 요약 : startup founded ex apple employees shuts year \n",
      "예측 요약 :  uber acquires uber\n",
      "\n",
      "\n",
      "원문 : actress sonam kapoor in request to her followers and fans tweeted please do not get personal and troll she further requested them not to hate someone and get personal towards other celebrities in another tweet she wrote please remember is the best form of and it just showcases \n",
      "실제 요약 : please get personal troll tweets sonam fans \n",
      "예측 요약 :  sonam kapoor padukone\n",
      "\n",
      "\n",
      "원문 : many taxes which are levied by local bodies like municipal are not covered under gst these include the road tax on vehicles entry fee charged by state municipal body at the state border and the extra entertainment tax among others the states might reportedly charge more of these taxes to compensate for the abolished state taxes \n",
      "실제 요약 : taxes covered gst \n",
      "예측 요약 :  govt reduces loan price\n",
      "\n",
      "\n",
      "원문 : year old british man was suspected to have cancer after doctors found mass in his lungs only to realise it was toy he swallowed years ago he had visited doctors after up yellow experts said he probably did not experience any symptoms for long time as his airways would have around the toy \n",
      "실제 요약 : man thought cancer found toy kid \n",
      "예측 요약 :  man dies toilet years\n",
      "\n",
      "\n",
      "원문 : reacting to video shared by urvashi dholakia as her character komolika from tv serial kasautii zindagii kay producer ekta kapoor said how the hell will get another komolika this comes amidst reports of reboot of the tv serial kasautii zindagii kay urvashi had earlier said that she is glad that people remember her character even after years \n",
      "실제 요약 : hell get another ekta \n",
      "예측 요약 :  complaint filed money complaint maker\n",
      "\n",
      "\n",
      "원문 : miss world manushi chhillar while talking about her experience of working with ranveer singh for tv commercial said his energy and whole is so that just keeps you going she added it was great experience for her to work with him manushi further said got to try new things it was lots of fun \n",
      "실제 요약 : ranveer miss world working \n",
      "예측 요약 :  get make time\n",
      "\n",
      "\n",
      "원문 : paytm parent company one communications posted increase in losses at crore in the financial year compared to crore for the previous year according to filings paytm total revenue more than to crore from crore in further the company spent crore in fy against crore in fy in total expenses \n",
      "실제 요약 : paytm posts increase losses crore fy \n",
      "예측 요약 :  paytm parent losses crore fy\n",
      "\n",
      "\n",
      "원문 : choreographer filmmaker farah khan took to social media to share picture of raveena tandon from the sets of her upcoming tv show lip sing battle raveena can be seen imitating anil kapoor look from the in the picture guess who taking to another level epic episode wrote farah in the photo caption \n",
      "실제 요약 : raveena tandon dresses anil kapoor show \n",
      "예측 요약 :  sridevi shares picture sridevi film\n",
      "\n",
      "\n",
      "원문 : digital payments startup paytm has acquired chennai based ticketing startup for reported amount of million commenting on the development paytm said that founders share the same partnership mindset as paytm founded in the ticketing platform majority stake was acquired by alibaba pictures last year chinese film company under the alibaba group \n",
      "실제 요약 : paytm acquires alibaba backed million \n",
      "예측 요약 :  zomato raise million\n",
      "\n",
      "\n",
      "원문 : salman khan jacqueline fernandez and anil kapoor starrer race which released today is high on style and low on substance wrote bollywood hungama the film is visual treat but lacks in every other department wrote times now ndtv called the film an heist thriller it has been rated and \n",
      "실제 요약 : salman khan starrer race hits theatres \n",
      "예측 요약 :  ayushmann hits theatres\n",
      "\n",
      "\n",
      "원문 : actor saif ali khan on being asked if he would play his father and former indian cricket team captain late ali khan onscreen said do not think am sexy enough he was stylish person and played the game with his own style he carried the right attitude do not think can copy him saif added \n",
      "실제 요약 : think sexy enough play dad saif \n",
      "예측 요약 :  salman khan ali khan\n",
      "\n",
      "\n",
      "원문 : an egyptian court on thursday sentenced mohammed the supreme guide of the muslim and three others to life in prison was jailed for planning attacks against the country by inciting chaos and violence during protests against the ouster of former president mohamed in following ouster muslim was declared terrorist organisation \n",
      "실제 요약 : muslim supreme sentenced life jail \n",
      "예측 요약 :  rape cases filed year\n",
      "\n",
      "\n",
      "원문 : the campaigning for the upcoming karnataka assembly elections ended at pm today as the voting is scheduled for saturday on the last day of the campaign bjp president amit shah and party cm candidate bs yeddyurappa held roadshow in meanwhile congress president rahul gandhi and cm siddaramaiah for the party \n",
      "실제 요약 : campaigning karnataka polls today \n",
      "예측 요약 :  voter turnout recorded gujarat assembly\n",
      "\n",
      "\n",
      "원문 : aap leader sanjay singh has said that the party plans to contest around to seats in lok sabha elections so that they are in better position to influence results the party would focus to win maximum seats in punjab haryana and delhi in he added significantly aap fielded over candidates in lok sabha elections \n",
      "실제 요약 : aap plans contest seats ls polls singh \n",
      "예측 요약 :  bjp jd contest seats gujarat polls\n",
      "\n",
      "\n",
      "원문 : addressing the nri community in bahrain congress president rahul gandhi on monday said that he will present new version of the party in the next six months this is gandhi first foreign visit after assuming the post of party chief indian diaspora has lost hard earned money because of arbitrary decisions like demonetisation he added \n",
      "실제 요약 : give new congress months rahul bahrain \n",
      "예측 요약 :  rahul gandhi india india\n",
      "\n",
      "\n",
      "원문 : adam and james founders of us cigarette startup have become the world first cigarette billionaires according to bloomberg this comes after owner invested billion for stake in valuing the firm at billion and own stakes of billion each in now more valuable than elon musk spacex \n",
      "실제 요약 : founders become world first cigarette billionaires \n",
      "예측 요약 :  world valuable startup loses billion\n",
      "\n",
      "\n",
      "원문 : actress jacqueline fernandez will be making her debut in kannada films as she will feature in dance song in actor nikhil kumar film as per reports jacqueline will reportedly be seen dancing with nikhil in the film will be nikhil second film after making his debut with film jaguar in \n",
      "실제 요약 : jacqueline make debut kannada films reports \n",
      "예측 요약 :  first look poster ayushmann\n",
      "\n",
      "\n",
      "원문 : hygiene the manufacturer of toilet seat spray has raised million in pre series funding from mumbai based venture catalysts capital among others founded by the husband wife duo of vikas and claims to have sold over two lakh units since its inception in \n",
      "실제 요약 : toilet brand raises crore funding \n",
      "예측 요약 :  healthcare startup raises mn\n",
      "\n",
      "\n",
      "원문 : started trending on twitter in response to the online campaign that began after reports revealed that pm narendra modi follows twitter accounts that trolled slain journalist gauri lankesh this man abusing pm of india is followed by various senior congress leaders and media personalities user tweeted with screenshot of an abusive tweet \n",
      "실제 요약 : trends response \n",
      "예측 요약 :  twitter reacts congress leader\n",
      "\n",
      "\n",
      "원문 : an egyptian man was arrested on tuesday for allegedly trying to smuggle over kg of gold worth crore at delhi indira gandhi international airport it is one of the largest seizures of gold at the airport in recent times the accused who arrived from dubai concealed gold bars in specially designed pockets customs official said \n",
      "실제 요약 : egyptian held gold worth crore delhi airport \n",
      "예측 요약 :  man held smuggling gold worth crore\n",
      "\n",
      "\n",
      "원문 : over new words were introduced into the english language in when the first world war ended were people ready to lose to end the war while high casualties led to the of the term mass graves began to identification for soldiers while was used instead of in book released in \n",
      "실제 요약 : words turning year \n",
      "예측 요약 :  us calls global global\n",
      "\n",
      "\n",
      "원문 : youtube personality dhinchak pooja has released new song cash following the removal of several of her music videos from youtube over copyright issues she has released the new song with video her songs including ka shooter hai mera scooter were taken down from youtube after copyright claim by someone named singh \n",
      "실제 요약 : pooja releases new song copyright row \n",
      "예측 요약 :  actress looking actress\n",
      "\n",
      "\n",
      "원문 : elderly drivers in japan are being offered discount on funeral services if they surrender their licences the discount supported by the local police station is being offered by company that runs nearly funeral homes it follows recent rise in accidents some of which involved drivers mistakenly reversing vehicles or confusing \n",
      "실제 요약 : funeral elderly japanese drivers quit \n",
      "예측 요약 :  german man suspended people\n",
      "\n",
      "\n",
      "원문 : south korean electronics maker samsung plans to launch standalone smart speaker powered by its own voice assistant technology according to report by the wall street journal the speaker codenamed vega has been in the works for over year if launched the speaker will compete with amazon apple homepod and google home \n",
      "실제 요약 : samsung plans launch smart speaker powered \n",
      "예측 요약 :  samsung launch iphone plus\n",
      "\n",
      "\n",
      "원문 : actor shah rukh khan while speaking about his decision to do cameo in tubelight jokingly said cannot say no to him hai shah rukh further said that it was his duty to do the cameo notably shah rukh played the role of in the film \n",
      "실제 요약 : say salman srk tubelight cameo \n",
      "예측 요약 :  sunil grover\n",
      "\n",
      "\n",
      "원문 : all people including six crew members onboard an airlines plane have been killed after the aircraft crashed in iran southern province the airline has confirmed the aircraft crashed in area near remote town km south of the capital tehran choppers have been deployed since the area is for ambulances \n",
      "실제 요약 : onboard killed iran plane crash \n",
      "예측 요약 :  killed injured car crashes russia\n",
      "\n",
      "\n",
      "원문 : casino billionaire and resorts founder steve had allegedly paid million settlement to who accused him of forcing her to have sex with him in according to report by wall street journal has been accused of sexual misconduct with many female employees over decades however the billionaire denied the accusations as \n",
      "실제 요약 : casino billionaire paid employee forced sex \n",
      "예측 요약 :  million jailed death harassment\n",
      "\n",
      "\n",
      "원문 : rss chief mohan bhagwat has said while the indian army may take six to seven months to be ready for war his organisation can build an army for war within days however he denied that rss was military outfit that it was family organisation rss workers will happily sacrifice their lives for the nation he added \n",
      "실제 요약 : army takes months ready war days rss \n",
      "예측 요약 :  pak chief bans bhagwat\n",
      "\n",
      "\n",
      "원문 : despite nearly decade old resolution to publicly disclose details of assets owned by supreme court judges details of only out of apex court judges are available on the court website chief justice dipak misra and the next four senior most judges are among those who have declared their assets \n",
      "실제 요약 : sitting sc judges assets \n",
      "예측 요약 :  sc judges judges judges\n",
      "\n",
      "\n",
      "원문 : year old who sign language has died in its sleep at california preserve on tuesday the foundation announced appeared in several documentaries while national cover featured selfie the animal took in front of mirror capacity for language and opened minds and hearts of millions the foundation said \n",
      "실제 요약 : knew sign language dies \n",
      "예측 요약 :  video shows chicken\n",
      "\n",
      "\n",
      "원문 : american industrial conglomerate general electric on monday ousted john as chief executive officer just months after he took over the struggling company the year old company shares have fallen over this year following decline in lawrence known for turning around corporation was named the new ceo and chairman \n",
      "실제 요약 : general electric ceo months \n",
      "예측 요약 :  appoints ceo quits\n",
      "\n",
      "\n",
      "원문 : newborn baby born on july in chhattisgarh has been named gst after the tax reform her father jagdish prasad said could not hold my and named her gst to make this day memorable one the family said many villagers are visiting the infant and her father is receiving such fame for the first time \n",
      "실제 요약 : baby born july named gst tax \n",
      "예측 요약 :  woman gets lakh women\n",
      "\n",
      "\n",
      "원문 : indian captain virat kohli has shared picture of himself with teammates ms dhoni ajinkya rahane and umesh yadav among others at restaurant one from last night meal with the boys after good day at work wrote kohli india had beaten new zealand by runs in rain curtailed warm up match on sunday \n",
      "실제 요약 : kohli shares picture team dinner \n",
      "예측 요약 :  kohli calls kohli wicket\n",
      "\n",
      "\n",
      "원문 : the cbi has summoned airasia india director venkataramanan on july in connection with alleged malpractices and corruption by the airline in securing international flying permit according to reports earlier tata sons expressed its confidence in venkataramanan who is alleged to have government officials the agency has also questioned airasia india cfo deepak mahendra in the case \n",
      "실제 요약 : cbi summons airasia india director july \n",
      "예측 요약 :  non bailable raids governor guv\n",
      "\n",
      "\n",
      "원문 : us house speaker paul ryan praised president donald trump decision to scrap the dreamers program on tuesday days after saying that trump should not roll back the program after saying earlier that actually do not think he should do that ryan said ending this program promise that president trump made after the program was scrapped \n",
      "실제 요약 : us house speaker praises trump decision \n",
      "예측 요약 :  trump calls white house\n",
      "\n",
      "\n"
     ]
    }
   ],
   "source": [
    "# 테스트 데이터 약 50개의 샘플에 대해서 실제 요약과 예측된 요약을 비교해보자\n",
    "for i in range(50, 100):\n",
    "    print(\"원문 :\", seq2text(encoder_input_test[i]))\n",
    "    print(\"실제 요약 :\", seq2headlines(decoder_input_test[i]))\n",
    "    print(\"예측 요약 :\", decode_sequence(encoder_input_test[i].reshape(1, text_max_len)))\n",
    "    print(\"\\n\")\n",
    "    \n",
    "# 워드 임베딩과 RNN의 콜라보로 이뤄낸 신기한 성과\n",
    "\n",
    "# 성능을 개선하기 위해서는 seq2seq와 어텐션의 자체의 조합을 좀 더 좋게 수정하는 방법도 있고,\n",
    "#  빔 서치(beam search), 사전 훈련된 워드 임베딩(pre-trained word embedding), \n",
    "# 또는 인코더 - 디코더 자체의 구조를 새로이 변경한 하는 트랜스포머(Transformer)와 \n",
    "# 같은 여러 개선 방안들이 존재합니다. 이런 방안들에 대해서도 향후 살펴보게 될 것"
   ]
  },
  {
   "cell_type": "markdown",
   "id": "aef1f21c",
   "metadata": {},
   "source": [
    "추상적 요약을 했을때 예측 요약과 실제 요약이 비슷한것도 있지만 차이 나는 것도 많이 있는거 같음 요약만 가지고 원문을 예측하기 어려워 보인다. 그리고 예측 요약을 짧게 해주는 경향이 있음"
   ]
  },
  {
   "cell_type": "markdown",
   "id": "86d7f75e",
   "metadata": {},
   "source": [
    "### Step 5. Summa을 이용해서 추출적 요약해보기\n",
    "\n",
    "추상적 요약은 추출적 요약과는 달리 문장의 표현력을 다양하게 가져갈 수 있지만, 추출적 요약에 비해서 난이도가 높아요. 반대로 말하면 추출적 요약은 추상적 요약에 비해 난이도가 낮고 기존 문장에서 문장을 꺼내오는 것이므로 잘못된 요약이 나올 가능성이 낮아요.\n",
    "\n",
    "Summa의 summarize를 사용하여 추출적 요약을 해보세요."
   ]
  },
  {
   "cell_type": "markdown",
   "id": "d242c001",
   "metadata": {},
   "source": [
    "패키지 설치하기"
   ]
  },
  {
   "cell_type": "code",
   "execution_count": null,
   "id": "be0956d0",
   "metadata": {},
   "outputs": [],
   "source": [
    "pip list | grep summa"
   ]
  },
  {
   "cell_type": "code",
   "execution_count": null,
   "id": "acb4adac",
   "metadata": {},
   "outputs": [],
   "source": [
    "# 데이터 다운로드하기\n",
    "\n",
    "import requests\n",
    "from summa.summarizer import summarize\n",
    "\n",
    "news = pd.read_csv('news_summary_more.csv', encoding='iso-8859-1')\n",
    "news[\"text\"]"
   ]
  },
  {
   "cell_type": "code",
   "execution_count": null,
   "id": "2b1f29a8",
   "metadata": {
    "scrolled": false
   },
   "outputs": [],
   "source": [
    "# 출력 결과가 아주 길기 때문에 일부만 출력해보고, 잘 저장이 되었는지 확인\n",
    "print(news[:1500])"
   ]
  },
  {
   "cell_type": "markdown",
   "id": "6d24979c",
   "metadata": {},
   "source": [
    "summarize 사용하기"
   ]
  },
  {
   "cell_type": "code",
   "execution_count": null,
   "id": "fe4fa4bc",
   "metadata": {},
   "outputs": [],
   "source": [
    "# Summa의 summarize는 문장 토큰화를 별도로 하지 않더라도 내부적으로 문장 토큰화를 수행해요. \n",
    "# 그렇기 때문에 문장 구분이 되어있지 않은 원문을 바로 입력으로 넣을 수 있어요. \n",
    "# 비율을 적게 주어서 요약문으로 선택되는 문장의 개수를 줄여볼게요. 원문의 0.005%만을 출력\n",
    "# print('headlines:')\n",
    "# print(summarize(news, ratio=0.005))\n",
    "\n",
    "print('headlines:')\n",
    "print(summarize(news[\"text\"][i], ratio=0.5)) # 텍스트에 인덱스 넘버를 줘서 불러오기"
   ]
  },
  {
   "cell_type": "markdown",
   "id": "3a9fd54a",
   "metadata": {},
   "source": [
    "처음에 주석 처리 된 부분으로 실행하니까 ValueError: Text parameter must be a Unicode object (str)! 에러 뜸\n",
    "\n",
    "print(summarize(news[\"text\"][i], ratio=0.5)) 하니까 됨\n",
    "\n",
    "ratio 0.005하니까 안뜨고 0.05해도 안뜨고 0.5하니까 뜸"
   ]
  },
  {
   "cell_type": "code",
   "execution_count": null,
   "id": "ed8bd05b",
   "metadata": {},
   "outputs": [],
   "source": [
    "# 리스트로 출력 결과를 받고 싶다면 split 인자의 값을 True로 하면 돼요.\n",
    "print('headlines:')\n",
    "print(summarize(news[\"text\"][i], ratio=0.5, split=True))"
   ]
  },
  {
   "cell_type": "code",
   "execution_count": null,
   "id": "96c331dd",
   "metadata": {},
   "outputs": [],
   "source": [
    "# 단어의 수로 요약문의 크기를 조절할 수도 있어요. 단어를 50개만 선택 해보자\n",
    "print('headlines:')\n",
    "print(summarize(news[\"text\"][i], words=50))"
   ]
  },
  {
   "cell_type": "markdown",
   "id": "57efc941",
   "metadata": {},
   "source": [
    "**회고**\n",
    "\n",
    "단어집합에서 빈도수가 낮은 단어들을 제거한다고 한거 같은데 좀 더 잘라야 했을 필요가 있어 보인다. 하지만 한번 돌릴때마다 시간이 너무 오래걸려서 많이 시도해보지 못하였음. 그래서 그런가 추상적 요약이 된 문장을 보면 알아먹을수 없는 문장도 여럿 보이는것같다. 그리고 예측문장과 실제 문장이 조금 차이를 보이는 부분도 있는거같음. 추출적 요약은 조금은 더 완성된 문장으로 나오긴 하지만 추상적 요약 보다는 좀 긴 문장으로 나왔고 기사 헤드라인이라고 보면 조금 길지 않을까 하는 생각도 들기도 한다. max_len을 적절하게 정한다고 했는데 생각보다 더 했어야했는지 로스값이 너무 높게 나와서 새로 지정하니까 예측 요약이랑 실제 예측이랑 조금 더 비슷한거 같네요 \n"
   ]
  },
  {
   "cell_type": "code",
   "execution_count": null,
   "id": "f792029c",
   "metadata": {},
   "outputs": [],
   "source": []
  }
 ],
 "metadata": {
  "kernelspec": {
   "display_name": "Python 3 (ipykernel)",
   "language": "python",
   "name": "python3"
  },
  "language_info": {
   "codemirror_mode": {
    "name": "ipython",
    "version": 3
   },
   "file_extension": ".py",
   "mimetype": "text/x-python",
   "name": "python",
   "nbconvert_exporter": "python",
   "pygments_lexer": "ipython3",
   "version": "3.9.7"
  }
 },
 "nbformat": 4,
 "nbformat_minor": 5
}
