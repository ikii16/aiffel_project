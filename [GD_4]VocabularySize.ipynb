{
  "nbformat": 4,
  "nbformat_minor": 0,
  "metadata": {
    "colab": {
      "name": "[GD-4]VocabularySize.ipynb",
      "provenance": [],
      "collapsed_sections": [],
      "machine_shape": "hm"
    },
    "kernelspec": {
      "name": "python3",
      "display_name": "Python 3"
    },
    "language_info": {
      "name": "python"
    },
    "accelerator": "GPU"
  },
  "cells": [
    {
      "cell_type": "markdown",
      "source": [
        "# 뉴스 카테고리 다중분류\n",
        "\n",
        "## 프로젝트: Vocabulary Size를 변경해서 시도해보기\n",
        "\n",
        "### 학습 목표\n",
        "이번 시간의 목표입니다.\n",
        "\n",
        "로이터 뉴스 데이터 이해하기\n",
        "\n",
        "F1-score와 confusion matrix 출력해보기\n",
        "\n",
        "여러 머신러닝 모델에 대해서 성능 비교해보기\n",
        "\n",
        "단어 수에 따른 성능 비교해보기"
      ],
      "metadata": {
        "id": "rHNHUtzpPQBj"
      }
    },
    {
      "cell_type": "code",
      "execution_count": null,
      "metadata": {
        "id": "Oc8CF1rO0Wj_"
      },
      "outputs": [],
      "source": [
        "# 필요한 모듈 임포트하기\n",
        "from tensorflow.keras.datasets import reuters\n",
        "import matplotlib.pyplot as plt\n",
        "import seaborn as sns\n",
        "import numpy as np\n",
        "import pandas as pd"
      ]
    },
    {
      "cell_type": "markdown",
      "source": [
        "## 데이터 불러오기 및 분석, 전처리\n",
        "### 모든 단어 사용\n",
        "실험을 위해 데이터셋의 모든 단어를 사용한다.\n",
        "\n",
        "해당 데이터셋은 정수 시퀀스로 변환되어 제공된다고 한다."
      ],
      "metadata": {
        "id": "woTnCGj81EIM"
      }
    },
    {
      "cell_type": "code",
      "source": [
        "# 로이터 뉴스 데이터 받아오기\n",
        "(x_train, y_train), (x_test, y_test) = reuters.load_data(num_words=None, test_split=0.2) # 상위 10000개 아니고 모든 데이터 가져오려고 none 사용하는듯하다"
      ],
      "metadata": {
        "id": "pHim7DnV1J98",
        "colab": {
          "base_uri": "https://localhost:8080/"
        },
        "outputId": "5e7625e7-d998-43f9-d40d-d0b1a65764cd"
      },
      "execution_count": null,
      "outputs": [
        {
          "output_type": "stream",
          "name": "stdout",
          "text": [
            "Downloading data from https://storage.googleapis.com/tensorflow/tf-keras-datasets/reuters.npz\n",
            "2113536/2110848 [==============================] - 0s 0us/step\n",
            "2121728/2110848 [==============================] - 0s 0us/step\n"
          ]
        }
      ]
    },
    {
      "cell_type": "code",
      "source": [
        "# 데이터 구성 출력 해보기\n",
        "print('훈련 샘플의 수: {}'.format(len(x_train)))\n",
        "print('테스트 샘플의 수: {}'.format(len(x_test)))"
      ],
      "metadata": {
        "colab": {
          "base_uri": "https://localhost:8080/"
        },
        "id": "F8TXak6G1U_O",
        "outputId": "80b9993b-1f21-410c-81ee-b019999421ec"
      },
      "execution_count": null,
      "outputs": [
        {
          "output_type": "stream",
          "name": "stdout",
          "text": [
            "훈련 샘플의 수: 8982\n",
            "테스트 샘플의 수: 2246\n"
          ]
        }
      ]
    },
    {
      "cell_type": "code",
      "source": [
        "# 클래스의 수 확인하기\n",
        "num_classes = max(y_train) + 1 # 모든 레이블 중 최댓값을 구하고 1을 더하면 현재 클래스의 개수를 확인할 수 있다.\n",
        "print('클래스의 수 : {}'.format(num_classes))"
      ],
      "metadata": {
        "colab": {
          "base_uri": "https://localhost:8080/"
        },
        "id": "ED8PniMD1gls",
        "outputId": "1c0e15be-d632-4b8c-f347-f76a6e1c0826"
      },
      "execution_count": null,
      "outputs": [
        {
          "output_type": "stream",
          "name": "stdout",
          "text": [
            "클래스의 수 : 46\n"
          ]
        }
      ]
    },
    {
      "cell_type": "code",
      "source": [
        "# 뉴스 데이터 길이 분포 확인해보기\n",
        "print('훈련용 뉴스의 최대 길이 :{}'.format(max(len(l) for l in x_train)))\n",
        "print('훈련용 뉴스의 평균 길이 :{}'.format(sum(map(len, x_train)) / len(x_train)))\n",
        "\n",
        "plt.hist([len(s) for s in x_train], bins=50)\n",
        "plt.xlabel('length of samples')\n",
        "plt.ylabel('number of samples')\n",
        "plt.show()"
      ],
      "metadata": {
        "colab": {
          "base_uri": "https://localhost:8080/",
          "height": 316
        },
        "id": "Ov5_dudw1p7U",
        "outputId": "84abf374-cbbd-4064-d4fd-da101de6d288"
      },
      "execution_count": null,
      "outputs": [
        {
          "output_type": "stream",
          "name": "stdout",
          "text": [
            "훈련용 뉴스의 최대 길이 :2376\n",
            "훈련용 뉴스의 평균 길이 :145.5398574927633\n"
          ]
        },
        {
          "output_type": "display_data",
          "data": {
            "text/plain": [
              "<Figure size 432x288 with 1 Axes>"
            ],
            "image/png": "[encoded data removed]"
          },
          "metadata": {
            "needs_background": "light"
          }
        }
      ]
    },
    {
      "cell_type": "code",
      "source": [
        "# 로이터 뉴스 데이터는 '단어'를 key값으로, 고유한 '정수'를 value로 가지는 dictionary를 제공하는데 이를 word_index로 저장했다\n",
        "word_index = reuters.get_word_index(path=\"reuters_word_index.json\")"
      ],
      "metadata": {
        "id": "4wDP9N-k2C1F",
        "colab": {
          "base_uri": "https://localhost:8080/"
        },
        "outputId": "3c51a9b9-5f71-45c0-b229-d22c1d6567c1"
      },
      "execution_count": null,
      "outputs": [
        {
          "output_type": "stream",
          "name": "stdout",
          "text": [
            "Downloading data from https://storage.googleapis.com/tensorflow/tf-keras-datasets/reuters_word_index.json\n",
            "557056/550378 [==============================] - 0s 0us/step\n",
            "565248/550378 [==============================] - 0s 0us/step\n"
          ]
        }
      ]
    },
    {
      "cell_type": "code",
      "source": [
        "# reuters.get_word_index에는 실제 단어에 맵핑 한 정수에 -3을 한 정수를 입력해 놓았기 때문에 word_index에서 index_word를 만들 때, 각 정수에 +3을 해주어야한다\n",
        "index_to_word = {index + 3 : word for word, index in word_index.items()}"
      ],
      "metadata": {
        "id": "ji6zLQEk2KJU"
      },
      "execution_count": null,
      "outputs": []
    },
    {
      "cell_type": "code",
      "source": [
        "# index_to_word에 숫자 0은 <pad>, 숫자 1은 <sos>, 숫자 2는 <unk>를 넣어줍니다.\n",
        "# 0,1,2,번은 자연어 처리를 위한 특별한 토큰들을 위해 맵핑된 번호이다. 그래서 만들어진 index_to_word에 추가적으로 이 작업을 해주어야 index_to_word가 완성된다\n",
        "for index, token in enumerate((\"<pad>\", \"<sos>\", \"<unk>\")):\n",
        "  index_to_word[index]=token"
      ],
      "metadata": {
        "id": "GH--O22t2W68"
      },
      "execution_count": null,
      "outputs": []
    },
    {
      "cell_type": "code",
      "source": [
        "# 0번째 샘플로 확인\n",
        "x_train[0]"
      ],
      "metadata": {
        "colab": {
          "base_uri": "https://localhost:8080/"
        },
        "id": "yH6aOGhX2pmd",
        "outputId": "79780a1e-9185-4ea7-b55a-2319c603a224"
      },
      "execution_count": null,
      "outputs": [
        {
          "output_type": "execute_result",
          "data": {
            "text/plain": [
              "[1,\n",
              " 27595,\n",
              " 28842,\n",
              " 8,\n",
              " 43,\n",
              " 10,\n",
              " 447,\n",
              " 5,\n",
              " 25,\n",
              " 207,\n",
              " 270,\n",
              " 5,\n",
              " 3095,\n",
              " 111,\n",
              " 16,\n",
              " 369,\n",
              " 186,\n",
              " 90,\n",
              " 67,\n",
              " 7,\n",
              " 89,\n",
              " 5,\n",
              " 19,\n",
              " 102,\n",
              " 6,\n",
              " 19,\n",
              " 124,\n",
              " 15,\n",
              " 90,\n",
              " 67,\n",
              " 84,\n",
              " 22,\n",
              " 482,\n",
              " 26,\n",
              " 7,\n",
              " 48,\n",
              " 4,\n",
              " 49,\n",
              " 8,\n",
              " 864,\n",
              " 39,\n",
              " 209,\n",
              " 154,\n",
              " 6,\n",
              " 151,\n",
              " 6,\n",
              " 83,\n",
              " 11,\n",
              " 15,\n",
              " 22,\n",
              " 155,\n",
              " 11,\n",
              " 15,\n",
              " 7,\n",
              " 48,\n",
              " 9,\n",
              " 4579,\n",
              " 1005,\n",
              " 504,\n",
              " 6,\n",
              " 258,\n",
              " 6,\n",
              " 272,\n",
              " 11,\n",
              " 15,\n",
              " 22,\n",
              " 134,\n",
              " 44,\n",
              " 11,\n",
              " 15,\n",
              " 16,\n",
              " 8,\n",
              " 197,\n",
              " 1245,\n",
              " 90,\n",
              " 67,\n",
              " 52,\n",
              " 29,\n",
              " 209,\n",
              " 30,\n",
              " 32,\n",
              " 132,\n",
              " 6,\n",
              " 109,\n",
              " 15,\n",
              " 17,\n",
              " 12]"
            ]
          },
          "metadata": {},
          "execution_count": 9
        }
      ]
    },
    {
      "cell_type": "code",
      "source": [
        "# index_to_word를 통해 첫번째 훈련용 뉴스 기사를 텍스트로 복원해보기\n",
        "print(' '.join([index_to_word[index] for index in x_train[0]]))"
      ],
      "metadata": {
        "colab": {
          "base_uri": "https://localhost:8080/"
        },
        "id": "wtMqZdeN2s5s",
        "outputId": "f155410d-0f43-449b-a079-2a0b1e8f7bdf"
      },
      "execution_count": null,
      "outputs": [
        {
          "output_type": "stream",
          "name": "stdout",
          "text": [
            "<sos> mcgrath rentcorp said as a result of its december acquisition of space co it expects earnings per share in 1987 of 1 15 to 1 30 dlrs per share up from 70 cts in 1986 the company said pretax net should rise to nine to 10 mln dlrs from six mln dlrs in 1986 and rental operation revenues to 19 to 22 mln dlrs from 12 5 mln dlrs it said cash flow per share this year should be 2 50 to three dlrs reuter 3\n"
          ]
        }
      ]
    },
    {
      "cell_type": "markdown",
      "source": [
        "### 전체 데이터 변환(train, test)\n",
        "\n",
        "전체 훈련용 뉴스 데이터와 전체 테스트용 뉴스 데이터를 텍스트 데이터로 변환해보자"
      ],
      "metadata": {
        "id": "Mcc3KxT822V0"
      }
    },
    {
      "cell_type": "code",
      "source": [
        "decoded = []\n",
        "for i in range(len(x_train)):\n",
        "  t = ' '.join([index_to_word[index] for index in x_train[i]])\n",
        "  decoded.append(t)\n",
        "\n",
        "x_train = decoded"
      ],
      "metadata": {
        "id": "LBbV3To6201E"
      },
      "execution_count": null,
      "outputs": []
    },
    {
      "cell_type": "code",
      "source": [
        "decoded = []\n",
        "for i in range(len(x_test)):\n",
        "  t = ' '.join([index_to_word[index] for index in x_test[i]])\n",
        "  decoded.append(t)\n",
        "\n",
        "x_test = decoded"
      ],
      "metadata": {
        "id": "cRqzvbia3Cx2"
      },
      "execution_count": null,
      "outputs": []
    },
    {
      "cell_type": "markdown",
      "source": [
        "## 벡터화 하기\n",
        "Document Term Matrix, DTM을 활용한 TF-IDF행렬로 벡터화한다."
      ],
      "metadata": {
        "id": "mVSa0Fdv3fVE"
      }
    },
    {
      "cell_type": "code",
      "source": [
        "# 필요한 도구 임포트\n",
        "from sklearn.feature_extraction.text import CountVectorizer\n",
        "from sklearn.feature_extraction.text import TfidfTransformer"
      ],
      "metadata": {
        "id": "4-MejEKi3dSN"
      },
      "execution_count": null,
      "outputs": []
    },
    {
      "cell_type": "code",
      "source": [
        "# DTM 생성하고 크기 확인해보기\n",
        "dtmvector = CountVectorizer()\n",
        "x_train_dtm = dtmvector.fit_transform(x_train)\n",
        "print(x_train_dtm.shape)"
      ],
      "metadata": {
        "colab": {
          "base_uri": "https://localhost:8080/"
        },
        "id": "59XkOngq3spm",
        "outputId": "5dc3262c-cab9-4028-e49b-c8af2eda9dc6"
      },
      "execution_count": null,
      "outputs": [
        {
          "output_type": "stream",
          "name": "stdout",
          "text": [
            "(8982, 26506)\n"
          ]
        }
      ]
    },
    {
      "cell_type": "code",
      "source": [
        "# TF-IDF 생성하고 크기 확인해보기\n",
        "tfidf_transformer = TfidfTransformer()\n",
        "tfidfv = tfidf_transformer.fit_transform(x_train_dtm)\n",
        "print(tfidfv.shape)"
      ],
      "metadata": {
        "colab": {
          "base_uri": "https://localhost:8080/"
        },
        "id": "NysXE1BA35g0",
        "outputId": "524f2d92-6197-444b-ceed-8ef568a35a35"
      },
      "execution_count": null,
      "outputs": [
        {
          "output_type": "stream",
          "name": "stdout",
          "text": [
            "(8982, 26506)\n"
          ]
        }
      ]
    },
    {
      "cell_type": "markdown",
      "source": [
        "## 머신러닝 모델 학습\n",
        "### 나이브 베이즈 분류기"
      ],
      "metadata": {
        "id": "Kew91R6T4eaO"
      }
    },
    {
      "cell_type": "code",
      "source": [
        "# 사용할 다양한 머신러닝 모델 라이브러리\n",
        "from sklearn.naive_bayes import MultinomialNB # 다항분포 나이브 베이즈 모델\n",
        "from sklearn.linear_model import LogisticRegression, SGDClassifier\n",
        "from sklearn.naive_bayes import ComplementNB\n",
        "from sklearn.tree import DecisionTreeClassifier\n",
        "from sklearn.ensemble import RandomForestClassifier\n",
        "from sklearn.ensemble import GradientBoostingClassifier\n",
        "from sklearn.ensemble import VotingClassifier\n",
        "from sklearn.svm import LinearSVC\n",
        "from sklearn.metrics import accuracy_score # 정확도 계산"
      ],
      "metadata": {
        "id": "M7_KSEvU4KKm"
      },
      "execution_count": null,
      "outputs": []
    },
    {
      "cell_type": "code",
      "source": [
        "# 필요한 라이브러리 불러오기\n",
        "from sklearn.metrics import classification_report\n",
        "from sklearn.metrics import confusion_matrix"
      ],
      "metadata": {
        "id": "DrmRrqgL5dV3"
      },
      "execution_count": null,
      "outputs": []
    },
    {
      "cell_type": "code",
      "source": [
        "# 테스트 데이터에 대한 정확도를 측정하기 위해서는 훈련 데이터와 동일한 전처리를 거쳐야 한다. 테스트 데이터도 TF-IDF행렬로 변환한다\n",
        "x_test_dtm = dtmvector.transform(x_test) # 테스트 데이터를 DTM으로 변환\n",
        "tfidfv_test = tfidf_transformer.transform(x_test_dtm) #DTM을 TF_IDF 행렬로 변환"
      ],
      "metadata": {
        "id": "H2egYXkZ5nAP"
      },
      "execution_count": null,
      "outputs": []
    },
    {
      "cell_type": "code",
      "source": [
        "# 다양한 머신러닝 모델 사용해보기\n",
        "\n",
        "def train_ml(tfidfv, y_train, tfidfv_test, y_test):\n",
        "  # 나이브 베이즈 분류기\n",
        "  mod = MultinomialNB()\n",
        "  mod.fit(tfidfv, y_train)\n",
        "\n",
        "  mod_predicted = mod.predict(tfidfv_test) # 테스트 데이터에 대한 예측\n",
        "  print(\"나이브 베이즈 정확도:\", accuracy_score(y_test, mod_predicted)) # 예측값과 실제값 비교\n",
        "\n",
        "  # CNB\n",
        "  cb = ComplementNB()\n",
        "  cb.fit(tfidfv, y_train)\n",
        "\n",
        "  cb_predicted = cb.predict(tfidfv_test) # 테스트 데이터에 대한 예측\n",
        "  print(\"CNB 정확도:\", accuracy_score(y_test, cb_predicted)) # 예측값과 실제값 비교\n",
        "\n",
        "  # 로지스틱 회귀\n",
        "  lr = LogisticRegression(C=10000, penalty='l2')\n",
        "  lr.fit(tfidfv, y_train)\n",
        "\n",
        "  lr_predicted = lr.predict(tfidfv_test) # 테스트 데이터에 대한 예측\n",
        "  print(\"로지스틱 회귀 정확도:\", accuracy_score(y_test, lr_predicted)) # 예측값과 실제값 비교\n",
        "\n",
        "  # 선형 서포트 벡터 머신\n",
        "  lsvc = LinearSVC(C=1000, penalty='l1', max_iter=500, dual=False)\n",
        "  lsvc.fit(tfidfv, y_train)\n",
        "\n",
        "  lsvc_predicted = lsvc.predict(tfidfv_test) # 테스트 데이터에 대한 예측\n",
        "  print(\"SVM 정확도:\", accuracy_score(y_test, lsvc_predicted)) # 예측값과 실제값 비교\n",
        "\n",
        "  # 결정 트리(Decision Tree)\n",
        "  tree = DecisionTreeClassifier(max_depth=10, random_state=0)\n",
        "  tree.fit(tfidfv, y_train)\n",
        "\n",
        "  tree_predicted = tree.predict(tfidfv_test) # 테스트 데이터에 대한 예측\n",
        "  print(\"결정 트리 정확도:\", accuracy_score(y_test, tree_predicted)) # 예측값과 실제값 비교\n",
        "\n",
        "  # 랜덤 포레스트(Random Forset)\n",
        "  forest = RandomForestClassifier(n_estimators=5, random_state=0)\n",
        "  forest.fit(tfidfv, y_train)\n",
        "\n",
        "  forest.fit(tfidfv, y_train)\n",
        "\n",
        "  forest_predicted =forest.predict(tfidfv_test) # 테스트 데이터에 대한 예측\n",
        "  print(\"랜덤 포레스트 정확도:\", accuracy_score(y_test, forest_predicted)) # 예측값과 실제값 비교\n",
        "\n",
        "  # 그래디언트 부스팅 트리(GradientBoostingClassifier)\n",
        "  grbt = GradientBoostingClassifier(random_state=0, verbose=3) # verbose=3\n",
        "  grbt.fit(tfidfv, y_train)\n",
        "\n",
        "  grbt_predicted = grbt.predict(tfidfv_test) # 테스트 데이터에 대한 예측\n",
        "  print(\"그래디언트 부스팅 트리 정확도:\", accuracy_score(y_test, grbt_predicted)) # 예측값과 실제값 비교\n",
        "\n",
        "  # 보팅(Voting)\n",
        "  voting_classifier = VotingClassifier(estimators=[\n",
        "                                                  ('lr', LogisticRegression(C=10000, penalty='l2')),\n",
        "                                                  ('cb', ComplementNB()),\n",
        "                                                  ('grbt', GradientBoostingClassifier(random_state=0))\n",
        "                                                  ], voting='soft', n_jobs=-1)\n",
        "  voting_classifier.fit(tfidfv, y_train)\n",
        "\n",
        "  voting_classifier_predicted = voting_classifier.predict(tfidfv_test) # 테스트 데이터에 대한 예측\n",
        "  print(\"보팅 정확도\", accuracy_score(y_test, voting_classifier_predicted)) # 예측값과 실제값 비교\n",
        "\n",
        "  return mod, cb, lr, lsvc, tree, forest, grbt, voting_classifier"
      ],
      "metadata": {
        "id": "JmXZpP7G514P"
      },
      "execution_count": null,
      "outputs": []
    },
    {
      "cell_type": "code",
      "source": [
        "mod, cb, lr, lsvb, tree, forest, grbt, voting_classifier = train_ml(tfidfv, y_train, tfidfv_test, y_test)"
      ],
      "metadata": {
        "colab": {
          "base_uri": "https://localhost:8080/"
        },
        "id": "gtCT3Vsf936P",
        "outputId": "a4075301-2d1b-4074-ac9e-6586686e8937"
      },
      "execution_count": null,
      "outputs": [
        {
          "output_type": "stream",
          "name": "stdout",
          "text": [
            "나이브 베이즈 정확도: 0.5997328584149599\n",
            "CNB 정확도: 0.7649154051647373\n"
          ]
        },
        {
          "output_type": "stream",
          "name": "stderr",
          "text": [
            "/usr/local/lib/python3.7/dist-packages/sklearn/linear_model/_logistic.py:818: ConvergenceWarning: lbfgs failed to converge (status=1):\n",
            "STOP: TOTAL NO. of ITERATIONS REACHED LIMIT.\n",
            "\n",
            "Increase the number of iterations (max_iter) or scale the data as shown in:\n",
            "    https://scikit-learn.org/stable/modules/preprocessing.html\n",
            "Please also refer to the documentation for alternative solver options:\n",
            "    https://scikit-learn.org/stable/modules/linear_model.html#logistic-regression\n",
            "  extra_warning_msg=_LOGISTIC_SOLVER_CONVERGENCE_MSG,\n"
          ]
        },
        {
          "output_type": "stream",
          "name": "stdout",
          "text": [
            "로지스틱 회귀 정확도: 0.813446126447017\n"
          ]
        },
        {
          "output_type": "stream",
          "name": "stderr",
          "text": [
            "/usr/local/lib/python3.7/dist-packages/sklearn/svm/_base.py:1208: ConvergenceWarning: Liblinear failed to converge, increase the number of iterations.\n",
            "  ConvergenceWarning,\n"
          ]
        },
        {
          "output_type": "stream",
          "name": "stdout",
          "text": [
            "SVM 정확도: 0.7782724844167409\n",
            "결정 트리 정확도: 0.6211041852181657\n",
            "랜덤 포레스트 정확도: 0.6544968833481746\n",
            "      Iter       Train Loss   Remaining Time \n",
            "         1           1.4301           15.43m\n",
            "         2       76760.8864           15.58m\n",
            "         3   766490025.2967           15.47m\n",
            "         4 660857139232122368.0000           15.27m\n",
            "         5 1006529060407114004275646732312951615311370376755613476759245377256674837692003341988813591601665584394912965173495998495951159296.0000           15.16m\n",
            "         6 1006529060407114004275646732312951615311370376755613476759245377256674837692003341988813591601665584394912965173495998495951159296.0000           14.98m\n",
            "         7 1006529060407114004275646732312951615311370376755613476759245377256674837692003341988813591601665584394912965173495998495951159296.0000           14.82m\n",
            "         8 1006529060407114004275646732312951615311370376755613476759245377256674837692003341988813591601665584394912965173495998495951159296.0000           14.65m\n",
            "         9 1006529060407114004275646732312951615311370376755613476759245377256674837692003341988813591601665584394912965173495998495951159296.0000           14.50m\n",
            "        10 1006529060407114004275646732312951615311370376755613476759245377256674837692003341988813591601665584394912965173495998495951159296.0000           14.35m\n",
            "        11 1006529060407114004275646732312951615311370376755613476759245377256674837692003341988813591601665584394912965173495998495951159296.0000           14.20m\n",
            "        12 1006529060407114004275646732312951615311370376755613476759245377256674837692003341988813591601665584394912965173495998495951159296.0000           14.02m\n",
            "        13 1006529060407114004275646732312951615311370376755613476759245377256674837692003341988813591601665584394912965173495998495951159296.0000           13.85m\n",
            "        14 1006529060407114004275646732312951615311370376755613476759245377256674837692003341988813591601665584394912965173495998495951159296.0000           13.68m\n",
            "        15 1006529060407114004275646732312951615311370376755613476759245377256674837692003341988813591601665584394912965173495998495951159296.0000           13.52m\n",
            "        16 1006529060407114004275646732312951615311370376755613476759245377256674837692003341988813591601665584394912965173495998495951159296.0000           13.36m\n",
            "        17 1006529060407114004275646732312951615311370376755613476759245377256674837692003341988813591601665584394912965173495998495951159296.0000           13.20m\n",
            "        18 1006529060407114004275646732312951615311370376755613476759245377256674837692003341988813591601665584394912965173495998495951159296.0000           13.04m\n",
            "        19 1006529060407114004275646732312951615311370376755613476759245377256674837692003341988813591601665584394912965173495998495951159296.0000           12.88m\n",
            "        20 1006529060407114004275646732312951615311370376755613476759245377256674837692003341988813591601665584394912965173495998495951159296.0000           12.73m\n",
            "        21 1006529060407114004275646732312951615311370376755613476759245377256674837692003341988813591601665584394912965173495998495951159296.0000           12.57m\n",
            "        22 1006529060407114004275646732312951615311370376755613476759245377256674837692003341988813591601665584394912965173495998495951159296.0000           12.41m\n",
            "        23 1006529060407114004275646732312951615311370376755613476759245377256674837692003341988813591601665584394912965173495998495951159296.0000           12.25m\n",
            "        24 1006529060407114004275646732312951615311370376755613476759245377256674837692003341988813591601665584394912965173495998495951159296.0000           12.09m\n",
            "        25 7935486330861459413268209935908863185564832687635547920920276400843855648137909550861590845608894276096734983386906163942311234165539923296256.0000           11.93m\n",
            "        26 7935486330861459413268209935908863185564832687635547920920276400843855648137909550861590845608894276096734983386906163942311234165539923296256.0000           11.77m\n",
            "        27 7935486330861459413268209935908863185564832687635547920920276400843855648137909550861590845608894276096734983386906163942311234165539923296256.0000           11.61m\n",
            "        28 7935486330861459413268209935908863185564832687635547920920276400843855648137909550861590845608894276096734983386906163942311234165539923296256.0000           11.45m\n",
            "        29 7935486330861459413268209935908863185564832687635547920920276400843855648137909550861590845608894276096734983386906163942311234165539923296256.0000           11.29m\n",
            "        30 7935486330861459413268209935908863185564832687635547920920276400843855648137909550861590845608894276096734983386906163942311234165539923296256.0000           11.13m\n",
            "        31 7935486330861459413268209935908863185564832687635547920920276400843855648137909550861590845608894276096734983386906163942311234165539923296256.0000           10.97m\n",
            "        32 7935486330861459413268209935908863185564832687635547920920276400843855648137909550861590845608894276096734983386906163942311234165539923296256.0000           10.81m\n",
            "        33 7935486330861459413268209935908863185564832687635547920920276400843855648137909550861590845608894276096734983386906163942311234165539923296256.0000           10.65m\n",
            "        34 7935486330861459413268209935908863185564832687635547920920276400843855648137909550861590845608894276096734983386906163942311234165539923296256.0000           10.49m\n",
            "        35 7935486330861459413268209935908863185564832687635547920920276400843855648137909550861590845608894276096734983386906163942311234165539923296256.0000           10.33m\n",
            "        36 7935486330861459413268209935908863185564832687635547920920276400843855648137909550861590845608894276096734983386906163942311234165539923296256.0000           10.17m\n",
            "        37 7935486330861459413268209935908863185564832687635547920920276400843855648137909550861590845608894276096734983386906163942311234165539923296256.0000           10.01m\n",
            "        38 7935486330861459413268209935908863185564832687635547920920276400843855648137909550861590845608894276096734983386906163942311234165539923296256.0000            9.85m\n",
            "        39 7935486330861459413268209935908863185564832687635547920920276400843855648137909550861590845608894276096734983386906163942311234165539923296256.0000            9.69m\n",
            "        40 7935486330861459413268209935908863185564832687635547920920276400843855648137909550861590845608894276096734983386906163942311234165539923296256.0000            9.53m\n",
            "        41 7935486330861459413268209935908863185564832687635547920920276400843855648137909550861590845608894276096734983386906163942311234165539923296256.0000            9.38m\n",
            "        42 7935486330861459413268209935908863185564832687635547920920276400843855648137909550861590845608894276096734983386906163942311234165539923296256.0000            9.22m\n",
            "        43 7935486330861459413268209935908863185564832687635547920920276400843855648137909550861590845608894276096734983386906163942311234165539923296256.0000            9.06m\n",
            "        44 7935486330861459413268209935908863185564832687635547920920276400843855648137909550861590845608894276096734983386906163942311234165539923296256.0000            8.90m\n",
            "        45 7935486330861459413268209935908863185564832687635547920920276400843855648137909550861590845608894276096734983386906163942311234165539923296256.0000            8.74m\n",
            "        46 7935486330861459413268209935908863185564832687635547920920276400843855648137909550861590845608894276096734983386906163942311234165539923296256.0000            8.58m\n",
            "        47 7935486330861459413268209935908863185564832687635547920920276400843855648137909550861590845608894276096734983386906163942311234165539923296256.0000            8.42m\n",
            "        48 7935486330861459413268209935908863185564832687635547920920276400843855648137909550861590845608894276096734983386906163942311234165539923296256.0000            8.26m\n",
            "        49 7935486330861459413268209935908863185564832687635547920920276400843855648137909550861590845608894276096734983386906163942311234165539923296256.0000            8.10m\n",
            "        50 7935486330861459413268209935908863185564832687635547920920276400843855648137909550861590845608894276096734983386906163942311234165539923296256.0000            7.94m\n",
            "        51 7935486330861459413268209935908863185564832687635547920920276400843855648137909550861590845608894276096734983386906163942311234165539923296256.0000            7.78m\n",
            "        52 7935486330861459413268209935908863185564832687635547920920276400843855648137909550861590845608894276096734983386906163942311234165539923296256.0000            7.62m\n",
            "        53 7935486330861459413268209935908863185564832687635547920920276400843855648137909550861590845608894276096734983386906163942311234165539923296256.0000            7.46m\n",
            "        54 7935486330861459413268209935908863185564832687635547920920276400843855648137909550861590845608894276096734983386906163942311234165539923296256.0000            7.31m\n",
            "        55 7935486330861459413268209935908863185564832687635547920920276400843855648137909550861590845608894276096734983386906163942311234165539923296256.0000            7.15m\n",
            "        56 7935486330861459413268209935908863185564832687635547920920276400843855648137909550861590845608894276096734983386906163942311234165539923296256.0000            6.99m\n",
            "        57 7935486330861459413268209935908863185564832687635547920920276400843855648137909550861590845608894276096734983386906163942311234165539923296256.0000            6.83m\n",
            "        58 7935486330861459413268209935908863185564832687635547920920276400843855648137909550861590845608894276096734983386906163942311234165539923296256.0000            6.67m\n",
            "        59 7935486330861459413268209935908863185564832687635547920920276400843855648137909550861590845608894276096734983386906163942311234165539923296256.0000            6.51m\n",
            "        60 7935486330861459413268209935908863185564832687635547920920276400843855648137909550861590845608894276096734983386906163942311234165539923296256.0000            6.35m\n",
            "        61 7935486330861459413268209935908863185564832687635547920920276400843855648137909550861590845608894276096734983386906163942311234165539923296256.0000            6.19m\n",
            "        62 7935486330861459413268209935908863185564832687635547920920276400843855648137909550861590845608894276096734983386906163942311234165539923296256.0000            6.04m\n",
            "        63 7935486330861459413268209935908863185564832687635547920920276400843855648137909550861590845608894276096734983386906163942311234165539923296256.0000            5.88m\n",
            "        64 7935486330861459413268209935908863185564832687635547920920276400843855648137909550861590845608894276096734983386906163942311234165539923296256.0000            5.72m\n",
            "        65 7935486330861459413268209935908863185564832687635547920920276400843855648137909550861590845608894276096734983386906163942311234165539923296256.0000            5.56m\n",
            "        66 7935486330861459413268209935908863185564832687635547920920276400843855648137909550861590845608894276096734983386906163942311234165539923296256.0000            5.40m\n",
            "        67 7935486330861459413268209935908863185564832687635547920920276400843855648137909550861590845608894276096734983386906163942311234165539923296256.0000            5.24m\n",
            "        68 7935486330861459413268209935908863185564832687635547920920276400843855648137909550861590845608894276096734983386906163942311234165539923296256.0000            5.08m\n",
            "        69 7935486330861459413268209935908863185564832687635547920920276400843855648137909550861590845608894276096734983386906163942311234165539923296256.0000            4.92m\n",
            "        70 7935486330861459413268209935908863185564832687635547920920276400843855648137909550861590845608894276096734983386906163942311234165539923296256.0000            4.76m\n",
            "        71 7935486330861459413268209935908863185564832687635547920920276400843855648137909550861590845608894276096734983386906163942311234165539923296256.0000            4.60m\n",
            "        72 7935486330861459413268209935908863185564832687635547920920276400843855648137909550861590845608894276096734983386906163942311234165539923296256.0000            4.45m\n",
            "        73 7935486330861459413268209935908863185564832687635547920920276400843855648137909550861590845608894276096734983386906163942311234165539923296256.0000            4.29m\n",
            "        74 7935486330861459413268209935908863185564832687635547920920276400843855648137909550861590845608894276096734983386906163942311234165539923296256.0000            4.13m\n",
            "        75 7935486330861459413268209935908863185564832687635547920920276400843855648137909550861590845608894276096734983386906163942311234165539923296256.0000            3.97m\n",
            "        76 7935486330861459413268209935908863185564832687635547920920276400843855648137909550861590845608894276096734983386906163942311234165539923296256.0000            3.81m\n",
            "        77 7935486330861459413268209935908863185564832687635547920920276400843855648137909550861590845608894276096734983386906163942311234165539923296256.0000            3.65m\n",
            "        78 7935486330861459413268209935908863185564832687635547920920276400843855648137909550861590845608894276096734983386906163942311234165539923296256.0000            3.49m\n",
            "        79 7935486330861459413268209935908863185564832687635547920920276400843855648137909550861590845608894276096734983386906163942311234165539923296256.0000            3.33m\n",
            "        80 7935486330861459413268209935908863185564832687635547920920276400843855648137909550861590845608894276096734983386906163942311234165539923296256.0000            3.17m\n",
            "        81 7935486330861459413268209935908863185564832687635547920920276400843855648137909550861590845608894276096734983386906163942311234165539923296256.0000            3.02m\n",
            "        82 7935486330861459413268209935908863185564832687635547920920276400843855648137909550861590845608894276096734983386906163942311234165539923296256.0000            2.86m\n",
            "        83 7935486330861459413268209935908863185564832687635547920920276400843855648137909550861590845608894276096734983386906163942311234165539923296256.0000            2.70m\n",
            "        84 7935486330861459413268209935908863185564832687635547920920276400843855648137909550861590845608894276096734983386906163942311234165539923296256.0000            2.54m\n",
            "        85 7935486330861459413268209935908863185564832687635547920920276400843855648137909550861590845608894276096734983386906163942311234165539923296256.0000            2.38m\n",
            "        86 7935486330861459413268209935908863185564832687635547920920276400843855648137909550861590845608894276096734983386906163942311234165539923296256.0000            2.22m\n",
            "        87 7935486330861459413268209935908863185564832687635547920920276400843855648137909550861590845608894276096734983386906163942311234165539923296256.0000            2.06m\n",
            "        88 7935486330861459413268209935908863185564832687635547920920276400843855648137909550861590845608894276096734983386906163942311234165539923296256.0000            1.90m\n",
            "        89 7935486330861459413268209935908863185564832687635547920920276400843855648137909550861590845608894276096734983386906163942311234165539923296256.0000            1.75m\n",
            "        90 7935486330861459413268209935908863185564832687635547920920276400843855648137909550861590845608894276096734983386906163942311234165539923296256.0000            1.59m\n",
            "        91 7935486330861459413268209935908863185564832687635547920920276400843855648137909550861590845608894276096734983386906163942311234165539923296256.0000            1.43m\n",
            "        92 7935486330861459413268209935908863185564832687635547920920276400843855648137909550861590845608894276096734983386906163942311234165539923296256.0000            1.27m\n",
            "        93 7935486330861459413268209935908863185564832687635547920920276400843855648137909550861590845608894276096734983386906163942311234165539923296256.0000            1.11m\n",
            "        94 7935486330861459413268209935908863185564832687635547920920276400843855648137909550861590845608894276096734983386906163942311234165539923296256.0000           57.23s\n",
            "        95 7935486330861459413268209935908863185564832687635547920920276400843855648137909550861590845608894276096734983386906163942311234165539923296256.0000           47.69s\n",
            "        96 7935486330861459413268209935908863185564832687635547920920276400843855648137909550861590845608894276096734983386906163942311234165539923296256.0000           38.15s\n",
            "        97 7935486330861459413268209935908863185564832687635547920920276400843855648137909550861590845608894276096734983386906163942311234165539923296256.0000           28.61s\n",
            "        98 7935486330861459413268209935908863185564832687635547920920276400843855648137909550861590845608894276096734983386906163942311234165539923296256.0000           19.07s\n",
            "        99 7935486330861459413268209935908863185564832687635547920920276400843855648137909550861590845608894276096734983386906163942311234165539923296256.0000            9.54s\n",
            "       100 7935486330861459413268209935908863185564832687635547920920276400843855648137909550861590845608894276096734983386906163942311234165539923296256.0000            0.00s\n",
            "그래디언트 부스팅 트리 정확도: 0.7702582368655387\n",
            "보팅 정확도 0.8187889581478184\n"
          ]
        }
      ]
    },
    {
      "cell_type": "markdown",
      "source": [
        "##  Vocabulary Size를 변경해서 시도해보기\n",
        "### 단어 5000개 사용"
      ],
      "metadata": {
        "id": "Hr4lYf2r-1O4"
      }
    },
    {
      "cell_type": "code",
      "source": [
        "(x_train_5k, y_train_5k), (x_test_5k, y_test_5k) = reuters.load_data(num_words=5000, test_split=0.2)"
      ],
      "metadata": {
        "id": "KQir9QXn-EJc"
      },
      "execution_count": null,
      "outputs": []
    },
    {
      "cell_type": "code",
      "source": [
        "decoded = []\n",
        "for i in range(len(x_train_5k)):\n",
        "  t = ' '.join([index_to_word[index] for index in x_train_5k[i]])\n",
        "  decoded.append(t)\n",
        "\n",
        "x_train_5k = decoded"
      ],
      "metadata": {
        "id": "QvdYMlrK_I09"
      },
      "execution_count": null,
      "outputs": []
    },
    {
      "cell_type": "code",
      "source": [
        "decoded = []\n",
        "for i in range(len(x_test_5k)):\n",
        "  t = ' '.join([index_to_word[index] for index in x_test_5k[i]])\n",
        "  \n",
        "  decoded.append(t)\n",
        "\n",
        "x_test_5k = decoded"
      ],
      "metadata": {
        "id": "5VVCOgXx_ZW9"
      },
      "execution_count": null,
      "outputs": []
    },
    {
      "cell_type": "code",
      "source": [
        "dtmvector = CountVectorizer()\n",
        "x_train_dtm_5k = dtmvector.fit_transform(x_train_5k)\n",
        "print(x_train_dtm_5k.shape)"
      ],
      "metadata": {
        "id": "Gh_Cf--9_ogm",
        "colab": {
          "base_uri": "https://localhost:8080/"
        },
        "outputId": "150f4257-f351-4631-a087-1e5d29161196"
      },
      "execution_count": null,
      "outputs": [
        {
          "output_type": "stream",
          "name": "stdout",
          "text": [
            "(8982, 4867)\n"
          ]
        }
      ]
    },
    {
      "cell_type": "code",
      "source": [
        "tfidf_transformer = TfidfTransformer()\n",
        "tfidfv_5k = tfidf_transformer.fit_transform(x_train_dtm_5k)\n",
        "print(tfidfv_5k.shape)"
      ],
      "metadata": {
        "id": "AHxAKKHJAZWt",
        "colab": {
          "base_uri": "https://localhost:8080/"
        },
        "outputId": "0c8fcb5b-047b-4230-d22d-49a30a0e3448"
      },
      "execution_count": null,
      "outputs": [
        {
          "output_type": "stream",
          "name": "stdout",
          "text": [
            "(8982, 4867)\n"
          ]
        }
      ]
    },
    {
      "cell_type": "code",
      "source": [
        "x_test_dtm_5k = dtmvector.transform(x_test_5k) # 테스트 데이터를 DTM으로 변환\n",
        "tfidfv_test_5k = tfidf_transformer.transform(x_test_dtm_5k) # DTM을 TF-IDF 행렬로 변환"
      ],
      "metadata": {
        "id": "yC2ncFKeAk_O"
      },
      "execution_count": null,
      "outputs": []
    },
    {
      "cell_type": "code",
      "source": [
        "import time\n",
        "start = time.time()\n",
        "\n",
        "mod_5k, cb_5k, lr_5k, lsvc_5, tree_5k, forest_5k, grbt_5k, voting_classifier_5k = train_ml(tfidfv_5k, y_train_5k, tfidfv_test_5k, y_test_5k)\n",
        "\n",
        "print(\"time : \", time.time() - start)"
      ],
      "metadata": {
        "id": "khBmArd_A5j2",
        "colab": {
          "base_uri": "https://localhost:8080/"
        },
        "outputId": "a01786ed-2c61-4cce-b057-2770f9b3bb06"
      },
      "execution_count": null,
      "outputs": [
        {
          "output_type": "stream",
          "name": "stdout",
          "text": [
            "나이브 베이즈 정확도: 0.6731967943009796\n",
            "CNB 정확도: 0.7707034728406055\n"
          ]
        },
        {
          "output_type": "stream",
          "name": "stderr",
          "text": [
            "/usr/local/lib/python3.7/dist-packages/sklearn/linear_model/_logistic.py:818: ConvergenceWarning: lbfgs failed to converge (status=1):\n",
            "STOP: TOTAL NO. of ITERATIONS REACHED LIMIT.\n",
            "\n",
            "Increase the number of iterations (max_iter) or scale the data as shown in:\n",
            "    https://scikit-learn.org/stable/modules/preprocessing.html\n",
            "Please also refer to the documentation for alternative solver options:\n",
            "    https://scikit-learn.org/stable/modules/linear_model.html#logistic-regression\n",
            "  extra_warning_msg=_LOGISTIC_SOLVER_CONVERGENCE_MSG,\n"
          ]
        },
        {
          "output_type": "stream",
          "name": "stdout",
          "text": [
            "로지스틱 회귀 정확도: 0.8058771148708815\n"
          ]
        },
        {
          "output_type": "stream",
          "name": "stderr",
          "text": [
            "/usr/local/lib/python3.7/dist-packages/sklearn/svm/_base.py:1208: ConvergenceWarning: Liblinear failed to converge, increase the number of iterations.\n",
            "  ConvergenceWarning,\n"
          ]
        },
        {
          "output_type": "stream",
          "name": "stdout",
          "text": [
            "SVM 정확도: 0.7600178094390027\n",
            "결정 트리 정확도: 0.6179875333926982\n",
            "랜덤 포레스트 정확도: 0.701246660730187\n",
            "      Iter       Train Loss   Remaining Time \n",
            "         1           1.4697           13.74m\n",
            "         2     2131099.0239           13.76m\n",
            "         3 113352934366748750033493137947714414201794552363528671409179356940992512.0000           13.68m\n",
            "         4 645005367195105573487290209089081189090170195029150070319832395667206596719018218881024.0000           13.59m\n",
            "         5 443067299530301659980374363525949995629695549691559890285869350923592723545213280554158712204202745088665306932510573934053386280801140736.0000           13.49m\n",
            "         6 443067299530301659980374363525949995629695549691559890285869350923592723545213280554158712204202745088665306932510573934053386280801140736.0000           13.37m\n",
            "         7 443067299530301659980374363525949995629695549691559890285869350923592723545213280554158712204202745088665306932510573934053386280801140736.0000           13.22m\n",
            "         8 443067299530301659980374363525949995629695549691559890285869350923592723545213280554158712204202745088665306932510573934053386280801140736.0000           13.08m\n",
            "         9 443067299530301659980374363525949995629695549691559890285869350923592723545213280554158712204202745088665306932510573934053386280801140736.0000           12.97m\n",
            "        10 443067299530301659980374363525949995629695549691559890285869350923592723545213280554158712204202745088665306932510573934053386280801140736.0000           12.84m\n",
            "        11 443067299530301659980374363525949995629695549691559890285869350923592723545213280554158712204202745088665306932510573934053386280801140736.0000           12.70m\n",
            "        12 443067299530301659980374363525949995629695549691559890285869350923592723545213280554158712204202745088665306932510573934053386280801140736.0000           12.55m\n",
            "        13 443067299530301659980374363525949995629695549691559890285869350923592723545213280554158712204202745088665306932510573934053386280801140736.0000           12.41m\n",
            "        14 443067299530301659980374363525949995629695549691559890285869350923592723545213280554158712204202745088665306932510573934053386280801140736.0000           12.28m\n",
            "        15 443067299530301659980374363525949995629695549691559890285869350923592723545213280554158712204202745088665306932510573934053386280801140736.0000           12.14m\n",
            "        16 443067299530301659980374363525949995629695549691559890285869350923592723545213280554158712204202745088665306932510573934053386280801140736.0000           12.01m\n",
            "        17 443067299530301659980374363525949995629695549691559890285869350923592723545213280554158712204202745088665306932510573934053386280801140736.0000           11.86m\n",
            "        18 443067299530301659980374363525949995629695549691559890285869350923592723545213280554158712204202745088665306932510573934053386280801140736.0000           11.72m\n",
            "        19 443067299530301659980374363525949995629695549691559890285869350923592723545213280554158712204202745088665306932510573934053386280801140736.0000           11.57m\n",
            "        20 443067299530301659980374363525949995629695549691559890285869350923592723545213280554158712204202745088665306932510573934053386280801140736.0000           11.44m\n",
            "        21 443067299530301659980374363525949995629695549691559890285869350923592723545213280554158712204202745088665306932510573934053386280801140736.0000           11.30m\n",
            "        22 443067299530301659980374363525949995629695549691559890285869350923592723545213280554158712204202745088665306932510573934053386280801140736.0000           11.16m\n",
            "        23 443067299530301659980374363525949995629695549691559890285869350923592723545213280554158712204202745088665306932510573934053386280801140736.0000           11.02m\n",
            "        24 443067299530301659980374363525949995629695549691559890285869350923592723545213280554158712204202745088665306932510573934053386280801140736.0000           10.87m\n",
            "        25 443067299530301659980374363525949995629695549691559890285869350923592723545213280554158712204202745088665306932510573934053386280801140736.0000           10.73m\n",
            "        26 443067299530301659980374363525949995629695549691559890285869350923592723545213280554158712204202745088665306932510573934053386280801140736.0000           10.58m\n",
            "        27 443067299530302073140354857431324340576763070173459783038796203599354776450710327057778234898793885831921831754563603678560901920400080896.0000           10.44m\n",
            "        28 443067299530302073140354857431324340576763070173459783038796203599354776450710327057778234898793885831921831754563603678560901920400080896.0000           10.30m\n",
            "        29 443067299530302073140354857431324340576763070173459783038796203599354776450710327057778234898793885831921831754563603678560901920400080896.0000           10.15m\n",
            "        30 443067299530302073140354857431324340576763070173459783038796203599354776450710327057778234898793885831921831754563603678560901920400080896.0000           10.01m\n",
            "        31 443067299530302073140354857431324340576763070173459783038796203599354776450710327057778234898793885831921831754563603678560901920400080896.0000            9.87m\n",
            "        32 443067299530302073140354857431324340576763070173459783038796203599354776450710327057778234898793885831921831754563603678560901920400080896.0000            9.72m\n",
            "        33 443067299530302073140354857431324340576763070173459783038796203599354776450710327057778234898793885831921831754563603678560901920400080896.0000            9.58m\n",
            "        34 443067299530302073140354857431324340576763070173459783038796203599354776450710327057778234898793885831921831754563603678560901920400080896.0000            9.44m\n",
            "        35 443067299530302073140354857431324340576763070173459783038796203599354776450710327057778234898793885831921831754563603678560901920400080896.0000            9.30m\n",
            "        36 443067299530302073140354857431324340576763070173459783038796203599354776450710327057778234898793885831921831754563603678560901920400080896.0000            9.15m\n",
            "        37 443067299530302073140354857431324340576763070173459783038796203599354776450710327057778234898793885831921831754563603678560901920400080896.0000            9.01m\n",
            "        38 443067299530302073140354857431324340576763070173459783038796203599354776450710327057778234898793885831921831754563603678560901920400080896.0000            8.87m\n",
            "        39 443067299530302073140354857431324340576763070173459783038796203599354776450710327057778234898793885831921831754563603678560901920400080896.0000            8.72m\n",
            "        40 443067299530302073140354857431324340576763070173459783038796203599354776450710327057778234898793885831921831754563603678560901920400080896.0000            8.58m\n",
            "        41 443067299530302073140354857431324340576763070173459783038796203599354776450710327057778234898793885831921831754563603678560901920400080896.0000            8.44m\n",
            "        42 443067299530302073140354857431324340576763070173459783038796203599354776450710327057778234898793885831921831754563603678560901920400080896.0000            8.30m\n",
            "        43 443067299530302073140354857431324340576763070173459783038796203599354776450710327057778234898793885831921831754563603678560901920400080896.0000            8.15m\n",
            "        44 443067299530302073140354857431324340576763070173459783038796203599354776450710327057778234898793885831921831754563603678560901920400080896.0000            8.01m\n",
            "        45 443067299530302073140354857431324340576763070173459783038796203599354776450710327057778234898793885831921831754563603678560901920400080896.0000            7.87m\n",
            "        46 443067299530302073140354857431324340576763070173459783038796203599354776450710327057778234898793885831921831754563603678560901920400080896.0000            7.72m\n",
            "        47 443067299530302073140354857431324340576763070173459783038796203599354776450710327057778234898793885831921831754563603678560901920400080896.0000            7.58m\n",
            "        48 443067299530302073140354857431324340576763070173459783038796203599354776450710327057778234898793885831921831754563603678560901920400080896.0000            7.43m\n",
            "        49 443067299530302073140354857431324340576763070173459783038796203599354776450710327057778234898793885831921831754563603678560901920400080896.0000            7.29m\n",
            "        50 443067299530302073140354857431324340576763070173459783038796203599354776450710327057778234898793885831921831754563603678560901920400080896.0000            7.15m\n",
            "        51 443067299530302073140354857431324340576763070173459783038796203599354776450710327057778234898793885831921831754563603678560901920400080896.0000            7.00m\n",
            "        52 443067299530302073140354857431324340576763070173459783038796203599354776450710327057778234898793885831921831754563603678560901920400080896.0000            6.86m\n",
            "        53 443067299530302073140354857431324340576763070173459783038796203599354776450710327057778234898793885831921831754563603678560901920400080896.0000            6.72m\n",
            "        54 443067299530302073140354857431324340576763070173459783038796203599354776450710327057778234898793885831921831754563603678560901920400080896.0000            6.57m\n",
            "        55 443067299530302073140354857431324340576763070173459783038796203599354776450710327057778234898793885831921831754563603678560901920400080896.0000            6.43m\n",
            "        56 443067299530302073140354857431324340576763070173459783038796203599354776450710327057778234898793885831921831754563603678560901920400080896.0000            6.29m\n",
            "        57 443067299530302073140354857431324340576763070173459783038796203599354776450710327057778234898793885831921831754563603678560901920400080896.0000            6.15m\n",
            "        58 443067299530302073140354857431324340576763070173459783038796203599354776450710327057778234898793885831921831754563603678560901920400080896.0000            6.00m\n",
            "        59 443067299530302073140354857431324340576763070173459783038796203599354776450710327057778234898793885831921831754563603678560901920400080896.0000            5.86m\n",
            "        60 443067299530302073140354857431324340576763070173459783038796203599354776450710327057778234898793885831921831754563603678560901920400080896.0000            5.72m\n",
            "        61 443067299530302073140354857431324340576763070173459783038796203599354776450710327057778234898793885831921831754563603678560901920400080896.0000            5.58m\n",
            "        62 443067299530302073140354857431324340576763070173459783038796203599354776450710327057778234898793885831921831754563603678560901920400080896.0000            5.44m\n",
            "        63 443067299530302073140354857431324340576763070173459783038796203599354776450710327057778234898793885831921831754563603678560901920400080896.0000            5.29m\n",
            "        64 443067299530302073140354857431324340576763070173459783038796203599354776450710327057778234898793885831921831754563603678560901920400080896.0000            5.15m\n",
            "        65 443067299530302073140354857431324340576763070173459783038796203599354776450710327057778234898793885831921831754563603678560901920400080896.0000            5.01m\n",
            "        66 443067299530302073140354857431324340576763070173459783038796203599354776450710327057778234898793885831921831754563603678560901920400080896.0000            4.86m\n",
            "        67 443067299530302073140354857431324340576763070173459783038796203599354776450710327057778234898793885831921831754563603678560901920400080896.0000            4.72m\n",
            "        68 443067299530302073140354857431324340576763070173459783038796203599354776450710327057778234898793885831921831754563603678560901920400080896.0000            4.58m\n",
            "        69 443067299530302073140354857431324340576763070173459783038796203599354776450710327057778234898793885831921831754563603678560901920400080896.0000            4.44m\n",
            "        70 443067299530302073140354857431324340576763070173459783038796203599354776450710327057778234898793885831921831754563603678560901920400080896.0000            4.29m\n",
            "        71 443067299530302073140354857431324340576763070173459783038796203599354776450710327057778234898793885831921831754563603678560901920400080896.0000            4.15m\n",
            "        72 443067299530302073140354857431324340576763070173459783038796203599354776450710327057778234898793885831921831754563603678560901920400080896.0000            4.01m\n",
            "        73 443067299530302073140354857431324340576763070173459783038796203599354776450710327057778234898793885831921831754563603678560901920400080896.0000            3.86m\n",
            "        74 443067299530302073140354857431324340576763070173459783038796203599354776450710327057778234898793885831921831754563603678560901920400080896.0000            3.72m\n",
            "        75 443067299530302073140354857431324340576763070173459783038796203599354776450710327057778234898793885831921831754563603678560901920400080896.0000            3.58m\n",
            "        76 443067299530302073140354857431324340576763070173459783038796203599354776450710327057778234898793885831921831754563603678560901920400080896.0000            3.43m\n",
            "        77 443067299530302073140354857431324340576763070173459783038796203599354776450710327057778234898793885831921831754563603678560901920400080896.0000            3.29m\n",
            "        78 443067299530302073140354857431324340576763070173459783038796203599354776450710327057778234898793885831921831754563603678560901920400080896.0000            3.15m\n",
            "        79 443067299530302073140354857431324340576763070173459783038796203599354776450710327057778234898793885831921831754563603678560901920400080896.0000            3.00m\n",
            "        80 443067299530302073140354857431324340576763070173459783038796203599354776450710327057778234898793885831921831754563603678560901920400080896.0000            2.86m\n",
            "        81 443067299530302073140354857431324340576763070173459783038796203599354776450710327057778234898793885831921831754563603678560901920400080896.0000            2.72m\n",
            "        82 443067299530302073140354857431324340576763070173459783038796203599354776450710327057778234898793885831921831754563603678560901920400080896.0000            2.58m\n",
            "        83 443067299530302073140354857431324340576763070173459783038796203599354776450710327057778234898793885831921831754563603678560901920400080896.0000            2.43m\n",
            "        84 443067299530302073140354857431324340576763070173459783038796203599354776450710327057778234898793885831921831754563603678560901920400080896.0000            2.29m\n",
            "        85 443067299530302073140354857431324340576763070173459783038796203599354776450710327057778234898793885831921831754563603678560901920400080896.0000            2.15m\n",
            "        86 443067299530302073140354857431324340576763070173459783038796203599354776450710327057778234898793885831921831754563603678560901920400080896.0000            2.00m\n",
            "        87 443067299530302073140354857431324340576763070173459783038796203599354776450710327057778234898793885831921831754563603678560901920400080896.0000            1.86m\n",
            "        88 443067299530302073140354857431324340576763070173459783038796203599354776450710327057778234898793885831921831754563603678560901920400080896.0000            1.72m\n",
            "        89 443067299530302073140354857431324340576763070173459783038796203599354776450710327057778234898793885831921831754563603678560901920400080896.0000            1.57m\n",
            "        90 443067299530302073140354857431324340576763070173459783038796203599354776450710327057778234898793885831921831754563603678560901920400080896.0000            1.43m\n",
            "        91 443067299530302073140354857431324340576763070173459783038796203599354776450710327057778234898793885831921831754563603678560901920400080896.0000            1.29m\n",
            "        92 443067299530302073140354857431324340576763070173459783038796203599354776450710327057778234898793885831921831754563603678560901920400080896.0000            1.14m\n",
            "        93 443067299530302073140354857431324340576763070173459783038796203599354776450710327057778234898793885831921831754563603678560901920400080896.0000            1.00m\n",
            "        94 443067299530302073140354857431324340576763070173459783038796203599354776450710327057778234898793885831921831754563603678560901920400080896.0000           51.49s\n",
            "        95 443067299530302073140354857431324340576763070173459783038796203599354776450710327057778234898793885831921831754563603678560901920400080896.0000           42.91s\n",
            "        96 443067299530302073140354857431324340576763070173459783038796203599354776450710327057778234898793885831921831754563603678560901920400080896.0000           34.32s\n",
            "        97 443067299530302073140354857431324340576763070173459783038796203599354776450710327057778234898793885831921831754563603678560901920400080896.0000           25.74s\n",
            "        98 443067299530302073140354857431324340576763070173459783038796203599354776450710327057778234898793885831921831754563603678560901920400080896.0000           17.16s\n",
            "        99 443067299530302073140354857431324340576763070173459783038796203599354776450710327057778234898793885831921831754563603678560901920400080896.0000            8.58s\n",
            "       100 443067299530302073140354857431324340576763070173459783038796203599354776450710327057778234898793885831921831754563603678560901920400080896.0000            0.00s\n",
            "그래디언트 부스팅 트리 정확도: 0.767586821015138\n",
            "보팅 정확도 0.8161175422974176\n",
            "time :  1760.7826256752014\n"
          ]
        }
      ]
    },
    {
      "cell_type": "markdown",
      "source": [
        "### 단어 1000개 사용"
      ],
      "metadata": {
        "id": "k8s4p3fb_3gW"
      }
    },
    {
      "cell_type": "code",
      "source": [
        "(x_train_1k, y_train_1k), (x_test_1k, y_test_1k) = reuters.load_data(num_words=1000, test_split=0.2)"
      ],
      "metadata": {
        "id": "sB-TsgsxCS12"
      },
      "execution_count": null,
      "outputs": []
    },
    {
      "cell_type": "code",
      "source": [
        "decoded = []\n",
        "for i in range(len(x_train_1k)):\n",
        "  t = ' '.join([index_to_word[index] for index in x_train_1k[i]])\n",
        "  decoded.append(t)\n",
        "\n",
        "x_train_1k = decoded"
      ],
      "metadata": {
        "id": "4V4601HOCedt"
      },
      "execution_count": null,
      "outputs": []
    },
    {
      "cell_type": "code",
      "source": [
        "decoded = []\n",
        "for i in range(len(x_test_1k)):\n",
        "  t = ' '.join([index_to_word[index] for index in x_test_1k[i]])\n",
        "  decoded.append(t)\n",
        "\n",
        "x_test_1k = decoded"
      ],
      "metadata": {
        "id": "1F5W6WxpCtq2"
      },
      "execution_count": null,
      "outputs": []
    },
    {
      "cell_type": "code",
      "source": [
        "dtmvector = CountVectorizer()\n",
        "x_train_dtm_1k = dtmvector.fit_transform(x_train_1k)\n",
        "print(x_train_dtm_1k.shape)"
      ],
      "metadata": {
        "id": "iuww7tsGDLP2",
        "colab": {
          "base_uri": "https://localhost:8080/"
        },
        "outputId": "18eb48fd-961e-4e5f-c724-918f0bd07307"
      },
      "execution_count": null,
      "outputs": [
        {
          "output_type": "stream",
          "name": "stdout",
          "text": [
            "(8982, 969)\n"
          ]
        }
      ]
    },
    {
      "cell_type": "code",
      "source": [
        "tfidf_transformer = TfidfTransformer()\n",
        "tfidfv_1k = tfidf_transformer.fit_transform(x_train_dtm_1k)\n",
        "print(tfidfv_1k.shape)"
      ],
      "metadata": {
        "id": "5-hDKemTDZP3",
        "colab": {
          "base_uri": "https://localhost:8080/"
        },
        "outputId": "c048e462-66ef-4ea9-ecd0-55948606ea99"
      },
      "execution_count": null,
      "outputs": [
        {
          "output_type": "stream",
          "name": "stdout",
          "text": [
            "(8982, 969)\n"
          ]
        }
      ]
    },
    {
      "cell_type": "code",
      "source": [
        "x_test_dtm_1k = dtmvector.transform(x_test_1k) # 테스트 데이터를 DTM으로 변환\n",
        "tfidfv_test_1k = tfidf_transformer.transform(x_test_dtm_1k) # DTM을 TF_IDF 행렬로 변환"
      ],
      "metadata": {
        "id": "eSkxYiS3Dojm"
      },
      "execution_count": null,
      "outputs": []
    },
    {
      "cell_type": "code",
      "source": [
        "import time\n",
        "import datetime\n",
        "\n",
        "start = time.time()\n",
        "\n",
        "mod_1k, cb_1k, lr_1k, lsvc_1k, tree_1k, forest_1k, grbt_1k, voting_classifier_1k = train_ml(tfidfv_1k, y_train_1k, tfidfv_test_1k, y_test_1k)\n",
        "\n",
        "sec = time.time()-start\n",
        "times = str(datetime.timedelta(seconds=sec)).split(\".\")\n",
        "times = times[0]\n",
        "print('run time : ', times)"
      ],
      "metadata": {
        "id": "h0Erl-DbD4em",
        "colab": {
          "base_uri": "https://localhost:8080/"
        },
        "outputId": "1815744b-1474-4e56-a389-604e7eae78fb"
      },
      "execution_count": null,
      "outputs": [
        {
          "output_type": "stream",
          "name": "stdout",
          "text": [
            "나이브 베이즈 정확도: 0.6856634016028496\n",
            "CNB 정확도: 0.7346393588601959\n"
          ]
        },
        {
          "output_type": "stream",
          "name": "stderr",
          "text": [
            "/usr/local/lib/python3.7/dist-packages/sklearn/linear_model/_logistic.py:818: ConvergenceWarning: lbfgs failed to converge (status=1):\n",
            "STOP: TOTAL NO. of ITERATIONS REACHED LIMIT.\n",
            "\n",
            "Increase the number of iterations (max_iter) or scale the data as shown in:\n",
            "    https://scikit-learn.org/stable/modules/preprocessing.html\n",
            "Please also refer to the documentation for alternative solver options:\n",
            "    https://scikit-learn.org/stable/modules/linear_model.html#logistic-regression\n",
            "  extra_warning_msg=_LOGISTIC_SOLVER_CONVERGENCE_MSG,\n"
          ]
        },
        {
          "output_type": "stream",
          "name": "stdout",
          "text": [
            "로지스틱 회귀 정확도: 0.780053428317008\n"
          ]
        },
        {
          "output_type": "stream",
          "name": "stderr",
          "text": [
            "/usr/local/lib/python3.7/dist-packages/sklearn/svm/_base.py:1208: ConvergenceWarning: Liblinear failed to converge, increase the number of iterations.\n",
            "  ConvergenceWarning,\n"
          ]
        },
        {
          "output_type": "stream",
          "name": "stdout",
          "text": [
            "SVM 정확도: 0.719946571682992\n",
            "결정 트리 정확도: 0.6179875333926982\n",
            "랜덤 포레스트 정확도: 0.707479964381122\n",
            "      Iter       Train Loss   Remaining Time \n",
            "         1           1.5717           11.49m\n",
            "         2        3967.8426           11.47m\n",
            "         3        4754.6181           11.37m\n",
            "         4     1016060.1416           11.25m\n",
            "         5     1016079.3289           11.17m\n",
            "         6     6974797.9520           11.05m\n",
            "         7     6974845.8927           10.95m\n",
            "         8     6974845.8761           10.84m\n",
            "         9 67711611000699444040275566464186667477192234919406304097104172655300731568078356217856.0000           10.73m\n",
            "        10 67711611000699444040275566464186667477192234919406304097104172655300731568078356217856.0000           10.61m\n",
            "        11 67711611000699444040275566464186667477192234919406304097104172655300731568078356217856.0000           10.49m\n",
            "        12 67711611000699444040275566464186667477192234919406304097104172655300731568078356217856.0000           10.38m\n",
            "        13 67711611000699444040275566464186667477192234919406304097104172655300731568078356217856.0000           10.27m\n",
            "        14 67711611000699444040275566464186667477192234919406304097104172655300731568078356217856.0000           10.15m\n",
            "        15 67711611000699444040275566464186667477192234919406304097104172655300731568078356217856.0000           10.03m\n",
            "        16 67711611000699444040275566464186667477192234919406304097104172655300731568078356217856.0000            9.91m\n",
            "        17 67711611000699444040275566464186667477192234919406304097104172655300731568078356217856.0000            9.79m\n",
            "        18 67711611000699444040275566464186667477192234919406304097104172655300731568078356217856.0000            9.66m\n",
            "        19 67711611000699444040275566464186667477192234919406304097104172655300731568078356217856.0000            9.54m\n",
            "        20 67711611000699444040275566464186667477192234919406304097104172655300731568078356217856.0000            9.43m\n",
            "        21 67711611000699444040275566464186667477192234919406304097104172655300731568078356217856.0000            9.31m\n",
            "        22 67711611000699444040275566464186667477192234919406304097104172655300731568078356217856.0000            9.19m\n",
            "        23 67711611000699444040275566464186667477192234919406304097104172655300731568078356217856.0000            9.07m\n",
            "        24 67711611000699444040275566464186667477192234919406304097104172655300731568078356217856.0000            8.95m\n",
            "        25 67711611000699444040275566464186667477192234919406304097104172655300731568078356217856.0000            8.84m\n",
            "        26 67711611000699444040275566464186667477192234919406304097104172655300731568078356217856.0000            8.72m\n",
            "        27 67711611000699444040275566464186667477192234919406304097104172655300731568078356217856.0000            8.60m\n",
            "        28 67711611000699444040275566464186667477192234919406304097104172655300731568078356217856.0000            8.48m\n",
            "        29 67711611000699444040275566464186667477192234919406304097104172655300731568078356217856.0000            8.36m\n",
            "        30 67711611000699444040275566464186667477192234919406304097104172655300731568078356217856.0000            8.25m\n",
            "        31 67711611000699444040275566464186667477192234919406304097104172655300731568078356217856.0000            8.13m\n",
            "        32 67711611000699444040275566464186667477192234919406304097104172655300731568078356217856.0000            8.01m\n",
            "        33 67711611000699444040275566464186667477192234919406304097104172655300731568078356217856.0000            7.89m\n",
            "        34 67711611000699444040275566464186667477192234919406304097104172655300731568078356217856.0000            7.77m\n",
            "        35 67711611000699444040275566464186667477192234919406304097104172655300731568078356217856.0000            7.65m\n",
            "        36 67711611000699444040275566464186667477192234919406304097104172655300731568078356217856.0000            7.53m\n",
            "        37 67711611000699444040275566464186667477192234919406304097104172655300731568078356217856.0000            7.41m\n",
            "        38 67711611000699444040275566464186667477192234919406304097104172655300731568078356217856.0000            7.29m\n",
            "        39 67711611000699444040275566464186667477192234919406304097104172655300731568078356217856.0000            7.17m\n",
            "        40 67711611000699444040275566464186667477192234919406304097104172655300731568078356217856.0000            7.06m\n",
            "        41 67711611000699444040275566464186667477192234919406304097104172655300731568078356217856.0000            6.94m\n",
            "        42 67711611000699444040275566464186667477192234919406304097104172655300731568078356217856.0000            6.82m\n",
            "        43 67711611000699444040275566464186667477192234919406304097104172655300731568078356217856.0000            6.71m\n",
            "        44 67711611000699444040275566464186667477192234919406304097104172655300731568078356217856.0000            6.59m\n",
            "        45 67711611000699444040275566464186667477192234919406304097104172655300731568078356217856.0000            6.47m\n",
            "        46 67711611000699444040275566464186667477192234919406304097104172655300731568078356217856.0000            6.35m\n",
            "        47 67711611000699444040275566464186667477192234919406304097104172655300731568078356217856.0000            6.24m\n",
            "        48 303698365757924932354506310309689978473330852239781977363757286537271874460249769058701394355981123584000.0000            6.12m\n",
            "        49 303698365757924932354506310309689978473330852239781977363757286537271874460249769058701394355981123584000.0000            6.00m\n",
            "        50 303698365757924932354506310309689978473330852239781977363757286537271874460249769058701394355981123584000.0000            5.88m\n",
            "        51 303698365757924932354506310309689978473330852239781977363757286537271874460249769058701394355981123584000.0000            5.76m\n",
            "        52 303698365757924932354506310309689978473330852239781977363757286537271874460249769058701394355981123584000.0000            5.65m\n",
            "        53 303698365757924932354506310309689978473330852239781977363757286537271874460249769058701394355981123584000.0000            5.53m\n",
            "        54 303698365757924932354506310309689978473330852239781977363757286537271874460249769058701394355981123584000.0000            5.41m\n",
            "        55 303698365757924932354506310309689978473330852239781977363757286537271874460249769058701394355981123584000.0000            5.29m\n",
            "        56 303698365757924932354506310309689978473330852239781977363757286537271874460249769058701394355981123584000.0000            5.18m\n",
            "        57 303698365757924932354506310309689978473330852239781977363757286537271874460249769058701394355981123584000.0000            5.06m\n",
            "        58 303698365757924932354506310309689978473330852239781977363757286537271874460249769058701394355981123584000.0000            4.94m\n",
            "        59 303698365757924932354506310309689978473330852239781977363757286537271874460249769058701394355981123584000.0000            4.82m\n",
            "        60 303698365757924932354506310309689978473330852239781977363757286537271874460249769058701394355981123584000.0000            4.71m\n",
            "        61 303698365757924932354506310309689978473330852239781977363757286537271874460249769058701394355981123584000.0000            4.59m\n",
            "        62 303698365757924932354506310309689978473330852239781977363757286537271874460249769058701394355981123584000.0000            4.47m\n",
            "        63 303698365757924932354506310309689978473330852239781977363757286537271874460249769058701394355981123584000.0000            4.36m\n",
            "        64 303698365757924932354506310309689978473330852239781977363757286537271874460249769058701394355981123584000.0000            4.24m\n",
            "        65 303698365757924932354506310309689978473330852239781977363757286537271874460249769058701394355981123584000.0000            4.12m\n",
            "        66 303698365757924932354506310309689978473330852239781977363757286537271874460249769058701394355981123584000.0000            4.00m\n",
            "        67 303698365757924932354506310309689978473330852239781977363757286537271874460249769058701394355981123584000.0000            3.89m\n",
            "        68 303698365757924932354506310309689978473330852239781977363757286537271874460249769058701394355981123584000.0000            3.77m\n",
            "        69 303698365757924932354506310309689978473330852239781977363757286537271874460249769058701394355981123584000.0000            3.65m\n",
            "        70 303698365757924932354506310309689978473330852239781977363757286537271874460249769058701394355981123584000.0000            3.53m\n",
            "        71 303698365757924932354506310309689978473330852239781977363757286537271874460249769058701394355981123584000.0000            3.42m\n",
            "        72 303698365757924932354506310309689978473330852239781977363757286537271874460249769058701394355981123584000.0000            3.30m\n",
            "        73 303698365757924932354506310309689978473330852239781977363757286537271874460249769058701394355981123584000.0000            3.18m\n",
            "        74 303698365757924932354506310309689978473330852239781977363757286537271874460249769058701394355981123584000.0000            3.06m\n",
            "        75 303698365757924932354506310309689978473330852239781977363757286537271874460249769058701394355981123584000.0000            2.95m\n",
            "        76 303698365757924932354506310309689978473330852239781977363757286537271874460249769058701394355981123584000.0000            2.83m\n",
            "        77 303698365757924932354506310309689978473330852239781977363757286537271874460249769058701394355981123584000.0000            2.71m\n",
            "        78 303698365757924932354506310309689978473330852239781977363757286537271874460249769058701394355981123584000.0000            2.59m\n",
            "        79 303698365757924932354506310309689978473330852239781977363757286537271874460249769058701394355981123584000.0000            2.47m\n",
            "        80 303698365757924932354506310309689978473330852239781977363757286537271874460249769058701394355981123584000.0000            2.36m\n",
            "        81 303698365757924932354506310309689978473330852239781977363757286537271874460249769058701394355981123584000.0000            2.24m\n",
            "        82 303698365757924932354506310309689978473330852239781977363757286537271874460249769058701394355981123584000.0000            2.12m\n",
            "        83 303698365757924932354506310309689978473330852239781977363757286537271874460249769058701394355981123584000.0000            2.00m\n",
            "        84 303698365757924932354506310309689978473330852239781977363757286537271874460249769058701394355981123584000.0000            1.88m\n",
            "        85 303698365757924932354506310309689978473330852239781977363757286537271874460249769058701394355981123584000.0000            1.77m\n",
            "        86 303698365757924932354506310309689978473330852239781977363757286537271874460249769058701394355981123584000.0000            1.65m\n",
            "        87 303698365757924932354506310309689978473330852239781977363757286537271874460249769058701394355981123584000.0000            1.53m\n",
            "        88 303698365757924932354506310309689978473330852239781977363757286537271874460249769058701394355981123584000.0000            1.41m\n",
            "        89 303698365757924932354506310309689978473330852239781977363757286537271874460249769058701394355981123584000.0000            1.30m\n",
            "        90 303698365757924932354506310309689978473330852239781977363757286537271874460249769058701394355981123584000.0000            1.18m\n",
            "        91 303698365757924932354506310309689978473330852239781977363757286537271874460249769058701394355981123584000.0000            1.06m\n",
            "        92 303698365757924932354506310309689978473330852239781977363757286537271874460249769058701394355981123584000.0000           56.58s\n",
            "        93 303698365757924932354506310309689978473330852239781977363757286537271874460249769058701394355981123584000.0000           49.50s\n",
            "        94 303698365757924932354506310309689978473330852239781977363757286537271874460249769058701394355981123584000.0000           42.43s\n",
            "        95 303698365757924932354506310309689978473330852239781977363757286537271874460249769058701394355981123584000.0000           35.36s\n",
            "        96 303698365757924932354506310309689978473330852239781977363757286537271874460249769058701394355981123584000.0000           28.29s\n",
            "        97 303698365757924932354506310309689978473330852239781977363757286537271874460249769058701394355981123584000.0000           21.21s\n",
            "        98 303698365757924932354506310309689978473330852239781977363757286537271874460249769058701394355981123584000.0000           14.14s\n",
            "        99 303698365757924932354506310309689978473330852239781977363757286537271874460249769058701394355981123584000.0000            7.07s\n",
            "       100 303698365757924932354506310309689978473330852239781977363757286537271874460249769058701394355981123584000.0000            0.00s\n",
            "그래디언트 부스팅 트리 정확도: 0.7457702582368655\n",
            "보팅 정확도 0.7845057880676759\n",
            "run time :  0:24:08\n"
          ]
        }
      ]
    },
    {
      "cell_type": "markdown",
      "source": [
        "### 단어 10000개 사용"
      ],
      "metadata": {
        "id": "nj2l4ppOEcc9"
      }
    },
    {
      "cell_type": "code",
      "source": [
        "(x_train_10k, y_train_10k), (x_test_10k, y_test_10k) = reuters.load_data(num_words=10000, test_split=0.2)"
      ],
      "metadata": {
        "id": "DY4QkBlWEb__"
      },
      "execution_count": null,
      "outputs": []
    },
    {
      "cell_type": "code",
      "source": [
        "decoded =[]\n",
        "for i in range(len(x_train_10k)):\n",
        "  t = ' '.join([index_to_word[index] for index in x_train_10k[i]])\n",
        "  decoded.append(t)\n",
        "\n",
        "x_train_10k = decoded"
      ],
      "metadata": {
        "id": "1VQNqlLD5jAT"
      },
      "execution_count": null,
      "outputs": []
    },
    {
      "cell_type": "code",
      "source": [
        "decoded = []\n",
        "for i in range(len(x_test_10k)):\n",
        "  t = ' '.join([index_to_word[index] for index in x_test_10k[i]])\n",
        "  decoded.append(t)\n",
        "\n",
        "x_test_10k = decoded"
      ],
      "metadata": {
        "id": "7Juf5wNK50uD"
      },
      "execution_count": null,
      "outputs": []
    },
    {
      "cell_type": "code",
      "source": [
        "dtmvector = CountVectorizer()\n",
        "x_train_dtm_10k = dtmvector.fit_transform(x_train_10k)\n",
        "print(x_train_dtm_10k.shape)"
      ],
      "metadata": {
        "colab": {
          "base_uri": "https://localhost:8080/"
        },
        "id": "ccvvMKY26GfZ",
        "outputId": "e84bdbfb-cc92-492e-9943-061be20880bb"
      },
      "execution_count": null,
      "outputs": [
        {
          "output_type": "stream",
          "name": "stdout",
          "text": [
            "(8982, 9670)\n"
          ]
        }
      ]
    },
    {
      "cell_type": "code",
      "source": [
        "tfidf_transformer = TfidfTransformer()\n",
        "tfidfv_10k = tfidf_transformer.fit_transform(x_train_dtm_10k)\n",
        "print(tfidfv_10k.shape)"
      ],
      "metadata": {
        "colab": {
          "base_uri": "https://localhost:8080/"
        },
        "id": "-m8B6JOw6Wsi",
        "outputId": "2cfa0f6e-ddea-45c5-94cf-3b80188563b8"
      },
      "execution_count": null,
      "outputs": [
        {
          "output_type": "stream",
          "name": "stdout",
          "text": [
            "(8982, 9670)\n"
          ]
        }
      ]
    },
    {
      "cell_type": "code",
      "source": [
        "x_test_dtm_10k = dtmvector.transform(x_test_10k) # 테스트 데이터를 DTM으로 변환\n",
        "tfidfv_test_10k = tfidf_transformer.transform(x_test_dtm_10k) # DTM을 TF-IDF 행렬로 변환"
      ],
      "metadata": {
        "id": "OUm4DBa76gRq"
      },
      "execution_count": null,
      "outputs": []
    },
    {
      "cell_type": "code",
      "source": [
        "start  = time.time()\n",
        "\n",
        "mod_10k, cb_10k, lr_10k, lsvc_10k, tree_10k, forest_10k, grbt_10k, voting_classifier_10k = train_ml(tfidfv_10k, y_train_10k, tfidfv_test_10k, y_test_10k)\n",
        "\n",
        "sec = time.time()-start\n",
        "times = str(datetime.timedelta(seconds=sec)).split(\".\")\n",
        "times = times[0]\n",
        "print('run time :', times)"
      ],
      "metadata": {
        "colab": {
          "base_uri": "https://localhost:8080/"
        },
        "id": "cI-XwuMa6uOo",
        "outputId": "53a08671-0ea4-466c-863a-344dee23d9a7"
      },
      "execution_count": null,
      "outputs": [
        {
          "output_type": "stream",
          "name": "stdout",
          "text": [
            "나이브 베이즈 정확도: 0.6567230632235085\n",
            "CNB 정확도: 0.7707034728406055\n"
          ]
        },
        {
          "output_type": "stream",
          "name": "stderr",
          "text": [
            "/usr/local/lib/python3.7/dist-packages/sklearn/linear_model/_logistic.py:818: ConvergenceWarning: lbfgs failed to converge (status=1):\n",
            "STOP: TOTAL NO. of ITERATIONS REACHED LIMIT.\n",
            "\n",
            "Increase the number of iterations (max_iter) or scale the data as shown in:\n",
            "    https://scikit-learn.org/stable/modules/preprocessing.html\n",
            "Please also refer to the documentation for alternative solver options:\n",
            "    https://scikit-learn.org/stable/modules/linear_model.html#logistic-regression\n",
            "  extra_warning_msg=_LOGISTIC_SOLVER_CONVERGENCE_MSG,\n"
          ]
        },
        {
          "output_type": "stream",
          "name": "stdout",
          "text": [
            "로지스틱 회귀 정확도: 0.8076580587711487\n"
          ]
        },
        {
          "output_type": "stream",
          "name": "stderr",
          "text": [
            "/usr/local/lib/python3.7/dist-packages/sklearn/svm/_base.py:1208: ConvergenceWarning: Liblinear failed to converge, increase the number of iterations.\n",
            "  ConvergenceWarning,\n"
          ]
        },
        {
          "output_type": "stream",
          "name": "stdout",
          "text": [
            "SVM 정확도: 0.7729296527159395\n",
            "결정 트리 정확도: 0.6202137132680321\n",
            "랜덤 포레스트 정확도: 0.674087266251113\n",
            "      Iter       Train Loss   Remaining Time \n",
            "         1           1.4608           14.65m\n",
            "         2       95544.1548           14.69m\n",
            "         3      105411.1055           14.57m\n",
            "         4 26490374809120059619893320924222374741943986946048.0000           14.44m\n",
            "         5 3332464259228453694671945105465820387521328203545526380221295913764842145866429631276902168311601749602693928777633481065758720.0000           14.26m\n",
            "         6 3332464259228453694671945105465820387521328203545526380221295913764842145866429631276902168311601749602693928777633481065758720.0000           14.11m\n",
            "         7 3332464259228453694671945105465820387521328203545526380221295913764842145866429631276902168311601749602693928777633481065758720.0000           13.99m\n",
            "         8 3332464259228453694671945105465820387521328203545526380221295913764842145866429631276902168311601749602693928777633481065758720.0000           13.83m\n",
            "         9 3332464259228453694671945105465820387521328203545526380221295913764842145866429631276902168311601749602693928777633481065758720.0000           13.66m\n",
            "        10 3332464259228453694671945105465820387521328203545526380221295913764842145866429631276902168311601749602693928777633481065758720.0000           13.51m\n",
            "        11 14834291270935598097793813192422686817633454293445808551806972586635235618984506254543094943361504759490214512223227966451089408.0000           13.35m\n",
            "        12 14834291270935598097793813192422686817633454293445808551806972586635235618984506254543094943361504759490214512223227966451089408.0000           13.21m\n",
            "        13 14834291270935598097793813192422686817633454293445808551806972586635235618984506254543094943361504759490214512223227966451089408.0000           13.07m\n",
            "        14 14834291270935598097793813192422686817633454293445808551806972586635235618984506254543094943361504759490214512223227966451089408.0000           12.92m\n",
            "        15 14834291270935598097793813192422686817633454293445808551806972586635235618984506254543094943361504759490214512223227966451089408.0000           12.78m\n",
            "        16 14834291270935598097793813192422686817633454293445808551806972586635235618984506254543094943361504759490214512223227966451089408.0000           12.63m\n",
            "        17 14834291270935598097793813192422686817633454293445808551806972586635235618984506254543094943361504759490214512223227966451089408.0000           12.47m\n",
            "        18 14834291270935598097793813192422686817633454293445808551806972586635235618984506254543094943361504759490214512223227966451089408.0000           12.32m\n",
            "        19 14834291270935598097793813192422686817633454293445808551806972586635235618984506254543094943361504759490214512223227966451089408.0000           12.17m\n",
            "        20 14834291270935598097793813192422686817633454293445808551806972586635235618984506254543094943361504759490214512223227966451089408.0000           12.02m\n",
            "        21 14834291270935598097793813192422686817633454293445808551806972586635235618984506254543094943361504759490214512223227966451089408.0000           11.87m\n",
            "        22 14834291270935598097793813192422686817633454293445808551806972586635235618984506254543094943361504759490214512223227966451089408.0000           11.72m\n",
            "        23 14834291270935598097793813192422686817633454293445808551806972586635235618984506254543094943361504759490214512223227966451089408.0000           11.56m\n",
            "        24 14834291270935598097793813192422686817633454293445808551806972586635235618984506254543094943361504759490214512223227966451089408.0000           11.40m\n",
            "        25 14834291270935598097793813192422686817633454293445808551806972586635235618984506254543094943361504759490214512223227966451089408.0000           11.25m\n",
            "        26 14834291270935598097793813192422686817633454293445808551806972586635235618984506254543094943361504759490214512223227966451089408.0000           11.10m\n",
            "        27 14834291270935598097793813192422686817633454293445808551806972586635235618984506254543094943361504759490214512223227966451089408.0000           10.95m\n",
            "        28 14834291270935598097793813192422686817633454293445808551806972586635235618984506254543094943361504759490214512223227966451089408.0000           10.79m\n",
            "        29 14834291270935598097793813192422686817633454293445808551806972586635235618984506254543094943361504759490214512223227966451089408.0000           10.63m\n",
            "        30 14834291270935598097793813192422686817633454293445808551806972586635235618984506254543094943361504759490214512223227966451089408.0000           10.48m\n",
            "        31 14834291270935598097793813192422686817633454293445808551806972586635235618984506254543094943361504759490214512223227966451089408.0000           10.32m\n",
            "        32 14834291270935598097793813192422686817633454293445808551806972586635235618984506254543094943361504759490214512223227966451089408.0000           10.17m\n",
            "        33 14834291270935598097793813192422686817633454293445808551806972586635235618984506254543094943361504759490214512223227966451089408.0000           10.03m\n",
            "        34 14834291270935598097793813192422686817633454293445808551806972586635235618984506254543094943361504759490214512223227966451089408.0000            9.87m\n",
            "        35 14834291270935598097793813192422686817633454293445808551806972586635235618984506254543094943361504759490214512223227966451089408.0000            9.72m\n",
            "        36 14834291270935598097793813192422686817633454293445808551806972586635235618984506254543094943361504759490214512223227966451089408.0000            9.57m\n",
            "        37 14834291270935598097793813192422686817633454293445808551806972586635235618984506254543094943361504759490214512223227966451089408.0000            9.42m\n",
            "        38 14834291270935598097793813192422686817633454293445808551806972586635235618984506254543094943361504759490214512223227966451089408.0000            9.27m\n",
            "        39 14834291270935598097793813192422686817633454293445808551806972586635235618984506254543094943361504759490214512223227966451089408.0000            9.12m\n",
            "        40 14834291270935598097793813192422686817633454293445808551806972586635235618984506254543094943361504759490214512223227966451089408.0000            8.98m\n",
            "        41 14834291270935598097793813192422686817633454293445808551806972586635235618984506254543094943361504759490214512223227966451089408.0000            8.82m\n",
            "        42 14834291270935598097793813192422686817633454293445808551806972586635235618984506254543094943361504759490214512223227966451089408.0000            8.67m\n",
            "        43 14834291270935598097793813192422686817633454293445808551806972586635235618984506254543094943361504759490214512223227966451089408.0000            8.52m\n",
            "        44 14834291270935598097793813192422686817633454293445808551806972586635235618984506254543094943361504759490214512223227966451089408.0000            8.37m\n",
            "        45 14834291270935598097793813192422686817633454293445808551806972586635235618984506254543094943361504759490214512223227966451089408.0000            8.22m\n",
            "        46 14834291270935598097793813192422686817633454293445808551806972586635235618984506254543094943361504759490214512223227966451089408.0000            8.07m\n",
            "        47 14834291270935598097793813192422686817633454293445808551806972586635235618984506254543094943361504759490214512223227966451089408.0000            7.92m\n",
            "        48 14834291270935598097793813192422686817633454293445808551806972586635235618984506254543094943361504759490214512223227966451089408.0000            7.77m\n",
            "        49 14834291270935598097793813192422686817633454293445808551806972586635235618984506254543094943361504759490214512223227966451089408.0000            7.62m\n",
            "        50 14834291270935598097793813192422686817633454293445808551806972586635235618984506254543094943361504759490214512223227966451089408.0000            7.47m\n",
            "        51 14834291270935598097793813192422686817633454293445808551806972586635235618984506254543094943361504759490214512223227966451089408.0000            7.32m\n",
            "        52 14834291270935598097793813192422686817633454293445808551806972586635235618984506254543094943361504759490214512223227966451089408.0000            7.17m\n",
            "        53 14834291270935598097793813192422686817633454293445808551806972586635235618984506254543094943361504759490214512223227966451089408.0000            7.02m\n",
            "        54 14834291270935598097793813192422686817633454293445808551806972586635235618984506254543094943361504759490214512223227966451089408.0000            6.87m\n",
            "        55 14834291270935598097793813192422686817633454293445808551806972586635235618984506254543094943361504759490214512223227966451089408.0000            6.72m\n",
            "        56 14834291270935598097793813192422686817633454293445808551806972586635235618984506254543094943361504759490214512223227966451089408.0000            6.57m\n",
            "        57 14834291270935598097793813192422686817633454293445808551806972586635235618984506254543094943361504759490214512223227966451089408.0000            6.42m\n",
            "        58 14834291270935598097793813192422686817633454293445808551806972586635235618984506254543094943361504759490214512223227966451089408.0000            6.28m\n",
            "        59 14834291270935598097793813192422686817633454293445808551806972586635235618984506254543094943361504759490214512223227966451089408.0000            6.12m\n",
            "        60 14834291270935598097793813192422686817633454293445808551806972586635235618984506254543094943361504759490214512223227966451089408.0000            5.98m\n",
            "        61 14834291270935598097793813192422686817633454293445808551806972586635235618984506254543094943361504759490214512223227966451089408.0000            5.83m\n",
            "        62 14834291270935598097793813192422686817633454293445808551806972586635235618984506254543094943361504759490214512223227966451089408.0000            5.68m\n",
            "        63 14834291270935598097793813192422686817633454293445808551806972586635235618984506254543094943361504759490214512223227966451089408.0000            5.53m\n",
            "        64 14834291270935598097793813192422686817633454293445808551806972586635235618984506254543094943361504759490214512223227966451089408.0000            5.38m\n",
            "        65 14834291270935598097793813192422686817633454293445808551806972586635235618984506254543094943361504759490214512223227966451089408.0000            5.23m\n",
            "        66 14834291270935598097793813192422686817633454293445808551806972586635235618984506254543094943361504759490214512223227966451089408.0000            5.08m\n",
            "        67 14834291270935598097793813192422686817633454293445808551806972586635235618984506254543094943361504759490214512223227966451089408.0000            4.93m\n",
            "        68 14834291270935598097793813192422686817633454293445808551806972586635235618984506254543094943361504759490214512223227966451089408.0000            4.78m\n",
            "        69 14834291270935598097793813192422686817633454293445808551806972586635235618984506254543094943361504759490214512223227966451089408.0000            4.63m\n",
            "        70 14834291270935598097793813192422686817633454293445808551806972586635235618984506254543094943361504759490214512223227966451089408.0000            4.48m\n",
            "        71 14834291270935598097793813192422686817633454293445808551806972586635235618984506254543094943361504759490214512223227966451089408.0000            4.33m\n",
            "        72 14834291270935598097793813192422686817633454293445808551806972586635235618984506254543094943361504759490214512223227966451089408.0000            4.18m\n",
            "        73 14834291270935598097793813192422686817633454293445808551806972586635235618984506254543094943361504759490214512223227966451089408.0000            4.03m\n",
            "        74 14834291270935598097793813192422686817633454293445808551806972586635235618984506254543094943361504759490214512223227966451089408.0000            3.88m\n",
            "        75 14834291270935598097793813192422686817633454293445808551806972586635235618984506254543094943361504759490214512223227966451089408.0000            3.73m\n",
            "        76 14834291270935598097793813192422686817633454293445808551806972586635235618984506254543094943361504759490214512223227966451089408.0000            3.58m\n",
            "        77 14834291270935598097793813192422686817633454293445808551806972586635235618984506254543094943361504759490214512223227966451089408.0000            3.43m\n",
            "        78 14834291270935598097793813192422686817633454293445808551806972586635235618984506254543094943361504759490214512223227966451089408.0000            3.29m\n",
            "        79 14834291270935598097793813192422686817633454293445808551806972586635235618984506254543094943361504759490214512223227966451089408.0000            3.14m\n",
            "        80 14834291270935598097793813192422686817633454293445808551806972586635235618984506254543094943361504759490214512223227966451089408.0000            2.99m\n",
            "        81 14834291270935598097793813192422686817633454293445808551806972586635235618984506254543094943361504759490214512223227966451089408.0000            2.84m\n",
            "        82 14834291270935598097793813192422686817633454293445808551806972586635235618984506254543094943361504759490214512223227966451089408.0000            2.69m\n",
            "        83 14834291270935598097793813192422686817633454293445808551806972586635235618984506254543094943361504759490214512223227966451089408.0000            2.54m\n",
            "        84 14834291270935598097793813192422686817633454293445808551806972586635235618984506254543094943361504759490214512223227966451089408.0000            2.39m\n",
            "        85 14834291270935598097793813192422686817633454293445808551806972586635235618984506254543094943361504759490214512223227966451089408.0000            2.24m\n",
            "        86 14834291270935598097793813192422686817633454293445808551806972586635235618984506254543094943361504759490214512223227966451089408.0000            2.09m\n",
            "        87 14834291270935598097793813192422686817633454293445808551806972586635235618984506254543094943361504759490214512223227966451089408.0000            1.94m\n",
            "        88 14834291270935598097793813192422686817633454293445808551806972586635235618984506254543094943361504759490214512223227966451089408.0000            1.79m\n",
            "        89 14834291270935598097793813192422686817633454293445808551806972586635235618984506254543094943361504759490214512223227966451089408.0000            1.64m\n",
            "        90 14834291270935598097793813192422686817633454293445808551806972586635235618984506254543094943361504759490214512223227966451089408.0000            1.49m\n",
            "        91 14834291270935598097793813192422686817633454293445808551806972586635235618984506254543094943361504759490214512223227966451089408.0000            1.34m\n",
            "        92 14834291270935598097793813192422686817633454293445808551806972586635235618984506254543094943361504759490214512223227966451089408.0000            1.19m\n",
            "        93 14834291270935598097793813192422686817633454293445808551806972586635235618984506254543094943361504759490214512223227966451089408.0000            1.04m\n",
            "        94 14834291270935598097793813192422686817633454293445808551806972586635235618984506254543094943361504759490214512223227966451089408.0000           53.70s\n",
            "        95 14834291270935598097793813192422686817633454293445808551806972586635235618984506254543094943361504759490214512223227966451089408.0000           44.75s\n",
            "        96 14834291270935598097793813192422686817633454293445808551806972586635235618984506254543094943361504759490214512223227966451089408.0000           35.81s\n",
            "        97 14834291270935598097793813192422686817633454293445808551806972586635235618984506254543094943361504759490214512223227966451089408.0000           26.86s\n",
            "        98 14834291270935598097793813192422686817633454293445808551806972586635235618984506254543094943361504759490214512223227966451089408.0000           17.90s\n",
            "        99 14834291270935598097793813192422686817633454293445808551806972586635235618984506254543094943361504759490214512223227966451089408.0000            8.95s\n",
            "       100 14834291270935598097793813192422686817633454293445808551806972586635235618984506254543094943361504759490214512223227966451089408.0000            0.00s\n",
            "그래디언트 부스팅 트리 정확도: 0.7662511130899377\n",
            "보팅 정확도 0.8116651825467498\n",
            "run time : 0:30:41\n"
          ]
        }
      ]
    },
    {
      "cell_type": "markdown",
      "source": [
        "### 단어 20000개 사용"
      ],
      "metadata": {
        "id": "HPDKjOdK7WyR"
      }
    },
    {
      "cell_type": "code",
      "source": [
        "(x_train_20k, y_train_20k), (x_test_20k, y_test_20k) = reuters.load_data(num_words=20000, test_split=0.2)"
      ],
      "metadata": {
        "id": "kV1IDxLQ7XBB"
      },
      "execution_count": null,
      "outputs": []
    },
    {
      "cell_type": "code",
      "source": [
        "decoded = []\n",
        "for i in range(len(x_train_20k)):\n",
        "  t = ' '.join([index_to_word[index] for index in x_train_20k[i]])\n",
        "  decoded.append(t)\n",
        "\n",
        "x_train_20k = decoded"
      ],
      "metadata": {
        "id": "OOsAj3LA7iV6"
      },
      "execution_count": null,
      "outputs": []
    },
    {
      "cell_type": "code",
      "source": [
        "decoded = []\n",
        "for i in range(len(x_test_20k)):\n",
        "  t =' '.join([index_to_word[index] for index in x_test_20k[i]])\n",
        "  decoded.append(t)\n",
        "\n",
        "x_test_20k = decoded"
      ],
      "metadata": {
        "id": "rt4N-3BC7wqR"
      },
      "execution_count": null,
      "outputs": []
    },
    {
      "cell_type": "code",
      "source": [
        "dtmvector = CountVectorizer()\n",
        "x_train_dtm_20k = dtmvector.fit_transform(x_train_20k)\n",
        "print(x_train_dtm_20k.shape)"
      ],
      "metadata": {
        "colab": {
          "base_uri": "https://localhost:8080/"
        },
        "id": "WcTh2L998A0D",
        "outputId": "e029381a-3712-450e-f63e-38e596d8643a"
      },
      "execution_count": null,
      "outputs": [
        {
          "output_type": "stream",
          "name": "stdout",
          "text": [
            "(8982, 18479)\n"
          ]
        }
      ]
    },
    {
      "cell_type": "code",
      "source": [
        "tfidf_transformer = TfidfTransformer()\n",
        "tfidfv_20k = tfidf_transformer.fit_transform(x_train_dtm_20k)\n",
        "print(tfidfv_20k.shape)"
      ],
      "metadata": {
        "colab": {
          "base_uri": "https://localhost:8080/"
        },
        "id": "MxTecxRc8K-h",
        "outputId": "26be0815-7272-4621-c514-fb4eb0711a11"
      },
      "execution_count": null,
      "outputs": [
        {
          "output_type": "stream",
          "name": "stdout",
          "text": [
            "(8982, 18479)\n"
          ]
        }
      ]
    },
    {
      "cell_type": "code",
      "source": [
        "x_test_dtm_20k = dtmvector.transform(x_test_20k) # 테스트 데이터를 DTM으로 변환\n",
        "tfidfv_test_20k = tfidf_transformer.transform(x_test_dtm_20k) # DTM을 TF-IDF 행렬로 변환"
      ],
      "metadata": {
        "id": "04dpB0lB9z5S"
      },
      "execution_count": null,
      "outputs": []
    },
    {
      "cell_type": "code",
      "source": [
        "start = time.time()\n",
        "\n",
        "mod_20k, cb_20k, lr_20k, lsvc_20k, tree_20k, forest_20k, grbt_20k, voting_classifier_20k = train_ml(tfidfv_20k, y_train_20k, tfidfv_test_20k, y_test_20k)\n",
        "\n",
        "sec = time.time()-start\n",
        "times = str(datetime.timedelta(seconds=sec)).split(\".\")\n",
        "times = times[0]\n",
        "print('run time :', times)"
      ],
      "metadata": {
        "id": "5KoJy2aH-cFk",
        "colab": {
          "base_uri": "https://localhost:8080/"
        },
        "outputId": "12782308-09bd-442b-caad-5cd18416b162"
      },
      "execution_count": null,
      "outputs": [
        {
          "output_type": "stream",
          "name": "stdout",
          "text": [
            "나이브 베이즈 정확도: 0.6193232413178985\n",
            "CNB 정확도: 0.7671415850400712\n"
          ]
        },
        {
          "output_type": "stream",
          "name": "stderr",
          "text": [
            "/usr/local/lib/python3.7/dist-packages/sklearn/linear_model/_logistic.py:818: ConvergenceWarning: lbfgs failed to converge (status=1):\n",
            "STOP: TOTAL NO. of ITERATIONS REACHED LIMIT.\n",
            "\n",
            "Increase the number of iterations (max_iter) or scale the data as shown in:\n",
            "    https://scikit-learn.org/stable/modules/preprocessing.html\n",
            "Please also refer to the documentation for alternative solver options:\n",
            "    https://scikit-learn.org/stable/modules/linear_model.html#logistic-regression\n",
            "  extra_warning_msg=_LOGISTIC_SOLVER_CONVERGENCE_MSG,\n"
          ]
        },
        {
          "output_type": "stream",
          "name": "stdout",
          "text": [
            "로지스틱 회귀 정확도: 0.8098842386464826\n"
          ]
        },
        {
          "output_type": "stream",
          "name": "stderr",
          "text": [
            "/usr/local/lib/python3.7/dist-packages/sklearn/svm/_base.py:1208: ConvergenceWarning: Liblinear failed to converge, increase the number of iterations.\n",
            "  ConvergenceWarning,\n"
          ]
        },
        {
          "output_type": "stream",
          "name": "stdout",
          "text": [
            "SVM 정확도: 0.7733748886910062\n",
            "결정 트리 정확도: 0.6211041852181657\n",
            "랜덤 포레스트 정확도: 0.6714158504007124\n",
            "      Iter       Train Loss   Remaining Time \n",
            "         1           1.4325           15.17m\n",
            "         2       95425.3579           15.37m\n",
            "         3      105570.6041           15.36m\n",
            "         4 593224062708261760.0000           15.21m\n",
            "         5 3774435173865725234928276254753926961504996704196152337310417818266040513071397885183910310310561420723401279705159106767064399872.0000           15.12m\n",
            "         6 3774435173865725234928276254753926961504996704196152337310417818266040513071397885183910310310561420723401279705159106767064399872.0000           14.96m\n",
            "         7 1489548745818530758244232012042654711502171239857813292906777294351633452202689035463067802524827847410009904379930627599745172362994401857765376.0000           14.78m\n",
            "         8 1489548745818530758244232012042654711502171239857813292906777294351633452202689035463067802524827847410009904379930627599745172362994401857765376.0000           14.63m\n",
            "         9 1489548745818530758244232012042654711502171239857813292906777294351633452202689035463067802524827847410009904379930627599745172362994401857765376.0000           14.52m\n",
            "        10 1489548745818530758244232012042654711502171239857813292906777294351633452202689035463067802524827847410009904379930627599745172362994401857765376.0000           14.36m\n",
            "        11 1489548745818530758244232012042654711502171239857813292906777294351633452202689035463067802524827847410009904379930627599745172362994401857765376.0000           14.20m\n",
            "        12 1489548745818530758244232012042654711502171239857813292906777294351633452202689035463067802524827847410009904379930627599745172362994401857765376.0000           14.02m\n",
            "        13 1489548745818530758244232012042654711502171239857813292906777294351633452202689035463067802524827847410009904379930627599745172362994401857765376.0000           13.87m\n",
            "        14 1489548745818530758244232012042654711502171239857813292906777294351633452202689035463067802524827847410009904379930627599745172362994401857765376.0000           13.72m\n",
            "        15 1489548745818530758244232012042654711502171239857813292906777294351633452202689035463067802524827847410009904379930627599745172362994401857765376.0000           13.56m\n",
            "        16 1489548745818530758244232012042654711502171239857813292906777294351633452202689035463067802524827847410009904379930627599745172362994401857765376.0000           13.39m\n",
            "        17 1489548745818530758244232012042654711502171239857813292906777294351633452202689035463067802524827847410009904379930627599745172362994401857765376.0000           13.22m\n",
            "        18 1489548745818530758244232012042654711502171239857813292906777294351633452202689035463067802524827847410009904379930627599745172362994401857765376.0000           13.07m\n",
            "        19 1489548745818530758244232012042654711502171239857813292906777294351633452202689035463067802524827847410009904379930627599745172362994401857765376.0000           12.91m\n",
            "        20 1489548745818530758244232012042654711502171239857813292906777294351633452202689035463067802524827847410009904379930627599745172362994401857765376.0000           12.75m\n",
            "        21 1489548745818530758244232012042654711502171239857813292906777294351633452202689035463067802524827847410009904379930627599745172362994401857765376.0000           12.60m\n",
            "        22 1489548745818530758244232012042654711502171239857813292906777294351633452202689035463067802524827847410009904379930627599745172362994401857765376.0000           12.43m\n",
            "        23 1489548745818530758244232012042654711502171239857813292906777294351633452202689035463067802524827847410009904379930627599745172362994401857765376.0000           12.27m\n",
            "        24 1489548745818530758244232012042654711502171239857813292906777294351633452202689035463067802524827847410009904379930627599745172362994401857765376.0000           12.10m\n",
            "        25 1489548745818530758244232012042654711502171239857813292906777294351633452202689035463067802524827847410009904379930627599745172362994401857765376.0000           11.94m\n",
            "        26 1489548745818530758244232012042654711502171239857813292906777294351633452202689035463067802524827847410009904379930627599745172362994401857765376.0000           11.78m\n",
            "        27 1489548745818530758244232012042654711502171239857813292906777294351633452202689035463067802524827847410009904379930627599745172362994401857765376.0000           11.62m\n",
            "        28 1489548745818530758244232012042654711502171239857813292906777294351633452202689035463067802524827847410009904379930627599745172362994401857765376.0000           11.45m\n",
            "        29 1489548745818530758244232012042654711502171239857813292906777294351633452202689035463067802524827847410009904379930627599745172362994401857765376.0000           11.29m\n",
            "        30 1489548745818530758244232012042654711502171239857813292906777294351633452202689035463067802524827847410009904379930627599745172362994401857765376.0000           11.14m\n",
            "        31 1489548745818530758244232012042654711502171239857813292906777294351633452202689035463067802524827847410009904379930627599745172362994401857765376.0000           10.98m\n",
            "        32 1489548745818530758244232012042654711502171239857813292906777294351633452202689035463067802524827847410009904379930627599745172362994401857765376.0000           10.82m\n",
            "        33 1489548745818530758244232012042654711502171239857813292906777294351633452202689035463067802524827847410009904379930627599745172362994401857765376.0000           10.66m\n",
            "        34 1489548745818530758244232012042654711502171239857813292906777294351633452202689035463067802524827847410009904379930627599745172362994401857765376.0000           10.50m\n",
            "        35 1489548745818530758244232012042654711502171239857813292906777294351633452202689035463067802524827847410009904379930627599745172362994401857765376.0000           10.34m\n",
            "        36 1489548745818530758244232012042654711502171239857813292906777294351633452202689035463067802524827847410009904379930627599745172362994401857765376.0000           10.18m\n",
            "        37 1489548745818530758244232012042654711502171239857813292906777294351633452202689035463067802524827847410009904379930627599745172362994401857765376.0000           10.02m\n",
            "        38 1489548745818530758244232012042654711502171239857813292906777294351633452202689035463067802524827847410009904379930627599745172362994401857765376.0000            9.86m\n",
            "        39 1489548745818530758244232012042654711502171239857813292906777294351633452202689035463067802524827847410009904379930627599745172362994401857765376.0000            9.70m\n",
            "        40 1489548745818530758244232012042654711502171239857813292906777294351633452202689035463067802524827847410009904379930627599745172362994401857765376.0000            9.54m\n",
            "        41 1489548745818530758244232012042654711502171239857813292906777294351633452202689035463067802524827847410009904379930627599745172362994401857765376.0000            9.38m\n",
            "        42 1489548745818530758244232012042654711502171239857813292906777294351633452202689035463067802524827847410009904379930627599745172362994401857765376.0000            9.22m\n",
            "        43 1489548745818530758244232012042654711502171239857813292906777294351633452202689035463067802524827847410009904379930627599745172362994401857765376.0000            9.07m\n",
            "        44 1489548745818530758244232012042654711502171239857813292906777294351633452202689035463067802524827847410009904379930627599745172362994401857765376.0000            8.91m\n",
            "        45 1489548745818530758244232012042654711502171239857813292906777294351633452202689035463067802524827847410009904379930627599745172362994401857765376.0000            8.75m\n",
            "        46 1489548745818530758244232012042654711502171239857813292906777294351633452202689035463067802524827847410009904379930627599745172362994401857765376.0000            8.59m\n",
            "        47 1489548745818530758244232012042654711502171239857813292906777294351633452202689035463067802524827847410009904379930627599745172362994401857765376.0000            8.43m\n",
            "        48 1489548745818530758244232012042654711502171239857813292906777294351633452202689035463067802524827847410009904379930627599745172362994401857765376.0000            8.27m\n",
            "        49 1489548745818530758244232012042654711502171239857813292906777294351633452202689035463067802524827847410009904379930627599745172362994401857765376.0000            8.11m\n",
            "        50 1489548745818530758244232012042654711502171239857813292906777294351633452202689035463067802524827847410009904379930627599745172362994401857765376.0000            7.95m\n",
            "        51 1489548745818530758244232012042654711502171239857813292906777294351633452202689035463067802524827847410009904379930627599745172362994401857765376.0000            7.79m\n",
            "        52 1489548745818530758244232012042654711502171239857813292906777294351633452202689035463067802524827847410009904379930627599745172362994401857765376.0000            7.63m\n",
            "        53 1489548745818530758244232012042654711502171239857813292906777294351633452202689035463067802524827847410009904379930627599745172362994401857765376.0000            7.47m\n",
            "        54 1489548745818530758244232012042654711502171239857813292906777294351633452202689035463067802524827847410009904379930627599745172362994401857765376.0000            7.31m\n",
            "        55 1489548745818530758244232012042654711502171239857813292906777294351633452202689035463067802524827847410009904379930627599745172362994401857765376.0000            7.15m\n",
            "        56 1489548745818530758244232012042654711502171239857813292906777294351633452202689035463067802524827847410009904379930627599745172362994401857765376.0000            6.99m\n",
            "        57 1489548745818530758244232012042654711502171239857813292906777294351633452202689035463067802524827847410009904379930627599745172362994401857765376.0000            6.84m\n",
            "        58 1489548745818530758244232012042654711502171239857813292906777294351633452202689035463067802524827847410009904379930627599745172362994401857765376.0000            6.68m\n",
            "        59 1489548745818530758244232012042654711502171239857813292906777294351633452202689035463067802524827847410009904379930627599745172362994401857765376.0000            6.52m\n",
            "        60 1489548745818530758244232012042654711502171239857813292906777294351633452202689035463067802524827847410009904379930627599745172362994401857765376.0000            6.36m\n",
            "        61 1489548745818530758244232012042654711502171239857813292906777294351633452202689035463067802524827847410009904379930627599745172362994401857765376.0000            6.20m\n",
            "        62 1489548745818530758244232012042654711502171239857813292906777294351633452202689035463067802524827847410009904379930627599745172362994401857765376.0000            6.04m\n",
            "        63 1489548745818530758244232012042654711502171239857813292906777294351633452202689035463067802524827847410009904379930627599745172362994401857765376.0000            5.88m\n",
            "        64 1489548745818530758244232012042654711502171239857813292906777294351633452202689035463067802524827847410009904379930627599745172362994401857765376.0000            5.72m\n",
            "        65 1489548745818530758244232012042654711502171239857813292906777294351633452202689035463067802524827847410009904379930627599745172362994401857765376.0000            5.56m\n",
            "        66 1489548745818530758244232012042654711502171239857813292906777294351633452202689035463067802524827847410009904379930627599745172362994401857765376.0000            5.40m\n",
            "        67 1489548745818530758244232012042654711502171239857813292906777294351633452202689035463067802524827847410009904379930627599745172362994401857765376.0000            5.24m\n",
            "        68 1489548745818530758244232012042654711502171239857813292906777294351633452202689035463067802524827847410009904379930627599745172362994401857765376.0000            5.08m\n",
            "        69 1489548745818530758244232012042654711502171239857813292906777294351633452202689035463067802524827847410009904379930627599745172362994401857765376.0000            4.92m\n",
            "        70 1489548745818530758244232012042654711502171239857813292906777294351633452202689035463067802524827847410009904379930627599745172362994401857765376.0000            4.76m\n",
            "        71 1489548745818530758244232012042654711502171239857813292906777294351633452202689035463067802524827847410009904379930627599745172362994401857765376.0000            4.61m\n",
            "        72 1489548745818530758244232012042654711502171239857813292906777294351633452202689035463067802524827847410009904379930627599745172362994401857765376.0000            4.45m\n",
            "        73 1489548745818530758244232012042654711502171239857813292906777294351633452202689035463067802524827847410009904379930627599745172362994401857765376.0000            4.29m\n",
            "        74 1489548745818530758244232012042654711502171239857813292906777294351633452202689035463067802524827847410009904379930627599745172362994401857765376.0000            4.13m\n",
            "        75 1489548745818530758244232012042654711502171239857813292906777294351633452202689035463067802524827847410009904379930627599745172362994401857765376.0000            3.97m\n",
            "        76 1489548745818530758244232012042654711502171239857813292906777294351633452202689035463067802524827847410009904379930627599745172362994401857765376.0000            3.81m\n",
            "        77 1489548745818530758244232012042654711502171239857813292906777294351633452202689035463067802524827847410009904379930627599745172362994401857765376.0000            3.65m\n",
            "        78 1489548745818530758244232012042654711502171239857813292906777294351633452202689035463067802524827847410009904379930627599745172362994401857765376.0000            3.49m\n",
            "        79 1489548745818530758244232012042654711502171239857813292906777294351633452202689035463067802524827847410009904379930627599745172362994401857765376.0000            3.34m\n",
            "        80 1489548745818530758244232012042654711502171239857813292906777294351633452202689035463067802524827847410009904379930627599745172362994401857765376.0000            3.18m\n",
            "        81 1489548745818530758244232012042654711502171239857813292906777294351633452202689035463067802524827847410009904379930627599745172362994401857765376.0000            3.02m\n",
            "        82 1489548745818530758244232012042654711502171239857813292906777294351633452202689035463067802524827847410009904379930627599745172362994401857765376.0000            2.86m\n",
            "        83 1489548745818530758244232012042654711502171239857813292906777294351633452202689035463067802524827847410009904379930627599745172362994401857765376.0000            2.70m\n",
            "        84 1489548745818530758244232012042654711502171239857813292906777294351633452202689035463067802524827847410009904379930627599745172362994401857765376.0000            2.54m\n",
            "        85 1489548745818530758244232012042654711502171239857813292906777294351633452202689035463067802524827847410009904379930627599745172362994401857765376.0000            2.38m\n",
            "        86 1489548745818530758244232012042654711502171239857813292906777294351633452202689035463067802524827847410009904379930627599745172362994401857765376.0000            2.22m\n",
            "        87 1489548745818530758244232012042654711502171239857813292906777294351633452202689035463067802524827847410009904379930627599745172362994401857765376.0000            2.06m\n",
            "        88 1489548745818530758244232012042654711502171239857813292906777294351633452202689035463067802524827847410009904379930627599745172362994401857765376.0000            1.91m\n",
            "        89 1489548745818530758244232012042654711502171239857813292906777294351633452202689035463067802524827847410009904379930627599745172362994401857765376.0000            1.75m\n",
            "        90 1489548745818530758244232012042654711502171239857813292906777294351633452202689035463067802524827847410009904379930627599745172362994401857765376.0000            1.59m\n",
            "        91 1489548745818530758244232012042654711502171239857813292906777294351633452202689035463067802524827847410009904379930627599745172362994401857765376.0000            1.43m\n",
            "        92 1489548745818530758244232012042654711502171239857813292906777294351633452202689035463067802524827847410009904379930627599745172362994401857765376.0000            1.27m\n",
            "        93 1489548745818530758244232012042654711502171239857813292906777294351633452202689035463067802524827847410009904379930627599745172362994401857765376.0000            1.11m\n",
            "        94 1489548745818530758244232012042654711502171239857813292906777294351633452202689035463067802524827847410009904379930627599745172362994401857765376.0000           57.20s\n",
            "        95 1489548745818530758244232012042654711502171239857813292906777294351633452202689035463067802524827847410009904379930627599745172362994401857765376.0000           47.66s\n",
            "        96 1489548745818530758244232012042654711502171239857813292906777294351633452202689035463067802524827847410009904379930627599745172362994401857765376.0000           38.12s\n",
            "        97 1489548745818530758244232012042654711502171239857813292906777294351633452202689035463067802524827847410009904379930627599745172362994401857765376.0000           28.59s\n",
            "        98 1489548745818530758244232012042654711502171239857813292906777294351633452202689035463067802524827847410009904379930627599745172362994401857765376.0000           19.06s\n",
            "        99 1489548745818530758244232012042654711502171239857813292906777294351633452202689035463067802524827847410009904379930627599745172362994401857765376.0000            9.53s\n",
            "       100 1489548745818530758244232012042654711502171239857813292906777294351633452202689035463067802524827847410009904379930627599745172362994401857765376.0000            0.00s\n",
            "그래디언트 부스팅 트리 정확도: 0.7702582368655387\n",
            "보팅 정확도 0.8178984861976848\n",
            "run time : 0:32:33\n"
          ]
        }
      ]
    },
    {
      "cell_type": "markdown",
      "source": [
        "## 성능 평가\n",
        "각 vocab size별 모델의 정확도를 이용해 성능을 평가한다.\n",
        "\n",
        "### 정확도\n",
        "| 모델명/단어수 |  전체단어 |  1000 | 5000 | 10000 | 20000 |\n",
        "| --- | --- | --- | --- | --- | --- |\n",
        "| 나이브 베이즈 | 0.599 | 0.685 | 0.673 | 0.656 | 0.617 |\n",
        "| CNB | 0.764 | 0.734 | 0.770 | 0.770 | 0.767 |\n",
        "| 로지스틱 회귀 | 0.813 | 0.780 | 0.805 | 0.807 | 0.809 |\n",
        "| SVM | 0.784 | 0.712 | 0.766 | 0.781 | 0.777 |\n",
        "| 결정트리 | 0.621 | 0.617 | 0.617 | 0.620 | 0.621 |\n",
        "| 랜덤 포레스트 | 0.654 | 0.707 | 0.701 | 0.674 | 0.671 |\n",
        "| 그래디언트 부스팅 트리 | 0.770 | 0.745 | 0.767 | 0.766 | 0.769 |\n",
        "| 보팅 | 0.818 | 0.784 | 0.816 | 0.811 | 0.817 |\n",
        "\n"
      ],
      "metadata": {
        "id": "utJ590Uu_DWf"
      }
    },
    {
      "cell_type": "code",
      "source": [
        "bayse = [0.5997328584149599, 0.673196794309796, 0.6856634016028496, 0.6567230632235085, 0.6193232413178985]\n",
        "cnb = [0.7649154051647373, 0.7707034728406055, 0.7346393588601959, 0.7707034728406055, 0.7671415850400712]\n",
        "logistic = [0.813446126447017, 0.8058771148708815, 0.7346393588601959, 0.7707034728406055, 0.7671415850400712]\n",
        "svm = [0.784060552092609, 0.7666963490650045, 0.7172751558325913, 0.7813891362422084, 0.7778272484416741]\n",
        "tree = [0.6211041852181657, 0.6179875333926982, 0.6179875333926982, 0.6202137132680321, 0.6211041852181657]\n",
        "rf = [0.6544968833481746, 0.701246660730187, 0.707479964381122, 0.674087266251113, 0.6714158504007124]\n",
        "gbs = [0.7702582368655387, 0.767586821015138, 0.7457702582368655, 0.7666963490650045, 0.769813000890472]\n",
        "voting  = [0.8187889581478184, 0.8161175422974176, 0.7845057880676759, 0.8116651825467498, 0.8178984861976848]\n",
        "\n",
        "vocab_size_list = ['whole', '5k', '1k', '10k', '20k']\n",
        "model_list = [bayse, cnb, logistic, svm, tree, rf, gbs, voting]"
      ],
      "metadata": {
        "id": "8zm8PcNx_iCI"
      },
      "execution_count": null,
      "outputs": []
    },
    {
      "cell_type": "code",
      "source": [
        "acc_dict = {}\n",
        "for idx, vs in enumerate(vocab_size_list):\n",
        "  acc_list = []\n",
        "  for model in model_list:\n",
        "    acc_list.append(model[idx])\n",
        "  acc_dict[vs] = sum(acc_list)/len(model_list)"
      ],
      "metadata": {
        "id": "tuiSbgPYB6dz"
      },
      "execution_count": null,
      "outputs": []
    },
    {
      "cell_type": "code",
      "source": [
        "acc_dict"
      ],
      "metadata": {
        "id": "6dYmuA6rCPhs",
        "colab": {
          "base_uri": "https://localhost:8080/"
        },
        "outputId": "627ace11-5169-4e1c-ebcb-cd4135762da9"
      },
      "execution_count": null,
      "outputs": [
        {
          "output_type": "execute_result",
          "data": {
            "text/plain": [
              "{'10k': 0.7315227070347284,\n",
              " '1k': 0.7159951024042743,\n",
              " '20k': 0.7264581478183436,\n",
              " '5k': 0.7399265360652161,\n",
              " 'whole': 0.7283504007123776}"
            ]
          },
          "metadata": {},
          "execution_count": 55
        }
      ]
    },
    {
      "cell_type": "markdown",
      "source": [
        "각 모델의 정확도 확인 결과, 5000개의 단어 개수가 가장 정확도가 높았음을 알 수 있었다.\n",
        "## 딥러닝 모델 학습"
      ],
      "metadata": {
        "id": "eHMrIrxOChzL"
      }
    },
    {
      "cell_type": "code",
      "source": [
        "from tensorflow import keras\n",
        "\n",
        "vocab_size = 20000\n",
        "word_vector_dim = 32\n",
        "\n",
        "model_LSTM = keras.Sequential()\n",
        "model_LSTM.add(keras.layers.Embedding(vocab_size,\n",
        "                                      word_vector_dim))\n",
        "model_LSTM.add(keras.layers.LSTM(32))\n",
        "\n",
        "model_LSTM.add(keras.layers.Dense(num_classes, activation='softmax'))\n",
        "\n",
        "model_LSTM.summary()"
      ],
      "metadata": {
        "id": "tIxovi05CjzB",
        "colab": {
          "base_uri": "https://localhost:8080/"
        },
        "outputId": "2c46506d-735c-425e-93fc-24439b23313d"
      },
      "execution_count": null,
      "outputs": [
        {
          "output_type": "stream",
          "name": "stdout",
          "text": [
            "Model: \"sequential\"\n",
            "_________________________________________________________________\n",
            " Layer (type)                Output Shape              Param #   \n",
            "=================================================================\n",
            " embedding (Embedding)       (None, None, 32)          640000    \n",
            "                                                                 \n",
            " lstm (LSTM)                 (None, 32)                8320      \n",
            "                                                                 \n",
            " dense (Dense)               (None, 46)                1518      \n",
            "                                                                 \n",
            "=================================================================\n",
            "Total params: 649,838\n",
            "Trainable params: 649,838\n",
            "Non-trainable params: 0\n",
            "_________________________________________________________________\n"
          ]
        }
      ]
    },
    {
      "cell_type": "code",
      "source": [
        "tfidfv_20k.shape, y_train_20k.shape"
      ],
      "metadata": {
        "id": "AihrhoJUDHyb",
        "colab": {
          "base_uri": "https://localhost:8080/"
        },
        "outputId": "cf203aeb-739f-4b92-a63f-4753565bc115"
      },
      "execution_count": null,
      "outputs": [
        {
          "output_type": "execute_result",
          "data": {
            "text/plain": [
              "((8982, 18479), (8982,))"
            ]
          },
          "metadata": {},
          "execution_count": 57
        }
      ]
    },
    {
      "cell_type": "markdown",
      "source": [
        "## 학습 데이터 실험\n",
        "sparse한 행렬을 dense하게 만들기 위해 두가지 변환으로 실험\n",
        "\n",
        "1. toarray() : array로 변환(에러메세지에서 추천하는 방법)\n",
        "2. todense() : Return a dense matrix representation of this matrix."
      ],
      "metadata": {
        "id": "IxhelOWcDLni"
      }
    },
    {
      "cell_type": "code",
      "source": [
        "tfidfv_20k_arr = tfidfv_20k.toarray()\n",
        "tfidfv_20k_dense = tfidfv_20k.todense()"
      ],
      "metadata": {
        "id": "KWF_ykFhDRsz"
      },
      "execution_count": null,
      "outputs": []
    },
    {
      "cell_type": "code",
      "source": [
        "tfidfv_test_20k_arr = tfidfv_test_20k.toarray()\n",
        "tfidfv_test_20k_dense = tfidfv_test_20k.todense()"
      ],
      "metadata": {
        "id": "2FV24T8FDdsy"
      },
      "execution_count": null,
      "outputs": []
    },
    {
      "cell_type": "code",
      "source": [
        "es = keras.callbacks.EarlyStopping(monitor='val_loss', mode='min', verbose=1, patience=4)\n",
        "\n",
        "model_LSTM.compile(optimizer='adam',\n",
        "                   loss='sparse_categorical_crossentropy',\n",
        "                   metrics=['accuracy'])\n",
        "\n",
        "epochs=20\n",
        "batch_size=64\n",
        "\n",
        "history_LSTM = model_LSTM.fit(tfidfv_20k_arr,\n",
        "                                y_train_20k,\n",
        "                                epochs=epochs,\n",
        "                                batch_size=batch_size,\n",
        "                                callbacks=[es],\n",
        "                                validation_split=0.2,\n",
        "                                verbose=1)"
      ],
      "metadata": {
        "id": "bf1cvMxXD1c6",
        "colab": {
          "base_uri": "https://localhost:8080/"
        },
        "outputId": "256e5343-6016-4012-fcc9-6068dd52abac"
      },
      "execution_count": null,
      "outputs": [
        {
          "output_type": "stream",
          "name": "stdout",
          "text": [
            "Epoch 1/20\n",
            "113/113 [==============================] - 77s 635ms/step - loss: 2.7542 - accuracy: 0.3367 - val_loss: 2.4144 - val_accuracy: 0.3450\n",
            "Epoch 2/20\n",
            "113/113 [==============================] - 71s 629ms/step - loss: 2.4086 - accuracy: 0.3534 - val_loss: 2.4090 - val_accuracy: 0.3450\n",
            "Epoch 3/20\n",
            "113/113 [==============================] - 71s 629ms/step - loss: 2.4076 - accuracy: 0.3534 - val_loss: 2.4077 - val_accuracy: 0.3450\n",
            "Epoch 4/20\n",
            "113/113 [==============================] - 71s 628ms/step - loss: 2.4066 - accuracy: 0.3534 - val_loss: 2.4075 - val_accuracy: 0.3450\n",
            "Epoch 5/20\n",
            "113/113 [==============================] - 71s 632ms/step - loss: 2.4071 - accuracy: 0.3534 - val_loss: 2.4061 - val_accuracy: 0.3450\n",
            "Epoch 6/20\n",
            "113/113 [==============================] - 72s 637ms/step - loss: 2.4067 - accuracy: 0.3534 - val_loss: 2.4072 - val_accuracy: 0.3450\n",
            "Epoch 7/20\n",
            "113/113 [==============================] - 71s 633ms/step - loss: 2.4071 - accuracy: 0.3534 - val_loss: 2.4075 - val_accuracy: 0.3450\n",
            "Epoch 8/20\n",
            "113/113 [==============================] - 71s 631ms/step - loss: 2.4075 - accuracy: 0.3534 - val_loss: 2.4098 - val_accuracy: 0.3450\n",
            "Epoch 9/20\n",
            "113/113 [==============================] - 71s 632ms/step - loss: 2.4062 - accuracy: 0.3534 - val_loss: 2.4081 - val_accuracy: 0.3450\n",
            "Epoch 9: early stopping\n"
          ]
        }
      ]
    },
    {
      "cell_type": "code",
      "source": [
        "results = model_LSTM.evaluate(tfidfv_test_20k_arr, y_test_20k, verbose=2)\n",
        "print(results)"
      ],
      "metadata": {
        "id": "2Hv3rnxJFXxK",
        "colab": {
          "base_uri": "https://localhost:8080/"
        },
        "outputId": "882ea457-e09d-4bc9-a118-3826c6e1939d"
      },
      "execution_count": null,
      "outputs": [
        {
          "output_type": "stream",
          "name": "stdout",
          "text": [
            "71/71 - 16s - loss: 2.4163 - accuracy: 0.3620 - 16s/epoch - 229ms/step\n",
            "[2.416254997253418, 0.36197686195373535]\n"
          ]
        }
      ]
    },
    {
      "cell_type": "code",
      "source": [
        "from tensorflow import keras\n",
        "\n",
        "vocab_size = 20000\n",
        "word_vector_dim = 32\n",
        "\n",
        "model_LSTM_dense = keras.Sequential()\n",
        "model_LSTM_dense.add(keras.layers.Embedding(vocab_size,\n",
        "                                            word_vector_dim))\n",
        "model_LSTM_dense.add(keras.layers.LSTM(32))\n",
        "\n",
        "model_LSTM_dense.add(keras.layers.Dense(num_classes, activation='softmax'))\n",
        "\n",
        "model_LSTM_dense.summary()"
      ],
      "metadata": {
        "id": "ijU3oo2NFoVr",
        "colab": {
          "base_uri": "https://localhost:8080/"
        },
        "outputId": "afcddd89-aab7-4f3d-8c1e-6734d003e031"
      },
      "execution_count": null,
      "outputs": [
        {
          "output_type": "stream",
          "name": "stdout",
          "text": [
            "Model: \"sequential_1\"\n",
            "_________________________________________________________________\n",
            " Layer (type)                Output Shape              Param #   \n",
            "=================================================================\n",
            " embedding_1 (Embedding)     (None, None, 32)          640000    \n",
            "                                                                 \n",
            " lstm_1 (LSTM)               (None, 32)                8320      \n",
            "                                                                 \n",
            " dense_1 (Dense)             (None, 46)                1518      \n",
            "                                                                 \n",
            "=================================================================\n",
            "Total params: 649,838\n",
            "Trainable params: 649,838\n",
            "Non-trainable params: 0\n",
            "_________________________________________________________________\n"
          ]
        }
      ]
    },
    {
      "cell_type": "code",
      "source": [
        "es = keras.callbacks.EarlyStopping(monitor='val_loss', mode='min', verbose=1, patience=4)\n",
        "\n",
        "model_LSTM_dense.compile(optimizer='adam',\n",
        "                         loss='sparse_categorical_crossentropy',\n",
        "                         metrics=['accuracy'])\n",
        "\n",
        "epochs=20\n",
        "batch_size=64\n",
        "\n",
        "history_LSTM_dense = model_LSTM_dense.fit(tfidfv_20k_dense,\n",
        "                                          y_train_20k,\n",
        "                                          epochs=epochs,\n",
        "                                          batch_size=batch_size,\n",
        "                                          callbacks=[es],\n",
        "                                          validation_split=0.2,\n",
        "                                          verbose=1)"
      ],
      "metadata": {
        "id": "PRLKnSFvGNhr",
        "colab": {
          "base_uri": "https://localhost:8080/"
        },
        "outputId": "36c699d0-592b-472c-d84d-daa2256c0672"
      },
      "execution_count": null,
      "outputs": [
        {
          "output_type": "stream",
          "name": "stdout",
          "text": [
            "Epoch 1/20\n",
            "113/113 [==============================] - 73s 634ms/step - loss: 2.8263 - accuracy: 0.2834 - val_loss: 2.4086 - val_accuracy: 0.3450\n",
            "Epoch 2/20\n",
            "113/113 [==============================] - 71s 628ms/step - loss: 2.4080 - accuracy: 0.3534 - val_loss: 2.4053 - val_accuracy: 0.3450\n",
            "Epoch 3/20\n",
            "113/113 [==============================] - 71s 630ms/step - loss: 2.4069 - accuracy: 0.3534 - val_loss: 2.4048 - val_accuracy: 0.3450\n",
            "Epoch 4/20\n",
            "113/113 [==============================] - 72s 638ms/step - loss: 2.4077 - accuracy: 0.3534 - val_loss: 2.4069 - val_accuracy: 0.3450\n",
            "Epoch 5/20\n",
            "113/113 [==============================] - 72s 635ms/step - loss: 2.4062 - accuracy: 0.3534 - val_loss: 2.4078 - val_accuracy: 0.3450\n",
            "Epoch 6/20\n",
            "113/113 [==============================] - 72s 636ms/step - loss: 2.4067 - accuracy: 0.3534 - val_loss: 2.4094 - val_accuracy: 0.3450\n",
            "Epoch 7/20\n",
            "113/113 [==============================] - 72s 639ms/step - loss: 2.4083 - accuracy: 0.3534 - val_loss: 2.4076 - val_accuracy: 0.3450\n",
            "Epoch 7: early stopping\n"
          ]
        }
      ]
    },
    {
      "cell_type": "code",
      "source": [
        "results_dense = model_LSTM_dense.evaluate(tfidfv_test_20k_dense, y_test_20k, verbose=2)\n",
        "print(results_dense)"
      ],
      "metadata": {
        "id": "VJgQ4odiHHGb",
        "colab": {
          "base_uri": "https://localhost:8080/"
        },
        "outputId": "f38f2f76-3689-46be-f721-1293d5dd6b0d"
      },
      "execution_count": null,
      "outputs": [
        {
          "output_type": "stream",
          "name": "stdout",
          "text": [
            "71/71 - 16s - loss: 2.4177 - accuracy: 0.3620 - 16s/epoch - 231ms/step\n",
            "[2.4176814556121826, 0.36197686195373535]\n"
          ]
        }
      ]
    },
    {
      "cell_type": "markdown",
      "source": [
        "toarray() : [2.4173861999970296, 0.36197686]\n",
        "\n",
        "todense() : [2.415727226625886, 0.36197686]\n",
        "\n",
        "toarray(), todense()로 학습한 결과 큰 차이가 나지 않았다.\n",
        "\n",
        "인풋에 대해 sparse함을 확인할 수 있는 scipy의 issparse를 이용해 확인한다."
      ],
      "metadata": {
        "id": "8gjKV_wwHTjr"
      }
    },
    {
      "cell_type": "code",
      "source": [
        "from scipy import sparse\n",
        "\n",
        "sparse.issparse(tfidfv_test_20k)"
      ],
      "metadata": {
        "id": "g2yYRKqrHbNJ",
        "colab": {
          "base_uri": "https://localhost:8080/"
        },
        "outputId": "876ac635-65d1-4e80-c3c4-a85fbf700397"
      },
      "execution_count": null,
      "outputs": [
        {
          "output_type": "execute_result",
          "data": {
            "text/plain": [
              "True"
            ]
          },
          "metadata": {},
          "execution_count": 69
        }
      ]
    },
    {
      "cell_type": "code",
      "source": [
        "sparse.issparse(tfidfv_test_20k_dense)"
      ],
      "metadata": {
        "id": "0PuEyhO1Hj9j",
        "colab": {
          "base_uri": "https://localhost:8080/"
        },
        "outputId": "a160bcbd-888e-4b91-e08d-b2e1aee778da"
      },
      "execution_count": null,
      "outputs": [
        {
          "output_type": "execute_result",
          "data": {
            "text/plain": [
              "False"
            ]
          },
          "metadata": {},
          "execution_count": 71
        }
      ]
    },
    {
      "cell_type": "code",
      "source": [
        "sparse.issparse(tfidfv_test_20k_arr)"
      ],
      "metadata": {
        "id": "ughtZi7JHq56",
        "colab": {
          "base_uri": "https://localhost:8080/"
        },
        "outputId": "a3998a7e-341c-47b2-c55a-605f093c002a"
      },
      "execution_count": null,
      "outputs": [
        {
          "output_type": "execute_result",
          "data": {
            "text/plain": [
              "False"
            ]
          },
          "metadata": {},
          "execution_count": 72
        }
      ]
    },
    {
      "cell_type": "markdown",
      "source": [
        "toarray(), todense() 모두 sparse했던 행렬을 dense하게 변환시킨 것을 확인했다.\n",
        "\n",
        "TF-IDF행렬로 vectorizing한 input을 사용하기 때문에 행렬형태인 todense()의 결과를 모델에 사용하겠다.\n",
        "\n",
        "## 성능 향상\n",
        "모델의 레이어를 추가하며 accuracy를 향상시킨다."
      ],
      "metadata": {
        "id": "09ABAr0RHw8H"
      }
    },
    {
      "cell_type": "code",
      "source": [
        "from tensorflow import keras\n",
        "\n",
        "def rnn(num_layer=8):\n",
        "\n",
        "  model_dense = keras.Sequential()\n",
        "  model_dense.add(keras.layers.Dense(num_layer*4, activation='relu', input_shape=(tfidfv_20k_dense.shape[1],)))\n",
        "  model_dense.add(keras.layers.Dense(num_layer*4, activation='relu'))\n",
        "  model_dense.add(keras.layers.Dense(num_layer*8, activation='relu'))\n",
        "  model_dense.add(keras.layers.Dense(num_layer*16, activation='relu'))\n",
        "  model_dense.add(keras.layers.Dense(num_classes, activation='softmax'))\n",
        "\n",
        "  model_dense.summary()\n",
        "\n",
        "  es = keras.callbacks.EarlyStopping(monitor='val_loss', mode='min', verbose=1, patience=4)\n",
        "\n",
        "  model_dense.compile(optimizer='adam',\n",
        "                      loss='sparse_categorical_crossentropy',\n",
        "                      metrics=['accuracy'])\n",
        "  \n",
        "  epochs=20\n",
        "  batch_size=128\n",
        "\n",
        "  history_dense = model_dense.fit(tfidfv_20k_dense,\n",
        "                                  y_train_20k,\n",
        "                                  epochs=epochs,\n",
        "                                  batch_size=batch_size,\n",
        "                                  callbacks=[es],\n",
        "                                  validation_split=0.2,\n",
        "                                  verbose=1)\n",
        "  \n",
        "  results = model_dense.evaluate(tfidfv_test_20k_dense, y_test_20k, verbose=2)\n",
        "  print(results)\n",
        "\n",
        "  return history_dense, model_dense"
      ],
      "metadata": {
        "id": "kzyxQ2eXH03d"
      },
      "execution_count": null,
      "outputs": []
    },
    {
      "cell_type": "code",
      "source": [
        "history_dense, model_dense = rnn()"
      ],
      "metadata": {
        "id": "TZtx3gK2J398",
        "colab": {
          "base_uri": "https://localhost:8080/"
        },
        "outputId": "fca18458-c2cc-4a9f-d4b6-e4e1840c288d"
      },
      "execution_count": null,
      "outputs": [
        {
          "output_type": "stream",
          "name": "stdout",
          "text": [
            "Model: \"sequential_2\"\n",
            "_________________________________________________________________\n",
            " Layer (type)                Output Shape              Param #   \n",
            "=================================================================\n",
            " dense_2 (Dense)             (None, 32)                591360    \n",
            "                                                                 \n",
            " dense_3 (Dense)             (None, 32)                1056      \n",
            "                                                                 \n",
            " dense_4 (Dense)             (None, 64)                2112      \n",
            "                                                                 \n",
            " dense_5 (Dense)             (None, 128)               8320      \n",
            "                                                                 \n",
            " dense_6 (Dense)             (None, 46)                5934      \n",
            "                                                                 \n",
            "=================================================================\n",
            "Total params: 608,782\n",
            "Trainable params: 608,782\n",
            "Non-trainable params: 0\n",
            "_________________________________________________________________\n",
            "Epoch 1/20\n",
            "57/57 [==============================] - 1s 12ms/step - loss: 2.8993 - accuracy: 0.3576 - val_loss: 2.0397 - val_accuracy: 0.3450\n",
            "Epoch 2/20\n",
            "57/57 [==============================] - 0s 7ms/step - loss: 1.7345 - accuracy: 0.5304 - val_loss: 1.5282 - val_accuracy: 0.6093\n",
            "Epoch 3/20\n",
            "57/57 [==============================] - 0s 7ms/step - loss: 1.3060 - accuracy: 0.6676 - val_loss: 1.2783 - val_accuracy: 0.7006\n",
            "Epoch 4/20\n",
            "57/57 [==============================] - 0s 7ms/step - loss: 0.9597 - accuracy: 0.7531 - val_loss: 1.1537 - val_accuracy: 0.7229\n",
            "Epoch 5/20\n",
            "57/57 [==============================] - 0s 7ms/step - loss: 0.6900 - accuracy: 0.8313 - val_loss: 1.1425 - val_accuracy: 0.7529\n",
            "Epoch 6/20\n",
            "57/57 [==============================] - 0s 7ms/step - loss: 0.4911 - accuracy: 0.8759 - val_loss: 1.1677 - val_accuracy: 0.7524\n",
            "Epoch 7/20\n",
            "57/57 [==============================] - 0s 7ms/step - loss: 0.3607 - accuracy: 0.9079 - val_loss: 1.2190 - val_accuracy: 0.7574\n",
            "Epoch 8/20\n",
            "57/57 [==============================] - 0s 7ms/step - loss: 0.2760 - accuracy: 0.9333 - val_loss: 1.3530 - val_accuracy: 0.7585\n",
            "Epoch 9/20\n",
            "57/57 [==============================] - 0s 7ms/step - loss: 0.2180 - accuracy: 0.9445 - val_loss: 1.3932 - val_accuracy: 0.7535\n",
            "Epoch 9: early stopping\n",
            "71/71 - 0s - loss: 1.4222 - accuracy: 0.7418 - 169ms/epoch - 2ms/step\n",
            "[1.4222495555877686, 0.7417631149291992]\n"
          ]
        }
      ]
    },
    {
      "cell_type": "code",
      "source": [
        "def visualize_train(train_history):\n",
        "  # summarize history for accuracy\n",
        "  plt.plot(train_history.history['accuracy'])\n",
        "  plt.plot(train_history.history['val_accuracy'])\n",
        "  plt.title('accuracy')\n",
        "  plt.ylabel('accuracy')\n",
        "  plt.xlabel('epoch')\n",
        "  plt.legend(['train', 'val'], loc='upper left')\n",
        "  plt.show()\n",
        "  #summarize history for loss\n",
        "  plt.plot(train_history.history['loss'])\n",
        "  plt.plot(train_history.history['val_loss'])\n",
        "  plt.title('loss')\n",
        "  plt.ylabel('loss')\n",
        "  plt.xlabel('epoch')\n",
        "  plt.legend(['train', 'val'], loc='upper left')\n",
        "  plt.show()"
      ],
      "metadata": {
        "id": "5iLA3nnYKJrE"
      },
      "execution_count": null,
      "outputs": []
    },
    {
      "cell_type": "code",
      "source": [
        "visualize_train(history_dense)"
      ],
      "metadata": {
        "id": "VJ38g2JWLSr7",
        "colab": {
          "base_uri": "https://localhost:8080/",
          "height": 573
        },
        "outputId": "2d5e566d-9991-4a7e-8608-ae5458061071"
      },
      "execution_count": null,
      "outputs": [
        {
          "output_type": "display_data",
          "data": {
            "text/plain": [
              "<Figure size 432x288 with 1 Axes>"
            ],
            "image/png": "[encoded data removed]"
          },
          "metadata": {
            "needs_background": "light"
          }
        },
        {
          "output_type": "display_data",
          "data": {
            "text/plain": [
              "<Figure size 432x288 with 1 Axes>"
            ],
            "image/png": "[encoded data removed]"
          },
          "metadata": {
            "needs_background": "light"
          }
        }
      ]
    },
    {
      "cell_type": "code",
      "source": [
        "model_dense.predict(tfidfv_test_20k_dense)"
      ],
      "metadata": {
        "id": "1VHUk4l7LWzL",
        "colab": {
          "base_uri": "https://localhost:8080/"
        },
        "outputId": "1dd3ca37-74ce-48af-e7f5-0ff5797f10a2"
      },
      "execution_count": null,
      "outputs": [
        {
          "output_type": "execute_result",
          "data": {
            "text/plain": [
              "array([[3.8337163e-08, 6.6211287e-05, 6.6562785e-07, ..., 7.8081868e-08,\n",
              "        2.9930434e-13, 3.5483660e-13],\n",
              "       [2.1454666e-03, 2.3951123e-05, 8.6771314e-07, ..., 3.0395728e-07,\n",
              "        4.7251686e-10, 3.0145038e-09],\n",
              "       [3.7861167e-04, 6.4455390e-01, 6.5269422e-05, ..., 3.5336872e-10,\n",
              "        1.1818294e-11, 2.4564758e-12],\n",
              "       ...,\n",
              "       [7.4041373e-09, 4.1606970e-04, 1.1599026e-06, ..., 1.7829485e-08,\n",
              "        8.5027222e-13, 2.3323981e-13],\n",
              "       [2.6192386e-03, 1.6399663e-02, 3.9497812e-04, ..., 2.1957287e-05,\n",
              "        4.2363364e-08, 7.0494359e-08],\n",
              "       [2.9825060e-05, 8.1345715e-02, 5.0290156e-02, ..., 1.0460284e-06,\n",
              "        9.7303445e-09, 2.6015601e-10]], dtype=float32)"
            ]
          },
          "metadata": {},
          "execution_count": 78
        }
      ]
    },
    {
      "cell_type": "code",
      "source": [
        "from sklearn.metrics import classification_report\n",
        "from sklearn.metrics import pair_confusion_matrix\n",
        "\n",
        "print(classification_report(y_test_20k, model_dense.predict(tfidfv_test_20k_dense).argmax(axis=1)))"
      ],
      "metadata": {
        "id": "_9u1JG7pLbMd",
        "colab": {
          "base_uri": "https://localhost:8080/"
        },
        "outputId": "a0cb86dd-6535-4c2f-8da4-5c92be20f3e5"
      },
      "execution_count": null,
      "outputs": [
        {
          "output_type": "stream",
          "name": "stdout",
          "text": [
            "              precision    recall  f1-score   support\n",
            "\n",
            "           0       0.47      0.67      0.55        12\n",
            "           1       0.66      0.73      0.69       105\n",
            "           2       0.29      0.30      0.29        20\n",
            "           3       0.93      0.89      0.91       813\n",
            "           4       0.78      0.88      0.83       474\n",
            "           5       0.00      0.00      0.00         5\n",
            "           6       0.80      0.29      0.42        14\n",
            "           7       0.00      0.00      0.00         3\n",
            "           8       0.50      0.63      0.56        38\n",
            "           9       0.95      0.76      0.84        25\n",
            "          10       0.79      0.77      0.78        30\n",
            "          11       0.80      0.57      0.66        83\n",
            "          12       0.33      0.08      0.12        13\n",
            "          13       0.42      0.46      0.44        37\n",
            "          14       0.00      0.00      0.00         2\n",
            "          15       0.00      0.00      0.00         9\n",
            "          16       0.59      0.74      0.65        99\n",
            "          17       0.09      0.25      0.14        12\n",
            "          18       0.60      0.60      0.60        20\n",
            "          19       0.68      0.69      0.68       133\n",
            "          20       0.59      0.64      0.62        70\n",
            "          21       0.55      0.59      0.57        27\n",
            "          22       0.00      0.00      0.00         7\n",
            "          23       0.19      0.33      0.24        12\n",
            "          24       0.26      0.37      0.30        19\n",
            "          25       0.67      0.52      0.58        31\n",
            "          26       1.00      0.25      0.40         8\n",
            "          27       0.33      0.25      0.29         4\n",
            "          28       0.33      0.10      0.15        10\n",
            "          29       0.10      0.25      0.14         4\n",
            "          30       0.25      0.08      0.12        12\n",
            "          31       0.67      0.31      0.42        13\n",
            "          32       0.55      0.60      0.57        10\n",
            "          33       0.00      0.00      0.00         5\n",
            "          34       0.60      0.43      0.50         7\n",
            "          35       1.00      0.17      0.29         6\n",
            "          36       0.54      0.64      0.58        11\n",
            "          37       0.00      0.00      0.00         2\n",
            "          38       0.00      0.00      0.00         3\n",
            "          39       0.00      0.00      0.00         5\n",
            "          40       0.38      0.30      0.33        10\n",
            "          41       0.00      0.00      0.00         8\n",
            "          42       1.00      0.33      0.50         3\n",
            "          43       0.00      0.00      0.00         6\n",
            "          44       1.00      0.80      0.89         5\n",
            "          45       0.50      1.00      0.67         1\n",
            "\n",
            "    accuracy                           0.74      2246\n",
            "   macro avg       0.44      0.37      0.38      2246\n",
            "weighted avg       0.74      0.74      0.74      2246\n",
            "\n"
          ]
        },
        {
          "output_type": "stream",
          "name": "stderr",
          "text": [
            "/usr/local/lib/python3.7/dist-packages/sklearn/metrics/_classification.py:1318: UndefinedMetricWarning: Precision and F-score are ill-defined and being set to 0.0 in labels with no predicted samples. Use `zero_division` parameter to control this behavior.\n",
            "  _warn_prf(average, modifier, msg_start, len(result))\n",
            "/usr/local/lib/python3.7/dist-packages/sklearn/metrics/_classification.py:1318: UndefinedMetricWarning: Precision and F-score are ill-defined and being set to 0.0 in labels with no predicted samples. Use `zero_division` parameter to control this behavior.\n",
            "  _warn_prf(average, modifier, msg_start, len(result))\n",
            "/usr/local/lib/python3.7/dist-packages/sklearn/metrics/_classification.py:1318: UndefinedMetricWarning: Precision and F-score are ill-defined and being set to 0.0 in labels with no predicted samples. Use `zero_division` parameter to control this behavior.\n",
            "  _warn_prf(average, modifier, msg_start, len(result))\n"
          ]
        }
      ]
    },
    {
      "cell_type": "code",
      "source": [
        "def graph_confusion_matrix(model, x_test, y_test): # classes_name:\n",
        "  df_cm = pd.DataFrame(confusion_matrix(y_test, model.predict(x_test).argmax(axis=1))) # index=classes_name, columns=classes_name\n",
        "  fig = plt.figure(figsize=(15,15))\n",
        "  heatmap = sns.heatmap(df_cm, annot=True, fmt=\"d\")\n",
        "  heatmap.yaxis.set_ticklabels(heatmap.yaxis.get_ticklabels(), rotation=0, ha='right', fontsize=12)\n",
        "  heatmap.xaxis.set_ticklabels(heatmap.xaxis.get_ticklabels(), rotation=45, ha='right', fontsize=12)\n",
        "  plt.ylabel('label')\n",
        "  plt.xlabel('predicted value')"
      ],
      "metadata": {
        "id": "WTrL7CijLxh7"
      },
      "execution_count": null,
      "outputs": []
    },
    {
      "cell_type": "code",
      "source": [
        "graph_confusion_matrix(model_dense, tfidfv_test_20k_dense, y_test_20k)"
      ],
      "metadata": {
        "id": "zwO2eGY7M2a8",
        "colab": {
          "base_uri": "https://localhost:8080/",
          "height": 887
        },
        "outputId": "efc24157-2489-479f-9308-c2ca6d7a6e12"
      },
      "execution_count": null,
      "outputs": [
        {
          "output_type": "display_data",
          "data": {
            "text/plain": [
              "<Figure size 1080x1080 with 2 Axes>"
            ],
            "image/png": "[encoded data removed]"
          },
          "metadata": {
            "needs_background": "light"
          }
        }
      ]
    },
    {
      "cell_type": "markdown",
      "source": [
        "### 회고\n",
        "필사한 부분과 노드와 비교해가며 이해하려고 노력했다.벡터화와 다양한 머신러닝을 한곳에 넣어서 분석하는법을 배웠고 이해하였음. 확실히 복사 붙여넣기 하지않고 직접 다 쳐보니까 흐름을 읽고 이해하는데 훨씬 좋았다. 스스로 다 하지는 못하였지만 그래도 많은 부분을 알게 되어서 나름 만족한다. 코랩으로 했는데 올리니까 코드 결과가 안나오고 시각화만 나와서 주피터로 다시 했는데 거의 다 됐는데 서버 오류로 끊김...다시 한번더 했는데 같은곳에서 똑같이 또 연결이 끊김...... 데드커널 뜨면서 안된다. 시간 낭비 오지게함... 시간이 부족해서 다 못돌리는데 무슨 뷰어로 보면 코드 결과값도 볼수있다고 그걸로 보신다고 해서 처음했었던 코랩으로 다시 올리려고함"
      ],
      "metadata": {
        "id": "PjZGwDmYNJjX"
      }
    },
    {
      "cell_type": "code",
      "source": [
        ""
      ],
      "metadata": {
        "id": "-mdZzkFlicRc"
      },
      "execution_count": null,
      "outputs": []
    }
  ]
}