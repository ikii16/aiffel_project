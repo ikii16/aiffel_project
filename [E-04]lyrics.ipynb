{
 "cells": [
  {
   "cell_type": "markdown",
   "id": "0e6bb2d3",
   "metadata": {},
   "source": [
    "# 멋진 작사가 만들기"
   ]
  },
  {
   "cell_type": "markdown",
   "id": "5f78ec5b",
   "metadata": {},
   "source": [
    "**학습 목표**\n",
    "\n",
    "인공지능이 문장을 이해하는 방식과 작문을 가르치는 법을 배우기\n",
    "\n",
    "시퀸스 이해 해보기\n",
    "\n",
    "인공지능 중 하나인 순환신경망(RNN)을 활용할 수 있다\n",
    "\n",
    "멋진 인공지능 작사가 만들어보기"
   ]
  },
  {
   "cell_type": "markdown",
   "id": "cdb00fe1",
   "metadata": {},
   "source": [
    "**Step 1. 데이터 다운로드**"
   ]
  },
  {
   "cell_type": "markdown",
   "id": "80209b93",
   "metadata": {},
   "source": [
    "Cloud shell에서 아래 명령어를 입력해 연결할 수 있다\n",
    "\n",
    "$ mkdir -p ~/aiffel/lyricist/models\n",
    "\n",
    "$ ln -s ~/data ~/aiffel/lyricist/data"
   ]
  },
  {
   "cell_type": "markdown",
   "id": "3e132be8",
   "metadata": {},
   "source": [
    "**Step 2. 데이터 읽어오기**"
   ]
  },
  {
   "cell_type": "code",
   "execution_count": 7,
   "id": "48470fe7",
   "metadata": {
    "scrolled": true
   },
   "outputs": [
    {
     "name": "stdout",
     "output_type": "stream",
     "text": [
      "데이터 크기: 187088\n",
      "Examples:\n",
      " [\"Now I've heard there was a secret chord\", 'That David played, and it pleased the Lord', \"But you don't really care for music, do you?\", 'It goes like this']\n"
     ]
    }
   ],
   "source": [
    "import glob # glob 모듈을 사용하면 파일을 읽어오는 작업을 하기가 아주 용이\n",
    "import os, re\n",
    "import tensorflow as tf\n",
    "\n",
    "txt_file_path = os.getenv('HOME')+'/aiffel/lyricist/data/lyrics/*'\n",
    "\n",
    "txt_list = glob.glob(txt_file_path) # glob 를 활용하여 모든 txt 파일을 읽어온다\n",
    "\n",
    "raw_corpus = [] # raw_corpus 리스트에 문장 단위로 저장\n",
    "\n",
    "# 여러개의 txt 파일을 모두 읽어서 raw_corpus 에 담습니다.\n",
    "for txt_file in txt_list:\n",
    "    with open(txt_file, \"r\") as f:\n",
    "        raw = f.read().splitlines() # 읽기 모드로 열고 라인단위(splitlines())로 끊기\n",
    "        raw_corpus.extend(raw) # raw_corpus에 raw데이터를 추가한다\n",
    "\n",
    "print(\"데이터 크기:\", len(raw_corpus)) # 데이터 크기 확인\n",
    "print(\"Examples:\\n\", raw_corpus[:4]) # 앞에서 부터 4라인 화면으로 확인 해보기"
   ]
  },
  {
   "cell_type": "markdown",
   "id": "cdd0d7af",
   "metadata": {},
   "source": [
    "**Step 3. 데이터 정제**"
   ]
  },
  {
   "cell_type": "code",
   "execution_count": 8,
   "id": "eefe8aaf",
   "metadata": {},
   "outputs": [],
   "source": [
    "def preprocess_sentence(sentence): # 정규표현식을 이용한 필터링\n",
    "    sentence = sentence.lower().strip() # 1 소문자로 바꾸고, 양쪽 공백을 지웁니다\n",
    "\t\t# import한 re모듈에서 sub불러옴\n",
    "    sentence = re.sub(r\"([?.!,¿])\", r\" \\1 \", sentence) # 2 특수문자 양쪽에 공백을 넣고\n",
    "    sentence = re.sub(r'[\" \"]+', \" \", sentence) # 3 여러개의 공백은 하나의 공백으로 바꾼다\n",
    "    # 앞에 붙은 r'은 raw string : 날것 그대로 문자표현\n",
    "    sentence = re.sub(r\"[^a-zA-Z?.!,¿]+\", \" \", sentence) # 4 a-zA-Z?.!,¿가 아닌 모든 문자를 하나의 공백으로 바꾼다\n",
    "    # ^ : 여집합 반대된다는 뜻\n",
    "    sentence = sentence.strip() # 5 다시 양쪽 공백을 지운다\n",
    "    sentence = '<start> ' + sentence + ' <end>' # 6문장 시작에는 <start>, 끝에는 <end>를 추가한다\n",
    "    return sentence"
   ]
  },
  {
   "cell_type": "code",
   "execution_count": 9,
   "id": "f362e0e5",
   "metadata": {},
   "outputs": [],
   "source": [
    "#이 정제 함수를 활용해서 아래와 같이 정제 데이터를 구축합니다!\n",
    "corpus = [] # 여기에 정제된 문장을 모을겁니다\n",
    "\n",
    "for sentence in raw_corpus: # 정규표현식을 이용한 corpus 생성\n",
    "    # 우리가 원하지 않는 문장은 건너뜁니다\n",
    "    if len(sentence) == 0: continue\n",
    "    #if sentence[-1] == \":\": continue\n",
    "    \n",
    "    \n",
    "    # 정제를 하고 담아주세요\n",
    "    preprocessed_sentence = preprocess_sentence(sentence)\n",
    "    if len(preprocessed_sentence.split()) > 15: continue # 15개를 넘어가는 학습데이터 제외\n",
    "        \n",
    "    corpus.append(preprocessed_sentence)"
   ]
  },
  {
   "cell_type": "markdown",
   "id": "74abf9f8",
   "metadata": {},
   "source": [
    "maxlen을 지정했는데도 데이터가 12만개로 줄지 않아서 for sentence 반복문 안에서 if len(sentence.split()) > 15: continue를 지정 해봤지만 여전히 14만개 이상으로 나와서 다른곳에 지정하면 될까 싶어서 위치를 찾아봤는데 정제를 하고난 후로 if len(preprocessed_sentence.split()) > 15: continue로 지정했더니 노드값과 일치하지는 않았지만 매우 비슷한값으로 데이터가 측정되었다 "
   ]
  },
  {
   "cell_type": "markdown",
   "id": "fdaa127a",
   "metadata": {},
   "source": [
    "**Step 4. 평가 데이터셋 분리**"
   ]
  },
  {
   "cell_type": "markdown",
   "id": "db04cfd7",
   "metadata": {},
   "source": [
    "텐서플로우는 자연어 처리를 위한 여러 가지 모듈을 제공 해주는데 \n",
    "tf.keras.preprocessing.text.Tokenizer 패키지는 정제된 데이터를 토큰화하고, 단어 사전을 만들어주고, \n",
    "데이터를 숫자로 변환까지 해줍니다 \n",
    "\n",
    "이 과정을 벡터화 라고 하며 숫자로 변환된 데이터를 텐서로 칭한다고 한다"
   ]
  },
  {
   "cell_type": "code",
   "execution_count": 10,
   "id": "39866a98",
   "metadata": {},
   "outputs": [
    {
     "name": "stdout",
     "output_type": "stream",
     "text": [
      "[[   2   50    4 ...    0    0    0]\n",
      " [   2   15 2971 ...    0    0    0]\n",
      " [   2   33    7 ...   46    3    0]\n",
      " ...\n",
      " [   2    4  117 ...    0    0    0]\n",
      " [   2  258  195 ...   12    3    0]\n",
      " [   2    7   34 ...    0    0    0]] <keras_preprocessing.text.Tokenizer object at 0x7fc45873ff10>\n"
     ]
    }
   ],
   "source": [
    "def tokenize(corpus): # tf.keras.preprocessing.text.Tokenizer를 이용해 corpus를 텐서로 변환\n",
    "    # 120000단어를 기억할 수 있는 tokenizer를 만들겁니다\n",
    "    # 우리는 이미 문장을 정제했으니 filters가 필요없어요\n",
    "    # 12000단어에 포함되지 못한 단어는 '<unk>'로 바꿀거에요\n",
    "    tokenizer = tf.keras.preprocessing.text.Tokenizer(\n",
    "        num_words=12000, \n",
    "        filters=' ',\n",
    "        oov_token=\"<unk>\"\n",
    "    )\n",
    "    # corpus를 이용해 tokenizer 내부의 단어장을 완성합니다\n",
    "    tokenizer.fit_on_texts(corpus)\n",
    "    # 준비한 tokenizer를 이용해 corpus를 Tensor로 변환합니다\n",
    "    tensor = tokenizer.texts_to_sequences(corpus)   \n",
    "    # 입력 데이터의 시퀀스 길이를 일정하게 맞춰줍니다\n",
    "    # 만약 시퀀스가 짧다면 문장 뒤에 패딩을 붙여 길이를 맞춰줍니다.\n",
    "    # padding에 post를 사용하면 문장 뒤에 패딩을 붙여 길이를 맞추고, pre를 사용하면 문장 앞에 패딩을 붙여 길이를 맞춤\n",
    "    tensor = tf.keras.preprocessing.sequence.pad_sequences(tensor, padding='post', maxlen=15)  \n",
    "    \n",
    "    print(tensor,tokenizer)\n",
    "    return tensor, tokenizer\n",
    "\n",
    "tensor, tokenizer = tokenize(corpus)"
   ]
  },
  {
   "cell_type": "markdown",
   "id": "a87cdf72",
   "metadata": {},
   "source": [
    "글자 길이를 15자 이내로 제한해야해서 구글링하다가 pad_sequences () 함수는 관찰 된 시퀀스보다 긴 선호 길이로 시퀀스를 채우는 데 사용\n",
    "pad_sequences () 함수에 maxlen 인수로 원하는 길이로 지정하여 수행할수 있다고 해서 maxlen을 지정 해봤으나 큰 효과를 보지 못했음"
   ]
  },
  {
   "cell_type": "code",
   "execution_count": 11,
   "id": "e5bc5cc7",
   "metadata": {},
   "outputs": [
    {
     "name": "stdout",
     "output_type": "stream",
     "text": [
      "1 : <unk>\n",
      "2 : <start>\n",
      "3 : <end>\n",
      "4 : i\n",
      "5 : ,\n",
      "6 : the\n",
      "7 : you\n",
      "8 : and\n",
      "9 : a\n",
      "10 : to\n"
     ]
    }
   ],
   "source": [
    "# # 단어 사전 구축된것 확인해보자\n",
    "for idx in tokenizer.index_word:\n",
    "    print(idx, \":\", tokenizer.index_word[idx])\n",
    "\n",
    "    if idx >= 10: break"
   ]
  },
  {
   "cell_type": "markdown",
   "id": "798133fb",
   "metadata": {},
   "source": [
    "모든 행이 2번으로 시작하는 이유는 인덱스 2번이 <start>였기 때문이다"
   ]
  },
  {
   "cell_type": "code",
   "execution_count": 10,
   "id": "fbec3b69",
   "metadata": {
    "scrolled": false
   },
   "outputs": [
    {
     "name": "stdout",
     "output_type": "stream",
     "text": [
      "[   2   50    4   95  303   62   53    9  946 6269    3    0    0    0]\n",
      "[  50    4   95  303   62   53    9  946 6269    3    0    0    0    0]\n"
     ]
    },
    {
     "data": {
      "text/plain": [
       "<BatchDataset shapes: ((256, 14), (256, 14)), types: (tf.int32, tf.int32)>"
      ]
     },
     "execution_count": 10,
     "metadata": {},
     "output_type": "execute_result"
    }
   ],
   "source": [
    "# 생성된 텐서를 소스와 타겟으로 분리하여 모델 학습해보자\n",
    "\n",
    "# tensor에서 마지막 토큰을 잘라내서 소스 문장을 생성합니다\n",
    "\n",
    "src_input = tensor[:, :-1]  # 마지막 토큰은 <end>가 아니라 <pad>일 가능성이 높습니다.\n",
    "\n",
    "tgt_input = tensor[:, 1:] # tensor에서 <start>를 잘라내서 타겟 문장을 생성합니다.\n",
    "\n",
    "print(src_input[0]) # 소스는 2(<start>)로 시작에서 3(<end>)으로 끝난후 0(<pad>)으로 채워져있음\n",
    "\n",
    "print(tgt_input[0]) # # 타겟은 2로 시작하지 않고 소스를 왼쪽으로 한칸 시프트하고 3(<end>) 끝난후 0(<pad>)으로 채워져있음\n",
    "\n",
    "\n",
    "# 데이터셋 객체를 생성하자\n",
    "\n",
    "BUFFER_SIZE = len(src_input)\n",
    "BATCH_SIZE = 256\n",
    "steps_per_epoch = len(src_input) // BATCH_SIZE\n",
    "\n",
    "# tokenizer가 구축한 단어사전 내 7000개와, 여기 포함되지 않은 0:<pad>를 포함하여 7001개\n",
    "VOCAB_SIZE = tokenizer.num_words + 1   \n",
    "\n",
    "# 준비한 데이터 소스로부터 데이터셋을 만듭니다\n",
    "\n",
    "# 텐서플로우를 활용할 경우에는 텐서로 생성된 데이터를 이용해 tf.data.Dataset객체를 생성하는 방법을 흔히 사용한다고 한다\n",
    "# tf.data.Dataset객체는 텐서플로우에서 사용할 경우 데이터 입력 파이프라인을 통한 속도 개선 및 각종 편의 기능을 제공하므로\n",
    "# 사용법을 알아두자\n",
    "\n",
    "dataset = tf.data.Dataset.from_tensor_slices((src_input, tgt_input))\n",
    "# tf.data.Dataset.from_tensor_slices()를 이용해 corpus 텐서를 tf.data.Dataset객체로 변환\n",
    "\n",
    "dataset = dataset.shuffle(BUFFER_SIZE) # # shuffle() 섞어줌\n",
    "dataset = dataset.batch(BATCH_SIZE, drop_remainder=True) # batch() 데이터 배치의 크기를 정함"
   ]
  },
  {
   "cell_type": "code",
   "execution_count": 11,
   "id": "741b35dd",
   "metadata": {},
   "outputs": [],
   "source": [
    "from sklearn.model_selection import train_test_split\n",
    "\n",
    "# train_test_split 사용하여 데이터를 분리하기\n",
    "enc_train, enc_val, dec_train, dec_val = train_test_split(src_input, tgt_input, test_size=0.2, shuffle=True, random_state=34)"
   ]
  },
  {
   "cell_type": "code",
   "execution_count": 12,
   "id": "007d8f5a",
   "metadata": {
    "scrolled": true
   },
   "outputs": [
    {
     "name": "stdout",
     "output_type": "stream",
     "text": [
      "Source Train: (124981, 14)\n",
      "Target Train: (124981, 14)\n",
      "Source Valid (31246, 14)\n",
      "Target Valid (31246, 14)\n"
     ]
    }
   ],
   "source": [
    "print(\"Source Train:\", enc_train.shape)\n",
    "print(\"Target Train:\", dec_train.shape)\n",
    "print(\"Source Valid\", enc_val.shape)\n",
    "print(\"Target Valid\", dec_val.shape)"
   ]
  },
  {
   "cell_type": "markdown",
   "id": "b48d92e7",
   "metadata": {},
   "source": [
    "**Step 5. 인공지능 만들기**"
   ]
  },
  {
   "cell_type": "code",
   "execution_count": 13,
   "id": "0afe2011",
   "metadata": {},
   "outputs": [],
   "source": [
    "class TextGenerator(tf.keras.Model):\n",
    "    def __init__(self, vocab_size, embedding_size, hidden_size):\n",
    "        super().__init__()\n",
    "        \n",
    "        self.embedding = tf.keras.layers.Embedding(vocab_size, embedding_size)\n",
    "        self.rnn_1 = tf.keras.layers.LSTM(hidden_size, return_sequences=True)\n",
    "        self.rnn_2 = tf.keras.layers.LSTM(hidden_size, return_sequences=True)\n",
    "        self.linear = tf.keras.layers.Dense(vocab_size)\n",
    "        \n",
    "    def call(self, x):\n",
    "        out = self.embedding(x)\n",
    "        out = self.rnn_1(out)\n",
    "        out = self.rnn_2(out)\n",
    "        out = self.linear(out)\n",
    "        \n",
    "        return out\n",
    "    \n",
    "embedding_size = 256 # embedding_size는 워드 벡터의 차원수, 단어가 추상적으로 표현되는 크기\n",
    "hidden_size = 1024 # hidden_size 는 모델에 얼마나 많은 일꾼을 둘 것인지를 정함\n",
    "model = TextGenerator(tokenizer.num_words + 1, embedding_size , hidden_size)"
   ]
  },
  {
   "cell_type": "code",
   "execution_count": 14,
   "id": "dc5f2c7c",
   "metadata": {
    "scrolled": true
   },
   "outputs": [
    {
     "data": {
      "text/plain": [
       "<tf.Tensor: shape=(256, 14, 12001), dtype=float32, numpy=\n",
       "array([[[-1.99584931e-04, -9.72676062e-05, -5.16301479e-05, ...,\n",
       "          1.04030449e-04, -2.05451201e-04,  9.32326948e-05],\n",
       "        [-4.30641434e-04,  3.84882878e-05,  1.50518108e-05, ...,\n",
       "          1.31625900e-04, -3.75612173e-04,  2.09432503e-04],\n",
       "        [-7.29555322e-04,  3.26782319e-04,  2.21711496e-04, ...,\n",
       "          1.29383596e-04, -5.99724881e-04,  2.64310132e-04],\n",
       "        ...,\n",
       "        [-2.00818852e-03, -2.33274954e-03, -2.48397584e-04, ...,\n",
       "          8.17987486e-04, -1.51411619e-03, -3.73317947e-04],\n",
       "        [-2.12906557e-03, -2.56541534e-03, -3.89197696e-04, ...,\n",
       "          6.75767718e-04, -1.63541920e-03, -4.21561766e-04],\n",
       "        [-2.25323439e-03, -2.72221467e-03, -5.04060416e-04, ...,\n",
       "          5.09675825e-04, -1.75358495e-03, -4.49031853e-04]],\n",
       "\n",
       "       [[-1.99584931e-04, -9.72676062e-05, -5.16301479e-05, ...,\n",
       "          1.04030449e-04, -2.05451201e-04,  9.32326948e-05],\n",
       "        [-1.37246840e-04, -1.17793083e-04, -1.39275508e-04, ...,\n",
       "          2.76580395e-04, -8.00508831e-04,  7.84184085e-05],\n",
       "        [-6.91331006e-05, -1.43600861e-04, -6.41013976e-05, ...,\n",
       "          3.25956760e-04, -1.02670025e-03, -7.53692220e-05],\n",
       "        ...,\n",
       "        [-2.21236516e-03, -2.18343642e-03, -1.01639936e-03, ...,\n",
       "         -8.22816728e-05, -2.54885061e-03, -2.61732552e-04],\n",
       "        [-2.40012701e-03, -2.29964056e-03, -1.06092426e-03, ...,\n",
       "         -2.23712341e-04, -2.60399142e-03, -2.44200783e-04],\n",
       "        [-2.56432453e-03, -2.38282210e-03, -1.08582154e-03, ...,\n",
       "         -3.57564364e-04, -2.63637234e-03, -2.30001548e-04]],\n",
       "\n",
       "       [[-1.99584931e-04, -9.72676062e-05, -5.16301479e-05, ...,\n",
       "          1.04030449e-04, -2.05451201e-04,  9.32326948e-05],\n",
       "        [-3.21850384e-04,  8.04880183e-05, -1.41941582e-05, ...,\n",
       "          1.41671131e-04, -5.20380563e-04,  3.65946384e-04],\n",
       "        [-4.74080385e-04, -2.24139894e-05,  2.91512348e-04, ...,\n",
       "          1.15446608e-04, -5.94030193e-04,  6.61235477e-04],\n",
       "        ...,\n",
       "        [-6.23638742e-04, -3.11526499e-04,  4.43996425e-04, ...,\n",
       "          5.67911891e-04, -1.37879897e-03, -4.26897255e-04],\n",
       "        [-9.12903051e-04, -8.03887961e-04,  2.60698114e-04, ...,\n",
       "          6.23616565e-04, -1.59135216e-03, -4.94278560e-04],\n",
       "        [-1.21284893e-03, -1.24666933e-03,  8.71159209e-05, ...,\n",
       "          6.20578707e-04, -1.80819817e-03, -5.20527828e-04]],\n",
       "\n",
       "       ...,\n",
       "\n",
       "       [[-1.99584931e-04, -9.72676062e-05, -5.16301479e-05, ...,\n",
       "          1.04030449e-04, -2.05451201e-04,  9.32326948e-05],\n",
       "        [-2.37092798e-04, -1.79957671e-04, -8.44095193e-05, ...,\n",
       "          1.10885674e-04, -3.88765824e-04,  1.32752772e-04],\n",
       "        [-4.30165499e-04, -2.41847592e-05,  3.02741500e-05, ...,\n",
       "          1.10592700e-04, -5.14592917e-04,  3.41596198e-04],\n",
       "        ...,\n",
       "        [-1.28343829e-03,  5.91574528e-04, -2.09278835e-04, ...,\n",
       "          3.76071868e-04, -4.22916026e-04,  1.75367808e-04],\n",
       "        [-1.50393660e-03,  3.71417482e-05, -3.64285195e-04, ...,\n",
       "          3.61577899e-04, -7.24658137e-04,  8.16792963e-05],\n",
       "        [-1.71746872e-03, -4.73443273e-04, -5.07203746e-04, ...,\n",
       "          3.04354850e-04, -1.02699327e-03,  7.69015060e-06]],\n",
       "\n",
       "       [[-1.99584931e-04, -9.72676062e-05, -5.16301479e-05, ...,\n",
       "          1.04030449e-04, -2.05451201e-04,  9.32326948e-05],\n",
       "        [-1.77021822e-04, -8.84424662e-05,  1.42472316e-04, ...,\n",
       "          2.64728529e-04, -5.98190760e-04,  1.88117406e-06],\n",
       "        [-2.55708932e-04, -9.22310865e-05,  1.12645081e-04, ...,\n",
       "          4.22660582e-04, -6.69606670e-04,  1.07482629e-04],\n",
       "        ...,\n",
       "        [-1.33417535e-03, -8.40977184e-04, -5.16229949e-04, ...,\n",
       "          5.98377024e-04, -1.23630790e-03, -5.59409964e-04],\n",
       "        [-1.55377528e-03, -1.25182711e-03, -6.66380452e-04, ...,\n",
       "          5.14209445e-04, -1.49016210e-03, -4.65018558e-04],\n",
       "        [-1.76712067e-03, -1.58498751e-03, -7.82549032e-04, ...,\n",
       "          4.04145278e-04, -1.71145098e-03, -3.72178009e-04]],\n",
       "\n",
       "       [[-1.99584931e-04, -9.72676062e-05, -5.16301479e-05, ...,\n",
       "          1.04030449e-04, -2.05451201e-04,  9.32326948e-05],\n",
       "        [-5.15393331e-04, -2.55092455e-04, -4.35191287e-05, ...,\n",
       "          2.02666473e-04, -5.21120732e-04,  3.33707067e-05],\n",
       "        [-5.82098379e-04, -1.56563256e-04, -5.52371421e-05, ...,\n",
       "          1.70351952e-04, -9.82689322e-04, -6.62746897e-05],\n",
       "        ...,\n",
       "        [-7.12482317e-04,  3.03364563e-04, -6.39568374e-04, ...,\n",
       "         -1.78232964e-04, -9.06195899e-04, -8.87827016e-04],\n",
       "        [-9.77962860e-04, -1.16755444e-04, -6.30893686e-04, ...,\n",
       "         -1.57325965e-04, -1.20181241e-03, -8.48189229e-04],\n",
       "        [-1.25627243e-03, -5.48093056e-04, -6.47398527e-04, ...,\n",
       "         -1.61412303e-04, -1.50174112e-03, -7.89514568e-04]]],\n",
       "      dtype=float32)>"
      ]
     },
     "execution_count": 14,
     "metadata": {},
     "output_type": "execute_result"
    }
   ],
   "source": [
    "for src_sample, tgt_sample in dataset.take(1): break\n",
    "\n",
    "# 한 배치만 불러온 데이터를 모델에 넣어봅니다\n",
    "model(src_sample) "
   ]
  },
  {
   "cell_type": "code",
   "execution_count": 15,
   "id": "50aa82ea",
   "metadata": {
    "scrolled": false
   },
   "outputs": [
    {
     "name": "stdout",
     "output_type": "stream",
     "text": [
      "Model: \"text_generator\"\n",
      "_________________________________________________________________\n",
      "Layer (type)                 Output Shape              Param #   \n",
      "=================================================================\n",
      "embedding (Embedding)        multiple                  3072256   \n",
      "_________________________________________________________________\n",
      "lstm (LSTM)                  multiple                  5246976   \n",
      "_________________________________________________________________\n",
      "lstm_1 (LSTM)                multiple                  8392704   \n",
      "_________________________________________________________________\n",
      "dense (Dense)                multiple                  12301025  \n",
      "=================================================================\n",
      "Total params: 29,012,961\n",
      "Trainable params: 29,012,961\n",
      "Non-trainable params: 0\n",
      "_________________________________________________________________\n"
     ]
    }
   ],
   "source": [
    "# 모델 구조 확인하기\n",
    "model.summary()"
   ]
  },
  {
   "cell_type": "code",
   "execution_count": 16,
   "id": "2db2c43f",
   "metadata": {},
   "outputs": [
    {
     "name": "stdout",
     "output_type": "stream",
     "text": [
      "Epoch 1/10\n",
      "610/610 [==============================] - 110s 172ms/step - loss: 3.4210 - val_loss: 3.0451\n",
      "Epoch 2/10\n",
      "610/610 [==============================] - 111s 182ms/step - loss: 2.9598 - val_loss: 2.8266\n",
      "Epoch 3/10\n",
      "610/610 [==============================] - 111s 182ms/step - loss: 2.7890 - val_loss: 2.6792\n",
      "Epoch 4/10\n",
      "610/610 [==============================] - 111s 182ms/step - loss: 2.6613 - val_loss: 2.5605\n",
      "Epoch 5/10\n",
      "610/610 [==============================] - 111s 182ms/step - loss: 2.5524 - val_loss: 2.4527\n",
      "Epoch 6/10\n",
      "610/610 [==============================] - 111s 182ms/step - loss: 2.4546 - val_loss: 2.3600\n",
      "Epoch 7/10\n",
      "610/610 [==============================] - 111s 182ms/step - loss: 2.3645 - val_loss: 2.2691\n",
      "Epoch 8/10\n",
      "610/610 [==============================] - 111s 182ms/step - loss: 2.2804 - val_loss: 2.1896\n",
      "Epoch 9/10\n",
      "610/610 [==============================] - 111s 182ms/step - loss: 2.2026 - val_loss: 2.1143\n",
      "Epoch 10/10\n",
      "610/610 [==============================] - 111s 182ms/step - loss: 2.1288 - val_loss: 2.0404\n"
     ]
    },
    {
     "data": {
      "text/plain": [
       "<keras.callbacks.History at 0x7fb44c022460>"
      ]
     },
     "execution_count": 16,
     "metadata": {},
     "output_type": "execute_result"
    }
   ],
   "source": [
    "# 모델 학습 시키기\n",
    "optimizer = tf.keras.optimizers.Adam()\n",
    "loss = tf.keras.losses.SparseCategoricalCrossentropy(from_logits=True, reduction='none')\n",
    "# 오답률이 감소하고 있으면 잘 진행되고 있다는거라고 한다\n",
    "model.compile(loss=loss, optimizer=optimizer)\n",
    "model.fit(dataset, epochs=10, validation_data=(enc_val, dec_val))"
   ]
  },
  {
   "cell_type": "markdown",
   "id": "5ce4f982",
   "metadata": {},
   "source": [
    "**잘 만들어졌는지 평가하기**"
   ]
  },
  {
   "cell_type": "code",
   "execution_count": 17,
   "id": "5ac510b6",
   "metadata": {},
   "outputs": [],
   "source": [
    "# generate_text 함수는 모델에게 시작 문장을 전달하면 모델이 시작 문장을 바탕으로 작문을 진행하게 합니다\n",
    "def generate_text(model, tokenizer, init_sentence=\"<start>\", max_len=20):\n",
    "    # 테스트를 위해서 입력받은 init_sentence도 텐서로 변환합니다\n",
    "    test_input = tokenizer.texts_to_sequences([init_sentence])\n",
    "    test_tensor = tf.convert_to_tensor(test_input, dtype=tf.int64)\n",
    "    end_token = tokenizer.word_index[\"<end>\"]\n",
    "\n",
    "    # 단어 하나씩 예측해 문장을 만듭니다. \n",
    "    while True:\n",
    "        # 1 입력받은 문장의 텐서를 입력합니다\n",
    "        predict = model(test_tensor) \n",
    "        # 2 예측된 값 중 가장 높은 확률인 word index를 뽑아냅니다\n",
    "        predict_word = tf.argmax(tf.nn.softmax(predict, axis=-1), axis=-1)[:, -1] \n",
    "        # 3 2에서 예측된 word index를 문장 뒤에 붙입니다\n",
    "        test_tensor = tf.concat([test_tensor, tf.expand_dims(predict_word, axis=0)], axis=-1)\n",
    "        # 4 모델이 <end>를 예측했거나, max_len에 도달했다면 문장 생성을 마칩니다\n",
    "        if predict_word.numpy()[0] == end_token: break\n",
    "        if test_tensor.shape[1] >= max_len: break\n",
    "\n",
    "    generated = \"\"\n",
    "    # tokenizer를 이용해 word index를 단어로 하나씩 변환합니다 \n",
    "    for word_index in test_tensor[0].numpy():\n",
    "        generated += tokenizer.index_word[word_index] + \" \" \n",
    "    return generated"
   ]
  },
  {
   "cell_type": "code",
   "execution_count": 18,
   "id": "e31c4ef7",
   "metadata": {},
   "outputs": [
    {
     "data": {
      "text/plain": [
       "'<start> next level , you re my symphony <end> '"
      ]
     },
     "execution_count": 18,
     "metadata": {},
     "output_type": "execute_result"
    }
   ],
   "source": [
    "generate_text(model, tokenizer, init_sentence=\"<start> next level\", max_len=20)"
   ]
  },
  {
   "cell_type": "markdown",
   "id": "8d892716",
   "metadata": {},
   "source": [
    "**회고**\n",
    "\n",
    "프로젝트 만드는 순서대로 쭉쭉 따라했는데 노드에 나와있는 만큼에 데이터수가 안나왔어요. 그래서 maxlen값을 적용하면 된다는 것을 찾아서 해봤으나 크게 달라지는게 없었어요. 그래서 새로 if문을 만들어서 적용을 했더니 14만개 정도로 데이터가 적용되었어요. 하지만 12만개 되지 않았기 때문에 만들 if문을 여러군데로 옮겨 보았고 정제한후 if문을 적용하는 것으로 생각해 preprocessed_sentence로 적용해보았더니 비슷하게 맞아졌어요. 데이터수를 해결하고 난뒤 학습을 돌렸는데 val_loss가 없어서 구하는법을 찾아보았는데 구글링에서 시키는대로 해봤는데 잘되지 않았어요. 그래서 슨배님들꺼 보면서 적용해봤는데 또 안되길래 뭐가 문제 일까 하다가 그냥 돌려봤는데 val_loss값이 갑자기 나왔어요. 그래서 올려보니 새로 줬었던 validation_data=(enc_val, dec_val)값이 먹혔고 val_loss값이 2.2이하로 떨어졌어요. 그런데 다른분들은 다 안된다고 하길래 내가 잘못한건가 생각이 들어서 더 만져 보다가 ex6에서 나온 post값을 pre로 바꾸면 10%정도 더 좋아진다 길래 적용 해봤는데 loss값이 오히려 오히려 올라갔어요. 어쨌든 루브릭에서 얘기한 값은 맞춘거 같아서 마무리 하는데 잘한건지 못한건지 확실하게 알수는 없는것 같아요."
   ]
  },
  {
   "attachments": {
    "2022-01-20%2022;35;58.PNG": {
     "image/png": "[encoded data removed]"
    }
   },
   "cell_type": "markdown",
   "id": "4de67fbc",
   "metadata": {},
   "source": [
    "![2022-01-20%2022;35;58.PNG](attachment:2022-01-20%2022;35;58.PNG)"
   ]
  },
  {
   "attachments": {
    "2022-01-20%2023;25;50.PNG": {
     "image/png": "[encoded data removed]"
    }
   },
   "cell_type": "markdown",
   "id": "47dd043f",
   "metadata": {},
   "source": [
    "![2022-01-20%2023;25;50.PNG](attachment:2022-01-20%2023;25;50.PNG)"
   ]
  },
  {
   "cell_type": "code",
   "execution_count": null,
   "id": "2bde03f0",
   "metadata": {},
   "outputs": [],
   "source": []
  },
  {
   "cell_type": "code",
   "execution_count": null,
   "id": "9803ecc9",
   "metadata": {},
   "outputs": [],
   "source": []
  }
 ],
 "metadata": {
  "kernelspec": {
   "display_name": "Python 3 (ipykernel)",
   "language": "python",
   "name": "python3"
  },
  "language_info": {
   "codemirror_mode": {
    "name": "ipython",
    "version": 3
   },
   "file_extension": ".py",
   "mimetype": "text/x-python",
   "name": "python",
   "nbconvert_exporter": "python",
   "pygments_lexer": "ipython3",
   "version": "3.9.7"
  }
 },
 "nbformat": 4,
 "nbformat_minor": 5
}
